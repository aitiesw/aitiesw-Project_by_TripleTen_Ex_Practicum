{
 "cells": [
  {
   "cell_type": "markdown",
   "metadata": {
    "toc": true
   },
   "source": [
    "<h1>Table of Contents<span class=\"tocSkip\"></span></h1>\n",
    "<div class=\"toc\"><ul class=\"toc-item\"><li><span><a href=\"#Review-Iteration\" data-toc-modified-id=\"Review-Iteration-1\"><span class=\"toc-item-num\">1&nbsp;&nbsp;</span>Review Iteration</a></span><ul class=\"toc-item\"><li><span><a href=\"#Review-Iteration-1\" data-toc-modified-id=\"Review-Iteration-1-1.1\"><span class=\"toc-item-num\">1.1&nbsp;&nbsp;</span>Review Iteration 1</a></span></li></ul></li><li><span><a href=\"#Data-preparation\" data-toc-modified-id=\"Data-preparation-2\"><span class=\"toc-item-num\">2&nbsp;&nbsp;</span>Data preparation</a></span><ul class=\"toc-item\"><li><span><a href=\"#Initialisation\" data-toc-modified-id=\"Initialisation-2.1\"><span class=\"toc-item-num\">2.1&nbsp;&nbsp;</span>Initialisation</a></span></li><li><span><a href=\"#Data-Loading\" data-toc-modified-id=\"Data-Loading-2.2\"><span class=\"toc-item-num\">2.2&nbsp;&nbsp;</span>Data Loading</a></span></li><li><span><a href=\"#General-Data-Info\" data-toc-modified-id=\"General-Data-Info-2.3\"><span class=\"toc-item-num\">2.3&nbsp;&nbsp;</span>General Data Info</a></span></li><li><span><a href=\"#Changing-Datatype\" data-toc-modified-id=\"Changing-Datatype-2.4\"><span class=\"toc-item-num\">2.4&nbsp;&nbsp;</span>Changing Datatype</a></span></li><li><span><a href=\"#Dealing-with-Missing-Values\" data-toc-modified-id=\"Dealing-with-Missing-Values-2.5\"><span class=\"toc-item-num\">2.5&nbsp;&nbsp;</span>Dealing with Missing Values</a></span></li><li><span><a href=\"#Checking-for-Duplicates\" data-toc-modified-id=\"Checking-for-Duplicates-2.6\"><span class=\"toc-item-num\">2.6&nbsp;&nbsp;</span>Checking for Duplicates</a></span></li><li><span><a href=\"#Checking-Data-Distribution-with-Initial-Descriptive-Statistics\" data-toc-modified-id=\"Checking-Data-Distribution-with-Initial-Descriptive-Statistics-2.7\"><span class=\"toc-item-num\">2.7&nbsp;&nbsp;</span>Checking Data Distribution with Initial Descriptive Statistics</a></span></li><li><span><a href=\"#Outliers\" data-toc-modified-id=\"Outliers-2.8\"><span class=\"toc-item-num\">2.8&nbsp;&nbsp;</span>Outliers</a></span></li><li><span><a href=\"#Conclusion\" data-toc-modified-id=\"Conclusion-2.9\"><span class=\"toc-item-num\">2.9&nbsp;&nbsp;</span>Conclusion</a></span></li></ul></li><li><span><a href=\"#Model-training\" data-toc-modified-id=\"Model-training-3\"><span class=\"toc-item-num\">3&nbsp;&nbsp;</span>Model training</a></span><ul class=\"toc-item\"><li><span><a href=\"#Model-Preparation\" data-toc-modified-id=\"Model-Preparation-3.1\"><span class=\"toc-item-num\">3.1&nbsp;&nbsp;</span>Model Preparation</a></span></li><li><span><a href=\"#Encoding-of-Categorical-Variables\" data-toc-modified-id=\"Encoding-of-Categorical-Variables-3.2\"><span class=\"toc-item-num\">3.2&nbsp;&nbsp;</span>Encoding of Categorical Variables</a></span></li><li><span><a href=\"#Splitting-data-into-train,-validation-and-test-sets\" data-toc-modified-id=\"Splitting-data-into-train,-validation-and-test-sets-3.3\"><span class=\"toc-item-num\">3.3&nbsp;&nbsp;</span>Splitting data into train, validation and test sets</a></span></li><li><span><a href=\"#Scaling-Numerical-Data\" data-toc-modified-id=\"Scaling-Numerical-Data-3.4\"><span class=\"toc-item-num\">3.4&nbsp;&nbsp;</span>Scaling Numerical Data</a></span></li><li><span><a href=\"#Modeling\" data-toc-modified-id=\"Modeling-3.5\"><span class=\"toc-item-num\">3.5&nbsp;&nbsp;</span>Modeling</a></span></li><li><span><a href=\"#Stochastic-Gradient-Descent-&amp;-Regularisation\" data-toc-modified-id=\"Stochastic-Gradient-Descent-&amp;-Regularisation-3.6\"><span class=\"toc-item-num\">3.6&nbsp;&nbsp;</span>Stochastic Gradient Descent &amp; Regularisation</a></span></li><li><span><a href=\"#Boosting\" data-toc-modified-id=\"Boosting-3.7\"><span class=\"toc-item-num\">3.7&nbsp;&nbsp;</span>Boosting</a></span><ul class=\"toc-item\"><li><span><a href=\"#LightGBM\" data-toc-modified-id=\"LightGBM-3.7.1\"><span class=\"toc-item-num\">3.7.1&nbsp;&nbsp;</span>LightGBM</a></span><ul class=\"toc-item\"><li><span><a href=\"#LightGBM-Random-Search-Optimisation\" data-toc-modified-id=\"LightGBM-Random-Search-Optimisation-3.7.1.1\"><span class=\"toc-item-num\">3.7.1.1&nbsp;&nbsp;</span>LightGBM Random Search Optimisation</a></span></li><li><span><a href=\"#LightGBM-Bayesian-Optimisation\" data-toc-modified-id=\"LightGBM-Bayesian-Optimisation-3.7.1.2\"><span class=\"toc-item-num\">3.7.1.2&nbsp;&nbsp;</span>LightGBM Bayesian Optimisation</a></span></li></ul></li><li><span><a href=\"#CatBoost\" data-toc-modified-id=\"CatBoost-3.7.2\"><span class=\"toc-item-num\">3.7.2&nbsp;&nbsp;</span>CatBoost</a></span></li><li><span><a href=\"#XGBoost\" data-toc-modified-id=\"XGBoost-3.7.3\"><span class=\"toc-item-num\">3.7.3&nbsp;&nbsp;</span>XGBoost</a></span></li></ul></li><li><span><a href=\"#Section-Conclusion\" data-toc-modified-id=\"Section-Conclusion-3.8\"><span class=\"toc-item-num\">3.8&nbsp;&nbsp;</span>Section Conclusion</a></span></li><li><span><a href=\"#Model-Selection\" data-toc-modified-id=\"Model-Selection-3.9\"><span class=\"toc-item-num\">3.9&nbsp;&nbsp;</span>Model Selection</a></span></li></ul></li><li><span><a href=\"#Model-Analysis-on-Test-Dataset-Using-LightGBM-by-Random-Optimisation\" data-toc-modified-id=\"Model-Analysis-on-Test-Dataset-Using-LightGBM-by-Random-Optimisation-4\"><span class=\"toc-item-num\">4&nbsp;&nbsp;</span>Model Analysis on Test Dataset Using LightGBM by Random Optimisation</a></span></li><li><span><a href=\"#Cross-Validation\" data-toc-modified-id=\"Cross-Validation-5\"><span class=\"toc-item-num\">5&nbsp;&nbsp;</span>Cross Validation</a></span></li><li><span><a href=\"#Conclusion\" data-toc-modified-id=\"Conclusion-6\"><span class=\"toc-item-num\">6&nbsp;&nbsp;</span>Conclusion</a></span></li></ul></div>"
   ]
  },
  {
   "cell_type": "markdown",
   "metadata": {},
   "source": [
    "Rusty Bargain used car sales service is developing an app to attract new customers. In that app, you can quickly find out the market value of your car. You have access to historical data: technical specifications, trim versions, and prices. You need to build the model to determine the value. \n",
    "\n",
    "Rusty Bargain is interested in:\n",
    "\n",
    "- the quality of the prediction;\n",
    "- the speed of the prediction;\n",
    "- the time required for training"
   ]
  },
  {
   "cell_type": "markdown",
   "metadata": {},
   "source": [
    "Features:\n",
    "1. DateCrawled — date profile was downloaded from the database\n",
    "2. VehicleType — vehicle body type\n",
    "3. RegistrationYear — vehicle registration year\n",
    "4. Gearbox — gearbox type\n",
    "5. Power — power (hp)\n",
    "6. Model — vehicle model\n",
    "7. Mileage — mileage (measured in km due to dataset's regional specifics)\n",
    "8. RegistrationMonth — vehicle registration month\n",
    "9. FuelType — fuel type\n",
    "10. Brand — vehicle brand\n",
    "11. NotRepaired — vehicle repaired or not\n",
    "12. DateCreated — date of profile creation\n",
    "13. NumberOfPictures — number of vehicle pictures\n",
    "14. PostalCode — postal code of profile owner (user)\n",
    "15. LastSeen — date of the last activity of the user\n",
    "\n",
    "\n",
    "Target:\n",
    "1. Price — price (Euro)"
   ]
  },
  {
   "cell_type": "markdown",
   "metadata": {},
   "source": [
    "## Data preparation"
   ]
  },
  {
   "cell_type": "markdown",
   "metadata": {},
   "source": [
    "### Initialisation"
   ]
  },
  {
   "cell_type": "code",
   "execution_count": 64,
   "metadata": {},
   "outputs": [
    {
     "name": "stdout",
     "output_type": "stream",
     "text": [
      "Requirement already satisfied: hyperopt in /opt/conda/lib/python3.9/site-packages (0.2.7)\n",
      "Requirement already satisfied: future in /opt/conda/lib/python3.9/site-packages (from hyperopt) (0.18.3)\n",
      "Requirement already satisfied: tqdm in /opt/conda/lib/python3.9/site-packages (from hyperopt) (4.61.2)\n",
      "Requirement already satisfied: scipy in /opt/conda/lib/python3.9/site-packages (from hyperopt) (1.8.0)\n",
      "Requirement already satisfied: numpy in /opt/conda/lib/python3.9/site-packages (from hyperopt) (1.21.1)\n",
      "Requirement already satisfied: networkx>=2.2 in /opt/conda/lib/python3.9/site-packages (from hyperopt) (3.2.1)\n",
      "Requirement already satisfied: py4j in /opt/conda/lib/python3.9/site-packages (from hyperopt) (0.10.9.3)\n",
      "Requirement already satisfied: cloudpickle in /opt/conda/lib/python3.9/site-packages (from hyperopt) (3.0.0)\n",
      "Requirement already satisfied: six in /opt/conda/lib/python3.9/site-packages (from hyperopt) (1.16.0)\n",
      "Note: you may need to restart the kernel to use updated packages.\n"
     ]
    }
   ],
   "source": [
    "pip install hyperopt"
   ]
  },
  {
   "cell_type": "code",
   "execution_count": 65,
   "metadata": {},
   "outputs": [],
   "source": [
    "# Loading libraries\n",
    "import pandas as pd\n",
    "import numpy as np\n",
    "import time\n",
    "from scipy import stats\n",
    "from scipy.stats import ttest_ind\n",
    "import math as mt\n",
    "import math\n",
    "from math import factorial\n",
    "from matplotlib import pyplot as plt\n",
    "import seaborn as sns\n",
    "from sklearn.preprocessing import OrdinalEncoder\n",
    "from sklearn.tree import DecisionTreeClassifier\n",
    "from sklearn.metrics import accuracy_score\n",
    "from sklearn.datasets import load_iris\n",
    "from sklearn.model_selection import train_test_split\n",
    "from sklearn.ensemble import RandomForestClassifier\n",
    "from sklearn.tree import DecisionTreeRegressor\n",
    "from sklearn.ensemble import RandomForestRegressor\n",
    "from sklearn.linear_model import LogisticRegression\n",
    "from sklearn.linear_model import LinearRegression\n",
    "from sklearn.preprocessing import StandardScaler\n",
    "from sklearn.metrics import mean_squared_error\n",
    "from sklearn.metrics import mean_absolute_error\n",
    "from sklearn.metrics import confusion_matrix\n",
    "from sklearn.metrics import f1_score\n",
    "from sklearn.utils import shuffle\n",
    "from sklearn.metrics import roc_curve\n",
    "from sklearn.metrics import roc_auc_score\n",
    "from sklearn.model_selection import cross_val_score\n",
    "from sklearn.metrics import mean_squared_error as mse\n",
    "from sklearn.dummy import DummyRegressor\n",
    "from math import sqrt\n",
    "from sklearn.metrics import r2_score\n",
    "import lightgbm as lgb\n",
    "from lightgbm import LGBMRegressor, LGBMClassifier, Booster\n",
    "from catboost import CatBoostRegressor\n",
    "from catboost import CatBoostRegressor, CatBoostError\n",
    "from sklearn.model_selection import train_test_split, RandomizedSearchCV\n",
    "import xgboost as xgb\n",
    "from sklearn.model_selection import RandomizedSearchCV\n",
    "from scipy.stats import randint as sp_randint\n",
    "from sklearn.model_selection import ParameterGrid\n",
    "from hyperopt import fmin, tpe, hp\n",
    "from sklearn.model_selection import KFold\n",
    "from sklearn.ensemble import GradientBoostingRegressor\n",
    "import warnings\n",
    "warnings.filterwarnings('ignore')"
   ]
  },
  {
   "cell_type": "markdown",
   "metadata": {},
   "source": [
    "### Data Loading"
   ]
  },
  {
   "cell_type": "code",
   "execution_count": 66,
   "metadata": {},
   "outputs": [],
   "source": [
    "df = pd.read_csv(\"/datasets/car_data.csv\")"
   ]
  },
  {
   "cell_type": "markdown",
   "metadata": {},
   "source": [
    "### General Data Info"
   ]
  },
  {
   "cell_type": "code",
   "execution_count": 67,
   "metadata": {},
   "outputs": [
    {
     "name": "stdout",
     "output_type": "stream",
     "text": [
      "<class 'pandas.core.frame.DataFrame'>\n",
      "RangeIndex: 354369 entries, 0 to 354368\n",
      "Data columns (total 16 columns):\n",
      " #   Column             Non-Null Count   Dtype \n",
      "---  ------             --------------   ----- \n",
      " 0   DateCrawled        354369 non-null  object\n",
      " 1   Price              354369 non-null  int64 \n",
      " 2   VehicleType        316879 non-null  object\n",
      " 3   RegistrationYear   354369 non-null  int64 \n",
      " 4   Gearbox            334536 non-null  object\n",
      " 5   Power              354369 non-null  int64 \n",
      " 6   Model              334664 non-null  object\n",
      " 7   Mileage            354369 non-null  int64 \n",
      " 8   RegistrationMonth  354369 non-null  int64 \n",
      " 9   FuelType           321474 non-null  object\n",
      " 10  Brand              354369 non-null  object\n",
      " 11  NotRepaired        283215 non-null  object\n",
      " 12  DateCreated        354369 non-null  object\n",
      " 13  NumberOfPictures   354369 non-null  int64 \n",
      " 14  PostalCode         354369 non-null  int64 \n",
      " 15  LastSeen           354369 non-null  object\n",
      "dtypes: int64(7), object(9)\n",
      "memory usage: 43.3+ MB\n"
     ]
    },
    {
     "data": {
      "text/plain": [
       "(354369, 16)"
      ]
     },
     "execution_count": 67,
     "metadata": {},
     "output_type": "execute_result"
    }
   ],
   "source": [
    "df.info()\n",
    "df.shape"
   ]
  },
  {
   "cell_type": "markdown",
   "metadata": {},
   "source": [
    "There are 354,369 rows of records and 16 columns for the dataset that we named as 'df'."
   ]
  },
  {
   "cell_type": "markdown",
   "metadata": {},
   "source": [
    "### Changing Datatype"
   ]
  },
  {
   "cell_type": "code",
   "execution_count": 68,
   "metadata": {},
   "outputs": [],
   "source": [
    "# Changing the column names to lower case\n",
    "df.columns = df.columns.str.lower()"
   ]
  },
  {
   "cell_type": "code",
   "execution_count": 69,
   "metadata": {},
   "outputs": [
    {
     "name": "stdout",
     "output_type": "stream",
     "text": [
      "<class 'pandas.core.frame.DataFrame'>\n",
      "RangeIndex: 354369 entries, 0 to 354368\n",
      "Data columns (total 16 columns):\n",
      " #   Column             Non-Null Count   Dtype \n",
      "---  ------             --------------   ----- \n",
      " 0   datecrawled        354369 non-null  object\n",
      " 1   price              354369 non-null  int64 \n",
      " 2   vehicletype        316879 non-null  object\n",
      " 3   registrationyear   354369 non-null  int64 \n",
      " 4   gearbox            334536 non-null  object\n",
      " 5   power              354369 non-null  int64 \n",
      " 6   model              334664 non-null  object\n",
      " 7   mileage            354369 non-null  int64 \n",
      " 8   registrationmonth  354369 non-null  int64 \n",
      " 9   fueltype           321474 non-null  object\n",
      " 10  brand              354369 non-null  object\n",
      " 11  notrepaired        283215 non-null  object\n",
      " 12  datecreated        354369 non-null  object\n",
      " 13  numberofpictures   354369 non-null  int64 \n",
      " 14  postalcode         354369 non-null  int64 \n",
      " 15  lastseen           354369 non-null  object\n",
      "dtypes: int64(7), object(9)\n",
      "memory usage: 43.3+ MB\n"
     ]
    }
   ],
   "source": [
    "df.info()"
   ]
  },
  {
   "cell_type": "code",
   "execution_count": 70,
   "metadata": {
    "scrolled": true
   },
   "outputs": [
    {
     "data": {
      "text/html": [
       "<div>\n",
       "<style scoped>\n",
       "    .dataframe tbody tr th:only-of-type {\n",
       "        vertical-align: middle;\n",
       "    }\n",
       "\n",
       "    .dataframe tbody tr th {\n",
       "        vertical-align: top;\n",
       "    }\n",
       "\n",
       "    .dataframe thead th {\n",
       "        text-align: right;\n",
       "    }\n",
       "</style>\n",
       "<table border=\"1\" class=\"dataframe\">\n",
       "  <thead>\n",
       "    <tr style=\"text-align: right;\">\n",
       "      <th></th>\n",
       "      <th>datecrawled</th>\n",
       "      <th>price</th>\n",
       "      <th>vehicletype</th>\n",
       "      <th>registrationyear</th>\n",
       "      <th>gearbox</th>\n",
       "      <th>power</th>\n",
       "      <th>model</th>\n",
       "      <th>mileage</th>\n",
       "      <th>registrationmonth</th>\n",
       "      <th>fueltype</th>\n",
       "      <th>brand</th>\n",
       "      <th>notrepaired</th>\n",
       "      <th>datecreated</th>\n",
       "      <th>numberofpictures</th>\n",
       "      <th>postalcode</th>\n",
       "      <th>lastseen</th>\n",
       "    </tr>\n",
       "  </thead>\n",
       "  <tbody>\n",
       "    <tr>\n",
       "      <th>0</th>\n",
       "      <td>24/03/2016 11:52</td>\n",
       "      <td>480</td>\n",
       "      <td>NaN</td>\n",
       "      <td>1993</td>\n",
       "      <td>manual</td>\n",
       "      <td>0</td>\n",
       "      <td>golf</td>\n",
       "      <td>150000</td>\n",
       "      <td>0</td>\n",
       "      <td>petrol</td>\n",
       "      <td>volkswagen</td>\n",
       "      <td>NaN</td>\n",
       "      <td>24/03/2016 00:00</td>\n",
       "      <td>0</td>\n",
       "      <td>70435</td>\n",
       "      <td>07/04/2016 03:16</td>\n",
       "    </tr>\n",
       "    <tr>\n",
       "      <th>1</th>\n",
       "      <td>24/03/2016 10:58</td>\n",
       "      <td>18300</td>\n",
       "      <td>coupe</td>\n",
       "      <td>2011</td>\n",
       "      <td>manual</td>\n",
       "      <td>190</td>\n",
       "      <td>NaN</td>\n",
       "      <td>125000</td>\n",
       "      <td>5</td>\n",
       "      <td>gasoline</td>\n",
       "      <td>audi</td>\n",
       "      <td>yes</td>\n",
       "      <td>24/03/2016 00:00</td>\n",
       "      <td>0</td>\n",
       "      <td>66954</td>\n",
       "      <td>07/04/2016 01:46</td>\n",
       "    </tr>\n",
       "    <tr>\n",
       "      <th>2</th>\n",
       "      <td>14/03/2016 12:52</td>\n",
       "      <td>9800</td>\n",
       "      <td>suv</td>\n",
       "      <td>2004</td>\n",
       "      <td>auto</td>\n",
       "      <td>163</td>\n",
       "      <td>grand</td>\n",
       "      <td>125000</td>\n",
       "      <td>8</td>\n",
       "      <td>gasoline</td>\n",
       "      <td>jeep</td>\n",
       "      <td>NaN</td>\n",
       "      <td>14/03/2016 00:00</td>\n",
       "      <td>0</td>\n",
       "      <td>90480</td>\n",
       "      <td>05/04/2016 12:47</td>\n",
       "    </tr>\n",
       "    <tr>\n",
       "      <th>3</th>\n",
       "      <td>17/03/2016 16:54</td>\n",
       "      <td>1500</td>\n",
       "      <td>small</td>\n",
       "      <td>2001</td>\n",
       "      <td>manual</td>\n",
       "      <td>75</td>\n",
       "      <td>golf</td>\n",
       "      <td>150000</td>\n",
       "      <td>6</td>\n",
       "      <td>petrol</td>\n",
       "      <td>volkswagen</td>\n",
       "      <td>no</td>\n",
       "      <td>17/03/2016 00:00</td>\n",
       "      <td>0</td>\n",
       "      <td>91074</td>\n",
       "      <td>17/03/2016 17:40</td>\n",
       "    </tr>\n",
       "    <tr>\n",
       "      <th>4</th>\n",
       "      <td>31/03/2016 17:25</td>\n",
       "      <td>3600</td>\n",
       "      <td>small</td>\n",
       "      <td>2008</td>\n",
       "      <td>manual</td>\n",
       "      <td>69</td>\n",
       "      <td>fabia</td>\n",
       "      <td>90000</td>\n",
       "      <td>7</td>\n",
       "      <td>gasoline</td>\n",
       "      <td>skoda</td>\n",
       "      <td>no</td>\n",
       "      <td>31/03/2016 00:00</td>\n",
       "      <td>0</td>\n",
       "      <td>60437</td>\n",
       "      <td>06/04/2016 10:17</td>\n",
       "    </tr>\n",
       "    <tr>\n",
       "      <th>5</th>\n",
       "      <td>04/04/2016 17:36</td>\n",
       "      <td>650</td>\n",
       "      <td>sedan</td>\n",
       "      <td>1995</td>\n",
       "      <td>manual</td>\n",
       "      <td>102</td>\n",
       "      <td>3er</td>\n",
       "      <td>150000</td>\n",
       "      <td>10</td>\n",
       "      <td>petrol</td>\n",
       "      <td>bmw</td>\n",
       "      <td>yes</td>\n",
       "      <td>04/04/2016 00:00</td>\n",
       "      <td>0</td>\n",
       "      <td>33775</td>\n",
       "      <td>06/04/2016 19:17</td>\n",
       "    </tr>\n",
       "    <tr>\n",
       "      <th>6</th>\n",
       "      <td>01/04/2016 20:48</td>\n",
       "      <td>2200</td>\n",
       "      <td>convertible</td>\n",
       "      <td>2004</td>\n",
       "      <td>manual</td>\n",
       "      <td>109</td>\n",
       "      <td>2_reihe</td>\n",
       "      <td>150000</td>\n",
       "      <td>8</td>\n",
       "      <td>petrol</td>\n",
       "      <td>peugeot</td>\n",
       "      <td>no</td>\n",
       "      <td>01/04/2016 00:00</td>\n",
       "      <td>0</td>\n",
       "      <td>67112</td>\n",
       "      <td>05/04/2016 18:18</td>\n",
       "    </tr>\n",
       "    <tr>\n",
       "      <th>7</th>\n",
       "      <td>21/03/2016 18:54</td>\n",
       "      <td>0</td>\n",
       "      <td>sedan</td>\n",
       "      <td>1980</td>\n",
       "      <td>manual</td>\n",
       "      <td>50</td>\n",
       "      <td>other</td>\n",
       "      <td>40000</td>\n",
       "      <td>7</td>\n",
       "      <td>petrol</td>\n",
       "      <td>volkswagen</td>\n",
       "      <td>no</td>\n",
       "      <td>21/03/2016 00:00</td>\n",
       "      <td>0</td>\n",
       "      <td>19348</td>\n",
       "      <td>25/03/2016 16:47</td>\n",
       "    </tr>\n",
       "    <tr>\n",
       "      <th>8</th>\n",
       "      <td>04/04/2016 23:42</td>\n",
       "      <td>14500</td>\n",
       "      <td>bus</td>\n",
       "      <td>2014</td>\n",
       "      <td>manual</td>\n",
       "      <td>125</td>\n",
       "      <td>c_max</td>\n",
       "      <td>30000</td>\n",
       "      <td>8</td>\n",
       "      <td>petrol</td>\n",
       "      <td>ford</td>\n",
       "      <td>NaN</td>\n",
       "      <td>04/04/2016 00:00</td>\n",
       "      <td>0</td>\n",
       "      <td>94505</td>\n",
       "      <td>04/04/2016 23:42</td>\n",
       "    </tr>\n",
       "    <tr>\n",
       "      <th>9</th>\n",
       "      <td>17/03/2016 10:53</td>\n",
       "      <td>999</td>\n",
       "      <td>small</td>\n",
       "      <td>1998</td>\n",
       "      <td>manual</td>\n",
       "      <td>101</td>\n",
       "      <td>golf</td>\n",
       "      <td>150000</td>\n",
       "      <td>0</td>\n",
       "      <td>NaN</td>\n",
       "      <td>volkswagen</td>\n",
       "      <td>NaN</td>\n",
       "      <td>17/03/2016 00:00</td>\n",
       "      <td>0</td>\n",
       "      <td>27472</td>\n",
       "      <td>31/03/2016 17:17</td>\n",
       "    </tr>\n",
       "  </tbody>\n",
       "</table>\n",
       "</div>"
      ],
      "text/plain": [
       "        datecrawled  price  vehicletype  registrationyear gearbox  power  \\\n",
       "0  24/03/2016 11:52    480          NaN              1993  manual      0   \n",
       "1  24/03/2016 10:58  18300        coupe              2011  manual    190   \n",
       "2  14/03/2016 12:52   9800          suv              2004    auto    163   \n",
       "3  17/03/2016 16:54   1500        small              2001  manual     75   \n",
       "4  31/03/2016 17:25   3600        small              2008  manual     69   \n",
       "5  04/04/2016 17:36    650        sedan              1995  manual    102   \n",
       "6  01/04/2016 20:48   2200  convertible              2004  manual    109   \n",
       "7  21/03/2016 18:54      0        sedan              1980  manual     50   \n",
       "8  04/04/2016 23:42  14500          bus              2014  manual    125   \n",
       "9  17/03/2016 10:53    999        small              1998  manual    101   \n",
       "\n",
       "     model  mileage  registrationmonth  fueltype       brand notrepaired  \\\n",
       "0     golf   150000                  0    petrol  volkswagen         NaN   \n",
       "1      NaN   125000                  5  gasoline        audi         yes   \n",
       "2    grand   125000                  8  gasoline        jeep         NaN   \n",
       "3     golf   150000                  6    petrol  volkswagen          no   \n",
       "4    fabia    90000                  7  gasoline       skoda          no   \n",
       "5      3er   150000                 10    petrol         bmw         yes   \n",
       "6  2_reihe   150000                  8    petrol     peugeot          no   \n",
       "7    other    40000                  7    petrol  volkswagen          no   \n",
       "8    c_max    30000                  8    petrol        ford         NaN   \n",
       "9     golf   150000                  0       NaN  volkswagen         NaN   \n",
       "\n",
       "        datecreated  numberofpictures  postalcode          lastseen  \n",
       "0  24/03/2016 00:00                 0       70435  07/04/2016 03:16  \n",
       "1  24/03/2016 00:00                 0       66954  07/04/2016 01:46  \n",
       "2  14/03/2016 00:00                 0       90480  05/04/2016 12:47  \n",
       "3  17/03/2016 00:00                 0       91074  17/03/2016 17:40  \n",
       "4  31/03/2016 00:00                 0       60437  06/04/2016 10:17  \n",
       "5  04/04/2016 00:00                 0       33775  06/04/2016 19:17  \n",
       "6  01/04/2016 00:00                 0       67112  05/04/2016 18:18  \n",
       "7  21/03/2016 00:00                 0       19348  25/03/2016 16:47  \n",
       "8  04/04/2016 00:00                 0       94505  04/04/2016 23:42  \n",
       "9  17/03/2016 00:00                 0       27472  31/03/2016 17:17  "
      ]
     },
     "execution_count": 70,
     "metadata": {},
     "output_type": "execute_result"
    }
   ],
   "source": [
    "df.head(10)"
   ]
  },
  {
   "cell_type": "markdown",
   "metadata": {},
   "source": [
    "### Dealing with Missing Values"
   ]
  },
  {
   "cell_type": "code",
   "execution_count": 71,
   "metadata": {
    "scrolled": false
   },
   "outputs": [
    {
     "name": "stdout",
     "output_type": "stream",
     "text": [
      "                   Missing Values  Percentage (%)\n",
      "datecrawled                     0            0.00\n",
      "price                           0            0.00\n",
      "vehicletype                 37490           10.58\n",
      "registrationyear                0            0.00\n",
      "gearbox                     19833            5.60\n",
      "power                           0            0.00\n",
      "model                       19705            5.56\n",
      "mileage                         0            0.00\n",
      "registrationmonth               0            0.00\n",
      "fueltype                    32895            9.28\n",
      "brand                           0            0.00\n",
      "notrepaired                 71154           20.08\n",
      "datecreated                     0            0.00\n",
      "numberofpictures                0            0.00\n",
      "postalcode                      0            0.00\n",
      "lastseen                        0            0.00\n"
     ]
    }
   ],
   "source": [
    "# Count missing values for each column\n",
    "missing_values_count = df.isna().sum()\n",
    "\n",
    "# Calculate the percentage of missing values for each column\n",
    "total_cells = len(df)\n",
    "missing_percentage = (missing_values_count / total_cells) * 100\n",
    "\n",
    "# Create a DataFrame to display missing value count and percentage\n",
    "missing_data = pd.DataFrame({\n",
    "    'Missing Values': missing_values_count,\n",
    "    'Percentage (%)': missing_percentage.round(2)\n",
    "})\n",
    "\n",
    "print(missing_data)"
   ]
  },
  {
   "cell_type": "markdown",
   "metadata": {},
   "source": [
    "There are 10.58% missing values for vehicletype, 5.60% missing values for gearbox, 5.56% missing values for model, 9.28% missing values of fueltype & 20.08% missing values for notrepaired.\n",
    "\n",
    "Vehicle type can be imputed based on the mode of each model and brand of the car. The columns gearbox, model, fuel type, and not repaired will be filled based on the mode of the respective brand & model."
   ]
  },
  {
   "cell_type": "code",
   "execution_count": 72,
   "metadata": {},
   "outputs": [],
   "source": [
    "# Since we could not get any further info to fill up missing values for 'model', thus we will drop the missing values in this column.\n",
    "\n",
    "df = df.dropna(subset=['model'])"
   ]
  },
  {
   "cell_type": "code",
   "execution_count": 73,
   "metadata": {},
   "outputs": [],
   "source": [
    "# Fill up the columns 'vehicletype', 'gearbox', 'fueltype'\n",
    "columns_to_fill = ['vehicletype', 'gearbox', 'fueltype']\n",
    "\n",
    "# For each column, fill in missing values based on the mode of the group\n",
    "for column in columns_to_fill:\n",
    "    # Create a new column for the mode values\n",
    "    mode_column = column + '_mode'\n",
    "    \n",
    "    # Map the mode to each group\n",
    "    mode_map = df.groupby(['brand', 'model'])[column].agg(lambda x: x.mode().iloc[0] if not x.mode().empty else \"Unknown\")\n",
    "    \n",
    "    # Now map the mode values back to the original DataFrame\n",
    "    df[mode_column] = df.set_index(['brand', 'model']).index.map(lambda idx: mode_map.loc[idx] if idx in mode_map.index else \"Unknown\")\n",
    "    \n",
    "    # Fill NaN values in the original column with the values from the new mode column\n",
    "    df[column] = df[column].fillna(df[mode_column])\n",
    "    \n",
    "    # Drop the temporary mode column\n",
    "    df.drop(columns=[mode_column], inplace=True)"
   ]
  },
  {
   "cell_type": "code",
   "execution_count": 74,
   "metadata": {},
   "outputs": [],
   "source": [
    "# Filling 'notrepaired' missing values with no (Assume that missing values in 'notrepaired' column, are not repaired.)\n",
    "df.notrepaired.fillna('no', inplace=True)"
   ]
  },
  {
   "cell_type": "code",
   "execution_count": 75,
   "metadata": {
    "scrolled": true
   },
   "outputs": [
    {
     "name": "stdout",
     "output_type": "stream",
     "text": [
      "<class 'pandas.core.frame.DataFrame'>\n",
      "Int64Index: 334664 entries, 0 to 354368\n",
      "Data columns (total 16 columns):\n",
      " #   Column             Non-Null Count   Dtype \n",
      "---  ------             --------------   ----- \n",
      " 0   datecrawled        334664 non-null  object\n",
      " 1   price              334664 non-null  int64 \n",
      " 2   vehicletype        334664 non-null  object\n",
      " 3   registrationyear   334664 non-null  int64 \n",
      " 4   gearbox            334664 non-null  object\n",
      " 5   power              334664 non-null  int64 \n",
      " 6   model              334664 non-null  object\n",
      " 7   mileage            334664 non-null  int64 \n",
      " 8   registrationmonth  334664 non-null  int64 \n",
      " 9   fueltype           334664 non-null  object\n",
      " 10  brand              334664 non-null  object\n",
      " 11  notrepaired        334664 non-null  object\n",
      " 12  datecreated        334664 non-null  object\n",
      " 13  numberofpictures   334664 non-null  int64 \n",
      " 14  postalcode         334664 non-null  int64 \n",
      " 15  lastseen           334664 non-null  object\n",
      "dtypes: int64(7), object(9)\n",
      "memory usage: 43.4+ MB\n"
     ]
    }
   ],
   "source": [
    "# Checking if there is any missing values after imputation\n",
    "df.info()"
   ]
  },
  {
   "cell_type": "markdown",
   "metadata": {},
   "source": [
    "### Checking for Duplicates"
   ]
  },
  {
   "cell_type": "code",
   "execution_count": 76,
   "metadata": {
    "scrolled": true
   },
   "outputs": [
    {
     "name": "stdout",
     "output_type": "stream",
     "text": [
      "The percentage of duplicates is: 0.09%\n"
     ]
    }
   ],
   "source": [
    "# Checking for duplicates\n",
    "\n",
    "num_duplicates = len(df[df.duplicated()])\n",
    "total_rows = len(df)\n",
    "percentage_duplicates = (num_duplicates / total_rows) * 100\n",
    "\n",
    "print(f\"The percentage of duplicates is: {percentage_duplicates:.2f}%\")"
   ]
  },
  {
   "cell_type": "code",
   "execution_count": 77,
   "metadata": {},
   "outputs": [],
   "source": [
    "# Removing duplicates\n",
    "\n",
    "df = df.drop_duplicates()"
   ]
  },
  {
   "cell_type": "code",
   "execution_count": 78,
   "metadata": {
    "scrolled": false
   },
   "outputs": [
    {
     "name": "stdout",
     "output_type": "stream",
     "text": [
      "Sorted unique values in vehicletype: ['bus', 'convertible', 'coupe', 'other', 'sedan', 'small', 'suv', 'wagon']\n",
      "Sorted unique values in registrationyear: [1000, 1001, 1111, 1200, 1234, 1300, 1400, 1500, 1600, 1602, 1800, 1910, 1919, 1923, 1927, 1928, 1929, 1930, 1931, 1932, 1933, 1934, 1935, 1936, 1937, 1938, 1941, 1942, 1943, 1945, 1947, 1949, 1950, 1951, 1952, 1953, 1954, 1955, 1956, 1957, 1958, 1959, 1960, 1961, 1962, 1963, 1964, 1965, 1966, 1967, 1968, 1969, 1970, 1971, 1972, 1973, 1974, 1975, 1976, 1977, 1978, 1979, 1980, 1981, 1982, 1983, 1984, 1985, 1986, 1987, 1988, 1989, 1990, 1991, 1992, 1993, 1994, 1995, 1996, 1997, 1998, 1999, 2000, 2001, 2002, 2003, 2004, 2005, 2006, 2007, 2008, 2009, 2010, 2011, 2012, 2013, 2014, 2015, 2016, 2017, 2018, 2019, 2066, 2200, 2290, 2500, 2900, 3000, 3700, 4000, 4500, 5000, 5555, 5900, 5911, 6000, 6500, 7000, 7100, 7500, 7800, 8000, 8200, 8500, 9000, 9999]\n",
      "Sorted unique values in gearbox: ['auto', 'manual']\n",
      "Sorted unique values in model: ['100', '145', '147', '156', '159', '1_reihe', '1er', '200', '2_reihe', '300c', '3_reihe', '3er', '4_reihe', '500', '5_reihe', '5er', '601', '6_reihe', '6er', '7er', '80', '850', '90', '900', '9000', '911', 'a1', 'a2', 'a3', 'a4', 'a5', 'a6', 'a8', 'a_klasse', 'accord', 'agila', 'alhambra', 'almera', 'altea', 'amarok', 'antara', 'arosa', 'astra', 'auris', 'avensis', 'aveo', 'aygo', 'b_klasse', 'b_max', 'beetle', 'berlingo', 'bora', 'boxster', 'bravo', 'c1', 'c2', 'c3', 'c4', 'c5', 'c_klasse', 'c_max', 'c_reihe', 'caddy', 'calibra', 'captiva', 'carisma', 'carnival', 'cayenne', 'cc', 'ceed', 'charade', 'cherokee', 'citigo', 'civic', 'cl', 'clio', 'clk', 'clubman', 'colt', 'combo', 'cooper', 'cordoba', 'corolla', 'corsa', 'cr_reihe', 'croma', 'crossfire', 'cuore', 'cx_reihe', 'defender', 'delta', 'discovery', 'doblo', 'ducato', 'duster', 'e_klasse', 'elefantino', 'eos', 'escort', 'espace', 'exeo', 'fabia', 'fiesta', 'focus', 'forester', 'forfour', 'fortwo', 'fox', 'freelander', 'fusion', 'g_klasse', 'galant', 'galaxy', 'getz', 'gl', 'glk', 'golf', 'grand', 'i3', 'i_reihe', 'ibiza', 'impreza', 'insignia', 'jazz', 'jetta', 'jimny', 'juke', 'justy', 'ka', 'kadett', 'kaefer', 'kalina', 'kalos', 'kangoo', 'kappa', 'kuga', 'laguna', 'lancer', 'lanos', 'legacy', 'leon', 'lodgy', 'logan', 'lupo', 'lybra', 'm_klasse', 'm_reihe', 'materia', 'matiz', 'megane', 'meriva', 'micra', 'mii', 'modus', 'mondeo', 'move', 'musa', 'mustang', 'mx_reihe', 'navara', 'niva', 'note', 'nubira', 'octavia', 'omega', 'one', 'other', 'outlander', 'pajero', 'panda', 'passat', 'phaeton', 'picanto', 'polo', 'primera', 'ptcruiser', 'punto', 'q3', 'q5', 'q7', 'qashqai', 'r19', 'range_rover', 'range_rover_evoque', 'range_rover_sport', 'rangerover', 'rav', 'rio', 'roadster', 'roomster', 'rx_reihe', 's60', 's_klasse', 's_max', 's_type', 'samara', 'sandero', 'santa', 'scenic', 'scirocco', 'seicento', 'serie_1', 'serie_2', 'serie_3', 'sharan', 'signum', 'sirion', 'sl', 'slk', 'sorento', 'spark', 'spider', 'sportage', 'sprinter', 'stilo', 'superb', 'swift', 'terios', 'tigra', 'tiguan', 'toledo', 'touareg', 'touran', 'transit', 'transporter', 'tt', 'tucson', 'twingo', 'up', 'v40', 'v50', 'v60', 'v70', 'v_klasse', 'vectra', 'verso', 'viano', 'vito', 'vivaro', 'voyager', 'wrangler', 'x_reihe', 'x_trail', 'x_type', 'xc_reihe', 'yaris', 'yeti', 'ypsilon', 'z_reihe', 'zafira']\n",
      "Sorted unique values in fueltype: ['cng', 'electric', 'gasoline', 'hybrid', 'lpg', 'other', 'petrol']\n",
      "Sorted unique values in brand: ['alfa_romeo', 'audi', 'bmw', 'chevrolet', 'chrysler', 'citroen', 'dacia', 'daewoo', 'daihatsu', 'fiat', 'ford', 'honda', 'hyundai', 'jaguar', 'jeep', 'kia', 'lada', 'lancia', 'land_rover', 'mazda', 'mercedes_benz', 'mini', 'mitsubishi', 'nissan', 'opel', 'peugeot', 'porsche', 'renault', 'rover', 'saab', 'seat', 'skoda', 'smart', 'subaru', 'suzuki', 'toyota', 'trabant', 'volkswagen', 'volvo']\n",
      "Sorted unique values in notrepaired: ['no', 'yes']\n"
     ]
    }
   ],
   "source": [
    "# Unique values for multiple columns\n",
    "columns = ['vehicletype', 'registrationyear', 'gearbox', 'model', 'fueltype', 'brand', 'notrepaired']\n",
    "for column in columns:\n",
    "    unique_values = df[column].unique()  # Get unique values\n",
    "    unique_sorted = sorted(unique_values)  # Sort them\n",
    "    print(f\"Sorted unique values in {column}: {unique_sorted}\")"
   ]
  },
  {
   "cell_type": "markdown",
   "metadata": {},
   "source": [
    "There are few observations as below:\n",
    "\n",
    "1. The 'registrationyear' ranged from 1000 to 9999, which do not make sense. The first car was publiced in July 1886. And the year after 2019, 2066 & etc. are in the future, thus it is not logic to include the year after 2019. Thus we need to excludes some registrationyear later.\n",
    "\n",
    "2. For fuel type, petrol and gasoline are the same, so we will replace gasoline with petrol."
   ]
  },
  {
   "cell_type": "code",
   "execution_count": 79,
   "metadata": {},
   "outputs": [
    {
     "data": {
      "text/plain": [
       "334077"
      ]
     },
     "execution_count": 79,
     "metadata": {},
     "output_type": "execute_result"
    }
   ],
   "source": [
    "# Getting the cars registered in between 1960 to 2019\n",
    "len(df.query(\"(registrationyear >= 1960) and (registrationyear <= 2019)\"))"
   ]
  },
  {
   "cell_type": "code",
   "execution_count": 80,
   "metadata": {},
   "outputs": [
    {
     "name": "stdout",
     "output_type": "stream",
     "text": [
      "The percentage of car models out of year 1960 to 2019: 0.09%\n"
     ]
    }
   ],
   "source": [
    "# Percentage of car exlcuded\n",
    "\n",
    "print(f\"The percentage of car models out of year 1960 to 2019: {((len(df) - len(df.query('(registrationyear >= 1960) and (registrationyear <= 2019)'))) / len(df) * 100):.2f}%\")"
   ]
  },
  {
   "cell_type": "code",
   "execution_count": 81,
   "metadata": {},
   "outputs": [],
   "source": [
    "# Only include data between year 1960-2019\n",
    "df= df.query(\"(registrationyear >= 1960) and (registrationyear <= 2019)\")"
   ]
  },
  {
   "cell_type": "code",
   "execution_count": 82,
   "metadata": {},
   "outputs": [
    {
     "name": "stdout",
     "output_type": "stream",
     "text": [
      "<class 'pandas.core.frame.DataFrame'>\n",
      "Int64Index: 334077 entries, 0 to 354368\n",
      "Data columns (total 16 columns):\n",
      " #   Column             Non-Null Count   Dtype \n",
      "---  ------             --------------   ----- \n",
      " 0   datecrawled        334077 non-null  object\n",
      " 1   price              334077 non-null  int64 \n",
      " 2   vehicletype        334077 non-null  object\n",
      " 3   registrationyear   334077 non-null  int64 \n",
      " 4   gearbox            334077 non-null  object\n",
      " 5   power              334077 non-null  int64 \n",
      " 6   model              334077 non-null  object\n",
      " 7   mileage            334077 non-null  int64 \n",
      " 8   registrationmonth  334077 non-null  int64 \n",
      " 9   fueltype           334077 non-null  object\n",
      " 10  brand              334077 non-null  object\n",
      " 11  notrepaired        334077 non-null  object\n",
      " 12  datecreated        334077 non-null  object\n",
      " 13  numberofpictures   334077 non-null  int64 \n",
      " 14  postalcode         334077 non-null  int64 \n",
      " 15  lastseen           334077 non-null  object\n",
      "dtypes: int64(7), object(9)\n",
      "memory usage: 43.3+ MB\n"
     ]
    }
   ],
   "source": [
    "df.info()"
   ]
  },
  {
   "cell_type": "code",
   "execution_count": 83,
   "metadata": {},
   "outputs": [],
   "source": [
    "# Replacing gasoline with petrol\n",
    "df.fueltype = df.fueltype.replace('gasoline', 'petrol')"
   ]
  },
  {
   "cell_type": "code",
   "execution_count": 84,
   "metadata": {
    "scrolled": true
   },
   "outputs": [
    {
     "data": {
      "text/plain": [
       "petrol      328172\n",
       "lpg           4957\n",
       "cng            543\n",
       "hybrid         207\n",
       "other          132\n",
       "electric        66\n",
       "Name: fueltype, dtype: int64"
      ]
     },
     "execution_count": 84,
     "metadata": {},
     "output_type": "execute_result"
    }
   ],
   "source": [
    "# Checking fuel type\n",
    "df['fueltype'].value_counts()"
   ]
  },
  {
   "cell_type": "markdown",
   "metadata": {},
   "source": [
    "### Checking Data Distribution with Initial Descriptive Statistics"
   ]
  },
  {
   "cell_type": "code",
   "execution_count": 85,
   "metadata": {
    "scrolled": true
   },
   "outputs": [
    {
     "data": {
      "text/html": [
       "<div>\n",
       "<style scoped>\n",
       "    .dataframe tbody tr th:only-of-type {\n",
       "        vertical-align: middle;\n",
       "    }\n",
       "\n",
       "    .dataframe tbody tr th {\n",
       "        vertical-align: top;\n",
       "    }\n",
       "\n",
       "    .dataframe thead th {\n",
       "        text-align: right;\n",
       "    }\n",
       "</style>\n",
       "<table border=\"1\" class=\"dataframe\">\n",
       "  <thead>\n",
       "    <tr style=\"text-align: right;\">\n",
       "      <th></th>\n",
       "      <th>price</th>\n",
       "      <th>registrationyear</th>\n",
       "      <th>power</th>\n",
       "      <th>mileage</th>\n",
       "      <th>registrationmonth</th>\n",
       "      <th>numberofpictures</th>\n",
       "      <th>postalcode</th>\n",
       "    </tr>\n",
       "  </thead>\n",
       "  <tbody>\n",
       "    <tr>\n",
       "      <th>count</th>\n",
       "      <td>334077.000000</td>\n",
       "      <td>334077.000000</td>\n",
       "      <td>334077.000000</td>\n",
       "      <td>334077.000000</td>\n",
       "      <td>334077.000000</td>\n",
       "      <td>334077.0</td>\n",
       "      <td>334077.000000</td>\n",
       "    </tr>\n",
       "    <tr>\n",
       "      <th>mean</th>\n",
       "      <td>4503.347725</td>\n",
       "      <td>2003.235063</td>\n",
       "      <td>111.381137</td>\n",
       "      <td>128629.283069</td>\n",
       "      <td>5.808083</td>\n",
       "      <td>0.0</td>\n",
       "      <td>50669.890468</td>\n",
       "    </tr>\n",
       "    <tr>\n",
       "      <th>std</th>\n",
       "      <td>4530.126445</td>\n",
       "      <td>6.986564</td>\n",
       "      <td>184.954360</td>\n",
       "      <td>37118.866592</td>\n",
       "      <td>3.688648</td>\n",
       "      <td>0.0</td>\n",
       "      <td>25754.946018</td>\n",
       "    </tr>\n",
       "    <tr>\n",
       "      <th>min</th>\n",
       "      <td>0.000000</td>\n",
       "      <td>1960.000000</td>\n",
       "      <td>0.000000</td>\n",
       "      <td>5000.000000</td>\n",
       "      <td>0.000000</td>\n",
       "      <td>0.0</td>\n",
       "      <td>1067.000000</td>\n",
       "    </tr>\n",
       "    <tr>\n",
       "      <th>25%</th>\n",
       "      <td>1150.000000</td>\n",
       "      <td>1999.000000</td>\n",
       "      <td>70.000000</td>\n",
       "      <td>125000.000000</td>\n",
       "      <td>3.000000</td>\n",
       "      <td>0.0</td>\n",
       "      <td>30419.000000</td>\n",
       "    </tr>\n",
       "    <tr>\n",
       "      <th>50%</th>\n",
       "      <td>2800.000000</td>\n",
       "      <td>2003.000000</td>\n",
       "      <td>105.000000</td>\n",
       "      <td>150000.000000</td>\n",
       "      <td>6.000000</td>\n",
       "      <td>0.0</td>\n",
       "      <td>49525.000000</td>\n",
       "    </tr>\n",
       "    <tr>\n",
       "      <th>75%</th>\n",
       "      <td>6500.000000</td>\n",
       "      <td>2008.000000</td>\n",
       "      <td>143.000000</td>\n",
       "      <td>150000.000000</td>\n",
       "      <td>9.000000</td>\n",
       "      <td>0.0</td>\n",
       "      <td>71229.000000</td>\n",
       "    </tr>\n",
       "    <tr>\n",
       "      <th>max</th>\n",
       "      <td>20000.000000</td>\n",
       "      <td>2019.000000</td>\n",
       "      <td>20000.000000</td>\n",
       "      <td>150000.000000</td>\n",
       "      <td>12.000000</td>\n",
       "      <td>0.0</td>\n",
       "      <td>99998.000000</td>\n",
       "    </tr>\n",
       "  </tbody>\n",
       "</table>\n",
       "</div>"
      ],
      "text/plain": [
       "               price  registrationyear          power        mileage  \\\n",
       "count  334077.000000     334077.000000  334077.000000  334077.000000   \n",
       "mean     4503.347725       2003.235063     111.381137  128629.283069   \n",
       "std      4530.126445          6.986564     184.954360   37118.866592   \n",
       "min         0.000000       1960.000000       0.000000    5000.000000   \n",
       "25%      1150.000000       1999.000000      70.000000  125000.000000   \n",
       "50%      2800.000000       2003.000000     105.000000  150000.000000   \n",
       "75%      6500.000000       2008.000000     143.000000  150000.000000   \n",
       "max     20000.000000       2019.000000   20000.000000  150000.000000   \n",
       "\n",
       "       registrationmonth  numberofpictures     postalcode  \n",
       "count      334077.000000          334077.0  334077.000000  \n",
       "mean            5.808083               0.0   50669.890468  \n",
       "std             3.688648               0.0   25754.946018  \n",
       "min             0.000000               0.0    1067.000000  \n",
       "25%             3.000000               0.0   30419.000000  \n",
       "50%             6.000000               0.0   49525.000000  \n",
       "75%             9.000000               0.0   71229.000000  \n",
       "max            12.000000               0.0   99998.000000  "
      ]
     },
     "execution_count": 85,
     "metadata": {},
     "output_type": "execute_result"
    }
   ],
   "source": [
    "df.describe()"
   ]
  },
  {
   "cell_type": "code",
   "execution_count": 86,
   "metadata": {
    "scrolled": true
   },
   "outputs": [
    {
     "data": {
      "image/png": "[encoded data removed]",
      "text/plain": [
       "<Figure size 720x504 with 1 Axes>"
      ]
     },
     "metadata": {
      "needs_background": "light"
     },
     "output_type": "display_data"
    },
    {
     "data": {
      "image/png": "[encoded data removed]",
      "text/plain": [
       "<Figure size 720x504 with 1 Axes>"
      ]
     },
     "metadata": {
      "needs_background": "light"
     },
     "output_type": "display_data"
    },
    {
     "data": {
      "image/png": "[encoded data removed]",
      "text/plain": [
       "<Figure size 720x504 with 1 Axes>"
      ]
     },
     "metadata": {
      "needs_background": "light"
     },
     "output_type": "display_data"
    },
    {
     "data": {
      "image/png": "[encoded data removed]",
      "text/plain": [
       "<Figure size 720x504 with 1 Axes>"
      ]
     },
     "metadata": {
      "needs_background": "light"
     },
     "output_type": "display_data"
    },
    {
     "data": {
      "image/png": "[encoded data removed]",
      "text/plain": [
       "<Figure size 720x504 with 1 Axes>"
      ]
     },
     "metadata": {
      "needs_background": "light"
     },
     "output_type": "display_data"
    },
    {
     "data": {
      "image/png": "[encoded data removed]",
      "text/plain": [
       "<Figure size 720x504 with 1 Axes>"
      ]
     },
     "metadata": {
      "needs_background": "light"
     },
     "output_type": "display_data"
    },
    {
     "data": {
      "image/png": "[encoded data removed]",
      "text/plain": [
       "<Figure size 720x504 with 1 Axes>"
      ]
     },
     "metadata": {
      "needs_background": "light"
     },
     "output_type": "display_data"
    },
    {
     "data": {
      "image/png": "[encoded data removed]",
      "text/plain": [
       "<Figure size 720x504 with 1 Axes>"
      ]
     },
     "metadata": {
      "needs_background": "light"
     },
     "output_type": "display_data"
    }
   ],
   "source": [
    "columns = ['vehicletype', 'registrationyear', 'gearbox', 'power', 'mileage', 'fueltype', 'notrepaired', 'price']\n",
    "\n",
    "for column in columns:\n",
    "    plt.figure(figsize=(10, 7))\n",
    "    plt.tight_layout()\n",
    "    plt.hist(df[column], bins=100, alpha=0.5, color='g')\n",
    "    plt.title(f'Histogram of {column}')\n",
    "    plt.xlabel(column)\n",
    "    plt.ylabel('Frequency')\n",
    "    plt.grid(True)\n",
    "    plt.show()"
   ]
  },
  {
   "cell_type": "markdown",
   "metadata": {},
   "source": [
    "Most of the vehicle type is distributed around small, sedan, and wagon. The distribution of registration years is left skewed, with the median around the mid 2000's. There are two options for gearbox: manual and auto. Most of the cars are manual transmission. Power is right skewed, with most values falling between 0-1000 hp. While the mileage is left skewed, with most cars having 140K kilometers. Fuel type is mostly petrol, and most cars are not repaired. The Price is right skewed with mostly around 0-5000."
   ]
  },
  {
   "cell_type": "markdown",
   "metadata": {},
   "source": [
    "### Outliers"
   ]
  },
  {
   "cell_type": "code",
   "execution_count": 87,
   "metadata": {
    "scrolled": false
   },
   "outputs": [
    {
     "data": {
      "image/png": "[encoded data removed]",
      "text/plain": [
       "<Figure size 720x360 with 1 Axes>"
      ]
     },
     "metadata": {
      "needs_background": "light"
     },
     "output_type": "display_data"
    }
   ],
   "source": [
    "# Checking price distribution\n",
    "plt.figure(figsize=(10, 5))\n",
    "plt.boxplot(df['price'], vert=False, patch_artist=True, notch=True)  # vert=False for horizontal boxplot\n",
    "plt.title('Box and Whisker Plot of Car Prices')\n",
    "plt.xlabel('Price')\n",
    "plt.show()"
   ]
  },
  {
   "cell_type": "markdown",
   "metadata": {},
   "source": [
    "Most prices are in range from around 1000 to 6000 euro. There are some higher values but the maximum price is 20000 euro and it seems reasonable."
   ]
  },
  {
   "cell_type": "code",
   "execution_count": 88,
   "metadata": {
    "scrolled": false
   },
   "outputs": [
    {
     "data": {
      "image/png": "[encoded data removed]",
      "text/plain": [
       "<Figure size 720x360 with 1 Axes>"
      ]
     },
     "metadata": {
      "needs_background": "light"
     },
     "output_type": "display_data"
    }
   ],
   "source": [
    "# Checking power distribution\n",
    "plt.figure(figsize=(10, 5))\n",
    "plt.boxplot(df['power'], vert=False, patch_artist=True, notch=True)  # vert=False for horizontal boxplot\n",
    "plt.title('Box and Whisker Plot of Powers')\n",
    "plt.xlabel('Power')\n",
    "plt.show()"
   ]
  },
  {
   "cell_type": "markdown",
   "metadata": {},
   "source": [
    "We will remove the outliers based on power. Power values of zero do not make sense, as even electric vehicles have power. Alternatively, power above 500 hp is generally reserved for super and hypercars."
   ]
  },
  {
   "cell_type": "code",
   "execution_count": 89,
   "metadata": {},
   "outputs": [],
   "source": [
    "# Filtering outliers of dataset\n",
    "df = df.query(\"(power > 20) and (power < 500)\")"
   ]
  },
  {
   "cell_type": "code",
   "execution_count": 90,
   "metadata": {
    "scrolled": true
   },
   "outputs": [
    {
     "name": "stdout",
     "output_type": "stream",
     "text": [
      "<class 'pandas.core.frame.DataFrame'>\n",
      "Int64Index: 299683 entries, 2 to 354368\n",
      "Data columns (total 16 columns):\n",
      " #   Column             Non-Null Count   Dtype \n",
      "---  ------             --------------   ----- \n",
      " 0   datecrawled        299683 non-null  object\n",
      " 1   price              299683 non-null  int64 \n",
      " 2   vehicletype        299683 non-null  object\n",
      " 3   registrationyear   299683 non-null  int64 \n",
      " 4   gearbox            299683 non-null  object\n",
      " 5   power              299683 non-null  int64 \n",
      " 6   model              299683 non-null  object\n",
      " 7   mileage            299683 non-null  int64 \n",
      " 8   registrationmonth  299683 non-null  int64 \n",
      " 9   fueltype           299683 non-null  object\n",
      " 10  brand              299683 non-null  object\n",
      " 11  notrepaired        299683 non-null  object\n",
      " 12  datecreated        299683 non-null  object\n",
      " 13  numberofpictures   299683 non-null  int64 \n",
      " 14  postalcode         299683 non-null  int64 \n",
      " 15  lastseen           299683 non-null  object\n",
      "dtypes: int64(7), object(9)\n",
      "memory usage: 38.9+ MB\n"
     ]
    }
   ],
   "source": [
    "df.info()"
   ]
  },
  {
   "cell_type": "code",
   "execution_count": 91,
   "metadata": {
    "scrolled": true
   },
   "outputs": [
    {
     "data": {
      "text/html": [
       "<div>\n",
       "<style scoped>\n",
       "    .dataframe tbody tr th:only-of-type {\n",
       "        vertical-align: middle;\n",
       "    }\n",
       "\n",
       "    .dataframe tbody tr th {\n",
       "        vertical-align: top;\n",
       "    }\n",
       "\n",
       "    .dataframe thead th {\n",
       "        text-align: right;\n",
       "    }\n",
       "</style>\n",
       "<table border=\"1\" class=\"dataframe\">\n",
       "  <thead>\n",
       "    <tr style=\"text-align: right;\">\n",
       "      <th></th>\n",
       "      <th>price</th>\n",
       "      <th>registrationyear</th>\n",
       "      <th>power</th>\n",
       "      <th>mileage</th>\n",
       "      <th>registrationmonth</th>\n",
       "      <th>numberofpictures</th>\n",
       "      <th>postalcode</th>\n",
       "    </tr>\n",
       "  </thead>\n",
       "  <tbody>\n",
       "    <tr>\n",
       "      <th>count</th>\n",
       "      <td>299683.000000</td>\n",
       "      <td>299683.000000</td>\n",
       "      <td>299683.000000</td>\n",
       "      <td>299683.000000</td>\n",
       "      <td>299683.000000</td>\n",
       "      <td>299683.0</td>\n",
       "      <td>299683.000000</td>\n",
       "    </tr>\n",
       "    <tr>\n",
       "      <th>mean</th>\n",
       "      <td>4756.944855</td>\n",
       "      <td>2003.338194</td>\n",
       "      <td>120.127972</td>\n",
       "      <td>128582.669020</td>\n",
       "      <td>5.978978</td>\n",
       "      <td>0.0</td>\n",
       "      <td>51127.976525</td>\n",
       "    </tr>\n",
       "    <tr>\n",
       "      <th>std</th>\n",
       "      <td>4596.992473</td>\n",
       "      <td>6.698315</td>\n",
       "      <td>52.829651</td>\n",
       "      <td>36535.739317</td>\n",
       "      <td>3.596618</td>\n",
       "      <td>0.0</td>\n",
       "      <td>25774.812559</td>\n",
       "    </tr>\n",
       "    <tr>\n",
       "      <th>min</th>\n",
       "      <td>0.000000</td>\n",
       "      <td>1960.000000</td>\n",
       "      <td>21.000000</td>\n",
       "      <td>5000.000000</td>\n",
       "      <td>0.000000</td>\n",
       "      <td>0.0</td>\n",
       "      <td>1067.000000</td>\n",
       "    </tr>\n",
       "    <tr>\n",
       "      <th>25%</th>\n",
       "      <td>1290.000000</td>\n",
       "      <td>1999.000000</td>\n",
       "      <td>75.000000</td>\n",
       "      <td>125000.000000</td>\n",
       "      <td>3.000000</td>\n",
       "      <td>0.0</td>\n",
       "      <td>30900.000000</td>\n",
       "    </tr>\n",
       "    <tr>\n",
       "      <th>50%</th>\n",
       "      <td>3000.000000</td>\n",
       "      <td>2003.000000</td>\n",
       "      <td>110.000000</td>\n",
       "      <td>150000.000000</td>\n",
       "      <td>6.000000</td>\n",
       "      <td>0.0</td>\n",
       "      <td>50170.000000</td>\n",
       "    </tr>\n",
       "    <tr>\n",
       "      <th>75%</th>\n",
       "      <td>6900.000000</td>\n",
       "      <td>2008.000000</td>\n",
       "      <td>150.000000</td>\n",
       "      <td>150000.000000</td>\n",
       "      <td>9.000000</td>\n",
       "      <td>0.0</td>\n",
       "      <td>71711.000000</td>\n",
       "    </tr>\n",
       "    <tr>\n",
       "      <th>max</th>\n",
       "      <td>20000.000000</td>\n",
       "      <td>2019.000000</td>\n",
       "      <td>490.000000</td>\n",
       "      <td>150000.000000</td>\n",
       "      <td>12.000000</td>\n",
       "      <td>0.0</td>\n",
       "      <td>99998.000000</td>\n",
       "    </tr>\n",
       "  </tbody>\n",
       "</table>\n",
       "</div>"
      ],
      "text/plain": [
       "               price  registrationyear          power        mileage  \\\n",
       "count  299683.000000     299683.000000  299683.000000  299683.000000   \n",
       "mean     4756.944855       2003.338194     120.127972  128582.669020   \n",
       "std      4596.992473          6.698315      52.829651   36535.739317   \n",
       "min         0.000000       1960.000000      21.000000    5000.000000   \n",
       "25%      1290.000000       1999.000000      75.000000  125000.000000   \n",
       "50%      3000.000000       2003.000000     110.000000  150000.000000   \n",
       "75%      6900.000000       2008.000000     150.000000  150000.000000   \n",
       "max     20000.000000       2019.000000     490.000000  150000.000000   \n",
       "\n",
       "       registrationmonth  numberofpictures     postalcode  \n",
       "count      299683.000000          299683.0  299683.000000  \n",
       "mean            5.978978               0.0   51127.976525  \n",
       "std             3.596618               0.0   25774.812559  \n",
       "min             0.000000               0.0    1067.000000  \n",
       "25%             3.000000               0.0   30900.000000  \n",
       "50%             6.000000               0.0   50170.000000  \n",
       "75%             9.000000               0.0   71711.000000  \n",
       "max            12.000000               0.0   99998.000000  "
      ]
     },
     "execution_count": 91,
     "metadata": {},
     "output_type": "execute_result"
    }
   ],
   "source": [
    "df.describe()"
   ]
  },
  {
   "cell_type": "code",
   "execution_count": 92,
   "metadata": {},
   "outputs": [
    {
     "data": {
      "image/png": "[encoded data removed]",
      "text/plain": [
       "<Figure size 720x360 with 1 Axes>"
      ]
     },
     "metadata": {
      "needs_background": "light"
     },
     "output_type": "display_data"
    }
   ],
   "source": [
    "# Checking power distribution again\n",
    "plt.figure(figsize=(10, 5))\n",
    "plt.hist(df['power'], bins=100, alpha=0.7, color='blue')\n",
    "plt.title('Power Frequency Distribution')\n",
    "plt.xlabel('Power (HP)')\n",
    "plt.ylabel('Frequency')\n",
    "plt.grid(axis='y', alpha=0.75)\n",
    "plt.show()"
   ]
  },
  {
   "cell_type": "code",
   "execution_count": 93,
   "metadata": {
    "scrolled": false
   },
   "outputs": [
    {
     "data": {
      "image/png": "[encoded data removed]",
      "text/plain": [
       "<Figure size 720x360 with 1 Axes>"
      ]
     },
     "metadata": {
      "needs_background": "light"
     },
     "output_type": "display_data"
    }
   ],
   "source": [
    "# Checking mileage distribution\n",
    "plt.figure(figsize=(10, 5))\n",
    "plt.boxplot(df['mileage'], vert=False, patch_artist=True, notch=True)  # vert=False for horizontal boxplot\n",
    "plt.title('Box and Whisker Plot of Mileage')\n",
    "plt.xlabel('Mileage')\n",
    "plt.show()"
   ]
  },
  {
   "cell_type": "markdown",
   "metadata": {},
   "source": [
    "There are high mileage value for the most observations. There are some values lower than the lower whisker but we will keep them as they are not numerous and these values could possibly exist."
   ]
  },
  {
   "cell_type": "code",
   "execution_count": 94,
   "metadata": {},
   "outputs": [],
   "source": [
    "# Removing some unused columns which will not affect the price\n",
    "\n",
    "df = df.drop(['datecrawled', 'datecreated', 'numberofpictures', 'postalcode', 'lastseen', 'registrationmonth'], axis=1)"
   ]
  },
  {
   "cell_type": "code",
   "execution_count": 95,
   "metadata": {
    "scrolled": true
   },
   "outputs": [
    {
     "name": "stdout",
     "output_type": "stream",
     "text": [
      "<class 'pandas.core.frame.DataFrame'>\n",
      "Int64Index: 299683 entries, 2 to 354368\n",
      "Data columns (total 10 columns):\n",
      " #   Column            Non-Null Count   Dtype \n",
      "---  ------            --------------   ----- \n",
      " 0   price             299683 non-null  int64 \n",
      " 1   vehicletype       299683 non-null  object\n",
      " 2   registrationyear  299683 non-null  int64 \n",
      " 3   gearbox           299683 non-null  object\n",
      " 4   power             299683 non-null  int64 \n",
      " 5   model             299683 non-null  object\n",
      " 6   mileage           299683 non-null  int64 \n",
      " 7   fueltype          299683 non-null  object\n",
      " 8   brand             299683 non-null  object\n",
      " 9   notrepaired       299683 non-null  object\n",
      "dtypes: int64(4), object(6)\n",
      "memory usage: 25.2+ MB\n"
     ]
    }
   ],
   "source": [
    "df.info()"
   ]
  },
  {
   "cell_type": "markdown",
   "metadata": {},
   "source": [
    "### Conclusion"
   ]
  },
  {
   "cell_type": "markdown",
   "metadata": {},
   "source": [
    "We have used EDA to analyse the distributions and outliers in the dataframe and removed the values that did not make intuitive sense, in an attempt to improve the accuracy of the modeling in later subsection."
   ]
  },
  {
   "cell_type": "markdown",
   "metadata": {},
   "source": [
    "## Model training"
   ]
  },
  {
   "cell_type": "markdown",
   "metadata": {},
   "source": [
    "### Model Preparation"
   ]
  },
  {
   "cell_type": "code",
   "execution_count": 96,
   "metadata": {},
   "outputs": [],
   "source": [
    "# Making copy of original dataset\n",
    "df_copy = df.copy()"
   ]
  },
  {
   "cell_type": "code",
   "execution_count": 97,
   "metadata": {},
   "outputs": [],
   "source": [
    "# Select only the object columns from the DataFrame\n",
    "object_columns = df_copy.select_dtypes(include='object')"
   ]
  },
  {
   "cell_type": "markdown",
   "metadata": {},
   "source": [
    "### Encoding of Categorical Variables"
   ]
  },
  {
   "cell_type": "code",
   "execution_count": 98,
   "metadata": {},
   "outputs": [],
   "source": [
    "# Apply One-Hot Encoding\n",
    "df_ohe = pd.get_dummies(df_copy, columns=object_columns.columns, drop_first=True)\n",
    "\n",
    "# `drop_first=True` is used to avoid dummy variable trap by dropping one of the new columns"
   ]
  },
  {
   "cell_type": "markdown",
   "metadata": {},
   "source": [
    "### Splitting data into train, validation and test sets"
   ]
  },
  {
   "cell_type": "code",
   "execution_count": 99,
   "metadata": {},
   "outputs": [],
   "source": [
    "# Splitting df into train and test sets in the split ratio of 3:1:1.\n",
    "X = df_ohe.drop(['price'], axis=1)\n",
    "y = df_ohe['price']\n",
    "\n",
    "# First split to separate out the training set\n",
    "X_train, X_temp, y_train, y_temp = train_test_split(X, y, test_size = 0.4, random_state=12345)"
   ]
  },
  {
   "cell_type": "code",
   "execution_count": 100,
   "metadata": {},
   "outputs": [],
   "source": [
    "# Second split to separate out the validation and test sets\n",
    "X_valid, X_test, y_valid, y_test = train_test_split(X_temp, y_temp, test_size = 0.5, random_state=12345)"
   ]
  },
  {
   "cell_type": "markdown",
   "metadata": {},
   "source": [
    "### Scaling Numerical Data"
   ]
  },
  {
   "cell_type": "code",
   "execution_count": 101,
   "metadata": {},
   "outputs": [],
   "source": [
    "# Scaling numerical columns\n",
    "numeric = ['registrationyear', 'power', 'mileage']\n",
    "\n",
    "scaler = StandardScaler()\n",
    "scaler.fit(X_train[numeric])\n",
    "\n",
    "X_train[numeric] = scaler.transform(X_train[numeric])\n",
    "X_valid[numeric] = scaler.transform(X_valid[numeric])\n",
    "X_test[numeric] = scaler.transform(X_test[numeric])"
   ]
  },
  {
   "cell_type": "markdown",
   "metadata": {},
   "source": [
    "### Modeling"
   ]
  },
  {
   "cell_type": "markdown",
   "metadata": {},
   "source": [
    "We will be using the RMSE metric for best model selection."
   ]
  },
  {
   "cell_type": "code",
   "execution_count": 102,
   "metadata": {
    "scrolled": true
   },
   "outputs": [
    {
     "name": "stdout",
     "output_type": "stream",
     "text": [
      "RMSE of the best Decision Tree model (max_depth = 16): 1936.1516\n",
      "Runtime for the best model: 4.3431 seconds\n",
      "RMSE of the best Random Forest model: 1780.8038\n",
      "Best Random Forest model with N Estimators: 50, Max Depth: 15\n",
      "Runtime for the best Random Forest model: 131.4730 seconds\n",
      "RMSE of the Linear Regression model on the validation set: 2759.7010\n",
      "Runtime for the Linear Regression model: 13.1322 seconds\n"
     ]
    }
   ],
   "source": [
    "# Decision tree\n",
    "best_dt_result = float('inf')\n",
    "best_dt_depth = 0\n",
    "best_dt_runtime = 0  # Variable to store the runtime of the best model\n",
    "\n",
    "for depth in range(1, 21): \n",
    "    start_time = time.time()  # Start time for this iteration\n",
    "    dt = DecisionTreeRegressor(random_state=12345, max_depth=depth)\n",
    "    dt.fit(X_train, y_train)  # train model on training set\n",
    "    predictions_valid_dt = dt.predict(X_valid)  # get model predictions on validation set\n",
    "    result = mse(y_valid, predictions_valid_dt) ** 0.5  # Calculate RMSE\n",
    "    run_time = time.time() - start_time  # Runtime for this iteration\n",
    "    \n",
    "    if result < best_dt_result:\n",
    "        best_dt_result = result\n",
    "        best_dt_depth = depth\n",
    "        best_dt_runtime = run_time  # Update the runtime for the best model\n",
    "\n",
    "# Print best DT model with runtime\n",
    "print(f\"RMSE of the best Decision Tree model (max_depth = {best_dt_depth}): {best_dt_result:.4f}\")\n",
    "print(f\"Runtime for the best model: {best_dt_runtime:.4f} seconds\")\n",
    "\n",
    "\n",
    "\n",
    "# Random forest\n",
    "best_rf_result = float('inf')\n",
    "best_rf_est = 0\n",
    "best_rf_depth = 0\n",
    "best_rf_runtime = 0  # Variable to store the runtime of the best model\n",
    "\n",
    "for est in range(40, 51, 5):\n",
    "    for depth in range(10, 20, 5):\n",
    "        start_time = time.time()\n",
    "        rf = RandomForestRegressor(random_state=12345, n_estimators=est, max_depth=depth)\n",
    "        rf.fit(X_train, y_train)  # train model on training set\n",
    "        predictions_valid_rf = rf.predict(X_valid)  # get model predictions on validation set\n",
    "        result = mse(y_valid, predictions_valid_rf) ** 0.5  # calculate RMSE on validation set\n",
    "        run_time = time.time() - start_time\n",
    "        if result < best_rf_result:\n",
    "            best_rf_result = result\n",
    "            best_rf_est = est\n",
    "            best_rf_depth = depth\n",
    "            best_rf_runtime = run_time  # Update the runtime for the best model\n",
    "\n",
    "# Print best RF model with runtime\n",
    "print(f\"RMSE of the best Random Forest model: {best_rf_result:.4f}\")\n",
    "print(f\"Best Random Forest model with N Estimators: {best_rf_est}, Max Depth: {best_rf_depth}\")\n",
    "print(f\"Runtime for the best Random Forest model: {best_rf_runtime:.4f} seconds\")\n",
    "\n",
    "\n",
    "\n",
    "# Linear regression\n",
    "start_time = time.time()  # Start time for training and prediction\n",
    "lr = LinearRegression()  # initialize model constructor\n",
    "lr.fit(X_train, y_train)  # train model on training set\n",
    "predictions_valid_lr = lr.predict(X_valid)  # get model predictions on validation set\n",
    "lr_result = mse(y_valid, predictions_valid_lr) ** 0.5  # calculate RMSE on validation set\n",
    "lr_run_time = time.time() - start_time  # Calculate runtime\n",
    "\n",
    "# Print LR model result with runtime\n",
    "print(f\"RMSE of the Linear Regression model on the validation set: {lr_result:.4f}\")\n",
    "print(f\"Runtime for the Linear Regression model: {lr_run_time:.4f} seconds\")"
   ]
  },
  {
   "cell_type": "markdown",
   "metadata": {},
   "source": [
    "### Stochastic Gradient Descent & Regularisation"
   ]
  },
  {
   "cell_type": "code",
   "execution_count": 103,
   "metadata": {},
   "outputs": [
    {
     "name": "stdout",
     "output_type": "stream",
     "text": [
      "Regularisation: 0.0\n",
      "Elapsed Time: 36.82 seconds\n",
      "2828.4274359527794\n",
      "2813.5190686877318\n",
      "Regularisation: 0.1\n",
      "Elapsed Time: 37.10 seconds\n",
      "3027.967668774768\n",
      "3014.874698369078\n",
      "Regularisation: 1.0\n",
      "Elapsed Time: 37.09 seconds\n",
      "3484.195220980892\n",
      "3470.969218620859\n",
      "Regularisation: 10.0\n",
      "Elapsed Time: 37.19 seconds\n",
      "4349.511352816764\n",
      "4339.121611971358\n"
     ]
    }
   ],
   "source": [
    "class SGDLinearRegression:\n",
    "    def __init__(self, step_size, epochs, batch_size, reg_weight):\n",
    "        self.step_size = step_size\n",
    "        self.epochs = epochs\n",
    "        self.batch_size = batch_size\n",
    "        self.reg_weight = reg_weight\n",
    "\n",
    "    def fit(self, X_train, y_train):\n",
    "        start_time = time.time()  # Record the start time\n",
    "        X = np.concatenate(\n",
    "            (np.ones((X_train.shape[0], 1)), X_train), axis=1\n",
    "        )\n",
    "        y = y_train\n",
    "        w = np.zeros(X.shape[1])\n",
    "\n",
    "        for _ in range(self.epochs):\n",
    "            batches_count = X.shape[0] // self.batch_size\n",
    "            for i in range(batches_count):\n",
    "                begin = i * self.batch_size\n",
    "                end = (i + 1) * self.batch_size\n",
    "                X_batch = X[begin:end, :]\n",
    "                y_batch = y[begin:end]\n",
    "\n",
    "                gradient = (\n",
    "                    2\n",
    "                    * X_batch.T.dot(X_batch.dot(w) - y_batch)\n",
    "                    / X_batch.shape[0]\n",
    "                ) # copy vector w to avoid changing anything\n",
    "                reg = 2 * w.copy()\n",
    "                reg[0] = 0 # < write code here >\n",
    "                gradient += self.reg_weight * reg # < write code here >\n",
    "                \n",
    "                w -= self.step_size * gradient\n",
    "\n",
    "        self.w = w[1:]\n",
    "        self.w0 = w[0]\n",
    "        end_time = time.time()  # Record the end time\n",
    "        elapsed_time = end_time - start_time\n",
    "        print(f\"Elapsed Time: {elapsed_time:.2f} seconds\")\n",
    "\n",
    "    def predict(self, X_test):\n",
    "        return X_test.dot(self.w) + self.w0\n",
    "    \n",
    "\n",
    "# To compare ridge regression and linear regression,\n",
    "# start with regularization weight = 0. Then add\n",
    "# training with its various values.\n",
    "print('Regularisation:', 0.0)\n",
    "model = SGDLinearRegression(0.01, 10, 100, 0.0)\n",
    "model.fit(X_train, y_train)\n",
    "pred_train = model.predict(X_train)\n",
    "pred_test = model.predict(X_test)\n",
    "print(mse(y_train, pred_train) ** 0.5)\n",
    "print(mse(y_test, pred_test) ** 0.5)\n",
    "\n",
    "print('Regularisation:', 0.1)\n",
    "model = SGDLinearRegression(0.01, 10, 100, 0.1)\n",
    "model.fit(X_train, y_train)\n",
    "pred_train = model.predict(X_train)\n",
    "pred_test = model.predict(X_test)\n",
    "print(mse(y_train, pred_train) ** 0.5)\n",
    "print(mse(y_test, pred_test) ** 0.5)\n",
    "\n",
    "\n",
    "print('Regularisation:', 1.0)\n",
    "model = SGDLinearRegression(0.01, 10, 100, 1.0)\n",
    "model.fit(X_train, y_train)\n",
    "pred_train = model.predict(X_train)\n",
    "pred_test = model.predict(X_test)\n",
    "print(mse(y_train, pred_train) ** 0.5)\n",
    "print(mse(y_test, pred_test) ** 0.5)\n",
    "\n",
    "\n",
    "print('Regularisation:', 10.0)\n",
    "model = SGDLinearRegression(0.01, 10, 100, 10.0)\n",
    "model.fit(X_train, y_train)\n",
    "pred_train = model.predict(X_train)\n",
    "pred_test = model.predict(X_test)\n",
    "print(mse(y_train, pred_train) ** 0.5)\n",
    "print(mse(y_test, pred_test) ** 0.5)"
   ]
  },
  {
   "cell_type": "markdown",
   "metadata": {},
   "source": [
    "### Boosting"
   ]
  },
  {
   "cell_type": "markdown",
   "metadata": {},
   "source": [
    "#### LightGBM  "
   ]
  },
  {
   "cell_type": "markdown",
   "metadata": {},
   "source": [
    "##### LightGBM Random Search Optimisation"
   ]
  },
  {
   "cell_type": "code",
   "execution_count": 104,
   "metadata": {
    "scrolled": true
   },
   "outputs": [
    {
     "name": "stdout",
     "output_type": "stream",
     "text": [
      "Fitting 3 folds for each of 50 candidates, totalling 150 fits\n",
      "[LightGBM] [Warning] num_iterations is set=564, num_boost_round=564 will be ignored. Current value: num_iterations=564\n",
      "[CV] END learning_rate=0.1, max_depth=7, num_boost_round=564, num_leaves=20, reg_alpha=0.1; total time=  10.0s\n",
      "[LightGBM] [Warning] num_iterations is set=564, num_boost_round=564 will be ignored. Current value: num_iterations=564\n",
      "[CV] END learning_rate=0.1, max_depth=7, num_boost_round=564, num_leaves=20, reg_alpha=0.1; total time=   9.5s\n",
      "[LightGBM] [Warning] num_iterations is set=564, num_boost_round=564 will be ignored. Current value: num_iterations=564\n",
      "[CV] END learning_rate=0.1, max_depth=7, num_boost_round=564, num_leaves=20, reg_alpha=0.1; total time=   9.6s\n",
      "[LightGBM] [Warning] num_iterations is set=738, num_boost_round=738 will be ignored. Current value: num_iterations=738\n",
      "[CV] END learning_rate=0.1, max_depth=14, num_boost_round=738, num_leaves=40, reg_alpha=0; total time=  14.5s\n",
      "[LightGBM] [Warning] num_iterations is set=738, num_boost_round=738 will be ignored. Current value: num_iterations=738\n",
      "[CV] END learning_rate=0.1, max_depth=14, num_boost_round=738, num_leaves=40, reg_alpha=0; total time=  15.1s\n",
      "[LightGBM] [Warning] num_iterations is set=738, num_boost_round=738 will be ignored. Current value: num_iterations=738\n",
      "[CV] END learning_rate=0.1, max_depth=14, num_boost_round=738, num_leaves=40, reg_alpha=0; total time=  14.9s\n",
      "[LightGBM] [Warning] num_iterations is set=581, num_boost_round=581 will be ignored. Current value: num_iterations=581\n",
      "[CV] END learning_rate=0.05, max_depth=15, num_boost_round=581, num_leaves=20, reg_alpha=0.5; total time=  11.1s\n",
      "[LightGBM] [Warning] num_iterations is set=581, num_boost_round=581 will be ignored. Current value: num_iterations=581\n",
      "[CV] END learning_rate=0.05, max_depth=15, num_boost_round=581, num_leaves=20, reg_alpha=0.5; total time=  11.4s\n",
      "[LightGBM] [Warning] num_iterations is set=581, num_boost_round=581 will be ignored. Current value: num_iterations=581\n",
      "[CV] END learning_rate=0.05, max_depth=15, num_boost_round=581, num_leaves=20, reg_alpha=0.5; total time=  11.4s\n",
      "[LightGBM] [Warning] num_iterations is set=881, num_boost_round=881 will be ignored. Current value: num_iterations=881\n",
      "[CV] END learning_rate=0.1, max_depth=10, num_boost_round=881, num_leaves=40, reg_alpha=0.5; total time=  17.6s\n",
      "[LightGBM] [Warning] num_iterations is set=881, num_boost_round=881 will be ignored. Current value: num_iterations=881\n",
      "[CV] END learning_rate=0.1, max_depth=10, num_boost_round=881, num_leaves=40, reg_alpha=0.5; total time=  18.2s\n",
      "[LightGBM] [Warning] num_iterations is set=881, num_boost_round=881 will be ignored. Current value: num_iterations=881\n",
      "[CV] END learning_rate=0.1, max_depth=10, num_boost_round=881, num_leaves=40, reg_alpha=0.5; total time=  18.1s\n",
      "[LightGBM] [Warning] num_iterations is set=650, num_boost_round=650 will be ignored. Current value: num_iterations=650\n",
      "[CV] END learning_rate=0.05, max_depth=7, num_boost_round=650, num_leaves=28, reg_alpha=0; total time=  14.1s\n",
      "[LightGBM] [Warning] num_iterations is set=650, num_boost_round=650 will be ignored. Current value: num_iterations=650\n",
      "[CV] END learning_rate=0.05, max_depth=7, num_boost_round=650, num_leaves=28, reg_alpha=0; total time=  14.4s\n",
      "[LightGBM] [Warning] num_iterations is set=650, num_boost_round=650 will be ignored. Current value: num_iterations=650\n",
      "[CV] END learning_rate=0.05, max_depth=7, num_boost_round=650, num_leaves=28, reg_alpha=0; total time=  13.6s\n",
      "[LightGBM] [Warning] num_iterations is set=985, num_boost_round=985 will be ignored. Current value: num_iterations=985\n",
      "[CV] END learning_rate=0.01, max_depth=5, num_boost_round=985, num_leaves=20, reg_alpha=0.1; total time=  21.0s\n",
      "[LightGBM] [Warning] num_iterations is set=985, num_boost_round=985 will be ignored. Current value: num_iterations=985\n",
      "[CV] END learning_rate=0.01, max_depth=5, num_boost_round=985, num_leaves=20, reg_alpha=0.1; total time=  22.8s\n",
      "[LightGBM] [Warning] num_iterations is set=985, num_boost_round=985 will be ignored. Current value: num_iterations=985\n",
      "[CV] END learning_rate=0.01, max_depth=5, num_boost_round=985, num_leaves=20, reg_alpha=0.1; total time=  21.5s\n",
      "[LightGBM] [Warning] num_iterations is set=962, num_boost_round=962 will be ignored. Current value: num_iterations=962\n",
      "[CV] END learning_rate=0.05, max_depth=7, num_boost_round=962, num_leaves=38, reg_alpha=0.1; total time=  22.2s\n",
      "[LightGBM] [Warning] num_iterations is set=962, num_boost_round=962 will be ignored. Current value: num_iterations=962\n",
      "[CV] END learning_rate=0.05, max_depth=7, num_boost_round=962, num_leaves=38, reg_alpha=0.1; total time=  22.5s\n",
      "[LightGBM] [Warning] num_iterations is set=962, num_boost_round=962 will be ignored. Current value: num_iterations=962\n",
      "[CV] END learning_rate=0.05, max_depth=7, num_boost_round=962, num_leaves=38, reg_alpha=0.1; total time=  22.7s\n",
      "[LightGBM] [Warning] num_iterations is set=458, num_boost_round=458 will be ignored. Current value: num_iterations=458\n",
      "[CV] END learning_rate=0.1, max_depth=12, num_boost_round=458, num_leaves=22, reg_alpha=0.1; total time=   8.3s\n",
      "[LightGBM] [Warning] num_iterations is set=458, num_boost_round=458 will be ignored. Current value: num_iterations=458\n",
      "[CV] END learning_rate=0.1, max_depth=12, num_boost_round=458, num_leaves=22, reg_alpha=0.1; total time=   8.7s\n",
      "[LightGBM] [Warning] num_iterations is set=458, num_boost_round=458 will be ignored. Current value: num_iterations=458\n",
      "[CV] END learning_rate=0.1, max_depth=12, num_boost_round=458, num_leaves=22, reg_alpha=0.1; total time=  10.9s\n",
      "[LightGBM] [Warning] num_iterations is set=487, num_boost_round=487 will be ignored. Current value: num_iterations=487\n",
      "[CV] END learning_rate=0.05, max_depth=10, num_boost_round=487, num_leaves=20, reg_alpha=0.1; total time=   9.8s\n",
      "[LightGBM] [Warning] num_iterations is set=487, num_boost_round=487 will be ignored. Current value: num_iterations=487\n",
      "[CV] END learning_rate=0.05, max_depth=10, num_boost_round=487, num_leaves=20, reg_alpha=0.1; total time=   9.7s\n",
      "[LightGBM] [Warning] num_iterations is set=487, num_boost_round=487 will be ignored. Current value: num_iterations=487\n",
      "[CV] END learning_rate=0.05, max_depth=10, num_boost_round=487, num_leaves=20, reg_alpha=0.1; total time=   9.8s\n",
      "[LightGBM] [Warning] num_iterations is set=749, num_boost_round=749 will be ignored. Current value: num_iterations=749\n",
      "[CV] END learning_rate=0.01, max_depth=7, num_boost_round=749, num_leaves=31, reg_alpha=0.1; total time=  20.2s\n",
      "[LightGBM] [Warning] num_iterations is set=749, num_boost_round=749 will be ignored. Current value: num_iterations=749\n",
      "[CV] END learning_rate=0.01, max_depth=7, num_boost_round=749, num_leaves=31, reg_alpha=0.1; total time=  21.3s\n",
      "[LightGBM] [Warning] num_iterations is set=749, num_boost_round=749 will be ignored. Current value: num_iterations=749\n",
      "[CV] END learning_rate=0.01, max_depth=7, num_boost_round=749, num_leaves=31, reg_alpha=0.1; total time=  21.2s\n",
      "[LightGBM] [Warning] num_iterations is set=172, num_boost_round=172 will be ignored. Current value: num_iterations=172\n",
      "[CV] END learning_rate=0.01, max_depth=5, num_boost_round=172, num_leaves=39, reg_alpha=0; total time=   4.7s\n",
      "[LightGBM] [Warning] num_iterations is set=172, num_boost_round=172 will be ignored. Current value: num_iterations=172\n",
      "[CV] END learning_rate=0.01, max_depth=5, num_boost_round=172, num_leaves=39, reg_alpha=0; total time=   4.4s\n",
      "[LightGBM] [Warning] num_iterations is set=172, num_boost_round=172 will be ignored. Current value: num_iterations=172\n",
      "[CV] END learning_rate=0.01, max_depth=5, num_boost_round=172, num_leaves=39, reg_alpha=0; total time=   4.4s\n",
      "[LightGBM] [Warning] num_iterations is set=255, num_boost_round=255 will be ignored. Current value: num_iterations=255\n",
      "[CV] END learning_rate=0.05, max_depth=14, num_boost_round=255, num_leaves=39, reg_alpha=0; total time=   7.1s\n",
      "[LightGBM] [Warning] num_iterations is set=255, num_boost_round=255 will be ignored. Current value: num_iterations=255\n",
      "[CV] END learning_rate=0.05, max_depth=14, num_boost_round=255, num_leaves=39, reg_alpha=0; total time=   8.1s\n",
      "[LightGBM] [Warning] num_iterations is set=255, num_boost_round=255 will be ignored. Current value: num_iterations=255\n",
      "[CV] END learning_rate=0.05, max_depth=14, num_boost_round=255, num_leaves=39, reg_alpha=0; total time=   7.7s\n",
      "[LightGBM] [Warning] num_iterations is set=662, num_boost_round=662 will be ignored. Current value: num_iterations=662\n",
      "[CV] END learning_rate=0.05, max_depth=15, num_boost_round=662, num_leaves=38, reg_alpha=0.5; total time=  15.1s\n",
      "[LightGBM] [Warning] num_iterations is set=662, num_boost_round=662 will be ignored. Current value: num_iterations=662\n",
      "[CV] END learning_rate=0.05, max_depth=15, num_boost_round=662, num_leaves=38, reg_alpha=0.5; total time=  15.6s\n",
      "[LightGBM] [Warning] num_iterations is set=662, num_boost_round=662 will be ignored. Current value: num_iterations=662\n",
      "[CV] END learning_rate=0.05, max_depth=15, num_boost_round=662, num_leaves=38, reg_alpha=0.5; total time=  15.6s\n",
      "[LightGBM] [Warning] num_iterations is set=716, num_boost_round=716 will be ignored. Current value: num_iterations=716\n",
      "[CV] END learning_rate=0.05, max_depth=15, num_boost_round=716, num_leaves=23, reg_alpha=0; total time=  13.4s\n",
      "[LightGBM] [Warning] num_iterations is set=716, num_boost_round=716 will be ignored. Current value: num_iterations=716\n",
      "[CV] END learning_rate=0.05, max_depth=15, num_boost_round=716, num_leaves=23, reg_alpha=0; total time=  13.9s\n",
      "[LightGBM] [Warning] num_iterations is set=716, num_boost_round=716 will be ignored. Current value: num_iterations=716\n",
      "[CV] END learning_rate=0.05, max_depth=15, num_boost_round=716, num_leaves=23, reg_alpha=0; total time=  14.0s\n",
      "[LightGBM] [Warning] num_iterations is set=487, num_boost_round=487 will be ignored. Current value: num_iterations=487\n",
      "[CV] END learning_rate=0.05, max_depth=11, num_boost_round=487, num_leaves=30, reg_alpha=0.1; total time=  10.8s\n",
      "[LightGBM] [Warning] num_iterations is set=487, num_boost_round=487 will be ignored. Current value: num_iterations=487\n",
      "[CV] END learning_rate=0.05, max_depth=11, num_boost_round=487, num_leaves=30, reg_alpha=0.1; total time=  11.8s\n",
      "[LightGBM] [Warning] num_iterations is set=487, num_boost_round=487 will be ignored. Current value: num_iterations=487\n",
      "[CV] END learning_rate=0.05, max_depth=11, num_boost_round=487, num_leaves=30, reg_alpha=0.1; total time=  12.1s\n",
      "[LightGBM] [Warning] num_iterations is set=786, num_boost_round=786 will be ignored. Current value: num_iterations=786\n",
      "[CV] END learning_rate=0.1, max_depth=8, num_boost_round=786, num_leaves=31, reg_alpha=0.1; total time=  15.1s\n",
      "[LightGBM] [Warning] num_iterations is set=786, num_boost_round=786 will be ignored. Current value: num_iterations=786\n",
      "[CV] END learning_rate=0.1, max_depth=8, num_boost_round=786, num_leaves=31, reg_alpha=0.1; total time=  15.2s\n",
      "[LightGBM] [Warning] num_iterations is set=786, num_boost_round=786 will be ignored. Current value: num_iterations=786\n",
      "[CV] END learning_rate=0.1, max_depth=8, num_boost_round=786, num_leaves=31, reg_alpha=0.1; total time=  15.1s\n",
      "[LightGBM] [Warning] num_iterations is set=498, num_boost_round=498 will be ignored. Current value: num_iterations=498\n",
      "[CV] END learning_rate=0.01, max_depth=10, num_boost_round=498, num_leaves=23, reg_alpha=0.1; total time=  13.1s\n",
      "[LightGBM] [Warning] num_iterations is set=498, num_boost_round=498 will be ignored. Current value: num_iterations=498\n",
      "[CV] END learning_rate=0.01, max_depth=10, num_boost_round=498, num_leaves=23, reg_alpha=0.1; total time=  17.7s\n",
      "[LightGBM] [Warning] num_iterations is set=498, num_boost_round=498 will be ignored. Current value: num_iterations=498\n",
      "[CV] END learning_rate=0.01, max_depth=10, num_boost_round=498, num_leaves=23, reg_alpha=0.1; total time=  13.9s\n",
      "[LightGBM] [Warning] num_iterations is set=653, num_boost_round=653 will be ignored. Current value: num_iterations=653\n",
      "[CV] END learning_rate=0.01, max_depth=11, num_boost_round=653, num_leaves=22, reg_alpha=0; total time=  16.6s\n",
      "[LightGBM] [Warning] num_iterations is set=653, num_boost_round=653 will be ignored. Current value: num_iterations=653\n",
      "[CV] END learning_rate=0.01, max_depth=11, num_boost_round=653, num_leaves=22, reg_alpha=0; total time=  17.1s\n",
      "[LightGBM] [Warning] num_iterations is set=653, num_boost_round=653 will be ignored. Current value: num_iterations=653\n",
      "[CV] END learning_rate=0.01, max_depth=11, num_boost_round=653, num_leaves=22, reg_alpha=0; total time=  17.3s\n",
      "[LightGBM] [Warning] num_iterations is set=426, num_boost_round=426 will be ignored. Current value: num_iterations=426\n",
      "[CV] END learning_rate=0.1, max_depth=14, num_boost_round=426, num_leaves=35, reg_alpha=0.1; total time=   9.3s\n",
      "[LightGBM] [Warning] num_iterations is set=426, num_boost_round=426 will be ignored. Current value: num_iterations=426\n",
      "[CV] END learning_rate=0.1, max_depth=14, num_boost_round=426, num_leaves=35, reg_alpha=0.1; total time=   9.5s\n",
      "[LightGBM] [Warning] num_iterations is set=426, num_boost_round=426 will be ignored. Current value: num_iterations=426\n",
      "[CV] END learning_rate=0.1, max_depth=14, num_boost_round=426, num_leaves=35, reg_alpha=0.1; total time=   9.4s\n",
      "[LightGBM] [Warning] num_iterations is set=879, num_boost_round=879 will be ignored. Current value: num_iterations=879\n",
      "[CV] END learning_rate=0.01, max_depth=15, num_boost_round=879, num_leaves=34, reg_alpha=0.5; total time=  24.5s\n",
      "[LightGBM] [Warning] num_iterations is set=879, num_boost_round=879 will be ignored. Current value: num_iterations=879\n",
      "[CV] END learning_rate=0.01, max_depth=15, num_boost_round=879, num_leaves=34, reg_alpha=0.5; total time=  25.2s\n",
      "[LightGBM] [Warning] num_iterations is set=879, num_boost_round=879 will be ignored. Current value: num_iterations=879\n",
      "[CV] END learning_rate=0.01, max_depth=15, num_boost_round=879, num_leaves=34, reg_alpha=0.5; total time=  27.5s\n",
      "[LightGBM] [Warning] num_iterations is set=328, num_boost_round=328 will be ignored. Current value: num_iterations=328\n",
      "[CV] END learning_rate=0.1, max_depth=14, num_boost_round=328, num_leaves=29, reg_alpha=0.5; total time=   6.8s\n",
      "[LightGBM] [Warning] num_iterations is set=328, num_boost_round=328 will be ignored. Current value: num_iterations=328\n",
      "[CV] END learning_rate=0.1, max_depth=14, num_boost_round=328, num_leaves=29, reg_alpha=0.5; total time=   7.3s\n",
      "[LightGBM] [Warning] num_iterations is set=328, num_boost_round=328 will be ignored. Current value: num_iterations=328\n",
      "[CV] END learning_rate=0.1, max_depth=14, num_boost_round=328, num_leaves=29, reg_alpha=0.5; total time=   7.3s\n",
      "[LightGBM] [Warning] num_iterations is set=416, num_boost_round=416 will be ignored. Current value: num_iterations=416\n",
      "[CV] END learning_rate=0.1, max_depth=11, num_boost_round=416, num_leaves=35, reg_alpha=0.5; total time=   8.8s\n",
      "[LightGBM] [Warning] num_iterations is set=416, num_boost_round=416 will be ignored. Current value: num_iterations=416\n",
      "[CV] END learning_rate=0.1, max_depth=11, num_boost_round=416, num_leaves=35, reg_alpha=0.5; total time=  13.0s\n",
      "[LightGBM] [Warning] num_iterations is set=416, num_boost_round=416 will be ignored. Current value: num_iterations=416\n",
      "[CV] END learning_rate=0.1, max_depth=11, num_boost_round=416, num_leaves=35, reg_alpha=0.5; total time=   9.3s\n",
      "[LightGBM] [Warning] num_iterations is set=629, num_boost_round=629 will be ignored. Current value: num_iterations=629\n",
      "[CV] END learning_rate=0.05, max_depth=11, num_boost_round=629, num_leaves=30, reg_alpha=0.1; total time=  13.5s\n",
      "[LightGBM] [Warning] num_iterations is set=629, num_boost_round=629 will be ignored. Current value: num_iterations=629\n",
      "[CV] END learning_rate=0.05, max_depth=11, num_boost_round=629, num_leaves=30, reg_alpha=0.1; total time=  13.8s\n",
      "[LightGBM] [Warning] num_iterations is set=629, num_boost_round=629 will be ignored. Current value: num_iterations=629\n",
      "[CV] END learning_rate=0.05, max_depth=11, num_boost_round=629, num_leaves=30, reg_alpha=0.1; total time=  13.9s\n",
      "[LightGBM] [Warning] num_iterations is set=941, num_boost_round=941 will be ignored. Current value: num_iterations=941\n",
      "[CV] END learning_rate=0.05, max_depth=5, num_boost_round=941, num_leaves=37, reg_alpha=0.5; total time=  20.5s\n",
      "[LightGBM] [Warning] num_iterations is set=941, num_boost_round=941 will be ignored. Current value: num_iterations=941\n",
      "[CV] END learning_rate=0.05, max_depth=5, num_boost_round=941, num_leaves=37, reg_alpha=0.5; total time=  20.1s\n",
      "[LightGBM] [Warning] num_iterations is set=941, num_boost_round=941 will be ignored. Current value: num_iterations=941\n",
      "[CV] END learning_rate=0.05, max_depth=5, num_boost_round=941, num_leaves=37, reg_alpha=0.5; total time=  19.7s\n",
      "[LightGBM] [Warning] num_iterations is set=667, num_boost_round=667 will be ignored. Current value: num_iterations=667\n",
      "[CV] END learning_rate=0.05, max_depth=7, num_boost_round=667, num_leaves=23, reg_alpha=0.1; total time=  13.5s\n",
      "[LightGBM] [Warning] num_iterations is set=667, num_boost_round=667 will be ignored. Current value: num_iterations=667\n",
      "[CV] END learning_rate=0.05, max_depth=7, num_boost_round=667, num_leaves=23, reg_alpha=0.1; total time=  13.4s\n",
      "[LightGBM] [Warning] num_iterations is set=667, num_boost_round=667 will be ignored. Current value: num_iterations=667\n",
      "[CV] END learning_rate=0.05, max_depth=7, num_boost_round=667, num_leaves=23, reg_alpha=0.1; total time=  13.4s\n",
      "[LightGBM] [Warning] num_iterations is set=109, num_boost_round=109 will be ignored. Current value: num_iterations=109\n",
      "[CV] END learning_rate=0.01, max_depth=14, num_boost_round=109, num_leaves=22, reg_alpha=0.1; total time=   2.8s\n",
      "[LightGBM] [Warning] num_iterations is set=109, num_boost_round=109 will be ignored. Current value: num_iterations=109\n",
      "[CV] END learning_rate=0.01, max_depth=14, num_boost_round=109, num_leaves=22, reg_alpha=0.1; total time=   3.0s\n",
      "[LightGBM] [Warning] num_iterations is set=109, num_boost_round=109 will be ignored. Current value: num_iterations=109\n",
      "[CV] END learning_rate=0.01, max_depth=14, num_boost_round=109, num_leaves=22, reg_alpha=0.1; total time=   3.0s\n",
      "[LightGBM] [Warning] num_iterations is set=183, num_boost_round=183 will be ignored. Current value: num_iterations=183\n",
      "[CV] END learning_rate=0.05, max_depth=5, num_boost_round=183, num_leaves=24, reg_alpha=0; total time=   4.3s\n",
      "[LightGBM] [Warning] num_iterations is set=183, num_boost_round=183 will be ignored. Current value: num_iterations=183\n",
      "[CV] END learning_rate=0.05, max_depth=5, num_boost_round=183, num_leaves=24, reg_alpha=0; total time=   4.4s\n",
      "[LightGBM] [Warning] num_iterations is set=183, num_boost_round=183 will be ignored. Current value: num_iterations=183\n",
      "[CV] END learning_rate=0.05, max_depth=5, num_boost_round=183, num_leaves=24, reg_alpha=0; total time=   4.2s\n",
      "[LightGBM] [Warning] num_iterations is set=754, num_boost_round=754 will be ignored. Current value: num_iterations=754\n",
      "[CV] END learning_rate=0.05, max_depth=15, num_boost_round=754, num_leaves=40, reg_alpha=0.1; total time=  17.7s\n",
      "[LightGBM] [Warning] num_iterations is set=754, num_boost_round=754 will be ignored. Current value: num_iterations=754\n",
      "[CV] END learning_rate=0.05, max_depth=15, num_boost_round=754, num_leaves=40, reg_alpha=0.1; total time=  18.0s\n",
      "[LightGBM] [Warning] num_iterations is set=754, num_boost_round=754 will be ignored. Current value: num_iterations=754\n",
      "[CV] END learning_rate=0.05, max_depth=15, num_boost_round=754, num_leaves=40, reg_alpha=0.1; total time=  17.1s\n",
      "[LightGBM] [Warning] num_iterations is set=597, num_boost_round=597 will be ignored. Current value: num_iterations=597\n",
      "[CV] END learning_rate=0.05, max_depth=15, num_boost_round=597, num_leaves=32, reg_alpha=0.5; total time=  13.0s\n",
      "[LightGBM] [Warning] num_iterations is set=597, num_boost_round=597 will be ignored. Current value: num_iterations=597\n",
      "[CV] END learning_rate=0.05, max_depth=15, num_boost_round=597, num_leaves=32, reg_alpha=0.5; total time=  13.8s\n",
      "[LightGBM] [Warning] num_iterations is set=597, num_boost_round=597 will be ignored. Current value: num_iterations=597\n",
      "[CV] END learning_rate=0.05, max_depth=15, num_boost_round=597, num_leaves=32, reg_alpha=0.5; total time=  13.4s\n",
      "[LightGBM] [Warning] num_iterations is set=138, num_boost_round=138 will be ignored. Current value: num_iterations=138\n",
      "[CV] END learning_rate=0.05, max_depth=15, num_boost_round=138, num_leaves=36, reg_alpha=0; total time=   4.2s\n",
      "[LightGBM] [Warning] num_iterations is set=138, num_boost_round=138 will be ignored. Current value: num_iterations=138\n",
      "[CV] END learning_rate=0.05, max_depth=15, num_boost_round=138, num_leaves=36, reg_alpha=0; total time=   4.3s\n",
      "[LightGBM] [Warning] num_iterations is set=138, num_boost_round=138 will be ignored. Current value: num_iterations=138\n",
      "[CV] END learning_rate=0.05, max_depth=15, num_boost_round=138, num_leaves=36, reg_alpha=0; total time=   4.4s\n",
      "[LightGBM] [Warning] num_iterations is set=712, num_boost_round=712 will be ignored. Current value: num_iterations=712\n",
      "[CV] END learning_rate=0.1, max_depth=14, num_boost_round=712, num_leaves=38, reg_alpha=0.1; total time=  13.8s\n",
      "[LightGBM] [Warning] num_iterations is set=712, num_boost_round=712 will be ignored. Current value: num_iterations=712\n",
      "[CV] END learning_rate=0.1, max_depth=14, num_boost_round=712, num_leaves=38, reg_alpha=0.1; total time=  14.8s\n",
      "[LightGBM] [Warning] num_iterations is set=712, num_boost_round=712 will be ignored. Current value: num_iterations=712\n",
      "[CV] END learning_rate=0.1, max_depth=14, num_boost_round=712, num_leaves=38, reg_alpha=0.1; total time=  14.3s\n",
      "[LightGBM] [Warning] num_iterations is set=405, num_boost_round=405 will be ignored. Current value: num_iterations=405\n",
      "[CV] END learning_rate=0.05, max_depth=8, num_boost_round=405, num_leaves=36, reg_alpha=0.1; total time=  10.7s\n",
      "[LightGBM] [Warning] num_iterations is set=405, num_boost_round=405 will be ignored. Current value: num_iterations=405\n",
      "[CV] END learning_rate=0.05, max_depth=8, num_boost_round=405, num_leaves=36, reg_alpha=0.1; total time=  10.9s\n",
      "[LightGBM] [Warning] num_iterations is set=405, num_boost_round=405 will be ignored. Current value: num_iterations=405\n",
      "[CV] END learning_rate=0.05, max_depth=8, num_boost_round=405, num_leaves=36, reg_alpha=0.1; total time=  10.7s\n",
      "[LightGBM] [Warning] num_iterations is set=507, num_boost_round=507 will be ignored. Current value: num_iterations=507\n",
      "[CV] END learning_rate=0.01, max_depth=7, num_boost_round=507, num_leaves=22, reg_alpha=0.5; total time=  12.9s\n",
      "[LightGBM] [Warning] num_iterations is set=507, num_boost_round=507 will be ignored. Current value: num_iterations=507\n",
      "[CV] END learning_rate=0.01, max_depth=7, num_boost_round=507, num_leaves=22, reg_alpha=0.5; total time=  13.4s\n",
      "[LightGBM] [Warning] num_iterations is set=507, num_boost_round=507 will be ignored. Current value: num_iterations=507\n",
      "[CV] END learning_rate=0.01, max_depth=7, num_boost_round=507, num_leaves=22, reg_alpha=0.5; total time=  13.5s\n",
      "[LightGBM] [Warning] num_iterations is set=206, num_boost_round=206 will be ignored. Current value: num_iterations=206\n",
      "[CV] END learning_rate=0.1, max_depth=15, num_boost_round=206, num_leaves=25, reg_alpha=0.5; total time=   4.6s\n",
      "[LightGBM] [Warning] num_iterations is set=206, num_boost_round=206 will be ignored. Current value: num_iterations=206\n",
      "[CV] END learning_rate=0.1, max_depth=15, num_boost_round=206, num_leaves=25, reg_alpha=0.5; total time=   4.6s\n",
      "[LightGBM] [Warning] num_iterations is set=206, num_boost_round=206 will be ignored. Current value: num_iterations=206\n",
      "[CV] END learning_rate=0.1, max_depth=15, num_boost_round=206, num_leaves=25, reg_alpha=0.5; total time=   5.0s\n",
      "[LightGBM] [Warning] num_iterations is set=931, num_boost_round=931 will be ignored. Current value: num_iterations=931\n",
      "[CV] END learning_rate=0.05, max_depth=12, num_boost_round=931, num_leaves=33, reg_alpha=0.1; total time=  19.4s\n",
      "[LightGBM] [Warning] num_iterations is set=931, num_boost_round=931 will be ignored. Current value: num_iterations=931\n",
      "[CV] END learning_rate=0.05, max_depth=12, num_boost_round=931, num_leaves=33, reg_alpha=0.1; total time=  19.5s\n",
      "[LightGBM] [Warning] num_iterations is set=931, num_boost_round=931 will be ignored. Current value: num_iterations=931\n",
      "[CV] END learning_rate=0.05, max_depth=12, num_boost_round=931, num_leaves=33, reg_alpha=0.1; total time=  19.2s\n",
      "[LightGBM] [Warning] num_iterations is set=690, num_boost_round=690 will be ignored. Current value: num_iterations=690\n",
      "[CV] END learning_rate=0.01, max_depth=11, num_boost_round=690, num_leaves=38, reg_alpha=0; total time=  21.0s\n",
      "[LightGBM] [Warning] num_iterations is set=690, num_boost_round=690 will be ignored. Current value: num_iterations=690\n",
      "[CV] END learning_rate=0.01, max_depth=11, num_boost_round=690, num_leaves=38, reg_alpha=0; total time=  21.7s\n",
      "[LightGBM] [Warning] num_iterations is set=690, num_boost_round=690 will be ignored. Current value: num_iterations=690\n",
      "[CV] END learning_rate=0.01, max_depth=11, num_boost_round=690, num_leaves=38, reg_alpha=0; total time=  21.7s\n",
      "[LightGBM] [Warning] num_iterations is set=445, num_boost_round=445 will be ignored. Current value: num_iterations=445\n",
      "[CV] END learning_rate=0.01, max_depth=14, num_boost_round=445, num_leaves=37, reg_alpha=0; total time=  14.7s\n",
      "[LightGBM] [Warning] num_iterations is set=445, num_boost_round=445 will be ignored. Current value: num_iterations=445\n",
      "[CV] END learning_rate=0.01, max_depth=14, num_boost_round=445, num_leaves=37, reg_alpha=0; total time=  14.7s\n",
      "[LightGBM] [Warning] num_iterations is set=445, num_boost_round=445 will be ignored. Current value: num_iterations=445\n",
      "[CV] END learning_rate=0.01, max_depth=14, num_boost_round=445, num_leaves=37, reg_alpha=0; total time=  14.7s\n",
      "[LightGBM] [Warning] num_iterations is set=995, num_boost_round=995 will be ignored. Current value: num_iterations=995\n",
      "[CV] END learning_rate=0.01, max_depth=8, num_boost_round=995, num_leaves=23, reg_alpha=0; total time=  23.6s\n",
      "[LightGBM] [Warning] num_iterations is set=995, num_boost_round=995 will be ignored. Current value: num_iterations=995\n",
      "[CV] END learning_rate=0.01, max_depth=8, num_boost_round=995, num_leaves=23, reg_alpha=0; total time=  23.9s\n",
      "[LightGBM] [Warning] num_iterations is set=995, num_boost_round=995 will be ignored. Current value: num_iterations=995\n",
      "[CV] END learning_rate=0.01, max_depth=8, num_boost_round=995, num_leaves=23, reg_alpha=0; total time=  24.8s\n",
      "[LightGBM] [Warning] num_iterations is set=641, num_boost_round=641 will be ignored. Current value: num_iterations=641\n",
      "[CV] END learning_rate=0.1, max_depth=11, num_boost_round=641, num_leaves=40, reg_alpha=0.1; total time=  13.5s\n",
      "[LightGBM] [Warning] num_iterations is set=641, num_boost_round=641 will be ignored. Current value: num_iterations=641\n",
      "[CV] END learning_rate=0.1, max_depth=11, num_boost_round=641, num_leaves=40, reg_alpha=0.1; total time=  13.6s\n",
      "[LightGBM] [Warning] num_iterations is set=641, num_boost_round=641 will be ignored. Current value: num_iterations=641\n",
      "[CV] END learning_rate=0.1, max_depth=11, num_boost_round=641, num_leaves=40, reg_alpha=0.1; total time=  13.5s\n",
      "[LightGBM] [Warning] num_iterations is set=647, num_boost_round=647 will be ignored. Current value: num_iterations=647\n",
      "[CV] END learning_rate=0.1, max_depth=6, num_boost_round=647, num_leaves=26, reg_alpha=0.5; total time=  15.1s\n",
      "[LightGBM] [Warning] num_iterations is set=647, num_boost_round=647 will be ignored. Current value: num_iterations=647\n",
      "[CV] END learning_rate=0.1, max_depth=6, num_boost_round=647, num_leaves=26, reg_alpha=0.5; total time=  13.0s\n",
      "[LightGBM] [Warning] num_iterations is set=647, num_boost_round=647 will be ignored. Current value: num_iterations=647\n",
      "[CV] END learning_rate=0.1, max_depth=6, num_boost_round=647, num_leaves=26, reg_alpha=0.5; total time=  12.6s\n",
      "[LightGBM] [Warning] num_iterations is set=471, num_boost_round=471 will be ignored. Current value: num_iterations=471\n",
      "[CV] END learning_rate=0.1, max_depth=11, num_boost_round=471, num_leaves=40, reg_alpha=0.1; total time=  10.5s\n",
      "[LightGBM] [Warning] num_iterations is set=471, num_boost_round=471 will be ignored. Current value: num_iterations=471\n",
      "[CV] END learning_rate=0.1, max_depth=11, num_boost_round=471, num_leaves=40, reg_alpha=0.1; total time=  10.6s\n",
      "[LightGBM] [Warning] num_iterations is set=471, num_boost_round=471 will be ignored. Current value: num_iterations=471\n",
      "[CV] END learning_rate=0.1, max_depth=11, num_boost_round=471, num_leaves=40, reg_alpha=0.1; total time=  10.9s\n",
      "[LightGBM] [Warning] num_iterations is set=593, num_boost_round=593 will be ignored. Current value: num_iterations=593\n",
      "[CV] END learning_rate=0.05, max_depth=15, num_boost_round=593, num_leaves=31, reg_alpha=0; total time=  12.8s\n",
      "[LightGBM] [Warning] num_iterations is set=593, num_boost_round=593 will be ignored. Current value: num_iterations=593\n",
      "[CV] END learning_rate=0.05, max_depth=15, num_boost_round=593, num_leaves=31, reg_alpha=0; total time=  13.7s\n",
      "[LightGBM] [Warning] num_iterations is set=593, num_boost_round=593 will be ignored. Current value: num_iterations=593\n",
      "[CV] END learning_rate=0.05, max_depth=15, num_boost_round=593, num_leaves=31, reg_alpha=0; total time=  13.5s\n",
      "[LightGBM] [Warning] num_iterations is set=777, num_boost_round=777 will be ignored. Current value: num_iterations=777\n",
      "[CV] END learning_rate=0.01, max_depth=10, num_boost_round=777, num_leaves=30, reg_alpha=0.1; total time=  21.2s\n",
      "[LightGBM] [Warning] num_iterations is set=777, num_boost_round=777 will be ignored. Current value: num_iterations=777\n",
      "[CV] END learning_rate=0.01, max_depth=10, num_boost_round=777, num_leaves=30, reg_alpha=0.1; total time=  22.2s\n",
      "[LightGBM] [Warning] num_iterations is set=777, num_boost_round=777 will be ignored. Current value: num_iterations=777\n",
      "[CV] END learning_rate=0.01, max_depth=10, num_boost_round=777, num_leaves=30, reg_alpha=0.1; total time=  22.5s\n",
      "[LightGBM] [Warning] num_iterations is set=111, num_boost_round=111 will be ignored. Current value: num_iterations=111\n",
      "[CV] END learning_rate=0.01, max_depth=15, num_boost_round=111, num_leaves=29, reg_alpha=0.5; total time=   3.1s\n",
      "[LightGBM] [Warning] num_iterations is set=111, num_boost_round=111 will be ignored. Current value: num_iterations=111\n",
      "[CV] END learning_rate=0.01, max_depth=15, num_boost_round=111, num_leaves=29, reg_alpha=0.5; total time=   3.3s\n",
      "[LightGBM] [Warning] num_iterations is set=111, num_boost_round=111 will be ignored. Current value: num_iterations=111\n",
      "[CV] END learning_rate=0.01, max_depth=15, num_boost_round=111, num_leaves=29, reg_alpha=0.5; total time=   3.6s\n",
      "[LightGBM] [Warning] num_iterations is set=620, num_boost_round=620 will be ignored. Current value: num_iterations=620\n",
      "[CV] END learning_rate=0.05, max_depth=5, num_boost_round=620, num_leaves=27, reg_alpha=0.5; total time=  13.2s\n",
      "[LightGBM] [Warning] num_iterations is set=620, num_boost_round=620 will be ignored. Current value: num_iterations=620\n",
      "[CV] END learning_rate=0.05, max_depth=5, num_boost_round=620, num_leaves=27, reg_alpha=0.5; total time=  14.0s\n",
      "[LightGBM] [Warning] num_iterations is set=620, num_boost_round=620 will be ignored. Current value: num_iterations=620\n",
      "[CV] END learning_rate=0.05, max_depth=5, num_boost_round=620, num_leaves=27, reg_alpha=0.5; total time=  13.8s\n",
      "[LightGBM] [Warning] num_iterations is set=721, num_boost_round=721 will be ignored. Current value: num_iterations=721\n",
      "[CV] END learning_rate=0.01, max_depth=13, num_boost_round=721, num_leaves=21, reg_alpha=0.1; total time=  17.9s\n",
      "[LightGBM] [Warning] num_iterations is set=721, num_boost_round=721 will be ignored. Current value: num_iterations=721\n",
      "[CV] END learning_rate=0.01, max_depth=13, num_boost_round=721, num_leaves=21, reg_alpha=0.1; total time=  18.1s\n",
      "[LightGBM] [Warning] num_iterations is set=721, num_boost_round=721 will be ignored. Current value: num_iterations=721\n",
      "[CV] END learning_rate=0.01, max_depth=13, num_boost_round=721, num_leaves=21, reg_alpha=0.1; total time=  18.6s\n",
      "[LightGBM] [Warning] num_iterations is set=400, num_boost_round=400 will be ignored. Current value: num_iterations=400\n",
      "[CV] END learning_rate=0.01, max_depth=10, num_boost_round=400, num_leaves=25, reg_alpha=0.1; total time=  11.0s\n",
      "[LightGBM] [Warning] num_iterations is set=400, num_boost_round=400 will be ignored. Current value: num_iterations=400\n",
      "[CV] END learning_rate=0.01, max_depth=10, num_boost_round=400, num_leaves=25, reg_alpha=0.1; total time=  11.8s\n",
      "[LightGBM] [Warning] num_iterations is set=400, num_boost_round=400 will be ignored. Current value: num_iterations=400\n",
      "[CV] END learning_rate=0.01, max_depth=10, num_boost_round=400, num_leaves=25, reg_alpha=0.1; total time=  11.4s\n",
      "[LightGBM] [Warning] num_iterations is set=142, num_boost_round=142 will be ignored. Current value: num_iterations=142\n",
      "[CV] END learning_rate=0.01, max_depth=10, num_boost_round=142, num_leaves=34, reg_alpha=0; total time=   4.2s\n",
      "[LightGBM] [Warning] num_iterations is set=142, num_boost_round=142 will be ignored. Current value: num_iterations=142\n",
      "[CV] END learning_rate=0.01, max_depth=10, num_boost_round=142, num_leaves=34, reg_alpha=0; total time=   4.4s\n",
      "[LightGBM] [Warning] num_iterations is set=142, num_boost_round=142 will be ignored. Current value: num_iterations=142\n",
      "[CV] END learning_rate=0.01, max_depth=10, num_boost_round=142, num_leaves=34, reg_alpha=0; total time=   4.6s\n",
      "[LightGBM] [Warning] num_iterations is set=129, num_boost_round=129 will be ignored. Current value: num_iterations=129\n",
      "[CV] END learning_rate=0.1, max_depth=6, num_boost_round=129, num_leaves=22, reg_alpha=0.5; total time=   3.2s\n",
      "[LightGBM] [Warning] num_iterations is set=129, num_boost_round=129 will be ignored. Current value: num_iterations=129\n",
      "[CV] END learning_rate=0.1, max_depth=6, num_boost_round=129, num_leaves=22, reg_alpha=0.5; total time=   3.4s\n",
      "[LightGBM] [Warning] num_iterations is set=129, num_boost_round=129 will be ignored. Current value: num_iterations=129\n",
      "[CV] END learning_rate=0.1, max_depth=6, num_boost_round=129, num_leaves=22, reg_alpha=0.5; total time=   3.0s\n",
      "[LightGBM] [Warning] num_iterations is set=260, num_boost_round=260 will be ignored. Current value: num_iterations=260\n",
      "[CV] END learning_rate=0.1, max_depth=11, num_boost_round=260, num_leaves=21, reg_alpha=0.5; total time=   5.1s\n",
      "[LightGBM] [Warning] num_iterations is set=260, num_boost_round=260 will be ignored. Current value: num_iterations=260\n",
      "[CV] END learning_rate=0.1, max_depth=11, num_boost_round=260, num_leaves=21, reg_alpha=0.5; total time=   5.6s\n",
      "[LightGBM] [Warning] num_iterations is set=260, num_boost_round=260 will be ignored. Current value: num_iterations=260\n",
      "[CV] END learning_rate=0.1, max_depth=11, num_boost_round=260, num_leaves=21, reg_alpha=0.5; total time=   5.4s\n",
      "[LightGBM] [Warning] num_iterations is set=712, num_boost_round=712 will be ignored. Current value: num_iterations=712\n",
      "Best RMSE: 1645.97\n",
      "Best parameters: {'learning_rate': 0.1, 'max_depth': 14, 'num_boost_round': 712, 'num_leaves': 38, 'reg_alpha': 0.1}\n",
      "Runtime: 1967.25 seconds\n"
     ]
    }
   ],
   "source": [
    "# Record the start time\n",
    "start_time = time.time()\n",
    "\n",
    "# Prepare the data\n",
    "X0 = df.drop(['price'], axis=1)\n",
    "y0 = df['price']\n",
    "\n",
    "# Convert object type features to 'category' type which is required for LightGBM\n",
    "for feature in X0.select_dtypes(include='object').columns:\n",
    "    X0[feature] = X0[feature].astype('category')\n",
    "\n",
    "# Split the data into training, validation, and test sets\n",
    "X0_train, X0_temp, y0_train, y0_temp = train_test_split(X0, y0, test_size=0.4, random_state=12345)\n",
    "X0_valid, X0_test, y0_valid, y0_test = train_test_split(X0_temp, y0_temp, test_size=0.5, random_state=12345)\n",
    "\n",
    "\n",
    "\n",
    "# Define the search space for hyperparameters\n",
    "param_dist = {\n",
    "    'num_boost_round': sp_randint(100, 1001),  # Randomly select between 100 and 1000\n",
    "    'learning_rate': [0.1, 0.05, 0.01],       # Predefined options\n",
    "    'num_leaves': sp_randint(20, 41),         # Randomly select between 20 and 40\n",
    "    'max_depth': sp_randint(5, 16),           # Randomly select between 5 and 15\n",
    "    'reg_alpha': [0, 0.1, 0.5]                # Predefined options\n",
    "}\n",
    "\n",
    "# Define the LightGBM model\n",
    "lgbm = lgb.LGBMRegressor(objective='regression', metric='rmse', boosting_type='gbdt', random_state=12345)\n",
    "\n",
    "# Perform random search\n",
    "random_search = RandomizedSearchCV(lgbm, param_distributions=param_dist, n_iter=50, cv=3, verbose=2, n_jobs=-1)\n",
    "random_search.fit(X0_train, y0_train)\n",
    "\n",
    "# Get the best model and hyperparameters\n",
    "best_lgbm = random_search.best_estimator_\n",
    "best_lgbm_params = random_search.best_params_\n",
    "\n",
    "# Evaluate the best model\n",
    "predictions_valid_lgbm = best_lgbm.predict(X0_valid)\n",
    "best_lgbm_result = np.sqrt(mse(y0_valid, predictions_valid_lgbm))\n",
    "\n",
    "# Print the best model's RMSE and hyperparameters\n",
    "print(f\"Best RMSE: {best_lgbm_result:.2f}\")\n",
    "print(f\"Best parameters: {best_lgbm_params}\")\n",
    "\n",
    "# Record the end time\n",
    "end_time = time.time()\n",
    "\n",
    "# Calculate the total runtime\n",
    "runtime = end_time - start_time\n",
    "\n",
    "# Print the runtime along with the results\n",
    "print(f\"Runtime: {runtime:.2f} seconds\")"
   ]
  },
  {
   "cell_type": "markdown",
   "metadata": {},
   "source": [
    "The best LightBGM model by random optimisation is with hyperparameters of learning rate 0.1, max_depth of 14, number of boost round of 712, number of leaves of 38 and regular alpha of 0.1, which gives the best RMSE of 1646."
   ]
  },
  {
   "cell_type": "code",
   "execution_count": 112,
   "metadata": {
    "scrolled": true
   },
   "outputs": [
    {
     "name": "stdout",
     "output_type": "stream",
     "text": [
      "\n",
      "RMSE of the lgbm model on the training set: 1453.9374426837624\n",
      "Training Dataset Runtime: 15.84 seconds\n"
     ]
    }
   ],
   "source": [
    "# Function to prepare data\n",
    "def prepare_data(df):\n",
    "    # Separate features and target\n",
    "    X0 = df.drop(['price'], axis=1)\n",
    "    y0 = df['price']\n",
    "    \n",
    "    # Convert object type features to 'category' type which is required for LightGBM\n",
    "    for feature in X0.select_dtypes(include='object').columns:\n",
    "        X0[feature] = X0[feature].astype('category')\n",
    "    \n",
    "    # Split the data into training, validation, and test sets\n",
    "    X0_train, X0_temp, y0_train, y0_temp = train_test_split(X0, y0, test_size=0.4, random_state=12345)\n",
    "    X0_valid, X0_test, y0_valid, y0_test = train_test_split(X0_temp, y0_temp, test_size=0.5, random_state=12345)\n",
    "    \n",
    "    return X0_train, y0_train, X0_valid, y0_valid, X0_test, y0_test\n",
    "\n",
    "# Function to train LightGBM model\n",
    "def train_lgbm(X0_train, y0_train, X0_valid, y0_valid):\n",
    "    params = {\n",
    "        'objective': 'regression',\n",
    "        'metric': 'rmse',\n",
    "        'boosting_type': 'gbdt',\n",
    "        'learning_rate': 0.1,\n",
    "        'max_depth': 14,\n",
    "        'num_leaves': 38,\n",
    "        'reg_alpha': 0.1,\n",
    "        'random_state': 12345,\n",
    "        'verbose': -1,\n",
    "        'force_row_wise': True\n",
    "    }\n",
    "\n",
    "    lgb_train = lgb.Dataset(X0_train, y0_train)\n",
    "    lgb_valid = lgb.Dataset(X0_valid, y0_valid, reference=lgb_train)\n",
    "    \n",
    "    # Measure the runtime for training\n",
    "    start_time = time.time()\n",
    "    \n",
    "    lgbm = lgb.train(params, lgb_train, num_boost_round=712, valid_sets=lgb_valid, early_stopping_rounds=50, verbose_eval=False)\n",
    "    \n",
    "    end_time = time.time()\n",
    "    training_runtime = end_time - start_time\n",
    "    \n",
    "    return lgbm, training_runtime\n",
    "\n",
    "# Function to calculate RMSE\n",
    "def calculate_rmse(model, X, y):\n",
    "    predictions = model.predict(X)\n",
    "    rmse = np.sqrt(mean_squared_error(y, predictions))\n",
    "    return rmse\n",
    "\n",
    "# Main code\n",
    "X0_train, y0_train, X0_valid, y0_valid, X0_test, y0_test = prepare_data(df)\n",
    "\n",
    "# Train the LightGBM model\n",
    "lgbm, training_runtime = train_lgbm(X0_train, y0_train, X0_valid, y0_valid)\n",
    "\n",
    "# Calculate RMSE for training set\n",
    "training_rmse = calculate_rmse(lgbm, X0_train, y0_train)\n",
    "\n",
    "# Print results\n",
    "print()\n",
    "print(\"RMSE of the lgbm model on the training set:\", training_rmse)\n",
    "print(f\"Training Dataset Runtime: {training_runtime:.2f} seconds\")"
   ]
  },
  {
   "cell_type": "markdown",
   "metadata": {},
   "source": [
    "##### LightGBM Bayesian Optimisation"
   ]
  },
  {
   "cell_type": "code",
   "execution_count": 106,
   "metadata": {
    "scrolled": false
   },
   "outputs": [
    {
     "name": "stdout",
     "output_type": "stream",
     "text": [
      "[LightGBM] [Warning] num_iterations is set=604, num_boost_round=604 will be ignored. Current value: num_iterations=604\n",
      "[LightGBM] [Warning] num_iterations is set=604, num_boost_round=604 will be ignored. Current value: num_iterations=604\n",
      "[LightGBM] [Warning] num_iterations is set=604, num_boost_round=604 will be ignored. Current value: num_iterations=604\n",
      "[LightGBM] [Warning] num_iterations is set=443, num_boost_round=443 will be ignored. Current value: num_iterations=443\n",
      "[LightGBM] [Warning] num_iterations is set=443, num_boost_round=443 will be ignored. Current value: num_iterations=443\n",
      "[LightGBM] [Warning] num_iterations is set=443, num_boost_round=443 will be ignored. Current value: num_iterations=443\n",
      "[LightGBM] [Warning] num_iterations is set=819, num_boost_round=819 will be ignored. Current value: num_iterations=819\n",
      "[LightGBM] [Warning] num_iterations is set=819, num_boost_round=819 will be ignored. Current value: num_iterations=819\n",
      "[LightGBM] [Warning] num_iterations is set=819, num_boost_round=819 will be ignored. Current value: num_iterations=819\n",
      "[LightGBM] [Warning] num_iterations is set=887, num_boost_round=887 will be ignored. Current value: num_iterations=887\n",
      "[LightGBM] [Warning] num_iterations is set=887, num_boost_round=887 will be ignored. Current value: num_iterations=887\n",
      "[LightGBM] [Warning] num_iterations is set=887, num_boost_round=887 will be ignored. Current value: num_iterations=887\n",
      "[LightGBM] [Warning] num_iterations is set=919, num_boost_round=919 will be ignored. Current value: num_iterations=919\n",
      "[LightGBM] [Warning] num_iterations is set=919, num_boost_round=919 will be ignored. Current value: num_iterations=919\n",
      "[LightGBM] [Warning] num_iterations is set=919, num_boost_round=919 will be ignored. Current value: num_iterations=919\n",
      "[LightGBM] [Warning] num_iterations is set=527, num_boost_round=527 will be ignored. Current value: num_iterations=527\n",
      "[LightGBM] [Warning] num_iterations is set=527, num_boost_round=527 will be ignored. Current value: num_iterations=527\n",
      "[LightGBM] [Warning] num_iterations is set=527, num_boost_round=527 will be ignored. Current value: num_iterations=527\n",
      "[LightGBM] [Warning] num_iterations is set=467, num_boost_round=467 will be ignored. Current value: num_iterations=467\n",
      "[LightGBM] [Warning] num_iterations is set=467, num_boost_round=467 will be ignored. Current value: num_iterations=467\n",
      "[LightGBM] [Warning] num_iterations is set=467, num_boost_round=467 will be ignored. Current value: num_iterations=467\n",
      "[LightGBM] [Warning] num_iterations is set=146, num_boost_round=146 will be ignored. Current value: num_iterations=146\n",
      "[LightGBM] [Warning] num_iterations is set=146, num_boost_round=146 will be ignored. Current value: num_iterations=146\n",
      "[LightGBM] [Warning] num_iterations is set=146, num_boost_round=146 will be ignored. Current value: num_iterations=146\n",
      "[LightGBM] [Warning] num_iterations is set=124, num_boost_round=124 will be ignored. Current value: num_iterations=124\n",
      "[LightGBM] [Warning] num_iterations is set=124, num_boost_round=124 will be ignored. Current value: num_iterations=124\n",
      "[LightGBM] [Warning] num_iterations is set=124, num_boost_round=124 will be ignored. Current value: num_iterations=124\n",
      "[LightGBM] [Warning] num_iterations is set=773, num_boost_round=773 will be ignored. Current value: num_iterations=773\n",
      "[LightGBM] [Warning] num_iterations is set=773, num_boost_round=773 will be ignored. Current value: num_iterations=773\n",
      "[LightGBM] [Warning] num_iterations is set=773, num_boost_round=773 will be ignored. Current value: num_iterations=773\n",
      "[LightGBM] [Warning] num_iterations is set=681, num_boost_round=681 will be ignored. Current value: num_iterations=681\n",
      "[LightGBM] [Warning] num_iterations is set=681, num_boost_round=681 will be ignored. Current value: num_iterations=681\n",
      "[LightGBM] [Warning] num_iterations is set=681, num_boost_round=681 will be ignored. Current value: num_iterations=681\n",
      "[LightGBM] [Warning] num_iterations is set=516, num_boost_round=516 will be ignored. Current value: num_iterations=516\n",
      "[LightGBM] [Warning] num_iterations is set=516, num_boost_round=516 will be ignored. Current value: num_iterations=516\n",
      "[LightGBM] [Warning] num_iterations is set=516, num_boost_round=516 will be ignored. Current value: num_iterations=516\n",
      "[LightGBM] [Warning] num_iterations is set=132, num_boost_round=132 will be ignored. Current value: num_iterations=132\n",
      "[LightGBM] [Warning] num_iterations is set=132, num_boost_round=132 will be ignored. Current value: num_iterations=132\n",
      "[LightGBM] [Warning] num_iterations is set=132, num_boost_round=132 will be ignored. Current value: num_iterations=132\n",
      "[LightGBM] [Warning] num_iterations is set=177, num_boost_round=177 will be ignored. Current value: num_iterations=177\n",
      "[LightGBM] [Warning] num_iterations is set=177, num_boost_round=177 will be ignored. Current value: num_iterations=177\n",
      "[LightGBM] [Warning] num_iterations is set=177, num_boost_round=177 will be ignored. Current value: num_iterations=177\n",
      "[LightGBM] [Warning] num_iterations is set=483, num_boost_round=483 will be ignored. Current value: num_iterations=483\n",
      "[LightGBM] [Warning] num_iterations is set=483, num_boost_round=483 will be ignored. Current value: num_iterations=483\n",
      "[LightGBM] [Warning] num_iterations is set=483, num_boost_round=483 will be ignored. Current value: num_iterations=483\n",
      "[LightGBM] [Warning] num_iterations is set=322, num_boost_round=322 will be ignored. Current value: num_iterations=322\n",
      "[LightGBM] [Warning] num_iterations is set=322, num_boost_round=322 will be ignored. Current value: num_iterations=322\n",
      "[LightGBM] [Warning] num_iterations is set=322, num_boost_round=322 will be ignored. Current value: num_iterations=322\n",
      "[LightGBM] [Warning] num_iterations is set=436, num_boost_round=436 will be ignored. Current value: num_iterations=436\n",
      "[LightGBM] [Warning] num_iterations is set=436, num_boost_round=436 will be ignored. Current value: num_iterations=436\n",
      "[LightGBM] [Warning] num_iterations is set=436, num_boost_round=436 will be ignored. Current value: num_iterations=436\n",
      "[LightGBM] [Warning] num_iterations is set=316, num_boost_round=316 will be ignored. Current value: num_iterations=316\n",
      "[LightGBM] [Warning] num_iterations is set=316, num_boost_round=316 will be ignored. Current value: num_iterations=316\n",
      "[LightGBM] [Warning] num_iterations is set=316, num_boost_round=316 will be ignored. Current value: num_iterations=316\n",
      "[LightGBM] [Warning] num_iterations is set=685, num_boost_round=685 will be ignored. Current value: num_iterations=685\n",
      "[LightGBM] [Warning] num_iterations is set=685, num_boost_round=685 will be ignored. Current value: num_iterations=685\n",
      "[LightGBM] [Warning] num_iterations is set=685, num_boost_round=685 will be ignored. Current value: num_iterations=685\n",
      "[LightGBM] [Warning] num_iterations is set=725, num_boost_round=725 will be ignored. Current value: num_iterations=725\n",
      "[LightGBM] [Warning] num_iterations is set=725, num_boost_round=725 will be ignored. Current value: num_iterations=725\n",
      "[LightGBM] [Warning] num_iterations is set=725, num_boost_round=725 will be ignored. Current value: num_iterations=725\n",
      "[LightGBM] [Warning] num_iterations is set=984, num_boost_round=984 will be ignored. Current value: num_iterations=984\n",
      "[LightGBM] [Warning] num_iterations is set=984, num_boost_round=984 will be ignored. Current value: num_iterations=984\n",
      "[LightGBM] [Warning] num_iterations is set=984, num_boost_round=984 will be ignored. Current value: num_iterations=984\n",
      "[LightGBM] [Warning] num_iterations is set=952, num_boost_round=952 will be ignored. Current value: num_iterations=952\n",
      "[LightGBM] [Warning] num_iterations is set=952, num_boost_round=952 will be ignored. Current value: num_iterations=952\n",
      "[LightGBM] [Warning] num_iterations is set=952, num_boost_round=952 will be ignored. Current value: num_iterations=952\n",
      "[LightGBM] [Warning] num_iterations is set=856, num_boost_round=856 will be ignored. Current value: num_iterations=856\n",
      "[LightGBM] [Warning] num_iterations is set=856, num_boost_round=856 will be ignored. Current value: num_iterations=856\n",
      "[LightGBM] [Warning] num_iterations is set=856, num_boost_round=856 will be ignored. Current value: num_iterations=856\n",
      "[LightGBM] [Warning] num_iterations is set=828, num_boost_round=828 will be ignored. Current value: num_iterations=828\n",
      "[LightGBM] [Warning] num_iterations is set=828, num_boost_round=828 will be ignored. Current value: num_iterations=828\n",
      "[LightGBM] [Warning] num_iterations is set=828, num_boost_round=828 will be ignored. Current value: num_iterations=828\n",
      "[LightGBM] [Warning] num_iterations is set=938, num_boost_round=938 will be ignored. Current value: num_iterations=938\n",
      "[LightGBM] [Warning] num_iterations is set=938, num_boost_round=938 will be ignored. Current value: num_iterations=938\n",
      "[LightGBM] [Warning] num_iterations is set=938, num_boost_round=938 will be ignored. Current value: num_iterations=938\n",
      "[LightGBM] [Warning] num_iterations is set=608, num_boost_round=608 will be ignored. Current value: num_iterations=608\n",
      "[LightGBM] [Warning] num_iterations is set=608, num_boost_round=608 will be ignored. Current value: num_iterations=608\n",
      "[LightGBM] [Warning] num_iterations is set=608, num_boost_round=608 will be ignored. Current value: num_iterations=608\n",
      "[LightGBM] [Warning] num_iterations is set=789, num_boost_round=789 will be ignored. Current value: num_iterations=789\n",
      "[LightGBM] [Warning] num_iterations is set=789, num_boost_round=789 will be ignored. Current value: num_iterations=789\n",
      "[LightGBM] [Warning] num_iterations is set=789, num_boost_round=789 will be ignored. Current value: num_iterations=789\n",
      "[LightGBM] [Warning] num_iterations is set=793, num_boost_round=793 will be ignored. Current value: num_iterations=793\n",
      "[LightGBM] [Warning] num_iterations is set=793, num_boost_round=793 will be ignored. Current value: num_iterations=793\n",
      "[LightGBM] [Warning] num_iterations is set=793, num_boost_round=793 will be ignored. Current value: num_iterations=793\n",
      "[LightGBM] [Warning] num_iterations is set=607, num_boost_round=607 will be ignored. Current value: num_iterations=607\n",
      "[LightGBM] [Warning] num_iterations is set=607, num_boost_round=607 will be ignored. Current value: num_iterations=607\n",
      "[LightGBM] [Warning] num_iterations is set=607, num_boost_round=607 will be ignored. Current value: num_iterations=607\n",
      "[LightGBM] [Warning] num_iterations is set=653, num_boost_round=653 will be ignored. Current value: num_iterations=653\n",
      "[LightGBM] [Warning] num_iterations is set=653, num_boost_round=653 will be ignored. Current value: num_iterations=653\n",
      "[LightGBM] [Warning] num_iterations is set=653, num_boost_round=653 will be ignored. Current value: num_iterations=653\n",
      "[LightGBM] [Warning] num_iterations is set=609, num_boost_round=609 will be ignored. Current value: num_iterations=609\n",
      "[LightGBM] [Warning] num_iterations is set=609, num_boost_round=609 will be ignored. Current value: num_iterations=609\n",
      "[LightGBM] [Warning] num_iterations is set=609, num_boost_round=609 will be ignored. Current value: num_iterations=609\n",
      "[LightGBM] [Warning] num_iterations is set=565, num_boost_round=565 will be ignored. Current value: num_iterations=565\n",
      "[LightGBM] [Warning] num_iterations is set=565, num_boost_round=565 will be ignored. Current value: num_iterations=565\n",
      "[LightGBM] [Warning] num_iterations is set=565, num_boost_round=565 will be ignored. Current value: num_iterations=565\n",
      "[LightGBM] [Warning] num_iterations is set=371, num_boost_round=371 will be ignored. Current value: num_iterations=371\n",
      "[LightGBM] [Warning] num_iterations is set=371, num_boost_round=371 will be ignored. Current value: num_iterations=371\n",
      "[LightGBM] [Warning] num_iterations is set=371, num_boost_round=371 will be ignored. Current value: num_iterations=371\n",
      "[LightGBM] [Warning] num_iterations is set=569, num_boost_round=569 will be ignored. Current value: num_iterations=569\n",
      "[LightGBM] [Warning] num_iterations is set=569, num_boost_round=569 will be ignored. Current value: num_iterations=569\n",
      "[LightGBM] [Warning] num_iterations is set=569, num_boost_round=569 will be ignored. Current value: num_iterations=569\n",
      "[LightGBM] [Warning] num_iterations is set=233, num_boost_round=233 will be ignored. Current value: num_iterations=233\n",
      "[LightGBM] [Warning] num_iterations is set=233, num_boost_round=233 will be ignored. Current value: num_iterations=233\n",
      "[LightGBM] [Warning] num_iterations is set=233, num_boost_round=233 will be ignored. Current value: num_iterations=233\n",
      "[LightGBM] [Warning] num_iterations is set=415, num_boost_round=415 will be ignored. Current value: num_iterations=415\n",
      "[LightGBM] [Warning] num_iterations is set=415, num_boost_round=415 will be ignored. Current value: num_iterations=415\n",
      "[LightGBM] [Warning] num_iterations is set=415, num_boost_round=415 will be ignored. Current value: num_iterations=415\n",
      "[LightGBM] [Warning] num_iterations is set=555, num_boost_round=555 will be ignored. Current value: num_iterations=555\n",
      "[LightGBM] [Warning] num_iterations is set=555, num_boost_round=555 will be ignored. Current value: num_iterations=555\n",
      "[LightGBM] [Warning] num_iterations is set=555, num_boost_round=555 will be ignored. Current value: num_iterations=555\n",
      "[LightGBM] [Warning] num_iterations is set=281, num_boost_round=281 will be ignored. Current value: num_iterations=281\n",
      "[LightGBM] [Warning] num_iterations is set=281, num_boost_round=281 will be ignored. Current value: num_iterations=281\n",
      "[LightGBM] [Warning] num_iterations is set=281, num_boost_round=281 will be ignored. Current value: num_iterations=281\n",
      "[LightGBM] [Warning] num_iterations is set=380, num_boost_round=380 will be ignored. Current value: num_iterations=380\n",
      "[LightGBM] [Warning] num_iterations is set=380, num_boost_round=380 will be ignored. Current value: num_iterations=380\n",
      "[LightGBM] [Warning] num_iterations is set=380, num_boost_round=380 will be ignored. Current value: num_iterations=380\n",
      "[LightGBM] [Warning] num_iterations is set=644, num_boost_round=644 will be ignored. Current value: num_iterations=644\n",
      "[LightGBM] [Warning] num_iterations is set=644, num_boost_round=644 will be ignored. Current value: num_iterations=644\n",
      "[LightGBM] [Warning] num_iterations is set=644, num_boost_round=644 will be ignored. Current value: num_iterations=644\n",
      "[LightGBM] [Warning] num_iterations is set=736, num_boost_round=736 will be ignored. Current value: num_iterations=736\n",
      "[LightGBM] [Warning] num_iterations is set=736, num_boost_round=736 will be ignored. Current value: num_iterations=736\n",
      "[LightGBM] [Warning] num_iterations is set=736, num_boost_round=736 will be ignored. Current value: num_iterations=736\n",
      "[LightGBM] [Warning] num_iterations is set=504, num_boost_round=504 will be ignored. Current value: num_iterations=504\n",
      "[LightGBM] [Warning] num_iterations is set=504, num_boost_round=504 will be ignored. Current value: num_iterations=504\n",
      "[LightGBM] [Warning] num_iterations is set=504, num_boost_round=504 will be ignored. Current value: num_iterations=504\n",
      "[LightGBM] [Warning] num_iterations is set=559, num_boost_round=559 will be ignored. Current value: num_iterations=559\n",
      "[LightGBM] [Warning] num_iterations is set=559, num_boost_round=559 will be ignored. Current value: num_iterations=559\n",
      "[LightGBM] [Warning] num_iterations is set=559, num_boost_round=559 will be ignored. Current value: num_iterations=559\n",
      "[LightGBM] [Warning] num_iterations is set=467, num_boost_round=467 will be ignored. Current value: num_iterations=467\n",
      "[LightGBM] [Warning] num_iterations is set=467, num_boost_round=467 will be ignored. Current value: num_iterations=467\n",
      "[LightGBM] [Warning] num_iterations is set=467, num_boost_round=467 will be ignored. Current value: num_iterations=467\n",
      "[LightGBM] [Warning] num_iterations is set=742, num_boost_round=742 will be ignored. Current value: num_iterations=742\n",
      "[LightGBM] [Warning] num_iterations is set=742, num_boost_round=742 will be ignored. Current value: num_iterations=742\n",
      "[LightGBM] [Warning] num_iterations is set=742, num_boost_round=742 will be ignored. Current value: num_iterations=742\n",
      "[LightGBM] [Warning] num_iterations is set=869, num_boost_round=869 will be ignored. Current value: num_iterations=869\n",
      "[LightGBM] [Warning] num_iterations is set=869, num_boost_round=869 will be ignored. Current value: num_iterations=869\n",
      "[LightGBM] [Warning] num_iterations is set=869, num_boost_round=869 will be ignored. Current value: num_iterations=869\n",
      "[LightGBM] [Warning] num_iterations is set=675, num_boost_round=675 will be ignored. Current value: num_iterations=675\n",
      "[LightGBM] [Warning] num_iterations is set=675, num_boost_round=675 will be ignored. Current value: num_iterations=675\n",
      "[LightGBM] [Warning] num_iterations is set=675, num_boost_round=675 will be ignored. Current value: num_iterations=675\n",
      "[LightGBM] [Warning] num_iterations is set=405, num_boost_round=405 will be ignored. Current value: num_iterations=405\n",
      "[LightGBM] [Warning] num_iterations is set=405, num_boost_round=405 will be ignored. Current value: num_iterations=405\n",
      "[LightGBM] [Warning] num_iterations is set=405, num_boost_round=405 will be ignored. Current value: num_iterations=405\n",
      "[LightGBM] [Warning] num_iterations is set=228, num_boost_round=228 will be ignored. Current value: num_iterations=228\n",
      "[LightGBM] [Warning] num_iterations is set=228, num_boost_round=228 will be ignored. Current value: num_iterations=228\n",
      "[LightGBM] [Warning] num_iterations is set=228, num_boost_round=228 will be ignored. Current value: num_iterations=228\n",
      "[LightGBM] [Warning] num_iterations is set=587, num_boost_round=587 will be ignored. Current value: num_iterations=587\n",
      "[LightGBM] [Warning] num_iterations is set=587, num_boost_round=587 will be ignored. Current value: num_iterations=587\n",
      "[LightGBM] [Warning] num_iterations is set=587, num_boost_round=587 will be ignored. Current value: num_iterations=587\n",
      "100%|██████████| 50/50 [26:35<00:00, 31.91s/trial, best loss: 1666.235528742339]\n",
      "[LightGBM] [Warning] Auto-choosing row-wise multi-threading, the overhead of testing was 0.011741 seconds.\n",
      "You can set `force_row_wise=true` to remove the overhead.\n",
      "And if memory is not enough, you can set `force_col_wise=true`.\n",
      "[LightGBM] [Info] Total Bins 595\n",
      "[LightGBM] [Info] Number of data points in the train set: 179809, number of used features: 9\n",
      "[LightGBM] [Info] Start training from score 4760.764450\n",
      "Best RMSE: 1647.49\n",
      "Best parameters: {'num_boost_round': 565, 'learning_rate': 0.11533111609669172, 'num_leaves': 38, 'max_depth': 14, 'reg_alpha': 0.49663844010110064}\n",
      "Runtime: 1967.25 seconds\n"
     ]
    }
   ],
   "source": [
    "# Prepare the data\n",
    "X0 = df.drop(['price'], axis=1)\n",
    "y0 = df['price']\n",
    "\n",
    "# Convert object type features to 'category' type which is required for LightGBM\n",
    "for feature in X0.select_dtypes(include='object').columns:\n",
    "    X0[feature] = X0[feature].astype('category')\n",
    "\n",
    "# Split the data into training, validation, and test sets\n",
    "X0_train, X0_temp, y0_train, y0_temp = train_test_split(X0, y0, test_size=0.4, random_state=12345)\n",
    "X0_valid, X0_test, y0_valid, y0_test = train_test_split(X0_temp, y0_temp, test_size=0.5, random_state=12345)\n",
    "\n",
    "# Define the LightGBM datasets\n",
    "lgb_train = lgb.Dataset(X0_train, y0_train)\n",
    "lgb_valid = lgb.Dataset(X0_valid, y0_valid, reference=lgb_train)\n",
    "\n",
    "# Define the objective function for optimization (in this case, cross-validated RMSE)\n",
    "def objective(params):\n",
    "    lgbm = lgb.LGBMRegressor(\n",
    "        objective='regression',\n",
    "        metric='rmse',\n",
    "        boosting_type='gbdt',\n",
    "        num_boost_round=int(params['num_boost_round']),\n",
    "        learning_rate=params['learning_rate'],\n",
    "        num_leaves=int(params['num_leaves']),\n",
    "        max_depth=int(params['max_depth']),\n",
    "        reg_alpha=params['reg_alpha'],\n",
    "        random_state=12345,\n",
    "        verbose=-1,\n",
    "        force_row_wise=True\n",
    "    )\n",
    "\n",
    "    cv_score = -cross_val_score(lgbm, X0_train, y0_train, cv=3, scoring='neg_root_mean_squared_error').mean()\n",
    "    return cv_score\n",
    "\n",
    "# Define the search space for hyperparameters\n",
    "space = {\n",
    "    'num_boost_round': hp.quniform('num_boost_round', 100, 1000, 1),\n",
    "    'learning_rate': hp.loguniform('learning_rate', -3, 0),\n",
    "    'num_leaves': hp.quniform('num_leaves', 20, 40, 1),\n",
    "    'max_depth': hp.quniform('max_depth', 5, 15, 1),\n",
    "    'reg_alpha': hp.uniform('reg_alpha', 0, 0.5)\n",
    "}\n",
    "\n",
    "# Record the start time\n",
    "start_time = time.time()\n",
    "\n",
    "# Perform Bayesian optimization\n",
    "best = fmin(fn=objective, space=space, algo=tpe.suggest, max_evals=50, verbose=2)\n",
    "\n",
    "# Record the end time\n",
    "end_time = time.time()\n",
    "\n",
    "\n",
    "# Get the best hyperparameters\n",
    "best_lgbm_params = {\n",
    "    'num_boost_round': int(best['num_boost_round']),\n",
    "    'learning_rate': best['learning_rate'],\n",
    "    'num_leaves': int(best['num_leaves']),\n",
    "    'max_depth': int(best['max_depth']),\n",
    "    'reg_alpha': best['reg_alpha']\n",
    "}\n",
    "\n",
    "# Train the final model with the best hyperparameters\n",
    "best_lgbm = lgb.train(best_lgbm_params, lgb_train)\n",
    "\n",
    "# Evaluate the best model\n",
    "predictions_valid_lgbm = best_lgbm.predict(X0_valid, num_iteration=best_lgbm.best_iteration)\n",
    "best_lgbm_result = np.sqrt(mse(y0_valid, predictions_valid_lgbm))\n",
    "\n",
    "# Print the best model's RMSE, hyperparameters, and runtime\n",
    "print(f\"Best RMSE: {best_lgbm_result:.2f}\")\n",
    "print(f\"Best parameters: {best_lgbm_params}\")\n",
    "print(f\"Runtime: {runtime:.2f} seconds\")"
   ]
  },
  {
   "cell_type": "markdown",
   "metadata": {},
   "source": [
    "The best LightBGM model by Bayesian optimisation is with hyperparameters of number of boost round of 565, learning rate 0.115, max_depth of 14, number of leaves of 38 and regular alpha of 0.50, which gives the best RMSE of 1647, which is more or less the same as the The best LightBGM model by random optimisation."
   ]
  },
  {
   "cell_type": "code",
   "execution_count": 113,
   "metadata": {},
   "outputs": [
    {
     "name": "stdout",
     "output_type": "stream",
     "text": [
      "\n",
      "RMSE of the lgbm model on the training set: 1468.4519552089475\n",
      "Training Dataset Runtime: 31.64 seconds\n"
     ]
    }
   ],
   "source": [
    "# Function to prepare data\n",
    "def prepare_data(df):\n",
    "    # Separate features and target\n",
    "    X0 = df.drop(['price'], axis=1)\n",
    "    y0 = df['price']\n",
    "    \n",
    "    # Convert object type features to 'category' type which is required for LightGBM\n",
    "    for feature in X0.select_dtypes(include='object').columns:\n",
    "        X0[feature] = X0[feature].astype('category')\n",
    "    \n",
    "    # Split the data into training, validation, and test sets\n",
    "    X0_train, X0_temp, y0_train, y0_temp = train_test_split(X0, y0, test_size=0.4, random_state=12345)\n",
    "    X0_valid, X0_test, y0_valid, y0_test = train_test_split(X0_temp, y0_temp, test_size=0.5, random_state=12345)\n",
    "    \n",
    "    return X0_train, y0_train, X0_valid, y0_valid, X0_test, y0_test\n",
    "\n",
    "# Function to train LightGBM model\n",
    "def train_lgbm(X0_train, y0_train, X0_valid, y0_valid):\n",
    "    params = {\n",
    "        'objective': 'regression',\n",
    "        'metric': 'rmse',\n",
    "        'boosting_type': 'gbdt',\n",
    "        'learning_rate': 0.115,\n",
    "        'max_depth': 14,\n",
    "        'num_leaves': 38,\n",
    "        'reg_alpha': 0.5,\n",
    "        'random_state': 12345,\n",
    "        'verbose': -1,\n",
    "        'force_row_wise': True\n",
    "    }\n",
    "\n",
    "    lgb_train = lgb.Dataset(X0_train, y0_train)\n",
    "    lgb_valid = lgb.Dataset(X0_valid, y0_valid, reference=lgb_train)\n",
    "    \n",
    "    # Measure the runtime for training\n",
    "    start_time = time.time()\n",
    "    \n",
    "    lgbm = lgb.train(params, lgb_train, num_boost_round=565, valid_sets=lgb_valid, early_stopping_rounds=50, verbose_eval=False)\n",
    "    \n",
    "    end_time = time.time()\n",
    "    training_runtime = end_time - start_time\n",
    "    \n",
    "    return lgbm, training_runtime\n",
    "\n",
    "# Function to calculate RMSE\n",
    "def calculate_rmse(model, X, y):\n",
    "    predictions = model.predict(X)\n",
    "    rmse = np.sqrt(mean_squared_error(y, predictions))\n",
    "    return rmse\n",
    "\n",
    "# Main code\n",
    "X0_train, y0_train, X0_valid, y0_valid, X0_test, y0_test = prepare_data(df)\n",
    "\n",
    "# Train the LightGBM model\n",
    "lgbm, training_runtime = train_lgbm(X0_train, y0_train, X0_valid, y0_valid)\n",
    "\n",
    "# Calculate RMSE for training set\n",
    "training_rmse = calculate_rmse(lgbm, X0_train, y0_train)\n",
    "\n",
    "# Print results\n",
    "print()\n",
    "print(\"RMSE of the lgbm model on the training set:\", training_rmse)\n",
    "print(f\"Training Dataset Runtime: {training_runtime:.2f} seconds\")"
   ]
  },
  {
   "cell_type": "markdown",
   "metadata": {},
   "source": [
    "The RMSE by LightGBM random search optimisation is slightly lower than the Bayesian optimisation model, and the run time is 2x faster than the Bayesian optimisation model too."
   ]
  },
  {
   "cell_type": "markdown",
   "metadata": {},
   "source": [
    "#### CatBoost  "
   ]
  },
  {
   "cell_type": "code",
   "execution_count": 108,
   "metadata": {
    "scrolled": false
   },
   "outputs": [
    {
     "name": "stdout",
     "output_type": "stream",
     "text": [
      "0:\tlearn: 4448.4954921\ttest: 4465.1272730\tbest: 4465.1272730 (0)\ttotal: 319ms\tremaining: 7m 58s\n",
      "100:\tlearn: 1950.2067757\ttest: 1953.2495303\tbest: 1953.2495303 (100)\ttotal: 27.6s\tremaining: 6m 22s\n",
      "200:\tlearn: 1858.4641226\ttest: 1868.2403333\tbest: 1868.2403333 (200)\ttotal: 53.4s\tremaining: 5m 45s\n",
      "300:\tlearn: 1809.9464300\ttest: 1825.5789976\tbest: 1825.5789976 (300)\ttotal: 1m 21s\tremaining: 5m 25s\n",
      "400:\tlearn: 1778.9379201\ttest: 1800.5682517\tbest: 1800.5682517 (400)\ttotal: 1m 48s\tremaining: 4m 57s\n",
      "500:\tlearn: 1758.2451523\ttest: 1785.4277571\tbest: 1785.4277571 (500)\ttotal: 2m 14s\tremaining: 4m 28s\n",
      "600:\tlearn: 1741.4792098\ttest: 1773.8056083\tbest: 1773.8056083 (600)\ttotal: 2m 40s\tremaining: 4m\n",
      "700:\tlearn: 1728.8536691\ttest: 1765.4159891\tbest: 1765.4159891 (700)\ttotal: 3m 7s\tremaining: 3m 33s\n",
      "800:\tlearn: 1718.4088169\ttest: 1758.7186593\tbest: 1758.7186593 (800)\ttotal: 3m 33s\tremaining: 3m 6s\n",
      "900:\tlearn: 1708.5014698\ttest: 1752.3923140\tbest: 1752.3923140 (900)\ttotal: 4m\tremaining: 2m 39s\n",
      "1000:\tlearn: 1698.6647503\ttest: 1746.0915753\tbest: 1746.0915753 (1000)\ttotal: 4m 25s\tremaining: 2m 12s\n",
      "1100:\tlearn: 1689.7131231\ttest: 1740.7118352\tbest: 1740.7118352 (1100)\ttotal: 4m 51s\tremaining: 1m 45s\n",
      "1200:\tlearn: 1682.7046576\ttest: 1737.0399093\tbest: 1737.0299761 (1199)\ttotal: 5m 17s\tremaining: 1m 19s\n",
      "1300:\tlearn: 1676.7561001\ttest: 1733.9465867\tbest: 1733.9465867 (1300)\ttotal: 5m 43s\tremaining: 52.6s\n",
      "1400:\tlearn: 1670.0465432\ttest: 1730.6305405\tbest: 1730.6305405 (1400)\ttotal: 6m 8s\tremaining: 26.1s\n",
      "1499:\tlearn: 1663.7585597\ttest: 1727.2598307\tbest: 1727.2582721 (1498)\ttotal: 6m 34s\tremaining: 0us\n",
      "\n",
      "bestTest = 1727.258272\n",
      "bestIteration = 1498\n",
      "\n",
      "Shrink model to first 1499 iterations.\n",
      "\n",
      "Catboost model on the validation set: \n",
      "Total run time: 396.7799472808838 seconds\n"
     ]
    }
   ],
   "source": [
    "# Record start time\n",
    "start_time = time.time()\n",
    "\n",
    "# Prepare the data\n",
    "X1 = df.drop(['price'], axis=1)\n",
    "y1 = df['price']\n",
    "\n",
    "\n",
    "# Split the data into training, validation, and test sets\n",
    "X1_train, X1_temp, y1_train, y1_temp = train_test_split(X1, y1, test_size=0.4, random_state=12345)\n",
    "X1_valid, X1_test, y1_valid, y1_test = train_test_split(X1_temp, y1_temp, test_size=0.5, random_state=12345)\n",
    "\n",
    "cat_features = [\n",
    "    'vehicletype',\n",
    "    'gearbox',\n",
    "    'model',\n",
    "    'fueltype', \n",
    "    'brand', \n",
    "    'notrepaired'\n",
    "]\n",
    "\n",
    "best_params = {\n",
    "    'iterations': 1500,\n",
    "    'depth': 6,\n",
    "    'learning_rate': 0.05,\n",
    "    'l2_leaf_reg': 3\n",
    "}\n",
    "\n",
    "# Initialize CatBoostRegressor with the best hyperparameters\n",
    "catb = CatBoostRegressor(\n",
    "    task_type='CPU',\n",
    "    loss_function='RMSE',\n",
    "    eval_metric='RMSE',\n",
    "    random_seed=12345,\n",
    "    **best_params\n",
    ")\n",
    "\n",
    "\n",
    "catb.fit(X1_train, y1_train, eval_set=(X1_valid, y1_valid), cat_features=cat_features, verbose=100, use_best_model=True)\n",
    "\n",
    "# Record end time\n",
    "end_time = time.time()\n",
    "\n",
    "# Calculate and print run time\n",
    "run_time = end_time - start_time\n",
    "\n",
    "\n",
    "# Make predictions on the test set\n",
    "predictions_valid_catb = catb.predict(X1_valid)\n",
    "\n",
    "result = mse(y1_valid, predictions_valid_catb) ** 0.5 # calculate RMSE on validation set\n",
    "print()\n",
    "print(\"Catboost model on the validation set: \")\n",
    "catb.best_score_\n",
    "\n",
    "# Print run time\n",
    "print(f\"Total run time: {run_time} seconds\")"
   ]
  },
  {
   "cell_type": "markdown",
   "metadata": {},
   "source": [
    "The CatBoost model with hyperparameters of iteration number of 1500, depth of 6,  learning rate 0.05, l2_leaf_reg of 3, which has the RMSE of 1727, which is higher than the LightBGM model by random optimisation. But the run time by CatBoost is much more slower than LightBGM model by random optimisation."
   ]
  },
  {
   "cell_type": "markdown",
   "metadata": {},
   "source": [
    "#### XGBoost "
   ]
  },
  {
   "cell_type": "code",
   "execution_count": 109,
   "metadata": {},
   "outputs": [
    {
     "name": "stdout",
     "output_type": "stream",
     "text": [
      "\n",
      "RMSE of the xgbm model on the validation set: 1748.4335355658534\n",
      "Runtime: 326.71719121932983 seconds\n"
     ]
    }
   ],
   "source": [
    "# Measure the runtime\n",
    "start_time = time.time()\n",
    "\n",
    "# Prepare the data\n",
    "X2 = df_ohe.drop(['price'], axis=1)\n",
    "y2 = df_ohe['price']\n",
    "\n",
    "# Split the data into training, validation, and test sets\n",
    "X2_train, X2_temp, y2_train, y2_temp = train_test_split(X2, y2, test_size=0.4, random_state=12345)\n",
    "X2_valid, X2_test, y2_valid, y2_test = train_test_split(X2_temp, y2_temp, test_size=0.5, random_state=12345)\n",
    "\n",
    "# Create an XGBRegressor\n",
    "xgbr = xgb.XGBRegressor(random_state=12345, eval_metric='rmse')\n",
    "\n",
    "xgbr.fit(X2_train, y2_train)\n",
    "\n",
    "# Make predictions on the test set\n",
    "predictions_xgbr = xgbr.predict(X2_valid)\n",
    "end_time = time.time()\n",
    "runtime = end_time - start_time\n",
    "\n",
    "result = np.sqrt(mean_squared_error(y2_valid, predictions_xgbr))  # calculate RMSE on validation set\n",
    "print()\n",
    "print(\"RMSE of the xgbm model on the validation set:\", result)\n",
    "print(f\"Runtime: {runtime} seconds\")"
   ]
  },
  {
   "cell_type": "markdown",
   "metadata": {},
   "source": [
    "The XGBoost model has the RMSE of 1748, which is higher than the LightBGM model by random optimisation. But the run time by XGBoost is much more slower than LightBGM model by random optimisation."
   ]
  },
  {
   "cell_type": "markdown",
   "metadata": {},
   "source": [
    "### Section Conclusion"
   ]
  },
  {
   "cell_type": "markdown",
   "metadata": {},
   "source": [
    "1. The best Random Forest regression with N Estimators: 50, Max Depth: 15 has RMSE of 1780 and run time of 131.11 seconds.\n",
    "2. Decision Tree regression model with max_depth = 16 has RMSE of 1936 and run time of 4.36 seconds.\n",
    "3. Linear regression model has RMSE of 2759 and run time of 13.29 seconds. This is our sanity check model too.\n",
    "4. Random Forest regression model has the least RMSE, followed by Decision Tree regression & Linear Regression models.\n",
    "5. The run time for Decision Tree regression model is the fastest, followed by linear regression and random forest regression model.\n",
    "6. The Stochastic Gradient Descent Linear Regression model has the best RMSE of 2828 and run time of 37.30 seconds on training dataset when the regularisation factor is 0. When the regularisation factor increased, the RMSE increased, which is not our desirable outcome.\n",
    "7. The LightGBM model with random search has the lowest RMSE score of 1640 & run time of 19 seconds, while the XGBoost model has the highest RMSE score of 1748 with run time of 325.77 seconds. CatBoost model has RMSE score of 1727 & run time of 397.68 seconds. These scores can be further lowered by tuning hyperparameters. The CatBoost model took the longest time training, while the LightGBM model took the shortest amount of run time.\n",
    "8. Generally, all 3 boosting models performed better than our sanity check model, linear regression."
   ]
  },
  {
   "cell_type": "markdown",
   "metadata": {},
   "source": [
    "### Model Selection"
   ]
  },
  {
   "cell_type": "markdown",
   "metadata": {},
   "source": [
    "Overall, LightGBM model provided us the least RMSE among all models and its run time is also still considerable although linear regression and decision tree models have shorter run time than LightGBM model. Thus we will use LightGBM model on our test dataset.\n",
    "\n",
    "The second model will be CatBoost, followed by XGBoost then Random Forest, Decision Tree, Linear Regression then only SGD Linear Regression Model."
   ]
  },
  {
   "cell_type": "markdown",
   "metadata": {},
   "source": [
    "## Model Analysis on Test Dataset Using LightGBM by Random Optimisation"
   ]
  },
  {
   "cell_type": "code",
   "execution_count": 114,
   "metadata": {},
   "outputs": [
    {
     "name": "stdout",
     "output_type": "stream",
     "text": [
      "\n",
      "RMSE of the lgbm model on the testing set: 1628.1015786656233\n",
      "Testing Dataset Runtime: 5.02 seconds\n"
     ]
    }
   ],
   "source": [
    "# Function to prepare data\n",
    "def prepare_data(df):\n",
    "    # Separate features and target\n",
    "    X0 = df.drop(['price'], axis=1)\n",
    "    y0 = df['price']\n",
    "    \n",
    "    # Convert object type features to 'category' type which is required for LightGBM\n",
    "    for feature in X0.select_dtypes(include='object').columns:\n",
    "        X0[feature] = X0[feature].astype('category')\n",
    "    \n",
    "    # Split the data into training, validation, and test sets\n",
    "    X0_train, X0_temp, y0_train, y0_temp = train_test_split(X0, y0, test_size=0.4, random_state=12345)\n",
    "    X0_valid, X0_test, y0_valid, y0_test = train_test_split(X0_temp, y0_temp, test_size=0.5, random_state=12345)\n",
    "    \n",
    "    return X0_train, y0_train, X0_valid, y0_valid, X0_test, y0_test\n",
    "\n",
    "# Function to train LightGBM model\n",
    "def train_lgbm(X0_train, y0_train, X0_valid, y0_valid):\n",
    "    params = {\n",
    "        'objective': 'regression',\n",
    "        'metric': 'rmse',\n",
    "        'boosting_type': 'gbdt',\n",
    "        'learning_rate': 0.1,\n",
    "        'max_depth': 14,\n",
    "        'num_leaves': 38,\n",
    "        'reg_alpha': 0.1,\n",
    "        'random_state': 12345,\n",
    "        'verbose': -1,\n",
    "        'force_row_wise': True\n",
    "    }\n",
    "\n",
    "    lgb_train = lgb.Dataset(X0_train, y0_train)\n",
    "    lgb_valid = lgb.Dataset(X0_valid, y0_valid, reference=lgb_train)\n",
    "    \n",
    "    # Measure the runtime for training\n",
    "    start_time = time.time()\n",
    "    \n",
    "    lgbm = lgb.train(params, lgb_train, num_boost_round=712, valid_sets=lgb_valid, early_stopping_rounds=50, verbose_eval=False)\n",
    "    \n",
    "    end_time = time.time()\n",
    "    training_runtime = end_time - start_time\n",
    "    \n",
    "    return lgbm, training_runtime\n",
    "\n",
    "# Function to calculate RMSE\n",
    "def calculate_rmse(model, X, y):\n",
    "    predictions = model.predict(X)\n",
    "    rmse = np.sqrt(mean_squared_error(y, predictions))\n",
    "    return rmse\n",
    "\n",
    "# Main code\n",
    "X0_train, y0_train, X0_valid, y0_valid, X0_test, y0_test = prepare_data(df)\n",
    "\n",
    "# Train the LightGBM model\n",
    "lgbm, training_runtime = train_lgbm(X0_train, y0_train, X0_valid, y0_valid)\n",
    "\n",
    "# Calculate RMSE for testing set\n",
    "testing_rmse, testing_runtime = test_lgbm(lgbm, X0_test, y0_test)\n",
    "\n",
    "# Print results\n",
    "print()\n",
    "print(\"RMSE of the lgbm model on the testing set:\", testing_rmse)\n",
    "print(f\"Testing Dataset Runtime: {testing_runtime:.2f} seconds\")"
   ]
  },
  {
   "cell_type": "markdown",
   "metadata": {},
   "source": [
    "The final model, LightGBM with random search optimised hyperparameters, has an RMSE score of 1628.10 with the test dataset and the run time of 5.02 seconds."
   ]
  },
  {
   "cell_type": "markdown",
   "metadata": {},
   "source": [
    "## Cross Validation"
   ]
  },
  {
   "cell_type": "code",
   "execution_count": 111,
   "metadata": {},
   "outputs": [
    {
     "name": "stdout",
     "output_type": "stream",
     "text": [
      "Average RMSE: 1995.40\n"
     ]
    }
   ],
   "source": [
    "# We will use data (X, y)\n",
    "\n",
    "# Define the number of folds\n",
    "num_folds = 5\n",
    "\n",
    "# Initialize the KFold object\n",
    "kf = KFold(n_splits=num_folds, shuffle=True, random_state=12345)\n",
    "\n",
    "# Initialize an empty list to store the RMSE scores for each fold\n",
    "rmse_scores = []\n",
    "\n",
    "# Iterate through the folds\n",
    "for train_index, test_index in kf.split(X):\n",
    "    X_train, X_test = X.iloc[train_index], X.iloc[test_index]\n",
    "    y_train, y_test = y.iloc[train_index], y.iloc[test_index]\n",
    "    \n",
    "    # Initialize the gradient boosting regressor (you can set your specific hyperparameters)\n",
    "    gb_model = GradientBoostingRegressor(n_estimators=100, learning_rate=0.1, max_depth=3, random_state=12345)\n",
    "    \n",
    "    # Train the model\n",
    "    gb_model.fit(X_train, y_train)\n",
    "    \n",
    "    # Make predictions\n",
    "    y_pred = gb_model.predict(X_test)\n",
    "    \n",
    "    # Calculate RMSE for this fold\n",
    "    rmse = np.sqrt(mean_squared_error(y_test, y_pred))\n",
    "    \n",
    "    # Append the RMSE score to the list\n",
    "    rmse_scores.append(rmse)\n",
    "\n",
    "# Calculate and print the average RMSE across all folds\n",
    "average_rmse = np.mean(rmse_scores)\n",
    "print(f\"Average RMSE: {average_rmse:.2f}\")"
   ]
  },
  {
   "cell_type": "markdown",
   "metadata": {},
   "source": [
    "The average RMSE of testing dataset for cross validation model is 1995.40.\n",
    "Our best model, LightGBM has lower RMSE of 1623 for testing dataset than the cross validation model."
   ]
  },
  {
   "cell_type": "markdown",
   "metadata": {},
   "source": [
    "## Conclusion"
   ]
  },
  {
   "cell_type": "markdown",
   "metadata": {},
   "source": [
    "The car_data.csv dataset contains information for a used car buying and selling company \"Rusty Bargain\". This dataset has 16 columns and 354369 rows data. We then performed an analysis using several machine learning models to help \"Rusty Bargain\" finding solutions to encounter their problems. After we checked the dataset, we analyse the data, further checking to the columns that we actually use for the machine learning models in order to determine the market value for the car.\n",
    "\n",
    "Next, we performed a prediction with several models. Keep in mind that Rusty Bargain had interested in:\n",
    "1. the prediction quality\n",
    "2. the speed of prediction model\n",
    "3. the time required to train the model\n",
    "\n",
    "Therefore, we use several types of predictive models, as follows:\n",
    "\n",
    "1. Decision Tree\n",
    "2. Random Forest\n",
    "3. Linear Regression\n",
    "4. SGD Linear Regression\n",
    "5. LightGBM (random search & Bayesian optimisation)\n",
    "6. CatBoost\n",
    "7. XGBoost\n",
    "\n",
    "After we performed a training model using these models, we concluded that the boosting models contain a good balance between speed and model prediction quality. The RMSE scores of the boosting models were better than those of the regression models. In a nutshell, we suggest Rusty Bargain to implement a boosting machine learning model that will predict the market value of a car. \n",
    "\n",
    "From our study, we suggest that they can start with a LightGBM model, and tune the hyperparameters to achieve a low RMSE. The LightGBM model is relatively fast at training and the predictions. Most importantly, the model prediction quality is the best of the options we have displayed. Another benefit of the LightGBM model is its ability to natively handle missing values. This is an benefit UX on the app, as users would not have to make up data just to run the model.\n",
    "\n",
    "Generally, all 3 boosting models performed better than our sanity check model, linear regression.\n",
    "\n",
    "Our best model, LightGBM has lower RMSE of 1628.10 for testing dataset than the cross validation model.\n",
    "\n",
    "It can be concluded that overall test has been completed."
   ]
  }
 ],
 "metadata": {
  "kernelspec": {
   "display_name": "Python 3 (ipykernel)",
   "language": "python",
   "name": "python3"
  },
  "language_info": {
   "codemirror_mode": {
    "name": "ipython",
    "version": 3
   },
   "file_extension": ".py",
   "mimetype": "text/x-python",
   "name": "python",
   "nbconvert_exporter": "python",
   "pygments_lexer": "ipython3",
   "version": "3.10.9"
  },
  "toc": {
   "base_numbering": 1,
   "nav_menu": {},
   "number_sections": true,
   "sideBar": true,
   "skip_h1_title": true,
   "title_cell": "Table of Contents",
   "title_sidebar": "Contents",
   "toc_cell": true,
   "toc_position": {
    "height": "calc(100% - 180px)",
    "left": "10px",
    "top": "150px",
    "width": "165px"
   },
   "toc_section_display": true,
   "toc_window_display": true
  }
 },
 "nbformat": 4,
 "nbformat_minor": 2
}
