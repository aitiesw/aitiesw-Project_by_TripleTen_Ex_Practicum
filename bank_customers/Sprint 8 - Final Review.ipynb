{
 "cells": [
  {
   "cell_type": "markdown",
   "metadata": {},
   "source": [
    "## Introduction - Whether A Customer Will Leave The Bank Soon"
   ]
  },
  {
   "cell_type": "markdown",
   "metadata": {},
   "source": [
    "Beta Bank customers are leaving: little by little, chipping away every month. The bankers figured out it’s cheaper to save the existing customers rather than to attract new ones.\n",
    "\n",
    "We need to predict whether a customer will leave the bank soon with the data on clients’ past behavior and termination of contracts with the bank.\n",
    "\n",
    "We need to build a model with the maximum possible F1 score. The threshold F1 score is at least 0.59.\n",
    "\n",
    "Additionally, we also need to measure the AUC-ROC metric and compare it with the F1."
   ]
  },
  {
   "cell_type": "markdown",
   "metadata": {},
   "source": [
    "### Data Description"
   ]
  },
  {
   "cell_type": "markdown",
   "metadata": {},
   "source": [
    "Features:\n",
    "1. RowNumber — data string index\n",
    "2. CustomerId — unique customer identifier\n",
    "3. Surname — surname\n",
    "4. CreditScore — credit score\n",
    "5. Geography — country of residence\n",
    "6. Gender — gender\n",
    "7. Age — age\n",
    "8. Tenure — period of maturation for a customer’s fixed deposit (years)\n",
    "9. Balance — account balance\n",
    "10. NumOfProducts — number of banking products used by the customer\n",
    "11. HasCrCard — customer has a credit card\n",
    "12. IsActiveMember — customer’s activeness\n",
    "13. EstimatedSalary — estimated salary\n",
    "\n",
    "Target:\n",
    "1. Exited — сustomer has left"
   ]
  },
  {
   "cell_type": "markdown",
   "metadata": {},
   "source": [
    "## Initialising & Loading Data"
   ]
  },
  {
   "cell_type": "markdown",
   "metadata": {},
   "source": [
    "### Initialisation"
   ]
  },
  {
   "cell_type": "markdown",
   "metadata": {},
   "source": [
    "Loading all libararies for our working."
   ]
  },
  {
   "cell_type": "code",
   "execution_count": 1036,
   "metadata": {},
   "outputs": [],
   "source": [
    "# Loading libraries\n",
    "import pandas as pd\n",
    "import numpy as np\n",
    "from scipy import stats\n",
    "from scipy.stats import ttest_ind\n",
    "import math as mt\n",
    "import math\n",
    "from math import factorial\n",
    "from matplotlib import pyplot as plt\n",
    "import seaborn as sns\n",
    "from sklearn.preprocessing import OrdinalEncoder\n",
    "from sklearn.tree import DecisionTreeClassifier\n",
    "from sklearn.metrics import accuracy_score\n",
    "from sklearn.datasets import load_iris\n",
    "from sklearn.model_selection import train_test_split\n",
    "from sklearn.ensemble import RandomForestClassifier\n",
    "from sklearn.linear_model import LogisticRegression\n",
    "from sklearn.preprocessing import StandardScaler\n",
    "from sklearn.metrics import confusion_matrix\n",
    "from sklearn.metrics import f1_score\n",
    "from sklearn.utils import shuffle\n",
    "from sklearn.metrics import roc_curve\n",
    "from sklearn.metrics import roc_auc_score"
   ]
  },
  {
   "cell_type": "markdown",
   "metadata": {},
   "source": [
    "### Load Data"
   ]
  },
  {
   "cell_type": "markdown",
   "metadata": {},
   "source": [
    "Read & load the raw data"
   ]
  },
  {
   "cell_type": "code",
   "execution_count": 1037,
   "metadata": {},
   "outputs": [],
   "source": [
    "df = pd.read_csv(\"/datasets/Churn.csv\")"
   ]
  },
  {
   "cell_type": "markdown",
   "metadata": {},
   "source": [
    "## Preparing the Data"
   ]
  },
  {
   "cell_type": "markdown",
   "metadata": {},
   "source": [
    "### General Data Info"
   ]
  },
  {
   "cell_type": "code",
   "execution_count": 1038,
   "metadata": {},
   "outputs": [
    {
     "name": "stdout",
     "output_type": "stream",
     "text": [
      "<class 'pandas.core.frame.DataFrame'>\n",
      "RangeIndex: 10000 entries, 0 to 9999\n",
      "Data columns (total 14 columns):\n",
      " #   Column           Non-Null Count  Dtype  \n",
      "---  ------           --------------  -----  \n",
      " 0   RowNumber        10000 non-null  int64  \n",
      " 1   CustomerId       10000 non-null  int64  \n",
      " 2   Surname          10000 non-null  object \n",
      " 3   CreditScore      10000 non-null  int64  \n",
      " 4   Geography        10000 non-null  object \n",
      " 5   Gender           10000 non-null  object \n",
      " 6   Age              10000 non-null  int64  \n",
      " 7   Tenure           9091 non-null   float64\n",
      " 8   Balance          10000 non-null  float64\n",
      " 9   NumOfProducts    10000 non-null  int64  \n",
      " 10  HasCrCard        10000 non-null  int64  \n",
      " 11  IsActiveMember   10000 non-null  int64  \n",
      " 12  EstimatedSalary  10000 non-null  float64\n",
      " 13  Exited           10000 non-null  int64  \n",
      "dtypes: float64(3), int64(8), object(3)\n",
      "memory usage: 1.1+ MB\n"
     ]
    },
    {
     "data": {
      "text/plain": [
       "(10000, 14)"
      ]
     },
     "execution_count": 1038,
     "metadata": {},
     "output_type": "execute_result"
    }
   ],
   "source": [
    "df.info()\n",
    "df.shape"
   ]
  },
  {
   "cell_type": "markdown",
   "metadata": {},
   "source": [
    "There are 10,000 rows of records and 14 columns for the dataset that we named as 'df'."
   ]
  },
  {
   "cell_type": "code",
   "execution_count": 1039,
   "metadata": {},
   "outputs": [
    {
     "data": {
      "text/html": [
       "<div>\n",
       "<style scoped>\n",
       "    .dataframe tbody tr th:only-of-type {\n",
       "        vertical-align: middle;\n",
       "    }\n",
       "\n",
       "    .dataframe tbody tr th {\n",
       "        vertical-align: top;\n",
       "    }\n",
       "\n",
       "    .dataframe thead th {\n",
       "        text-align: right;\n",
       "    }\n",
       "</style>\n",
       "<table border=\"1\" class=\"dataframe\">\n",
       "  <thead>\n",
       "    <tr style=\"text-align: right;\">\n",
       "      <th></th>\n",
       "      <th>RowNumber</th>\n",
       "      <th>CustomerId</th>\n",
       "      <th>Surname</th>\n",
       "      <th>CreditScore</th>\n",
       "      <th>Geography</th>\n",
       "      <th>Gender</th>\n",
       "      <th>Age</th>\n",
       "      <th>Tenure</th>\n",
       "      <th>Balance</th>\n",
       "      <th>NumOfProducts</th>\n",
       "      <th>HasCrCard</th>\n",
       "      <th>IsActiveMember</th>\n",
       "      <th>EstimatedSalary</th>\n",
       "      <th>Exited</th>\n",
       "    </tr>\n",
       "  </thead>\n",
       "  <tbody>\n",
       "    <tr>\n",
       "      <th>0</th>\n",
       "      <td>1</td>\n",
       "      <td>15634602</td>\n",
       "      <td>Hargrave</td>\n",
       "      <td>619</td>\n",
       "      <td>France</td>\n",
       "      <td>Female</td>\n",
       "      <td>42</td>\n",
       "      <td>2.0</td>\n",
       "      <td>0.00</td>\n",
       "      <td>1</td>\n",
       "      <td>1</td>\n",
       "      <td>1</td>\n",
       "      <td>101348.88</td>\n",
       "      <td>1</td>\n",
       "    </tr>\n",
       "    <tr>\n",
       "      <th>1</th>\n",
       "      <td>2</td>\n",
       "      <td>15647311</td>\n",
       "      <td>Hill</td>\n",
       "      <td>608</td>\n",
       "      <td>Spain</td>\n",
       "      <td>Female</td>\n",
       "      <td>41</td>\n",
       "      <td>1.0</td>\n",
       "      <td>83807.86</td>\n",
       "      <td>1</td>\n",
       "      <td>0</td>\n",
       "      <td>1</td>\n",
       "      <td>112542.58</td>\n",
       "      <td>0</td>\n",
       "    </tr>\n",
       "    <tr>\n",
       "      <th>2</th>\n",
       "      <td>3</td>\n",
       "      <td>15619304</td>\n",
       "      <td>Onio</td>\n",
       "      <td>502</td>\n",
       "      <td>France</td>\n",
       "      <td>Female</td>\n",
       "      <td>42</td>\n",
       "      <td>8.0</td>\n",
       "      <td>159660.80</td>\n",
       "      <td>3</td>\n",
       "      <td>1</td>\n",
       "      <td>0</td>\n",
       "      <td>113931.57</td>\n",
       "      <td>1</td>\n",
       "    </tr>\n",
       "    <tr>\n",
       "      <th>3</th>\n",
       "      <td>4</td>\n",
       "      <td>15701354</td>\n",
       "      <td>Boni</td>\n",
       "      <td>699</td>\n",
       "      <td>France</td>\n",
       "      <td>Female</td>\n",
       "      <td>39</td>\n",
       "      <td>1.0</td>\n",
       "      <td>0.00</td>\n",
       "      <td>2</td>\n",
       "      <td>0</td>\n",
       "      <td>0</td>\n",
       "      <td>93826.63</td>\n",
       "      <td>0</td>\n",
       "    </tr>\n",
       "    <tr>\n",
       "      <th>4</th>\n",
       "      <td>5</td>\n",
       "      <td>15737888</td>\n",
       "      <td>Mitchell</td>\n",
       "      <td>850</td>\n",
       "      <td>Spain</td>\n",
       "      <td>Female</td>\n",
       "      <td>43</td>\n",
       "      <td>2.0</td>\n",
       "      <td>125510.82</td>\n",
       "      <td>1</td>\n",
       "      <td>1</td>\n",
       "      <td>1</td>\n",
       "      <td>79084.10</td>\n",
       "      <td>0</td>\n",
       "    </tr>\n",
       "    <tr>\n",
       "      <th>5</th>\n",
       "      <td>6</td>\n",
       "      <td>15574012</td>\n",
       "      <td>Chu</td>\n",
       "      <td>645</td>\n",
       "      <td>Spain</td>\n",
       "      <td>Male</td>\n",
       "      <td>44</td>\n",
       "      <td>8.0</td>\n",
       "      <td>113755.78</td>\n",
       "      <td>2</td>\n",
       "      <td>1</td>\n",
       "      <td>0</td>\n",
       "      <td>149756.71</td>\n",
       "      <td>1</td>\n",
       "    </tr>\n",
       "    <tr>\n",
       "      <th>6</th>\n",
       "      <td>7</td>\n",
       "      <td>15592531</td>\n",
       "      <td>Bartlett</td>\n",
       "      <td>822</td>\n",
       "      <td>France</td>\n",
       "      <td>Male</td>\n",
       "      <td>50</td>\n",
       "      <td>7.0</td>\n",
       "      <td>0.00</td>\n",
       "      <td>2</td>\n",
       "      <td>1</td>\n",
       "      <td>1</td>\n",
       "      <td>10062.80</td>\n",
       "      <td>0</td>\n",
       "    </tr>\n",
       "    <tr>\n",
       "      <th>7</th>\n",
       "      <td>8</td>\n",
       "      <td>15656148</td>\n",
       "      <td>Obinna</td>\n",
       "      <td>376</td>\n",
       "      <td>Germany</td>\n",
       "      <td>Female</td>\n",
       "      <td>29</td>\n",
       "      <td>4.0</td>\n",
       "      <td>115046.74</td>\n",
       "      <td>4</td>\n",
       "      <td>1</td>\n",
       "      <td>0</td>\n",
       "      <td>119346.88</td>\n",
       "      <td>1</td>\n",
       "    </tr>\n",
       "    <tr>\n",
       "      <th>8</th>\n",
       "      <td>9</td>\n",
       "      <td>15792365</td>\n",
       "      <td>He</td>\n",
       "      <td>501</td>\n",
       "      <td>France</td>\n",
       "      <td>Male</td>\n",
       "      <td>44</td>\n",
       "      <td>4.0</td>\n",
       "      <td>142051.07</td>\n",
       "      <td>2</td>\n",
       "      <td>0</td>\n",
       "      <td>1</td>\n",
       "      <td>74940.50</td>\n",
       "      <td>0</td>\n",
       "    </tr>\n",
       "    <tr>\n",
       "      <th>9</th>\n",
       "      <td>10</td>\n",
       "      <td>15592389</td>\n",
       "      <td>H?</td>\n",
       "      <td>684</td>\n",
       "      <td>France</td>\n",
       "      <td>Male</td>\n",
       "      <td>27</td>\n",
       "      <td>2.0</td>\n",
       "      <td>134603.88</td>\n",
       "      <td>1</td>\n",
       "      <td>1</td>\n",
       "      <td>1</td>\n",
       "      <td>71725.73</td>\n",
       "      <td>0</td>\n",
       "    </tr>\n",
       "    <tr>\n",
       "      <th>10</th>\n",
       "      <td>11</td>\n",
       "      <td>15767821</td>\n",
       "      <td>Bearce</td>\n",
       "      <td>528</td>\n",
       "      <td>France</td>\n",
       "      <td>Male</td>\n",
       "      <td>31</td>\n",
       "      <td>6.0</td>\n",
       "      <td>102016.72</td>\n",
       "      <td>2</td>\n",
       "      <td>0</td>\n",
       "      <td>0</td>\n",
       "      <td>80181.12</td>\n",
       "      <td>0</td>\n",
       "    </tr>\n",
       "    <tr>\n",
       "      <th>11</th>\n",
       "      <td>12</td>\n",
       "      <td>15737173</td>\n",
       "      <td>Andrews</td>\n",
       "      <td>497</td>\n",
       "      <td>Spain</td>\n",
       "      <td>Male</td>\n",
       "      <td>24</td>\n",
       "      <td>3.0</td>\n",
       "      <td>0.00</td>\n",
       "      <td>2</td>\n",
       "      <td>1</td>\n",
       "      <td>0</td>\n",
       "      <td>76390.01</td>\n",
       "      <td>0</td>\n",
       "    </tr>\n",
       "    <tr>\n",
       "      <th>12</th>\n",
       "      <td>13</td>\n",
       "      <td>15632264</td>\n",
       "      <td>Kay</td>\n",
       "      <td>476</td>\n",
       "      <td>France</td>\n",
       "      <td>Female</td>\n",
       "      <td>34</td>\n",
       "      <td>10.0</td>\n",
       "      <td>0.00</td>\n",
       "      <td>2</td>\n",
       "      <td>1</td>\n",
       "      <td>0</td>\n",
       "      <td>26260.98</td>\n",
       "      <td>0</td>\n",
       "    </tr>\n",
       "    <tr>\n",
       "      <th>13</th>\n",
       "      <td>14</td>\n",
       "      <td>15691483</td>\n",
       "      <td>Chin</td>\n",
       "      <td>549</td>\n",
       "      <td>France</td>\n",
       "      <td>Female</td>\n",
       "      <td>25</td>\n",
       "      <td>5.0</td>\n",
       "      <td>0.00</td>\n",
       "      <td>2</td>\n",
       "      <td>0</td>\n",
       "      <td>0</td>\n",
       "      <td>190857.79</td>\n",
       "      <td>0</td>\n",
       "    </tr>\n",
       "    <tr>\n",
       "      <th>14</th>\n",
       "      <td>15</td>\n",
       "      <td>15600882</td>\n",
       "      <td>Scott</td>\n",
       "      <td>635</td>\n",
       "      <td>Spain</td>\n",
       "      <td>Female</td>\n",
       "      <td>35</td>\n",
       "      <td>7.0</td>\n",
       "      <td>0.00</td>\n",
       "      <td>2</td>\n",
       "      <td>1</td>\n",
       "      <td>1</td>\n",
       "      <td>65951.65</td>\n",
       "      <td>0</td>\n",
       "    </tr>\n",
       "    <tr>\n",
       "      <th>15</th>\n",
       "      <td>16</td>\n",
       "      <td>15643966</td>\n",
       "      <td>Goforth</td>\n",
       "      <td>616</td>\n",
       "      <td>Germany</td>\n",
       "      <td>Male</td>\n",
       "      <td>45</td>\n",
       "      <td>3.0</td>\n",
       "      <td>143129.41</td>\n",
       "      <td>2</td>\n",
       "      <td>0</td>\n",
       "      <td>1</td>\n",
       "      <td>64327.26</td>\n",
       "      <td>0</td>\n",
       "    </tr>\n",
       "    <tr>\n",
       "      <th>16</th>\n",
       "      <td>17</td>\n",
       "      <td>15737452</td>\n",
       "      <td>Romeo</td>\n",
       "      <td>653</td>\n",
       "      <td>Germany</td>\n",
       "      <td>Male</td>\n",
       "      <td>58</td>\n",
       "      <td>1.0</td>\n",
       "      <td>132602.88</td>\n",
       "      <td>1</td>\n",
       "      <td>1</td>\n",
       "      <td>0</td>\n",
       "      <td>5097.67</td>\n",
       "      <td>1</td>\n",
       "    </tr>\n",
       "    <tr>\n",
       "      <th>17</th>\n",
       "      <td>18</td>\n",
       "      <td>15788218</td>\n",
       "      <td>Henderson</td>\n",
       "      <td>549</td>\n",
       "      <td>Spain</td>\n",
       "      <td>Female</td>\n",
       "      <td>24</td>\n",
       "      <td>9.0</td>\n",
       "      <td>0.00</td>\n",
       "      <td>2</td>\n",
       "      <td>1</td>\n",
       "      <td>1</td>\n",
       "      <td>14406.41</td>\n",
       "      <td>0</td>\n",
       "    </tr>\n",
       "    <tr>\n",
       "      <th>18</th>\n",
       "      <td>19</td>\n",
       "      <td>15661507</td>\n",
       "      <td>Muldrow</td>\n",
       "      <td>587</td>\n",
       "      <td>Spain</td>\n",
       "      <td>Male</td>\n",
       "      <td>45</td>\n",
       "      <td>6.0</td>\n",
       "      <td>0.00</td>\n",
       "      <td>1</td>\n",
       "      <td>0</td>\n",
       "      <td>0</td>\n",
       "      <td>158684.81</td>\n",
       "      <td>0</td>\n",
       "    </tr>\n",
       "    <tr>\n",
       "      <th>19</th>\n",
       "      <td>20</td>\n",
       "      <td>15568982</td>\n",
       "      <td>Hao</td>\n",
       "      <td>726</td>\n",
       "      <td>France</td>\n",
       "      <td>Female</td>\n",
       "      <td>24</td>\n",
       "      <td>6.0</td>\n",
       "      <td>0.00</td>\n",
       "      <td>2</td>\n",
       "      <td>1</td>\n",
       "      <td>1</td>\n",
       "      <td>54724.03</td>\n",
       "      <td>0</td>\n",
       "    </tr>\n",
       "  </tbody>\n",
       "</table>\n",
       "</div>"
      ],
      "text/plain": [
       "    RowNumber  CustomerId    Surname  CreditScore Geography  Gender  Age  \\\n",
       "0           1    15634602   Hargrave          619    France  Female   42   \n",
       "1           2    15647311       Hill          608     Spain  Female   41   \n",
       "2           3    15619304       Onio          502    France  Female   42   \n",
       "3           4    15701354       Boni          699    France  Female   39   \n",
       "4           5    15737888   Mitchell          850     Spain  Female   43   \n",
       "5           6    15574012        Chu          645     Spain    Male   44   \n",
       "6           7    15592531   Bartlett          822    France    Male   50   \n",
       "7           8    15656148     Obinna          376   Germany  Female   29   \n",
       "8           9    15792365         He          501    France    Male   44   \n",
       "9          10    15592389         H?          684    France    Male   27   \n",
       "10         11    15767821     Bearce          528    France    Male   31   \n",
       "11         12    15737173    Andrews          497     Spain    Male   24   \n",
       "12         13    15632264        Kay          476    France  Female   34   \n",
       "13         14    15691483       Chin          549    France  Female   25   \n",
       "14         15    15600882      Scott          635     Spain  Female   35   \n",
       "15         16    15643966    Goforth          616   Germany    Male   45   \n",
       "16         17    15737452      Romeo          653   Germany    Male   58   \n",
       "17         18    15788218  Henderson          549     Spain  Female   24   \n",
       "18         19    15661507    Muldrow          587     Spain    Male   45   \n",
       "19         20    15568982        Hao          726    France  Female   24   \n",
       "\n",
       "    Tenure    Balance  NumOfProducts  HasCrCard  IsActiveMember  \\\n",
       "0      2.0       0.00              1          1               1   \n",
       "1      1.0   83807.86              1          0               1   \n",
       "2      8.0  159660.80              3          1               0   \n",
       "3      1.0       0.00              2          0               0   \n",
       "4      2.0  125510.82              1          1               1   \n",
       "5      8.0  113755.78              2          1               0   \n",
       "6      7.0       0.00              2          1               1   \n",
       "7      4.0  115046.74              4          1               0   \n",
       "8      4.0  142051.07              2          0               1   \n",
       "9      2.0  134603.88              1          1               1   \n",
       "10     6.0  102016.72              2          0               0   \n",
       "11     3.0       0.00              2          1               0   \n",
       "12    10.0       0.00              2          1               0   \n",
       "13     5.0       0.00              2          0               0   \n",
       "14     7.0       0.00              2          1               1   \n",
       "15     3.0  143129.41              2          0               1   \n",
       "16     1.0  132602.88              1          1               0   \n",
       "17     9.0       0.00              2          1               1   \n",
       "18     6.0       0.00              1          0               0   \n",
       "19     6.0       0.00              2          1               1   \n",
       "\n",
       "    EstimatedSalary  Exited  \n",
       "0         101348.88       1  \n",
       "1         112542.58       0  \n",
       "2         113931.57       1  \n",
       "3          93826.63       0  \n",
       "4          79084.10       0  \n",
       "5         149756.71       1  \n",
       "6          10062.80       0  \n",
       "7         119346.88       1  \n",
       "8          74940.50       0  \n",
       "9          71725.73       0  \n",
       "10         80181.12       0  \n",
       "11         76390.01       0  \n",
       "12         26260.98       0  \n",
       "13        190857.79       0  \n",
       "14         65951.65       0  \n",
       "15         64327.26       0  \n",
       "16          5097.67       1  \n",
       "17         14406.41       0  \n",
       "18        158684.81       0  \n",
       "19         54724.03       0  "
      ]
     },
     "execution_count": 1039,
     "metadata": {},
     "output_type": "execute_result"
    }
   ],
   "source": [
    "df.head(20)"
   ]
  },
  {
   "cell_type": "markdown",
   "metadata": {},
   "source": [
    "### Changing Data Type"
   ]
  },
  {
   "cell_type": "markdown",
   "metadata": {},
   "source": [
    "Only 'Tenure' column need to be changed into integer. It will be checked with missing values and changed later."
   ]
  },
  {
   "cell_type": "markdown",
   "metadata": {},
   "source": [
    "### Dealing with Missing Values"
   ]
  },
  {
   "cell_type": "code",
   "execution_count": 1040,
   "metadata": {},
   "outputs": [
    {
     "name": "stdout",
     "output_type": "stream",
     "text": [
      "                 Missing Values  Percentage (%)\n",
      "RowNumber                     0            0.00\n",
      "CustomerId                    0            0.00\n",
      "Surname                       0            0.00\n",
      "CreditScore                   0            0.00\n",
      "Geography                     0            0.00\n",
      "Gender                        0            0.00\n",
      "Age                           0            0.00\n",
      "Tenure                      909            9.09\n",
      "Balance                       0            0.00\n",
      "NumOfProducts                 0            0.00\n",
      "HasCrCard                     0            0.00\n",
      "IsActiveMember                0            0.00\n",
      "EstimatedSalary               0            0.00\n",
      "Exited                        0            0.00\n"
     ]
    }
   ],
   "source": [
    "# Count missing values for each column\n",
    "missing_values_count = df.isna().sum()\n",
    "\n",
    "# Calculate the percentage of missing values for each column\n",
    "total_cells = len(df)\n",
    "missing_percentage = (missing_values_count / total_cells) * 100\n",
    "\n",
    "# Create a DataFrame to display missing value count and percentage\n",
    "missing_data = pd.DataFrame({\n",
    "    'Missing Values': missing_values_count,\n",
    "    'Percentage (%)': missing_percentage.round(2)\n",
    "})\n",
    "\n",
    "print(missing_data)"
   ]
  },
  {
   "cell_type": "markdown",
   "metadata": {},
   "source": [
    "There are 9% of missing data for 'Tenure'."
   ]
  },
  {
   "cell_type": "code",
   "execution_count": 1041,
   "metadata": {
    "scrolled": false
   },
   "outputs": [
    {
     "data": {
      "text/html": [
       "<div>\n",
       "<style scoped>\n",
       "    .dataframe tbody tr th:only-of-type {\n",
       "        vertical-align: middle;\n",
       "    }\n",
       "\n",
       "    .dataframe tbody tr th {\n",
       "        vertical-align: top;\n",
       "    }\n",
       "\n",
       "    .dataframe thead th {\n",
       "        text-align: right;\n",
       "    }\n",
       "</style>\n",
       "<table border=\"1\" class=\"dataframe\">\n",
       "  <thead>\n",
       "    <tr style=\"text-align: right;\">\n",
       "      <th></th>\n",
       "      <th>RowNumber</th>\n",
       "      <th>CustomerId</th>\n",
       "      <th>Surname</th>\n",
       "      <th>CreditScore</th>\n",
       "      <th>Geography</th>\n",
       "      <th>Gender</th>\n",
       "      <th>Age</th>\n",
       "      <th>Tenure</th>\n",
       "      <th>Balance</th>\n",
       "      <th>NumOfProducts</th>\n",
       "      <th>HasCrCard</th>\n",
       "      <th>IsActiveMember</th>\n",
       "      <th>EstimatedSalary</th>\n",
       "      <th>Exited</th>\n",
       "    </tr>\n",
       "  </thead>\n",
       "  <tbody>\n",
       "    <tr>\n",
       "      <th>30</th>\n",
       "      <td>31</td>\n",
       "      <td>15589475</td>\n",
       "      <td>Azikiwe</td>\n",
       "      <td>591</td>\n",
       "      <td>Spain</td>\n",
       "      <td>Female</td>\n",
       "      <td>39</td>\n",
       "      <td>NaN</td>\n",
       "      <td>0.00</td>\n",
       "      <td>3</td>\n",
       "      <td>1</td>\n",
       "      <td>0</td>\n",
       "      <td>140469.38</td>\n",
       "      <td>1</td>\n",
       "    </tr>\n",
       "    <tr>\n",
       "      <th>48</th>\n",
       "      <td>49</td>\n",
       "      <td>15766205</td>\n",
       "      <td>Yin</td>\n",
       "      <td>550</td>\n",
       "      <td>Germany</td>\n",
       "      <td>Male</td>\n",
       "      <td>38</td>\n",
       "      <td>NaN</td>\n",
       "      <td>103391.38</td>\n",
       "      <td>1</td>\n",
       "      <td>0</td>\n",
       "      <td>1</td>\n",
       "      <td>90878.13</td>\n",
       "      <td>0</td>\n",
       "    </tr>\n",
       "    <tr>\n",
       "      <th>51</th>\n",
       "      <td>52</td>\n",
       "      <td>15768193</td>\n",
       "      <td>Trevisani</td>\n",
       "      <td>585</td>\n",
       "      <td>Germany</td>\n",
       "      <td>Male</td>\n",
       "      <td>36</td>\n",
       "      <td>NaN</td>\n",
       "      <td>146050.97</td>\n",
       "      <td>2</td>\n",
       "      <td>0</td>\n",
       "      <td>0</td>\n",
       "      <td>86424.57</td>\n",
       "      <td>0</td>\n",
       "    </tr>\n",
       "    <tr>\n",
       "      <th>53</th>\n",
       "      <td>54</td>\n",
       "      <td>15702298</td>\n",
       "      <td>Parkhill</td>\n",
       "      <td>655</td>\n",
       "      <td>Germany</td>\n",
       "      <td>Male</td>\n",
       "      <td>41</td>\n",
       "      <td>NaN</td>\n",
       "      <td>125561.97</td>\n",
       "      <td>1</td>\n",
       "      <td>0</td>\n",
       "      <td>0</td>\n",
       "      <td>164040.94</td>\n",
       "      <td>1</td>\n",
       "    </tr>\n",
       "    <tr>\n",
       "      <th>60</th>\n",
       "      <td>61</td>\n",
       "      <td>15651280</td>\n",
       "      <td>Hunter</td>\n",
       "      <td>742</td>\n",
       "      <td>Germany</td>\n",
       "      <td>Male</td>\n",
       "      <td>35</td>\n",
       "      <td>NaN</td>\n",
       "      <td>136857.00</td>\n",
       "      <td>1</td>\n",
       "      <td>0</td>\n",
       "      <td>0</td>\n",
       "      <td>84509.57</td>\n",
       "      <td>0</td>\n",
       "    </tr>\n",
       "    <tr>\n",
       "      <th>82</th>\n",
       "      <td>83</td>\n",
       "      <td>15641732</td>\n",
       "      <td>Mills</td>\n",
       "      <td>543</td>\n",
       "      <td>France</td>\n",
       "      <td>Female</td>\n",
       "      <td>36</td>\n",
       "      <td>NaN</td>\n",
       "      <td>0.00</td>\n",
       "      <td>2</td>\n",
       "      <td>0</td>\n",
       "      <td>0</td>\n",
       "      <td>26019.59</td>\n",
       "      <td>0</td>\n",
       "    </tr>\n",
       "    <tr>\n",
       "      <th>85</th>\n",
       "      <td>86</td>\n",
       "      <td>15805254</td>\n",
       "      <td>Ndukaku</td>\n",
       "      <td>652</td>\n",
       "      <td>Spain</td>\n",
       "      <td>Female</td>\n",
       "      <td>75</td>\n",
       "      <td>NaN</td>\n",
       "      <td>0.00</td>\n",
       "      <td>2</td>\n",
       "      <td>1</td>\n",
       "      <td>1</td>\n",
       "      <td>114675.75</td>\n",
       "      <td>0</td>\n",
       "    </tr>\n",
       "    <tr>\n",
       "      <th>94</th>\n",
       "      <td>95</td>\n",
       "      <td>15676966</td>\n",
       "      <td>Capon</td>\n",
       "      <td>730</td>\n",
       "      <td>Spain</td>\n",
       "      <td>Male</td>\n",
       "      <td>42</td>\n",
       "      <td>NaN</td>\n",
       "      <td>0.00</td>\n",
       "      <td>2</td>\n",
       "      <td>0</td>\n",
       "      <td>1</td>\n",
       "      <td>85982.47</td>\n",
       "      <td>0</td>\n",
       "    </tr>\n",
       "    <tr>\n",
       "      <th>99</th>\n",
       "      <td>100</td>\n",
       "      <td>15633059</td>\n",
       "      <td>Fanucci</td>\n",
       "      <td>413</td>\n",
       "      <td>France</td>\n",
       "      <td>Male</td>\n",
       "      <td>34</td>\n",
       "      <td>NaN</td>\n",
       "      <td>0.00</td>\n",
       "      <td>2</td>\n",
       "      <td>0</td>\n",
       "      <td>0</td>\n",
       "      <td>6534.18</td>\n",
       "      <td>0</td>\n",
       "    </tr>\n",
       "    <tr>\n",
       "      <th>111</th>\n",
       "      <td>112</td>\n",
       "      <td>15665790</td>\n",
       "      <td>Rowntree</td>\n",
       "      <td>538</td>\n",
       "      <td>Germany</td>\n",
       "      <td>Male</td>\n",
       "      <td>39</td>\n",
       "      <td>NaN</td>\n",
       "      <td>108055.10</td>\n",
       "      <td>2</td>\n",
       "      <td>1</td>\n",
       "      <td>0</td>\n",
       "      <td>27231.26</td>\n",
       "      <td>0</td>\n",
       "    </tr>\n",
       "    <tr>\n",
       "      <th>123</th>\n",
       "      <td>124</td>\n",
       "      <td>15760085</td>\n",
       "      <td>Calabresi</td>\n",
       "      <td>684</td>\n",
       "      <td>Germany</td>\n",
       "      <td>Female</td>\n",
       "      <td>48</td>\n",
       "      <td>NaN</td>\n",
       "      <td>126384.42</td>\n",
       "      <td>1</td>\n",
       "      <td>1</td>\n",
       "      <td>1</td>\n",
       "      <td>198129.36</td>\n",
       "      <td>0</td>\n",
       "    </tr>\n",
       "    <tr>\n",
       "      <th>125</th>\n",
       "      <td>126</td>\n",
       "      <td>15627360</td>\n",
       "      <td>Fuller</td>\n",
       "      <td>432</td>\n",
       "      <td>France</td>\n",
       "      <td>Male</td>\n",
       "      <td>42</td>\n",
       "      <td>NaN</td>\n",
       "      <td>152603.45</td>\n",
       "      <td>1</td>\n",
       "      <td>1</td>\n",
       "      <td>0</td>\n",
       "      <td>110265.24</td>\n",
       "      <td>1</td>\n",
       "    </tr>\n",
       "    <tr>\n",
       "      <th>146</th>\n",
       "      <td>147</td>\n",
       "      <td>15705707</td>\n",
       "      <td>Bennelong</td>\n",
       "      <td>635</td>\n",
       "      <td>Spain</td>\n",
       "      <td>Female</td>\n",
       "      <td>29</td>\n",
       "      <td>NaN</td>\n",
       "      <td>138296.94</td>\n",
       "      <td>2</td>\n",
       "      <td>1</td>\n",
       "      <td>0</td>\n",
       "      <td>141075.51</td>\n",
       "      <td>0</td>\n",
       "    </tr>\n",
       "    <tr>\n",
       "      <th>162</th>\n",
       "      <td>163</td>\n",
       "      <td>15630910</td>\n",
       "      <td>Treacy</td>\n",
       "      <td>800</td>\n",
       "      <td>France</td>\n",
       "      <td>Female</td>\n",
       "      <td>49</td>\n",
       "      <td>NaN</td>\n",
       "      <td>108007.36</td>\n",
       "      <td>1</td>\n",
       "      <td>0</td>\n",
       "      <td>0</td>\n",
       "      <td>47125.11</td>\n",
       "      <td>0</td>\n",
       "    </tr>\n",
       "    <tr>\n",
       "      <th>173</th>\n",
       "      <td>174</td>\n",
       "      <td>15586310</td>\n",
       "      <td>Ting</td>\n",
       "      <td>578</td>\n",
       "      <td>France</td>\n",
       "      <td>Male</td>\n",
       "      <td>30</td>\n",
       "      <td>NaN</td>\n",
       "      <td>169462.09</td>\n",
       "      <td>1</td>\n",
       "      <td>1</td>\n",
       "      <td>0</td>\n",
       "      <td>112187.11</td>\n",
       "      <td>0</td>\n",
       "    </tr>\n",
       "    <tr>\n",
       "      <th>180</th>\n",
       "      <td>181</td>\n",
       "      <td>15716334</td>\n",
       "      <td>Rozier</td>\n",
       "      <td>850</td>\n",
       "      <td>Spain</td>\n",
       "      <td>Female</td>\n",
       "      <td>45</td>\n",
       "      <td>NaN</td>\n",
       "      <td>122311.21</td>\n",
       "      <td>1</td>\n",
       "      <td>1</td>\n",
       "      <td>1</td>\n",
       "      <td>19482.50</td>\n",
       "      <td>0</td>\n",
       "    </tr>\n",
       "    <tr>\n",
       "      <th>217</th>\n",
       "      <td>218</td>\n",
       "      <td>15786308</td>\n",
       "      <td>Millar</td>\n",
       "      <td>730</td>\n",
       "      <td>Spain</td>\n",
       "      <td>Female</td>\n",
       "      <td>33</td>\n",
       "      <td>NaN</td>\n",
       "      <td>0.00</td>\n",
       "      <td>2</td>\n",
       "      <td>0</td>\n",
       "      <td>0</td>\n",
       "      <td>176576.62</td>\n",
       "      <td>0</td>\n",
       "    </tr>\n",
       "    <tr>\n",
       "      <th>222</th>\n",
       "      <td>223</td>\n",
       "      <td>15727829</td>\n",
       "      <td>McIntyre</td>\n",
       "      <td>567</td>\n",
       "      <td>France</td>\n",
       "      <td>Male</td>\n",
       "      <td>42</td>\n",
       "      <td>NaN</td>\n",
       "      <td>0.00</td>\n",
       "      <td>2</td>\n",
       "      <td>1</td>\n",
       "      <td>1</td>\n",
       "      <td>167984.61</td>\n",
       "      <td>0</td>\n",
       "    </tr>\n",
       "    <tr>\n",
       "      <th>225</th>\n",
       "      <td>226</td>\n",
       "      <td>15699029</td>\n",
       "      <td>Bagley</td>\n",
       "      <td>670</td>\n",
       "      <td>France</td>\n",
       "      <td>Male</td>\n",
       "      <td>37</td>\n",
       "      <td>NaN</td>\n",
       "      <td>170557.91</td>\n",
       "      <td>2</td>\n",
       "      <td>1</td>\n",
       "      <td>0</td>\n",
       "      <td>198252.88</td>\n",
       "      <td>0</td>\n",
       "    </tr>\n",
       "    <tr>\n",
       "      <th>237</th>\n",
       "      <td>238</td>\n",
       "      <td>15764866</td>\n",
       "      <td>Synnot</td>\n",
       "      <td>539</td>\n",
       "      <td>Germany</td>\n",
       "      <td>Female</td>\n",
       "      <td>43</td>\n",
       "      <td>NaN</td>\n",
       "      <td>116220.50</td>\n",
       "      <td>3</td>\n",
       "      <td>1</td>\n",
       "      <td>0</td>\n",
       "      <td>55803.96</td>\n",
       "      <td>1</td>\n",
       "    </tr>\n",
       "  </tbody>\n",
       "</table>\n",
       "</div>"
      ],
      "text/plain": [
       "     RowNumber  CustomerId    Surname  CreditScore Geography  Gender  Age  \\\n",
       "30          31    15589475    Azikiwe          591     Spain  Female   39   \n",
       "48          49    15766205        Yin          550   Germany    Male   38   \n",
       "51          52    15768193  Trevisani          585   Germany    Male   36   \n",
       "53          54    15702298   Parkhill          655   Germany    Male   41   \n",
       "60          61    15651280     Hunter          742   Germany    Male   35   \n",
       "82          83    15641732      Mills          543    France  Female   36   \n",
       "85          86    15805254    Ndukaku          652     Spain  Female   75   \n",
       "94          95    15676966      Capon          730     Spain    Male   42   \n",
       "99         100    15633059    Fanucci          413    France    Male   34   \n",
       "111        112    15665790   Rowntree          538   Germany    Male   39   \n",
       "123        124    15760085  Calabresi          684   Germany  Female   48   \n",
       "125        126    15627360     Fuller          432    France    Male   42   \n",
       "146        147    15705707  Bennelong          635     Spain  Female   29   \n",
       "162        163    15630910     Treacy          800    France  Female   49   \n",
       "173        174    15586310       Ting          578    France    Male   30   \n",
       "180        181    15716334     Rozier          850     Spain  Female   45   \n",
       "217        218    15786308     Millar          730     Spain  Female   33   \n",
       "222        223    15727829   McIntyre          567    France    Male   42   \n",
       "225        226    15699029     Bagley          670    France    Male   37   \n",
       "237        238    15764866     Synnot          539   Germany  Female   43   \n",
       "\n",
       "     Tenure    Balance  NumOfProducts  HasCrCard  IsActiveMember  \\\n",
       "30      NaN       0.00              3          1               0   \n",
       "48      NaN  103391.38              1          0               1   \n",
       "51      NaN  146050.97              2          0               0   \n",
       "53      NaN  125561.97              1          0               0   \n",
       "60      NaN  136857.00              1          0               0   \n",
       "82      NaN       0.00              2          0               0   \n",
       "85      NaN       0.00              2          1               1   \n",
       "94      NaN       0.00              2          0               1   \n",
       "99      NaN       0.00              2          0               0   \n",
       "111     NaN  108055.10              2          1               0   \n",
       "123     NaN  126384.42              1          1               1   \n",
       "125     NaN  152603.45              1          1               0   \n",
       "146     NaN  138296.94              2          1               0   \n",
       "162     NaN  108007.36              1          0               0   \n",
       "173     NaN  169462.09              1          1               0   \n",
       "180     NaN  122311.21              1          1               1   \n",
       "217     NaN       0.00              2          0               0   \n",
       "222     NaN       0.00              2          1               1   \n",
       "225     NaN  170557.91              2          1               0   \n",
       "237     NaN  116220.50              3          1               0   \n",
       "\n",
       "     EstimatedSalary  Exited  \n",
       "30         140469.38       1  \n",
       "48          90878.13       0  \n",
       "51          86424.57       0  \n",
       "53         164040.94       1  \n",
       "60          84509.57       0  \n",
       "82          26019.59       0  \n",
       "85         114675.75       0  \n",
       "94          85982.47       0  \n",
       "99           6534.18       0  \n",
       "111         27231.26       0  \n",
       "123        198129.36       0  \n",
       "125        110265.24       1  \n",
       "146        141075.51       0  \n",
       "162         47125.11       0  \n",
       "173        112187.11       0  \n",
       "180         19482.50       0  \n",
       "217        176576.62       0  \n",
       "222        167984.61       0  \n",
       "225        198252.88       0  \n",
       "237         55803.96       1  "
      ]
     },
     "execution_count": 1041,
     "metadata": {},
     "output_type": "execute_result"
    }
   ],
   "source": [
    "df_na = df[df.isna().any(axis=1)]\n",
    "df_na.head(20)"
   ]
  },
  {
   "cell_type": "code",
   "execution_count": 1042,
   "metadata": {},
   "outputs": [
    {
     "name": "stdout",
     "output_type": "stream",
     "text": [
      "<class 'pandas.core.frame.DataFrame'>\n",
      "Int64Index: 9091 entries, 0 to 9998\n",
      "Data columns (total 14 columns):\n",
      " #   Column           Non-Null Count  Dtype  \n",
      "---  ------           --------------  -----  \n",
      " 0   RowNumber        9091 non-null   int64  \n",
      " 1   CustomerId       9091 non-null   int64  \n",
      " 2   Surname          9091 non-null   object \n",
      " 3   CreditScore      9091 non-null   int64  \n",
      " 4   Geography        9091 non-null   object \n",
      " 5   Gender           9091 non-null   object \n",
      " 6   Age              9091 non-null   int64  \n",
      " 7   Tenure           9091 non-null   float64\n",
      " 8   Balance          9091 non-null   float64\n",
      " 9   NumOfProducts    9091 non-null   int64  \n",
      " 10  HasCrCard        9091 non-null   int64  \n",
      " 11  IsActiveMember   9091 non-null   int64  \n",
      " 12  EstimatedSalary  9091 non-null   float64\n",
      " 13  Exited           9091 non-null   int64  \n",
      "dtypes: float64(3), int64(8), object(3)\n",
      "memory usage: 1.0+ MB\n"
     ]
    },
    {
     "data": {
      "text/plain": [
       "(9091, 14)"
      ]
     },
     "execution_count": 1042,
     "metadata": {},
     "output_type": "execute_result"
    }
   ],
   "source": [
    "# Dropping the row with missing 'Tenure' with 0 since we do not know the actual tenure and it is important for our analysis.\n",
    "df.dropna(subset=['Tenure'], inplace=True)\n",
    "df.info()\n",
    "df.shape"
   ]
  },
  {
   "cell_type": "markdown",
   "metadata": {},
   "source": [
    "Change the data type of 'Tenure' to integer."
   ]
  },
  {
   "cell_type": "code",
   "execution_count": 1043,
   "metadata": {
    "scrolled": true
   },
   "outputs": [
    {
     "name": "stdout",
     "output_type": "stream",
     "text": [
      "<class 'pandas.core.frame.DataFrame'>\n",
      "Int64Index: 9091 entries, 0 to 9998\n",
      "Data columns (total 14 columns):\n",
      " #   Column           Non-Null Count  Dtype  \n",
      "---  ------           --------------  -----  \n",
      " 0   RowNumber        9091 non-null   int64  \n",
      " 1   CustomerId       9091 non-null   int64  \n",
      " 2   Surname          9091 non-null   object \n",
      " 3   CreditScore      9091 non-null   int64  \n",
      " 4   Geography        9091 non-null   object \n",
      " 5   Gender           9091 non-null   object \n",
      " 6   Age              9091 non-null   int64  \n",
      " 7   Tenure           9091 non-null   int64  \n",
      " 8   Balance          9091 non-null   float64\n",
      " 9   NumOfProducts    9091 non-null   int64  \n",
      " 10  HasCrCard        9091 non-null   int64  \n",
      " 11  IsActiveMember   9091 non-null   int64  \n",
      " 12  EstimatedSalary  9091 non-null   float64\n",
      " 13  Exited           9091 non-null   int64  \n",
      "dtypes: float64(2), int64(9), object(3)\n",
      "memory usage: 1.0+ MB\n"
     ]
    }
   ],
   "source": [
    "df['Tenure'] = df['Tenure'].astype(int)\n",
    "df.info()"
   ]
  },
  {
   "cell_type": "markdown",
   "metadata": {},
   "source": [
    "### Checking the Unique Values for column 'Surname', 'Geography' & 'Gender'"
   ]
  },
  {
   "cell_type": "code",
   "execution_count": 1044,
   "metadata": {
    "scrolled": false
   },
   "outputs": [
    {
     "name": "stdout",
     "output_type": "stream",
     "text": [
      "Abazu\n",
      "Abbie\n",
      "Abbott\n",
      "Abdullah\n",
      "Abdulov\n",
      "Abel\n",
      "Abernathy\n",
      "Abramov\n",
      "Abramova\n",
      "Abramovich\n",
      "Abramowitz\n",
      "Abrego\n",
      "Abron\n",
      "Achebe\n",
      "Adams\n",
      "Adamson\n",
      "Afamefula\n",
      "Afamefuna\n",
      "Afanasyev\n",
      "Afanasyeva\n",
      "Agafonova\n",
      "Aguirre\n",
      "Ah Mouy\n",
      "Ahern\n",
      "Ahmed\n",
      "Aikenhead\n",
      "Ainsworth\n",
      "Aitken\n",
      "Ajuluchukwu\n",
      "Akabueze\n",
      "Akeroyd\n",
      "Akhtar\n",
      "Akobundu\n",
      "Aksakova\n",
      "Aksenov\n",
      "Aksenova\n",
      "Aksyonov\n",
      "Aksyonova\n",
      "Akubundu\n",
      "Akudinobi\n",
      "Alaniz\n",
      "Alderete\n",
      "Aldrich\n",
      "Aldridge\n",
      "Aleksandrova\n",
      "Alekseeva\n",
      "Alekseyeva\n",
      "Aleshire\n",
      "Alexander\n",
      "Alexandrov\n",
      "Alexandrova\n",
      "Alexeeva\n",
      "Alexeieva\n",
      "Alexeyeva\n",
      "Algarin\n",
      "Algeranoff\n",
      "Ali\n",
      "Aliyev\n",
      "Aliyeva\n",
      "Allan\n",
      "Allard\n",
      "Allardyce\n",
      "Allen\n",
      "Alleyne\n",
      "Allingham\n",
      "Allnutt\n",
      "Allsop\n",
      "Alvares\n",
      "Alvarez\n",
      "Amadi\n",
      "Amaechi\n",
      "Amechi\n",
      "Amos\n",
      "Ampt\n",
      "Anayochukwu\n",
      "Anayolisa\n",
      "Anderson\n",
      "Andreev\n",
      "Andrejew\n",
      "Andrews\n",
      "Andreyev\n",
      "Andreyeva\n",
      "Anenechi\n",
      "Anenechukwu\n",
      "Angelo\n",
      "Ankudinov\n",
      "Ankudinova\n",
      "Ansell\n",
      "Anthony\n",
      "Aparicio\n",
      "Arbour\n",
      "Archambault\n",
      "Archer\n",
      "Arcuri\n",
      "Ardis\n",
      "Argyle\n",
      "Arkwookerum\n",
      "Armfield\n",
      "Armit\n",
      "Armstrong\n",
      "Arnold\n",
      "Arnott\n",
      "Arrington\n",
      "Artamonova\n",
      "Artemiev\n",
      "Artemieva\n",
      "Artemova\n",
      "Artemyeva\n",
      "Arthur\n",
      "Artyomova\n",
      "Ash\n",
      "Ashbolt\n",
      "Ashley\n",
      "Ashton\n",
      "Astorga\n",
      "Atherton\n",
      "Atkins\n",
      "Atkinson\n",
      "Austin\n",
      "Avdeev\n",
      "Avdeeva\n",
      "Avdeyeva\n",
      "Avent\n",
      "Ayers\n",
      "Azarov\n",
      "Azikiwe\n",
      "Azubuike\n",
      "Azuka\n",
      "Babbage\n",
      "Baddeley\n",
      "Badgery\n",
      "Bage\n",
      "Bailey\n",
      "Bair\n",
      "Baird\n",
      "Baker\n",
      "Balashov\n",
      "Balashova\n",
      "Baldwin\n",
      "Bales\n",
      "Ball\n",
      "Ballard\n",
      "Balmain\n",
      "Balsillie\n",
      "Bancroft\n",
      "Band\n",
      "Banks\n",
      "Baranov\n",
      "Baranova\n",
      "Barber\n",
      "Barbour\n",
      "Barclay\n",
      "Barclay-Harvey\n",
      "Bardin\n",
      "Barese\n",
      "Baresi\n",
      "Barker\n",
      "Barling\n",
      "Barlow\n",
      "Barnard\n",
      "Barnes\n",
      "Barnet\n",
      "Barnett\n",
      "Barnhill\n",
      "Barrera\n",
      "Barrett\n",
      "Barry\n",
      "Bartlett\n",
      "Barton\n",
      "Baryshnikov\n",
      "Basedow\n",
      "Bateman\n",
      "Bates\n",
      "Bateson\n",
      "Batt\n",
      "Batty\n",
      "Baxter\n",
      "Bayley\n",
      "Bazarova\n",
      "Bazhenov\n",
      "Bazile\n",
      "Beach\n",
      "Beale\n",
      "Beam\n",
      "Bearce\n",
      "Beatham\n",
      "Beavers\n",
      "Becher\n",
      "Beck\n",
      "Becker\n",
      "Bednall\n",
      "Beede\n",
      "Beers\n",
      "Begg\n",
      "Beggs\n",
      "Begley\n",
      "Begum\n",
      "Beit\n",
      "Belbin\n",
      "Belcher\n",
      "Belisario\n",
      "Bell\n",
      "Bellasis\n",
      "Bellew\n",
      "Bellucci\n",
      "Belonwu\n",
      "Belousov\n",
      "Belov\n",
      "Belstead\n",
      "Beluchi\n",
      "Beneventi\n",
      "Benford\n",
      "Benjamin\n",
      "Bennet\n",
      "Bennett\n",
      "Bennetts\n",
      "Benson\n",
      "Bentley\n",
      "Bergamaschi\n",
      "Bergman\n",
      "Berkeley\n",
      "Berry\n",
      "Bess\n",
      "Bevan\n",
      "Bevington\n",
      "Beyer\n",
      "Bezrukov\n",
      "Bezrukova\n",
      "Bianchi\n",
      "Bibi\n",
      "Bidencope\n",
      "Bidwill\n",
      "Binder\n",
      "Birch\n",
      "Bird\n",
      "Birdsall\n",
      "Birdseye\n",
      "Birk\n",
      "Birnie\n",
      "Biryukov\n",
      "Biryukova\n",
      "Bischof\n",
      "Bishop\n",
      "Black\n",
      "Blackall\n",
      "Blackburn\n",
      "Blacklock\n",
      "Blackwood\n",
      "Blair\n",
      "Blake\n",
      "Bledsoe\n",
      "Bligh\n",
      "Blinova\n",
      "Blue\n",
      "Bluett\n",
      "Boag\n",
      "Boan\n",
      "Board\n",
      "Bobrov\n",
      "Bocharova\n",
      "Bochsa\n",
      "Bock\n",
      "Bogdanov\n",
      "Bogdanova\n",
      "Bogle\n",
      "Bogolyubov\n",
      "Bold\n",
      "Bolton\n",
      "Bond\n",
      "Bonham\n",
      "Boni\n",
      "Boniwell\n",
      "Bonwick\n",
      "Boone\n",
      "Booth\n",
      "Boothby\n",
      "Borchgrevink\n",
      "Bottrill\n",
      "Botts\n",
      "Boucaut\n",
      "Boulger\n",
      "Bovee\n",
      "Bowen\n",
      "Bowhay\n",
      "Bowman\n",
      "Boyd\n",
      "Boylan\n",
      "Boyle\n",
      "Bozeman\n",
      "Brabyn\n",
      "Bracewell\n",
      "Bradbury\n",
      "Bradley\n",
      "Bradshaw\n",
      "Brady\n",
      "Bray\n",
      "Brazenor\n",
      "Bremer\n",
      "Brenan\n",
      "Brennan\n",
      "Brewer\n",
      "Brient\n",
      "Brierly\n",
      "Briggs\n",
      "Brigstocke\n",
      "Brim\n",
      "Brizendine\n",
      "Broadhurst\n",
      "Brock\n",
      "Brodney\n",
      "Bromby\n",
      "Bromley\n",
      "Brookes\n",
      "Brookman\n",
      "Brooks\n",
      "Brothers\n",
      "Brown\n",
      "Browne\n",
      "Brownless\n",
      "Brownlow\n",
      "Bruce\n",
      "Bruner\n",
      "Bruno\n",
      "Bruny\n",
      "Bryan\n",
      "Bryant\n",
      "Buccho\n",
      "Buchanan\n",
      "Buchi\n",
      "Buckland\n",
      "Buckley\n",
      "Buckner\n",
      "Buda\n",
      "Buddicom\n",
      "Builder\n",
      "Bukowski\n",
      "Buley\n",
      "Bulgakov\n",
      "Bull\n",
      "Bullen\n",
      "Bunton\n",
      "Burbidge\n",
      "Burdekin\n",
      "Burfitt\n",
      "Burgess\n",
      "Burgin\n",
      "Burgmann\n",
      "Burgos\n",
      "Burgoyne\n",
      "Burke\n",
      "Burlingame\n",
      "Burn\n",
      "Burns\n",
      "Burrows\n",
      "Burson\n",
      "Burt\n",
      "Burtch\n",
      "Burton\n",
      "Bushell\n",
      "Bustard\n",
      "Butcher\n",
      "Butler\n",
      "Buttenshaw\n",
      "Butters\n",
      "Butusov\n",
      "Bykov\n",
      "Byrne\n",
      "Caffyn\n",
      "Cairns\n",
      "Calabrese\n",
      "Calabresi\n",
      "Caldwell\n",
      "Calzada\n",
      "Cambage\n",
      "Cameron\n",
      "Campa\n",
      "Campbell\n",
      "Campos\n",
      "Candler\n",
      "Cantamessa\n",
      "Cantrell\n",
      "Capon\n",
      "Carandini\n",
      "Caraway\n",
      "Cardell\n",
      "Cardus\n",
      "Carey\n",
      "Carlson\n",
      "Carpenter\n",
      "Carr\n",
      "Carroll\n",
      "Carruthers\n",
      "Carslaw\n",
      "Cartagena\n",
      "Carter\n",
      "Cartwright\n",
      "Carvosso\n",
      "Cary\n",
      "Cashin\n",
      "Castella\n",
      "Castiglione\n",
      "Castillo\n",
      "Castles\n",
      "Castro\n",
      "Catchpole\n",
      "Cattaneo\n",
      "Cavenagh\n",
      "Cavill\n",
      "Cawood\n",
      "Cawthorne\n",
      "Cayley\n",
      "Cecil\n",
      "Celis\n",
      "Ch'ang\n",
      "Ch'en\n",
      "Ch'eng\n",
      "Ch'ien\n",
      "Ch'in\n",
      "Ch'iu\n",
      "Chadwick\n",
      "Challis\n",
      "Chalmers\n",
      "Chamberlain\n",
      "Chamberlin\n",
      "Chambers\n",
      "Champion\n",
      "Chan\n",
      "Chandler\n",
      "Chang\n",
      "Chao\n",
      "Chapman\n",
      "Charlton\n",
      "Charteris\n",
      "Chase\n",
      "Chatfield\n",
      "Cheatham\n",
      "Chen\n",
      "Cheng\n",
      "Cherkasova\n",
      "Chesnokova\n",
      "Chester\n",
      "Chia\n",
      "Chiabuotu\n",
      "Chiagoziem\n",
      "Chialuka\n",
      "Chiang\n",
      "Chiawuotu\n",
      "Chiazagomekpele\n",
      "Chiazagomekpere\n",
      "Chibueze\n",
      "Chibugo\n",
      "Chibuzo\n",
      "Chidalu\n",
      "Chidi\n",
      "Chidiebele\n",
      "Chidiebere\n",
      "Chidiegwu\n",
      "Chidimma\n",
      "Chidozie\n",
      "Chidubem\n",
      "Chidumaga\n",
      "Chiebuka\n",
      "Chiedozie\n",
      "Chiefo\n",
      "Chiekwugo\n",
      "Chieloka\n",
      "Chiemeka\n",
      "Chiemela\n",
      "Chiemenam\n",
      "Chiemezie\n",
      "Chien\n",
      "Chienezie\n",
      "Chifley\n",
      "Chifo\n",
      "Chiganu\n",
      "Chigbogu\n",
      "Chigolum\n",
      "Chigozie\n",
      "Chijindum\n",
      "Chijioke\n",
      "Chikelu\n",
      "Chikere\n",
      "Chikezie\n",
      "Chikwado\n",
      "Chikwendu\n",
      "Childs\n",
      "Chill\n",
      "Chimaijem\n",
      "Chimaobim\n",
      "Chimaoke\n",
      "Chimaraoke\n",
      "Chimezie\n",
      "Chin\n",
      "Chinagorom\n",
      "Chinedum\n",
      "Chineze\n",
      "Chinomso\n",
      "Chinonyelum\n",
      "Chinweike\n",
      "Chinwemma\n",
      "Chinwendu\n",
      "Chinwenma\n",
      "Chinweuba\n",
      "Chiu\n",
      "Chiwetelu\n",
      "Chizoba\n",
      "Chizuoke\n",
      "Chou\n",
      "Christian\n",
      "Christie\n",
      "Christmas\n",
      "Christopher\n",
      "Chu\n",
      "Chuang\n",
      "Chubb\n",
      "Chukwualuka\n",
      "Chukwubuikem\n",
      "Chukwudi\n",
      "Chukwuebuka\n",
      "Chukwueloka\n",
      "Chukwuemeka\n",
      "Chukwufumnanya\n",
      "Chukwuhaenye\n",
      "Chukwujamuike\n",
      "Chukwujekwu\n",
      "Chukwukadibia\n",
      "Chukwukere\n",
      "Chukwuma\n",
      "Chukwumaobim\n",
      "Chukwunonso\n",
      "Chukwuraenye\n",
      "Chung\n",
      "Chuter\n",
      "Cisneros\n",
      "Claiborne\n",
      "Clamp\n",
      "Clancy\n",
      "Clapp\n",
      "Clark\n",
      "Clarke\n",
      "Claypool\n",
      "Clayton\n",
      "Clements\n",
      "Clendinnen\n",
      "Cleveland\n",
      "Clifton\n",
      "Clogstoun\n",
      "Clunie\n",
      "Coates\n",
      "Cobb\n",
      "Coburn\n",
      "Cocci\n",
      "Cochran\n",
      "Cockett\n",
      "Cockrum\n",
      "Cody\n",
      "Coffee\n",
      "Coffey\n",
      "Cohn\n",
      "Colbert\n",
      "Cole\n",
      "Colebatch\n",
      "Coleman\n",
      "Coles\n",
      "Collee\n",
      "Collier\n",
      "Collingridge de Tourcey\n",
      "Collins\n",
      "Colman\n",
      "Colombo\n",
      "Colon\n",
      "Combes\n",
      "Combs\n",
      "Congreve\n",
      "Connely\n",
      "Connolly\n",
      "Connor\n",
      "Conti\n",
      "Converse\n",
      "Conway\n",
      "Cook\n",
      "Cooke\n",
      "Cookson\n",
      "Coombes\n",
      "Cooper\n",
      "Copeland\n",
      "Coppin\n",
      "Corby\n",
      "Corones\n",
      "Corran\n",
      "Corrie\n",
      "Corser\n",
      "Corson\n",
      "Costa\n",
      "Coupp\n",
      "Cousens\n",
      "Cover\n",
      "Cowen\n",
      "Cowger\n",
      "Cox\n",
      "Craig\n",
      "Craigie\n",
      "Cran\n",
      "Crawford\n",
      "Creel\n",
      "Cremin\n",
      "Cremonesi\n",
      "Creswell\n",
      "Cribb\n",
      "Crist\n",
      "Crocker\n",
      "Cross\n",
      "Crowther\n",
      "Crumbley\n",
      "Crump\n",
      "Cruz\n",
      "Culbreth\n",
      "Cullen\n",
      "Cumbrae-Stewart\n",
      "Cummins\n",
      "Cunningham\n",
      "Curnow\n",
      "Currey\n",
      "Curtis\n",
      "Custance\n",
      "Cyril\n",
      "Czajkowski\n",
      "D'Albertis\n",
      "Dahlenburg\n",
      "Dale\n",
      "Dalrymple\n",
      "Dalton\n",
      "Daluchi\n",
      "Daly\n",
      "Dancy\n",
      "Daniels\n",
      "Dann\n",
      "Darling\n",
      "Darwin\n",
      "Davey\n",
      "David\n",
      "Davide\n",
      "Davidson\n",
      "Davies\n",
      "Davila\n",
      "Davis\n",
      "Davison\n",
      "Davy\n",
      "Davydova\n",
      "Dawson\n",
      "Day\n",
      "De Bernales\n",
      "De Garis\n",
      "De Luca\n",
      "De Mestre\n",
      "De Neeve\n",
      "De Salis\n",
      "DeRose\n",
      "Dean\n",
      "Debellis\n",
      "Defalco\n",
      "Degtyarev\n",
      "Degtyaryov\n",
      "Deleon\n",
      "Dellucci\n",
      "Demaine\n",
      "Demidov\n",
      "Demuth\n",
      "Denisov\n",
      "Denisova\n",
      "Denman\n",
      "Dennis\n",
      "Dennys\n",
      "Descoteaux\n",
      "Despeissis\n",
      "Dettmann\n",
      "Diaz\n",
      "Dickinson\n",
      "Dickson\n",
      "Diehl\n",
      "Dietz\n",
      "Dike\n",
      "Dilibe\n",
      "Dilke\n",
      "Dillon\n",
      "Dimauro\n",
      "Dipietro\n",
      "Diribe\n",
      "Disher\n",
      "Distefano\n",
      "Dixon\n",
      "Dobie\n",
      "Dobson\n",
      "Docherty\n",
      "Dodd\n",
      "Dodgshun\n",
      "Doherty\n",
      "Dolgorukova\n",
      "Dominguez\n",
      "Donaghy\n",
      "Donahue\n",
      "Donaldson\n",
      "Donnelly\n",
      "Dore\n",
      "Douglas\n",
      "Downer\n",
      "Downie\n",
      "Doyle\n",
      "Doyne\n",
      "Drake\n",
      "Drake-Brockman\n",
      "Drakeford\n",
      "Drury\n",
      "Du Cane\n",
      "Dubinina\n",
      "Duffy\n",
      "Dufresne\n",
      "Duggan\n",
      "Duigan\n",
      "Duke\n",
      "Dumetochukwu\n",
      "Dumetolisa\n",
      "Dumolo\n",
      "Dunbabin\n",
      "Duncan\n",
      "Dunn\n",
      "Durant\n",
      "Dwyer\n",
      "Dyer\n",
      "Dynon\n",
      "Dyson\n",
      "Eames\n",
      "Earl\n",
      "Earle\n",
      "Ebelechukwu\n",
      "Ebelegbulam\n",
      "Eberechukwu\n",
      "Eberegbulam\n",
      "Echezonachukwu\n",
      "Ecuyer\n",
      "Eddy\n",
      "Edgar\n",
      "Edith\n",
      "Edman\n",
      "Edments\n",
      "Edmondstone\n",
      "Edmund la Touche\n",
      "Edwards\n",
      "Efimov\n",
      "Efremov\n",
      "Efremova\n",
      "Egobudike\n",
      "Eidson\n",
      "Eiland\n",
      "Eipper\n",
      "Ejikemeifeuwa\n",
      "Ejimofor\n",
      "Ekechukwu\n",
      "Ekwueme\n",
      "Elder\n",
      "Elewechi\n",
      "Elizabeth\n",
      "Elkins\n",
      "Elliot\n",
      "Elliott\n",
      "Ellis\n",
      "Elmore\n",
      "Eluemuno\n",
      "Emenike\n",
      "Emery\n",
      "Enderby\n",
      "Endrizzi\n",
      "Enemuo\n",
      "Enriquez\n",
      "Enticknap\n",
      "Enyinnaya\n",
      "Eremenko\n",
      "Ermakov\n",
      "Ermakova\n",
      "Erskine\n",
      "Ervin\n",
      "Eskridge\n",
      "Esomchi\n",
      "Espinosa\n",
      "Esposito\n",
      "Esquivel\n",
      "Estep\n",
      "Estrada\n",
      "Etheridge\n",
      "Eva\n",
      "Evans\n",
      "Evdokimov\n",
      "Eve\n",
      "Everett\n",
      "Everingham\n",
      "Evseev\n",
      "Evseyev\n",
      "Ewen\n",
      "Ewers\n",
      "Ewing\n",
      "Fabro\n",
      "Fadden\n",
      "Fairley\n",
      "Fallaci\n",
      "Fan\n",
      "Fancher\n",
      "Fane\n",
      "Fang\n",
      "Fantin\n",
      "Fanucci\n",
      "Farber\n",
      "Faria\n",
      "Farmer\n",
      "Farnsworth\n",
      "Farrar\n",
      "Farrell\n",
      "Faulk\n",
      "Faulkner\n",
      "Favors\n",
      "Fedorov\n",
      "Fedorova\n",
      "Feetham\n",
      "Felix\n",
      "Feng\n",
      "Fennell\n",
      "Fennescey\n",
      "Fenton\n",
      "Ferguson\n",
      "Fermin\n",
      "Fernando\n",
      "Fernie\n",
      "Ferrari\n",
      "Ferreira\n",
      "Ferri\n",
      "Fetherstonhaugh\n",
      "Field\n",
      "Fielding\n",
      "Fields\n",
      "Finch\n",
      "Findlay\n",
      "Fink\n",
      "Fiore\n",
      "Fiorentini\n",
      "Fiorentino\n",
      "Fischer\n",
      "Fishbourne\n",
      "Fisher\n",
      "Fisk\n",
      "Fitch\n",
      "Fitzgerald\n",
      "Fitzpatrick\n",
      "Flannagan\n",
      "Flannery\n",
      "Fleetwood-Smith\n",
      "Fleming\n",
      "Flemming\n",
      "Fletcher\n",
      "Flores\n",
      "Flynn\n",
      "Fokina\n",
      "Foley\n",
      "Folliero\n",
      "Fomin\n",
      "Fomina\n",
      "Fontaine\n",
      "Fontenot\n",
      "Foran\n",
      "Forbes\n",
      "Ford\n",
      "Forlonge\n",
      "Forster\n",
      "Forwood\n",
      "Foster\n",
      "Foveaux\n",
      "Fowler\n",
      "Fox\n",
      "Foxall\n",
      "Francis\n",
      "Franklin\n",
      "Franz\n",
      "Fraser\n",
      "Frater\n",
      "Frederick\n",
      "Frederickson\n",
      "Freeman\n",
      "French\n",
      "Frewin\n",
      "Fries\n",
      "Froggatt\n",
      "Frolov\n",
      "Frolova\n",
      "Frost\n",
      "Frye\n",
      "Fu\n",
      "Fulks\n",
      "Fuller\n",
      "Fulton\n",
      "Furneaux\n",
      "Fyans\n",
      "Fyodorov\n",
      "Fyodorova\n",
      "Gadsden\n",
      "Gadsdon\n",
      "Galgano\n",
      "Galkin\n",
      "Galkina\n",
      "Gallagher\n",
      "Gallo\n",
      "Gallop\n",
      "Galloway\n",
      "Gamble\n",
      "Gambrell\n",
      "Game\n",
      "Gannon\n",
      "Gant\n",
      "Garcia\n",
      "Gardener\n",
      "Gardiner\n",
      "Gardner\n",
      "Garland\n",
      "Garmon\n",
      "Garner\n",
      "Garnsey\n",
      "Garran\n",
      "Garrett\n",
      "Gartrell\n",
      "Gay\n",
      "Gboliwe\n",
      "Geach\n",
      "Gearhart\n",
      "Gearheart\n",
      "Gebhart\n",
      "Gell\n",
      "Genovese\n",
      "Genovesi\n",
      "Gentry\n",
      "Geoghegan\n",
      "Georg\n",
      "George\n",
      "Gerald\n",
      "Gerasimov\n",
      "Gerasimova\n",
      "Gether\n",
      "Gibbons\n",
      "Gibbs\n",
      "Gibney\n",
      "Gibson\n",
      "Gilbert\n",
      "Gilchrist\n",
      "Giles\n",
      "Gill\n",
      "Gilleland\n",
      "Gilroy\n",
      "Ginikanwa\n",
      "Ginn\n",
      "Giordano\n",
      "Glasgow\n",
      "Glassman\n",
      "Glauert\n",
      "Glazkov\n",
      "Gleeson\n",
      "Glennon\n",
      "Glenny\n",
      "Glossop\n",
      "Glover\n",
      "Goddard\n",
      "Godfrey\n",
      "Godson\n",
      "Goering\n",
      "Goforth\n",
      "Golibe\n",
      "Goliwe\n",
      "Goloubev\n",
      "Golovanov\n",
      "Golubev\n",
      "Golubeva\n",
      "Golubov\n",
      "Golubova\n",
      "Gomes\n",
      "Gonzalez\n",
      "Goodman\n",
      "Goodwin\n",
      "Goold\n",
      "Gorbunov\n",
      "Gorbunova\n",
      "Gordon\n",
      "Gorman\n",
      "Gorshkov\n",
      "Gosnell\n",
      "Gotch\n",
      "Gouger\n",
      "Gough\n",
      "Gould\n",
      "Gow\n",
      "Graham\n",
      "Grant\n",
      "Gratton\n",
      "Gratwick\n",
      "Grave\n",
      "Gray\n",
      "Greathouse\n",
      "Greaves\n",
      "Greco\n",
      "Greece\n",
      "Green\n",
      "Greene\n",
      "Greenhalgh\n",
      "Greenwalt\n",
      "Greenwood\n",
      "Greeves\n",
      "Gregory\n",
      "Gregson\n",
      "Gresswell\n",
      "Grieve\n",
      "Griffen\n",
      "Griffin\n",
      "Griffiths\n",
      "Grigoryeva\n",
      "Grimmett\n",
      "Groom\n",
      "Grosse\n",
      "Grover\n",
      "Groves\n",
      "Grubb\n",
      "Guerin\n",
      "Guerra\n",
      "Guidry\n",
      "Gunson\n",
      "Gunter\n",
      "H?\n",
      "Hackett\n",
      "Haddon\n",
      "Hagins\n",
      "Hairston\n",
      "Hajek\n",
      "Hale\n",
      "Hales\n",
      "Hall\n",
      "Hallahan\n",
      "Halpern\n",
      "Ham\n",
      "Hamilton\n",
      "Hammer\n",
      "Hammond\n",
      "Hammonds\n",
      "Hampton\n",
      "Han\n",
      "Hancock\n",
      "Hand\n",
      "Hankinson\n",
      "Hanna\n",
      "Hannaford\n",
      "Hannah\n",
      "Hannam\n",
      "Hansen\n",
      "Hanson\n",
      "Hao\n",
      "Hardacre\n",
      "Hardiman\n",
      "Harding\n",
      "Hardy\n",
      "Hare\n",
      "Harewood\n",
      "Hargrave\n",
      "Hargraves\n",
      "Hargreaves\n",
      "Harker\n",
      "Harper\n",
      "Harrell\n",
      "Harriman\n",
      "Harrington\n",
      "Harris\n",
      "Harrison\n",
      "Hart\n",
      "Hartley\n",
      "Hartung\n",
      "Harvey\n",
      "Hassall\n",
      "Haugh\n",
      "Hawdon\n",
      "Hawes\n",
      "Hawkins\n",
      "Hawks\n",
      "Haworth\n",
      "Hawthorn\n",
      "Hay\n",
      "Hayes\n",
      "Hayes-Williams\n",
      "Haynes\n",
      "Hayslett\n",
      "Hayward\n",
      "Hazon\n",
      "He\n",
      "Heap\n",
      "Heard\n",
      "Hearn\n",
      "Heath\n",
      "Hebert\n",
      "Helena\n",
      "Heller\n",
      "Henderson\n",
      "Hendley\n",
      "Hendrick\n",
      "Henry\n",
      "Henty\n",
      "Herbert\n",
      "Hernandez\n",
      "Herrera\n",
      "Herring\n",
      "Herz\n",
      "Hess\n",
      "Hewitt\n",
      "Heydon\n",
      "Hibbins\n",
      "Hickey\n",
      "Hicks\n",
      "Higgins\n",
      "Highett\n",
      "Highland\n",
      "Hightower\n",
      "Hill\n",
      "Hilton\n",
      "Hingston\n",
      "Hinton\n",
      "Hirst\n",
      "Hixson\n",
      "Ho\n",
      "Hobbs\n",
      "Hobler\n",
      "Hodge\n",
      "Hodgson\n",
      "Holbrook\n",
      "Holden\n",
      "Holder\n",
      "Holland\n",
      "Hollis\n",
      "Holloway\n",
      "Holman\n",
      "Holmes\n",
      "Holmwood\n",
      "Holt\n",
      "Honore\n",
      "Hooker\n",
      "Hoolan\n",
      "Hooper\n",
      "Hope\n",
      "Hopetoun\n",
      "Hopkins\n",
      "Hopwood\n",
      "Horan\n",
      "Hornung\n",
      "Horrocks\n",
      "Horsley\n",
      "Horton\n",
      "Hou\n",
      "Houghton\n",
      "Hovell\n",
      "Howard\n",
      "Howarde\n",
      "Howarth\n",
      "Howe\n",
      "Howell\n",
      "Howell-Price\n",
      "Howells\n",
      "Howey\n",
      "Hs?\n",
      "Hs?eh\n",
      "Hsia\n",
      "Hsiao\n",
      "Hsieh\n",
      "Hsing\n",
      "Hsiung\n",
      "Hsu\n",
      "Hsueh\n",
      "Hu\n",
      "Huang\n",
      "Huddart\n",
      "Hudson\n",
      "Hughes\n",
      "Hughes-Jones\n",
      "Huguley\n",
      "Hull\n",
      "Humffray\n",
      "Humphreys\n",
      "Humphries\n",
      "Hung\n",
      "Hunt\n",
      "Hunter\n",
      "Hurst\n",
      "Hussain\n",
      "Hussey\n",
      "Hutcheon\n",
      "Hutchinson\n",
      "Hyde\n",
      "Hysell\n",
      "Iadanza\n",
      "Ibbott\n",
      "Ibeabuchi\n",
      "Ibeamaka\n",
      "Ibekwe\n",
      "Ibezimako\n",
      "Ibragimova\n",
      "Ibrahimov\n",
      "Ibrahimova\n",
      "Ifeajuna\n",
      "Ifeanacho\n",
      "Ifeanyichukwu\n",
      "Ifeatu\n",
      "Ifesinachi\n",
      "Ignatieff\n",
      "Ignatiev\n",
      "Ignatyev\n",
      "Ignatyeva\n",
      "Igwebuike\n",
      "Iheanacho\n",
      "Iheatu\n",
      "Ijendu\n",
      "Ikechukwu\n",
      "Ikedinachukwu\n",
      "Ikemefuna\n",
      "Ikenna\n",
      "Illingworth\n",
      "Iloabuchi\n",
      "Iloerika\n",
      "Ilyina\n",
      "Ingamells\n",
      "Ingram\n",
      "Ingrassia\n",
      "Innes\n",
      "Iqbal\n",
      "Iredale\n",
      "Ireland\n",
      "Iroawuchi\n",
      "Isaacs\n",
      "Isayev\n",
      "Isayeva\n",
      "Istomin\n",
      "Ives\n",
      "Iweobiegbulam\n",
      "Iweobiegbunam\n",
      "Izmailov\n",
      "Izmailova\n",
      "Izuchukwu\n",
      "Jack\n",
      "Jacka\n",
      "Jackson\n",
      "James\n",
      "Jamieson\n",
      "Jamison\n",
      "Jara\n",
      "Jarvis\n",
      "Jefferies\n",
      "Jefferson\n",
      "Jeffrey\n",
      "Jen\n",
      "Jenkins\n",
      "Jenks\n",
      "Jennings\n",
      "Jensen\n",
      "Jerger\n",
      "Jibunoh\n",
      "Jideofor\n",
      "Jimenez\n",
      "Jobson\n",
      "John\n",
      "Johnson\n",
      "Johnston\n",
      "Johnstone\n",
      "Jolly\n",
      "Jones\n",
      "Jordan\n",
      "Jose\n",
      "Joshua\n",
      "Joslin\n",
      "Jowers\n",
      "Jowett\n",
      "Judd\n",
      "Jude\n",
      "Justice\n",
      "K'ung\n",
      "K?\n",
      "Kable\n",
      "Kaeppel\n",
      "Kaleski\n",
      "Kalinin\n",
      "Kalinina\n",
      "Kambinachi\n",
      "Kamdibe\n",
      "Kanayochukwu\n",
      "Kane\n",
      "Kang\n",
      "Kao\n",
      "Kaodilinakachukwu\n",
      "Kapustin\n",
      "Kapustina\n",
      "Kashiwagi\n",
      "Kauffmann\n",
      "Kaur\n",
      "Kay\n",
      "Kazakova\n",
      "Kazantsev\n",
      "Kazantseva\n",
      "Keane\n",
      "Keating\n",
      "Keen\n",
      "Keldie\n",
      "Kelechi\n",
      "Kelley\n",
      "Kellway\n",
      "Kelly\n",
      "Kemp\n",
      "Kendall\n",
      "Kenechukwu\n",
      "Kenenna\n",
      "Kennedy\n",
      "Kenniff\n",
      "Kent\n",
      "Kentish\n",
      "Kenyon\n",
      "Kepley\n",
      "Kerr\n",
      "Kershaw\n",
      "Kesteven\n",
      "Khan\n",
      "Kharitonova\n",
      "Kharlamov\n",
      "Kharlamova\n",
      "Kibble\n",
      "Kiernan\n",
      "Kilgour\n",
      "Kincaid\n",
      "Kinder\n",
      "King\n",
      "Kingsley\n",
      "Kinney\n",
      "Kirby\n",
      "Kirillov\n",
      "Kirillova\n",
      "Kirk\n",
      "Kirkland\n",
      "Kirsova\n",
      "Kirwan\n",
      "Kisch\n",
      "Kistler\n",
      "Klein\n",
      "Knepper\n",
      "Knight\n",
      "Knipe\n",
      "Knowles\n",
      "Knox\n",
      "Knupp\n",
      "Ko\n",
      "Koch\n",
      "Kodilinyechukwu\n",
      "Koehler\n",
      "Koger\n",
      "Kolesnikov\n",
      "Kolesnikova\n",
      "Komar\n",
      "Komarova\n",
      "Konovalova\n",
      "Koo\n",
      "Korff\n",
      "Kornilova\n",
      "Korovin\n",
      "Korovina\n",
      "Kosisochukwu\n",
      "Kovalev\n",
      "Kovaleva\n",
      "Kovalyov\n",
      "Kovalyova\n",
      "Kozlova\n",
      "Krawczyk\n",
      "Krichauff\n",
      "Krischock\n",
      "Kruglov\n",
      "Kruglova\n",
      "Krylov\n",
      "Kryukova\n",
      "Ku\n",
      "Kudryashova\n",
      "Kulikova\n",
      "Kung\n",
      "Kuo\n",
      "Kuykendall\n",
      "Kuznetsova\n",
      "Kwemto\n",
      "Kwemtochukwu\n",
      "L?\n",
      "Lablanc\n",
      "Labrador\n",
      "Lacross\n",
      "Lafleur\n",
      "Lahti\n",
      "Lai\n",
      "Laidley\n",
      "Lajoie\n",
      "Lamb\n",
      "Lambert\n",
      "Lambie\n",
      "Lamble\n",
      "Landman\n",
      "Landry\n",
      "Landseer\n",
      "Lane\n",
      "Laney\n",
      "Lang\n",
      "Langdon\n",
      "Lange\n",
      "Langlands\n",
      "Langler\n",
      "Lappin\n",
      "Larionova\n",
      "Larkin\n",
      "Larsen\n",
      "Larson\n",
      "Lascelles\n",
      "Lassetter\n",
      "Lattimore\n",
      "Laurens\n",
      "Laurie\n",
      "Lavarack\n",
      "Lavine\n",
      "Lavrentiev\n",
      "Lavrentyev\n",
      "Lavrov\n",
      "Law\n",
      "Lawless\n",
      "Lawley\n",
      "Lawrence\n",
      "Lawson\n",
      "Lay\n",
      "Layh\n",
      "Lazar\n",
      "Lazarev\n",
      "Lazareva\n",
      "Le Gallienne\n",
      "Le Grand\n",
      "Le Hunte\n",
      "Lea\n",
      "Leach\n",
      "Leak\n",
      "Lear\n",
      "Learmonth\n",
      "Leason\n",
      "Leckie\n",
      "Lederer\n",
      "Ledford\n",
      "Lee\n",
      "Lees\n",
      "Lehr\n",
      "Lei\n",
      "Leibius\n",
      "Lenhardt\n",
      "Lennox\n",
      "Leonard\n",
      "Lettiere\n",
      "Levan\n",
      "Levi\n",
      "Levien\n",
      "Levy\n",
      "Lewis\n",
      "Leworthy\n",
      "Li\n",
      "Li Fonti\n",
      "Liang\n",
      "Liao\n",
      "Liardet\n",
      "Liebe\n",
      "Light\n",
      "Lilly\n",
      "Lim\n",
      "Lin\n",
      "Lindell\n",
      "Lindeman\n",
      "Lindon\n",
      "Lindsay\n",
      "Linger\n",
      "Lionel\n",
      "Lipton\n",
      "Lira\n",
      "Liston\n",
      "Little\n",
      "Liu\n",
      "Lloyd\n",
      "Lo\n",
      "Lo Duca\n",
      "Loane\n",
      "Lock\n",
      "Locke\n",
      "Lockett\n",
      "Lockington\n",
      "Lockyer\n",
      "Loewenthal\n",
      "Loftus\n",
      "Logan\n",
      "Loggia\n",
      "Loginov\n",
      "Logue\n",
      "Lombardi\n",
      "Lombardo\n",
      "Long\n",
      "Longo\n",
      "Longstaff\n",
      "Lord\n",
      "Lorenzen\n",
      "Lorenzo\n",
      "Lori\n",
      "Lorimer\n",
      "Loton\n",
      "Louis\n",
      "Lovely\n",
      "Loving\n",
      "Lowe\n",
      "Lowrie\n",
      "Loyau\n",
      "Lu\n",
      "Lucas\n",
      "Lucchese\n",
      "Lucchesi\n",
      "Lucciano\n",
      "Ludowici\n",
      "Lueck\n",
      "Luffman\n",
      "Lujan\n",
      "Lumholtz\n",
      "Lung\n",
      "Lynch\n",
      "Lynton\n",
      "Lyons\n",
      "Lysaght\n",
      "Ma\n",
      "MacDevitt\n",
      "MacDonald\n",
      "MacDonnell\n",
      "MacPherson\n",
      "Macadam\n",
      "Macarthur\n",
      "Macartney\n",
      "Macdonald\n",
      "Macfarlan\n",
      "Mach\n",
      "Macintyre\n",
      "Mack\n",
      "Mackay\n",
      "Mackenzie\n",
      "Mackey\n",
      "Mackie\n",
      "Mackinlay\n",
      "Macknight\n",
      "Maclean\n",
      "Macleod\n",
      "Macnamara\n",
      "Maconochie\n",
      "Macrossan\n",
      "Mactier\n",
      "Macvitie\n",
      "Madison\n",
      "Maduabuchim\n",
      "Madueke\n",
      "Madukaego\n",
      "Madukaife\n",
      "Madukwe\n",
      "Maggard\n",
      "Mahmood\n",
      "Mahomed\n",
      "Mahon\n",
      "Mai\n",
      "Mairinger\n",
      "Maitland\n",
      "Major\n",
      "Malloy\n",
      "Mamelu\n",
      "Mancini\n",
      "Manfrin\n",
      "Mann\n",
      "Manna\n",
      "Manners\n",
      "Manning\n",
      "Mansom\n",
      "Mao\n",
      "Marcelo\n",
      "Marchesi\n",
      "Marcus\n",
      "Marian\n",
      "Marino\n",
      "Mario\n",
      "Marks\n",
      "Marquez\n",
      "Marrero\n",
      "Marsden\n",
      "Marsh\n",
      "Marshall\n",
      "Marshall-Hall\n",
      "Martel\n",
      "Martin\n",
      "Martinez\n",
      "Maruff\n",
      "Mashman\n",
      "Maslov\n",
      "Maslova\n",
      "Maslow\n",
      "Mason\n",
      "Massie\n",
      "Mathews\n",
      "Matthews\n",
      "Matthias\n",
      "Matveyev\n",
      "Matveyeva\n",
      "Maughan\n",
      "Mauldon\n",
      "Mault\n",
      "Maxwell\n",
      "May\n",
      "Maynard\n",
      "Mayne\n",
      "Mayrhofer\n",
      "Mays\n",
      "Mazure\n",
      "Mazzanti\n",
      "Mazzi\n",
      "Mbadiwe\n",
      "Mbanefo\n",
      "McCaffrey\n",
      "McCall\n",
      "McCane\n",
      "McCardle\n",
      "McCarthy\n",
      "McCartney\n",
      "McCawley\n",
      "McChesney\n",
      "McClaran\n",
      "McClemans\n",
      "McClinton\n",
      "McCollum\n",
      "McConnell\n",
      "McCulloch\n",
      "McDaniels\n",
      "McDavid\n",
      "McDonald\n",
      "McDowell\n",
      "McElhone\n",
      "McElroy\n",
      "McElyea\n",
      "McEncroe\n",
      "McEwan\n",
      "McFarland\n",
      "McGarry\n",
      "McGill\n",
      "McGregor\n",
      "McGuffog\n",
      "McGuigan\n",
      "McGuirk\n",
      "McIntosh\n",
      "McIntyre\n",
      "McKay\n",
      "McKee\n",
      "McKelvey\n",
      "McKenzie\n",
      "McKinley\n",
      "McKinnon\n",
      "McKissick\n",
      "McLachlan\n",
      "McLean\n",
      "McMasters\n",
      "McMillan\n",
      "McMinn\n",
      "McMorran\n",
      "McNaughtan\n",
      "McNeil\n",
      "McNeill\n",
      "McNess\n",
      "McVey\n",
      "McWilliam\n",
      "McWilliams\n",
      "Mead\n",
      "Meagher\n",
      "Meany\n",
      "Medland\n",
      "Medvedev\n",
      "Medvedeva\n",
      "Meldrum\n",
      "Melendez\n",
      "Mello\n",
      "Mellor\n",
      "Melton\n",
      "Melvin\n",
      "Meng\n",
      "Menhennitt\n",
      "Menkens\n",
      "Meredith\n",
      "Merrett\n",
      "Messersmith\n",
      "Metcalf\n",
      "Metcalfe\n",
      "Miah\n",
      "Micco\n",
      "Michael\n",
      "Michel\n",
      "Michelides\n",
      "Mickey\n",
      "Micklem\n",
      "Middleton\n",
      "Mikkelsen\n",
      "Milanesi\n",
      "Milani\n",
      "Milano\n",
      "Miles\n",
      "Millar\n",
      "Miller\n",
      "Mills\n",
      "Milne\n",
      "Miracle\n",
      "Mirams\n",
      "Miranda\n",
      "Mironov\n",
      "Mironova\n",
      "Mishin\n",
      "Mishina\n",
      "Mistry\n",
      "Mitchel\n",
      "Mitchell\n",
      "Moen\n",
      "Moffitt\n",
      "Mofflin\n",
      "Molineux\n",
      "Molle\n",
      "Mollison\n",
      "Monaldo\n",
      "Monds\n",
      "Monnier\n",
      "Montague\n",
      "Montalvo\n",
      "Montemayor\n",
      "Montes\n",
      "Montgomery\n",
      "Moody\n",
      "Moon\n",
      "Moore\n",
      "Morales\n",
      "Moran\n",
      "Morant\n",
      "Mordvinova\n",
      "More\n",
      "Morehead\n",
      "Moreno\n",
      "Moretti\n",
      "Morey\n",
      "Morgan\n",
      "Morin\n",
      "Morley\n",
      "Moroney\n",
      "Morphett\n",
      "Morres\n",
      "Morrice\n",
      "Morris\n",
      "Morrison\n",
      "Mort\n",
      "Morton\n",
      "Mosley\n",
      "Mosman\n",
      "Moss\n",
      "Mott\n",
      "Mountgarrett\n",
      "Mouzon\n",
      "Moyes\n",
      "Moysey\n",
      "Muecke\n",
      "Mueller\n",
      "Muir\n",
      "Muldrow\n",
      "Mullah\n",
      "Mullan\n",
      "Mullawirraburka\n",
      "Mullen\n",
      "Mundy\n",
      "Munro\n",
      "Munroe\n",
      "Munson\n",
      "Munz\n",
      "Muomelu\n",
      "Muramats\n",
      "Muravyov\n",
      "Muravyova\n",
      "Muriel\n",
      "Murphy\n",
      "Murray\n",
      "Muse\n",
      "Musgrove\n",
      "Myers\n",
      "Nagy\n",
      "Nakayama\n",
      "Namatjira\n",
      "Napolitani\n",
      "Napolitano\n",
      "Naquin\n",
      "Narelle\n",
      "Nash\n",
      "Navarrete\n",
      "Naylor\n",
      "Nazarova\n",
      "Ndubuagha\n",
      "Ndubueze\n",
      "Ndubuisi\n",
      "Ndukaku\n",
      "Neal\n",
      "Nebechi\n",
      "Nebechukwu\n",
      "Nebeolisa\n",
      "Nebeuwa\n",
      "Neitenstein\n",
      "Nekrasov\n",
      "Nekrasova\n",
      "Nelson\n",
      "Nepean\n",
      "Nero\n",
      "Neumann\n",
      "Neumayer\n",
      "Nevels\n",
      "Nevzorova\n",
      "Newbery\n",
      "Newbold\n",
      "Newland\n",
      "Newman\n",
      "Newsom\n",
      "Newton\n",
      "Ngozichukwuka\n",
      "Ni\n",
      "Nicholas\n",
      "Nicholls\n",
      "Nicholson\n",
      "Nickson\n",
      "Nicolay\n",
      "Nicoll\n",
      "Niehaus\n",
      "Nielson\n",
      "Nieves\n",
      "Nikitina\n",
      "Nina\n",
      "Niu\n",
      "Nixon\n",
      "Nkemakolam\n",
      "Nkemakonam\n",
      "Nkemdilim\n",
      "Nkemdirim\n",
      "Nkemjika\n",
      "Nnabuife\n",
      "Nnachetam\n",
      "Nnaemeka\n",
      "Nnaife\n",
      "Nnamdi\n",
      "Nnamutaezinwa\n",
      "Nnanna\n",
      "Nnonso\n",
      "Noble\n",
      "Nock\n",
      "Nolan\n",
      "Norman\n",
      "Norris\n",
      "Norriss\n",
      "North\n",
      "Northern\n",
      "Northey\n",
      "Norton\n",
      "Nott\n",
      "Nucci\n",
      "Nuttall\n",
      "Nwabugwu\n",
      "Nwachinemelu\n",
      "Nwachukwu\n",
      "Nwagugheuzo\n",
      "Nwankwo\n",
      "Nwebube\n",
      "Nweke\n",
      "Nwokeocha\n",
      "Nwokezuike\n",
      "Nwokike\n",
      "Nwora\n",
      "Nworie\n",
      "Nwoye\n",
      "Nyhan\n",
      "O'Brien\n",
      "O'Callaghan\n",
      "O'Donnell\n",
      "O'Kane\n",
      "O'Loghlin\n",
      "O'Meara\n",
      "O'Neill\n",
      "O'Sullivan\n",
      "O'Toole\n",
      "Obiajulu\n",
      "Obialo\n",
      "Obidimkpa\n",
      "Obielumani\n",
      "Obijiaku\n",
      "Obinna\n",
      "Obioma\n",
      "Obiora\n",
      "Obiuto\n",
      "Odell\n",
      "Odili\n",
      "Odinakachukwu\n",
      "Ofodile\n",
      "Ogbonnaya\n",
      "Ogg\n",
      "Ogle\n",
      "Ogochukwu\n",
      "Oguejiofor\n",
      "Ohearn\n",
      "Ojiofor\n",
      "Okagbue\n",
      "Okechukwu\n",
      "Okeke\n",
      "Okoli\n",
      "Okonkwo\n",
      "Okorie\n",
      "Okwuadigbo\n",
      "Okwudilichukwu\n",
      "Okwudiliolisa\n",
      "Okwukwe\n",
      "Okwuoma\n",
      "Olague\n",
      "Oldham\n",
      "Oleary\n",
      "Olejuru\n",
      "Olisaemeka\n",
      "Olisanugo\n",
      "Oliver\n",
      "Olsen\n",
      "Olson\n",
      "Oluchi\n",
      "Oluchukwu\n",
      "Omeokachie\n",
      "Onio\n",
      "Onochie\n",
      "Onodugoadiegbemma\n",
      "Onuchukwu\n",
      "Onuoha\n",
      "Onuora\n",
      "Onwuamaegbu\n",
      "Onwuamaeze\n",
      "Onwuatuegwu\n",
      "Onwubiko\n",
      "Onwudiwe\n",
      "Onwuemelie\n",
      "Onwughara\n",
      "Onwuka\n",
      "Onwumelu\n",
      "Onyekachi\n",
      "Onyekachukwu\n",
      "Onyekaozulu\n",
      "Onyemachukwu\n",
      "Onyemaechi\n",
      "Onyemauchechi\n",
      "Onyemauchechukwu\n",
      "Onyemere\n",
      "Onyenachiya\n",
      "Onyeorulu\n",
      "Onyeoruru\n",
      "Onyinyechukwuka\n",
      "Osborne\n",
      "Osinachi\n",
      "Ositadimma\n",
      "Osonduagwuike\n",
      "Osorio\n",
      "Oster\n",
      "Otitodilichukwu\n",
      "Otitodilinna\n",
      "Otoole\n",
      "Otutodilichukwu\n",
      "Otutodilinna\n",
      "Outhwaite\n",
      "Outlaw\n",
      "Outtrim\n",
      "Overby\n",
      "Owen\n",
      "Owens\n",
      "Ozerova\n",
      "Ozioma\n",
      "Ozoemena\n",
      "Ozuluonye\n",
      "P'an\n",
      "P'eng\n",
      "Pacheco\n",
      "Packham\n",
      "Padilla\n",
      "Padovano\n",
      "Padovesi\n",
      "Pagan\n",
      "Page\n",
      "Pagnotto\n",
      "Pai\n",
      "Palazzi\n",
      "Palerma\n",
      "Palermo\n",
      "Paling\n",
      "Palmer\n",
      "Palmerston\n",
      "Pan\n",
      "Panicucci\n",
      "Panina\n",
      "Pankhurst\n",
      "Pape\n",
      "Paramor\n",
      "Pardey\n",
      "Parker\n",
      "Parkes\n",
      "Parkhill\n",
      "Parkin\n",
      "Parkinson\n",
      "Parks\n",
      "Parrott\n",
      "Parry\n",
      "Parry-Okeden\n",
      "Parsons\n",
      "Patel\n",
      "Paten\n",
      "Paterson\n",
      "Patrick\n",
      "Patterson\n",
      "Pauley\n",
      "Pavlova\n",
      "Payne\n",
      "Peacock\n",
      "Pearce\n",
      "Pearson\n",
      "Pease\n",
      "Peavy\n",
      "Peck\n",
      "Pedder\n",
      "Peel\n",
      "Pendergrass\n",
      "Pendred\n",
      "Peng\n",
      "Pennington\n",
      "Pepper\n",
      "Peppin\n",
      "Percy\n",
      "Perez\n",
      "Perkin\n",
      "Perkins\n",
      "Perreault\n",
      "Perrodin\n",
      "Perry\n",
      "Persse\n",
      "Pethard\n",
      "Pettry\n",
      "Peyser\n",
      "Pham\n",
      "Pharr\n",
      "Phelan\n",
      "Phelps\n",
      "Philip\n",
      "Philipp\n",
      "Phillipps\n",
      "Phillips\n",
      "Piazza\n",
      "Piccio\n",
      "Pickering\n",
      "Pickworth\n",
      "Picot\n",
      "Pike\n",
      "Pino\n",
      "Pinto\n",
      "Pipes\n",
      "Pirogov\n",
      "Pirogova\n",
      "Pirozzi\n",
      "Pisani\n",
      "Pisano\n",
      "Pitcher\n",
      "Pitts\n",
      "Plant\n",
      "Plascencia\n",
      "Plumb\n",
      "Plummer\n",
      "Pokrovskaya\n",
      "Pokrovskii\n",
      "Pokrovsky\n",
      "Pollard\n",
      "Polyakov\n",
      "Polyakova\n",
      "Pomeroy\n",
      "Ponce\n",
      "Poninski\n",
      "Ponomarev\n",
      "Ponomaryov\n",
      "Ponomaryova\n",
      "Poole\n",
      "Pope\n",
      "Porter\n",
      "Postle\n",
      "Potter\n",
      "Pottinger\n",
      "Potts\n",
      "Powell\n",
      "Power\n",
      "Praed\n",
      "Pratt\n",
      "Preston\n",
      "Price\n",
      "Priestley\n",
      "Pritchard\n",
      "Prokhorova\n",
      "Pruneda\n",
      "Pugh\n",
      "Pugliesi\n",
      "Purdy\n",
      "Quaife\n",
      "Quesada\n",
      "Quinn\n",
      "Quinones\n",
      "Radcliffe-Brown\n",
      "Raff\n",
      "Rahman\n",
      "Ramirez\n",
      "Ramos\n",
      "Ramsbotham\n",
      "Ramsden\n",
      "Ramsey\n",
      "Randall\n",
      "Randell\n",
      "Randolph\n",
      "Rapuluchukwu\n",
      "Rapuluolisa\n",
      "Rapuokwu\n",
      "Ratten\n",
      "Rawling\n",
      "Rawlings\n",
      "Raymond\n",
      "Raynor\n",
      "Read\n",
      "Reagan\n",
      "Real\n",
      "Rearick\n",
      "Rechner\n",
      "Redding\n",
      "Reed\n",
      "Rees\n",
      "Reeves\n",
      "Reichard\n",
      "Reid\n",
      "Reilly\n",
      "Remington\n",
      "Rendall\n",
      "Rene\n",
      "Renwick\n",
      "Repina\n",
      "Reppert\n",
      "Retana\n",
      "Revell\n",
      "Reyes\n",
      "Reyna\n",
      "Reynolds\n",
      "Rhodes\n",
      "Ricci\n",
      "Rice\n",
      "Richards\n",
      "Richardson\n",
      "Richmond\n",
      "Rickard\n",
      "Rickards\n",
      "Ridley\n",
      "Rieke\n",
      "Riggs\n",
      "Riley\n",
      "Ringrose\n",
      "Rios\n",
      "Rippey\n",
      "Rishel\n",
      "Rita\n",
      "Ritchie\n",
      "Rivas\n",
      "Rivera\n",
      "Rivero\n",
      "Rivers\n",
      "Rizzo\n",
      "Robb\n",
      "Robe\n",
      "Roberts\n",
      "Robertson\n",
      "Robinson\n",
      "Robson\n",
      "Rocher\n",
      "Rodriguez\n",
      "Rogers\n",
      "Rogova\n",
      "Rohu\n",
      "Rolon\n",
      "Romani\n",
      "Romano\n",
      "Romeo\n",
      "Romero\n",
      "Romilly\n",
      "Rooke\n",
      "Rosas\n",
      "Rose\n",
      "Ross\n",
      "Ross-Watt\n",
      "Rossi\n",
      "Rounsevell\n",
      "Rouse\n",
      "Rowe\n",
      "Rowland\n",
      "Rowley\n",
      "Rowntree\n",
      "Royster\n",
      "Royston\n",
      "Rozhkova\n",
      "Rubensohn\n",
      "Rubeo\n",
      "Rubin\n",
      "Rudd\n",
      "Rudduck\n",
      "Rueda\n",
      "Ruggiero\n",
      "Ruiz\n",
      "Runyon\n",
      "Ruse\n",
      "Russell\n",
      "Russo\n",
      "Ruth\n",
      "Rutherford\n",
      "Rutledge\n",
      "Ryan\n",
      "Ryrie\n",
      "Saad\n",
      "Sabbatini\n",
      "Sacco\n",
      "Sadler\n",
      "Sadlier\n",
      "Sagese\n",
      "Sal\n",
      "Salas\n",
      "Salier\n",
      "Salinas\n",
      "Salmond\n",
      "Salter\n",
      "Samaniego\n",
      "Samoylova\n",
      "Samson\n",
      "Samsonova\n",
      "Sanchez\n",
      "Sandefur\n",
      "Sanders\n",
      "Sanderson\n",
      "Sandover\n",
      "Sanford\n",
      "Sani\n",
      "Santana\n",
      "Santiago\n",
      "Sargent\n",
      "Sargood\n",
      "Sarratt\n",
      "Saunders\n",
      "Sauve\n",
      "Savage\n",
      "Sawtell\n",
      "Sazonova\n",
      "Scannell\n",
      "Schaffer\n",
      "Schatz\n",
      "Schiavone\n",
      "Schmidt\n",
      "Schnaars\n",
      "Schneider\n",
      "Schoenheimer\n",
      "Schofield\n",
      "Schroeder\n",
      "Schwartz\n",
      "Scott\n",
      "Seabrook\n",
      "Seccombe\n",
      "Secombe\n",
      "See\n",
      "Seleznev\n",
      "Selezneva\n",
      "Seleznyov\n",
      "Seleznyova\n",
      "Sells\n",
      "Selwyn\n",
      "Semmens\n",
      "Senior\n",
      "Seppelt\n",
      "Septimus\n",
      "Serena\n",
      "Sergeyev\n",
      "Sergeyeva\n",
      "Serra\n",
      "Serrano\n",
      "Service\n",
      "Severson\n",
      "Shaffer\n",
      "Shah\n",
      "Shahan\n",
      "Shao\n",
      "Sharp\n",
      "Sharpe\n",
      "Shaver\n",
      "Shaw\n",
      "Shcherbakov\n",
      "She\n",
      "Shearston\n",
      "Sheehan\n",
      "Sheets\n",
      "Sheffield\n",
      "Shelby\n",
      "Shelton\n",
      "Shen\n",
      "Shephard\n",
      "Shepherd\n",
      "Sheppard\n",
      "Sherman\n",
      "Sherrod\n",
      "Shih\n",
      "Shillito\n",
      "Shipp\n",
      "Shoebridge\n",
      "Sholes\n",
      "Shoobridge\n",
      "Short\n",
      "Shubin\n",
      "Shubina\n",
      "Siciliani\n",
      "Siciliano\n",
      "Siddons\n",
      "Sidorov\n",
      "Sidorova\n",
      "Sievier\n",
      "Silva\n",
      "Simmons\n",
      "Simon\n",
      "Simpkinson\n",
      "Simpson\n",
      "Sims\n",
      "Sinclair\n",
      "Singh\n",
      "Singleton\n",
      "Sinnett\n",
      "Skelton\n",
      "Skinner\n",
      "Slate\n",
      "Slater\n",
      "Slattery\n",
      "Sleeman\n",
      "Slone\n",
      "Slye\n",
      "Small\n",
      "Smeaton\n",
      "Smith\n",
      "Sneddon\n",
      "Snider\n",
      "Soares\n",
      "Sochima\n",
      "Sokolov\n",
      "Sokolova\n",
      "Solomina\n",
      "Solomon\n",
      "Somadina\n",
      "Somayina\n",
      "Somerville\n",
      "Sopuluchi\n",
      "Sopuluchukwu\n",
      "Sorenson\n",
      "Sorokina\n",
      "Soto\n",
      "Soubeiran\n",
      "Souter\n",
      "Sozonov\n",
      "Sparks\n",
      "Spaull\n",
      "Spears\n",
      "Speight\n",
      "Spence\n",
      "Spencer\n",
      "Speth\n",
      "Spitzer\n",
      "Spring\n",
      "Spyer\n",
      "St Clair\n",
      "Standish\n",
      "Stange\n",
      "Stanley\n",
      "Stanton\n",
      "Steele\n",
      "Steere\n",
      "Stehle\n",
      "Steigrad\n",
      "Steiner\n",
      "Steinhoff\n",
      "Stelzer\n",
      "Stephens\n",
      "Stephenson\n",
      "Sternberg\n",
      "Stetson\n",
      "Stevens\n",
      "Stevenson\n",
      "Stewart\n",
      "Stiger\n",
      "Stiles\n",
      "Stirling\n",
      "Stobie\n",
      "Stokes\n",
      "Stone\n",
      "Stoneman\n",
      "Storey\n",
      "Stout\n",
      "Stradford\n",
      "Streeten\n",
      "Streeter\n",
      "Streeton\n",
      "Sturdee\n",
      "Sturt\n",
      "Su\n",
      "Suffolk\n",
      "Sugden\n",
      "Sukhorukova\n",
      "Sullivan\n",
      "Summers\n",
      "Summerville\n",
      "Sumrall\n",
      "Sun\n",
      "Sunderland\n",
      "Sung\n",
      "Sutherland\n",
      "Sutton\n",
      "Suttor\n",
      "Swadling\n",
      "Swaim\n",
      "Swain\n",
      "Swanson\n",
      "Swanton\n",
      "Swayne\n",
      "Swearingen\n",
      "Swift\n",
      "Swinton\n",
      "Sykes\n",
      "Synnot\n",
      "Szabados\n",
      "T'an\n",
      "T'ang\n",
      "T'ao\n",
      "T'ien\n",
      "Tai\n",
      "Talbot\n",
      "Tan\n",
      "Tang\n",
      "Tao\n",
      "Taplin\n",
      "Tardent\n",
      "Tate\n",
      "Taubman\n",
      "Taverner\n",
      "Taylor\n",
      "Teague\n",
      "Teakle\n",
      "Teng\n",
      "Tennant\n",
      "Terry\n",
      "Thao\n",
      "Theus\n",
      "Thomas\n",
      "Thompson\n",
      "Thomsen\n",
      "Thomson\n",
      "Thornton\n",
      "Thorpe\n",
      "Threatt\n",
      "Thurgood\n",
      "Thynne\n",
      "Tien\n",
      "Tikhonov\n",
      "Tilley\n",
      "Tillman\n",
      "Timms\n",
      "Timperley\n",
      "Ting\n",
      "Tipton\n",
      "Tisdall\n",
      "Titheradge\n",
      "Titus\n",
      "To Rot\n",
      "Tobenna\n",
      "Tobeolisa\n",
      "Tochukwu\n",
      "Todd\n",
      "Tokareva\n",
      "Tokaryev\n",
      "Tomlinson\n",
      "Toomey\n",
      "Topp\n",
      "Torkelson\n",
      "Torode\n",
      "Torreggiani\n",
      "Torres\n",
      "Toscani\n",
      "Toscano\n",
      "Toth\n",
      "Townsend\n",
      "Townsley\n",
      "Traeger\n",
      "Tran\n",
      "Travis\n",
      "Trejo\n",
      "Trentini\n",
      "Trentino\n",
      "Tretiakov\n",
      "Tretiakova\n",
      "Tretyakova\n",
      "Trevascus\n",
      "Trevisan\n",
      "Trevisani\n",
      "Trevisano\n",
      "Trouette\n",
      "Troupe\n",
      "Trout\n",
      "Trujillo\n",
      "Trumbull\n",
      "Ts'ai\n",
      "Ts'ao\n",
      "Ts'ui\n",
      "Tsai\n",
      "Tsao\n",
      "Tseng\n",
      "Tsou\n",
      "Tsui\n",
      "Tu\n",
      "Tuan\n",
      "Tucker\n",
      "Tudawali\n",
      "Tung\n",
      "Turnbull\n",
      "Tychonoff\n",
      "Tyler\n",
      "Tyndall\n",
      "Ubanwa\n",
      "Uchechukwu\n",
      "Uchenna\n",
      "Udegbulam\n",
      "Udegbunam\n",
      "Udinese\n",
      "Udinesi\n",
      "Udobata\n",
      "Udokamma\n",
      "Ugochukwu\n",
      "Ugochukwutubelum\n",
      "Ugoji\n",
      "Ugonna\n",
      "Ugorji\n",
      "Ukaegbulam\n",
      "Ukaegbunam\n",
      "Ulyanov\n",
      "Ulyanova\n",
      "Unaipon\n",
      "Unwin\n",
      "Upchurch\n",
      "Upjohn\n",
      "Urban\n",
      "Uspenskaya\n",
      "Uspensky\n",
      "Utz\n",
      "Uvarov\n",
      "Uvarova\n",
      "Uwaezuoke\n",
      "Uwakwe\n",
      "Vachon\n",
      "Vagin\n",
      "Vaguine\n",
      "Valdez\n",
      "Vale\n",
      "Valentin\n",
      "Valenzuela\n",
      "Vance\n",
      "Vanmeter\n",
      "Vanzetti\n",
      "Vasiliev\n",
      "Vasilieva\n",
      "Vasilyev\n",
      "Vasilyeva\n",
      "Vasin\n",
      "Vassiliev\n",
      "Vavilov\n",
      "Veale\n",
      "Velazquez\n",
      "Veltri\n",
      "Venables\n",
      "Verco\n",
      "Verjus\n",
      "Vessels\n",
      "Vial\n",
      "Vicars\n",
      "Victor\n",
      "Vida\n",
      "Vidal\n",
      "Vidler\n",
      "Vigano\n",
      "Vincent\n",
      "Vinogradoff\n",
      "Vinogradov\n",
      "Vinogradova\n",
      "Virgo\n",
      "Vogel\n",
      "Volkov\n",
      "Volkova\n",
      "Vorobyova\n",
      "Voronina\n",
      "Voronkov\n",
      "Voronoff\n",
      "Voronova\n",
      "Voss\n",
      "Wade\n",
      "Wagner\n",
      "Wakelin\n",
      "Walker\n",
      "Walkom\n",
      "Wall\n",
      "Wallace\n",
      "Wallis\n",
      "Wallwork\n",
      "Walpole\n",
      "Walsh\n",
      "Walters\n",
      "Walton\n",
      "Wan\n",
      "Wang\n",
      "Wanliss\n",
      "Ward\n",
      "Wardell\n",
      "Wardle\n",
      "Waring\n",
      "Wark\n",
      "Warlow-Davies\n",
      "Warner\n",
      "Warren\n",
      "Waterhouse\n",
      "Waters\n",
      "Watkins\n",
      "Watson\n",
      "Watt\n",
      "Watterston\n",
      "Watts\n",
      "Wayn\n",
      "Wearing\n",
      "Weatherford\n",
      "Weaver\n",
      "Webb\n",
      "Weber\n",
      "Webster\n",
      "Wei\n",
      "Weigel\n",
      "Welch\n",
      "Weller\n",
      "Wells\n",
      "Welsh\n",
      "Wentcher\n",
      "Wentworth-Shields\n",
      "Wenz\n",
      "Wertheim\n",
      "West\n",
      "Westerberg\n",
      "Weston\n",
      "Wetherspoon\n",
      "Wheare\n",
      "Wheeler\n",
      "Whiddon\n",
      "White\n",
      "Whitehead\n",
      "Whitehouse\n",
      "Whitfield\n",
      "Whitson\n",
      "Whittaker\n",
      "Whitworth\n",
      "Wickens\n",
      "Wickham\n",
      "Wieck\n",
      "Wilder\n",
      "Wilding\n",
      "Wildman\n",
      "Wiley\n",
      "Wilhelm\n",
      "Wilkes\n",
      "Wilkie\n",
      "Wilkins\n",
      "Wilkinson\n",
      "William\n",
      "Williams\n",
      "Williamson\n",
      "Williford\n",
      "Willis\n",
      "Willoughby\n",
      "Wilsmore\n",
      "Wilson\n",
      "Wimble\n",
      "Windradyne\n",
      "Windsor\n",
      "Winn\n",
      "Winter\n",
      "Winter-Irving\n",
      "Winters\n",
      "Wisdom\n",
      "Witt\n",
      "Wofford\n",
      "Wolfe\n",
      "Wollstonecraft\n",
      "Wong\n",
      "Wood\n",
      "Woodhouse\n",
      "Woods\n",
      "Woodward\n",
      "Woolacott\n",
      "Woolnough\n",
      "Woronoff\n",
      "Worsnop\n",
      "Wreford\n",
      "Wright\n",
      "Wu\n",
      "Wunder\n",
      "Wyatt\n",
      "Wyckoff\n",
      "Wynn\n",
      "Wynne\n",
      "Y?\n",
      "Y?an\n",
      "Yamamoto\n",
      "Yancy\n",
      "Yang\n",
      "Yao\n",
      "Yashina\n",
      "Yates\n",
      "Yeates\n",
      "Yefimova\n",
      "Yefremov\n",
      "Yefremova\n",
      "Yegorova\n",
      "Yeh\n",
      "Yelverton\n",
      "Yen\n",
      "Yermakov\n",
      "Yermakova\n",
      "Yermolayev\n",
      "Yevdokimova\n",
      "Yevseyev\n",
      "Yewen\n",
      "Yin\n",
      "Yip\n",
      "Yirawala\n",
      "Yobachi\n",
      "Yobachukwu\n",
      "Yobanna\n",
      "Yocum\n",
      "Yoo\n",
      "Yost\n",
      "Young\n",
      "Younger\n",
      "Yu\n",
      "Yuan\n",
      "Yudin\n",
      "Yudina\n",
      "Yuille\n",
      "Yuriev\n",
      "Yuryeva\n",
      "Yusupov\n",
      "Yusupova\n",
      "Zack\n",
      "Zaitsev\n",
      "Zakharov\n",
      "Zarate\n",
      "Zaytseva\n",
      "Zetticci\n",
      "Zhdanov\n",
      "Zhdanova\n",
      "Zhirov\n",
      "Zhou\n",
      "Zikoranachidimma\n",
      "Zikoranachukwudimma\n",
      "Zikoranaudodimma\n",
      "Zimmer\n",
      "Zinachukwudi\n",
      "Zito\n",
      "Zotov\n",
      "Zotova\n",
      "Zox\n",
      "Zubarev\n",
      "Zubareva\n",
      "Zuev\n",
      "Zuyev\n",
      "Zuyeva\n"
     ]
    }
   ],
   "source": [
    "sorted_surnames = np.sort(df['Surname'].unique())\n",
    "\n",
    "for surname in sorted_surnames:\n",
    "    print(surname)"
   ]
  },
  {
   "cell_type": "markdown",
   "metadata": {},
   "source": [
    "There is no implicit surname after checking."
   ]
  },
  {
   "cell_type": "code",
   "execution_count": 1045,
   "metadata": {
    "scrolled": false
   },
   "outputs": [
    {
     "data": {
      "text/plain": [
       "array(['France', 'Spain', 'Germany'], dtype=object)"
      ]
     },
     "execution_count": 1045,
     "metadata": {},
     "output_type": "execute_result"
    }
   ],
   "source": [
    "df['Geography'].unique()"
   ]
  },
  {
   "cell_type": "markdown",
   "metadata": {},
   "source": [
    "There is no implicit geography after checking."
   ]
  },
  {
   "cell_type": "code",
   "execution_count": 1046,
   "metadata": {},
   "outputs": [
    {
     "data": {
      "text/plain": [
       "array(['Female', 'Male'], dtype=object)"
      ]
     },
     "execution_count": 1046,
     "metadata": {},
     "output_type": "execute_result"
    }
   ],
   "source": [
    "df['Gender'].unique()"
   ]
  },
  {
   "cell_type": "markdown",
   "metadata": {},
   "source": [
    "There is no implicit gender after checking."
   ]
  },
  {
   "cell_type": "markdown",
   "metadata": {},
   "source": [
    "### Checking for Duplicates"
   ]
  },
  {
   "cell_type": "code",
   "execution_count": 1047,
   "metadata": {},
   "outputs": [
    {
     "data": {
      "text/plain": [
       "0"
      ]
     },
     "execution_count": 1047,
     "metadata": {},
     "output_type": "execute_result"
    }
   ],
   "source": [
    "df.duplicated().sum()"
   ]
  },
  {
   "cell_type": "markdown",
   "metadata": {},
   "source": [
    "There is no duplicate values."
   ]
  },
  {
   "cell_type": "markdown",
   "metadata": {},
   "source": [
    "###  Checking Data Distribution with Initial Descriptive Statistics"
   ]
  },
  {
   "cell_type": "code",
   "execution_count": 1048,
   "metadata": {},
   "outputs": [
    {
     "data": {
      "text/html": [
       "<div>\n",
       "<style scoped>\n",
       "    .dataframe tbody tr th:only-of-type {\n",
       "        vertical-align: middle;\n",
       "    }\n",
       "\n",
       "    .dataframe tbody tr th {\n",
       "        vertical-align: top;\n",
       "    }\n",
       "\n",
       "    .dataframe thead th {\n",
       "        text-align: right;\n",
       "    }\n",
       "</style>\n",
       "<table border=\"1\" class=\"dataframe\">\n",
       "  <thead>\n",
       "    <tr style=\"text-align: right;\">\n",
       "      <th></th>\n",
       "      <th>RowNumber</th>\n",
       "      <th>CustomerId</th>\n",
       "      <th>CreditScore</th>\n",
       "      <th>Age</th>\n",
       "      <th>Tenure</th>\n",
       "      <th>Balance</th>\n",
       "      <th>NumOfProducts</th>\n",
       "      <th>HasCrCard</th>\n",
       "      <th>IsActiveMember</th>\n",
       "      <th>EstimatedSalary</th>\n",
       "      <th>Exited</th>\n",
       "    </tr>\n",
       "  </thead>\n",
       "  <tbody>\n",
       "    <tr>\n",
       "      <th>count</th>\n",
       "      <td>9091.000000</td>\n",
       "      <td>9.091000e+03</td>\n",
       "      <td>9091.000000</td>\n",
       "      <td>9091.000000</td>\n",
       "      <td>9091.000000</td>\n",
       "      <td>9091.000000</td>\n",
       "      <td>9091.000000</td>\n",
       "      <td>9091.000000</td>\n",
       "      <td>9091.000000</td>\n",
       "      <td>9091.000000</td>\n",
       "      <td>9091.000000</td>\n",
       "    </tr>\n",
       "    <tr>\n",
       "      <th>mean</th>\n",
       "      <td>5013.909911</td>\n",
       "      <td>1.569105e+07</td>\n",
       "      <td>650.736553</td>\n",
       "      <td>38.949181</td>\n",
       "      <td>4.997690</td>\n",
       "      <td>76522.740015</td>\n",
       "      <td>1.530195</td>\n",
       "      <td>0.704983</td>\n",
       "      <td>0.515565</td>\n",
       "      <td>100181.214924</td>\n",
       "      <td>0.203938</td>\n",
       "    </tr>\n",
       "    <tr>\n",
       "      <th>std</th>\n",
       "      <td>2884.433466</td>\n",
       "      <td>7.161419e+04</td>\n",
       "      <td>96.410471</td>\n",
       "      <td>10.555581</td>\n",
       "      <td>2.894723</td>\n",
       "      <td>62329.528576</td>\n",
       "      <td>0.581003</td>\n",
       "      <td>0.456076</td>\n",
       "      <td>0.499785</td>\n",
       "      <td>57624.755647</td>\n",
       "      <td>0.402946</td>\n",
       "    </tr>\n",
       "    <tr>\n",
       "      <th>min</th>\n",
       "      <td>1.000000</td>\n",
       "      <td>1.556570e+07</td>\n",
       "      <td>350.000000</td>\n",
       "      <td>18.000000</td>\n",
       "      <td>0.000000</td>\n",
       "      <td>0.000000</td>\n",
       "      <td>1.000000</td>\n",
       "      <td>0.000000</td>\n",
       "      <td>0.000000</td>\n",
       "      <td>11.580000</td>\n",
       "      <td>0.000000</td>\n",
       "    </tr>\n",
       "    <tr>\n",
       "      <th>25%</th>\n",
       "      <td>2521.500000</td>\n",
       "      <td>1.562899e+07</td>\n",
       "      <td>584.000000</td>\n",
       "      <td>32.000000</td>\n",
       "      <td>2.000000</td>\n",
       "      <td>0.000000</td>\n",
       "      <td>1.000000</td>\n",
       "      <td>0.000000</td>\n",
       "      <td>0.000000</td>\n",
       "      <td>51227.745000</td>\n",
       "      <td>0.000000</td>\n",
       "    </tr>\n",
       "    <tr>\n",
       "      <th>50%</th>\n",
       "      <td>5019.000000</td>\n",
       "      <td>1.569106e+07</td>\n",
       "      <td>652.000000</td>\n",
       "      <td>37.000000</td>\n",
       "      <td>5.000000</td>\n",
       "      <td>97318.250000</td>\n",
       "      <td>1.000000</td>\n",
       "      <td>1.000000</td>\n",
       "      <td>1.000000</td>\n",
       "      <td>100240.200000</td>\n",
       "      <td>0.000000</td>\n",
       "    </tr>\n",
       "    <tr>\n",
       "      <th>75%</th>\n",
       "      <td>7511.500000</td>\n",
       "      <td>1.575285e+07</td>\n",
       "      <td>717.000000</td>\n",
       "      <td>44.000000</td>\n",
       "      <td>7.000000</td>\n",
       "      <td>127561.890000</td>\n",
       "      <td>2.000000</td>\n",
       "      <td>1.000000</td>\n",
       "      <td>1.000000</td>\n",
       "      <td>149567.210000</td>\n",
       "      <td>0.000000</td>\n",
       "    </tr>\n",
       "    <tr>\n",
       "      <th>max</th>\n",
       "      <td>9999.000000</td>\n",
       "      <td>1.581566e+07</td>\n",
       "      <td>850.000000</td>\n",
       "      <td>92.000000</td>\n",
       "      <td>10.000000</td>\n",
       "      <td>250898.090000</td>\n",
       "      <td>4.000000</td>\n",
       "      <td>1.000000</td>\n",
       "      <td>1.000000</td>\n",
       "      <td>199992.480000</td>\n",
       "      <td>1.000000</td>\n",
       "    </tr>\n",
       "  </tbody>\n",
       "</table>\n",
       "</div>"
      ],
      "text/plain": [
       "         RowNumber    CustomerId  CreditScore          Age       Tenure  \\\n",
       "count  9091.000000  9.091000e+03  9091.000000  9091.000000  9091.000000   \n",
       "mean   5013.909911  1.569105e+07   650.736553    38.949181     4.997690   \n",
       "std    2884.433466  7.161419e+04    96.410471    10.555581     2.894723   \n",
       "min       1.000000  1.556570e+07   350.000000    18.000000     0.000000   \n",
       "25%    2521.500000  1.562899e+07   584.000000    32.000000     2.000000   \n",
       "50%    5019.000000  1.569106e+07   652.000000    37.000000     5.000000   \n",
       "75%    7511.500000  1.575285e+07   717.000000    44.000000     7.000000   \n",
       "max    9999.000000  1.581566e+07   850.000000    92.000000    10.000000   \n",
       "\n",
       "             Balance  NumOfProducts    HasCrCard  IsActiveMember  \\\n",
       "count    9091.000000    9091.000000  9091.000000     9091.000000   \n",
       "mean    76522.740015       1.530195     0.704983        0.515565   \n",
       "std     62329.528576       0.581003     0.456076        0.499785   \n",
       "min         0.000000       1.000000     0.000000        0.000000   \n",
       "25%         0.000000       1.000000     0.000000        0.000000   \n",
       "50%     97318.250000       1.000000     1.000000        1.000000   \n",
       "75%    127561.890000       2.000000     1.000000        1.000000   \n",
       "max    250898.090000       4.000000     1.000000        1.000000   \n",
       "\n",
       "       EstimatedSalary       Exited  \n",
       "count      9091.000000  9091.000000  \n",
       "mean     100181.214924     0.203938  \n",
       "std       57624.755647     0.402946  \n",
       "min          11.580000     0.000000  \n",
       "25%       51227.745000     0.000000  \n",
       "50%      100240.200000     0.000000  \n",
       "75%      149567.210000     0.000000  \n",
       "max      199992.480000     1.000000  "
      ]
     },
     "execution_count": 1048,
     "metadata": {},
     "output_type": "execute_result"
    }
   ],
   "source": [
    "df.describe()"
   ]
  },
  {
   "cell_type": "code",
   "execution_count": 1049,
   "metadata": {
    "scrolled": false
   },
   "outputs": [
    {
     "data": {
      "image/png": "[encoded data removed]",
      "text/plain": [
       "<Figure size 720x504 with 1 Axes>"
      ]
     },
     "metadata": {
      "needs_background": "light"
     },
     "output_type": "display_data"
    },
    {
     "data": {
      "image/png": "[encoded data removed]",
      "text/plain": [
       "<Figure size 720x504 with 1 Axes>"
      ]
     },
     "metadata": {
      "needs_background": "light"
     },
     "output_type": "display_data"
    },
    {
     "data": {
      "image/png": "[encoded data removed]",
      "text/plain": [
       "<Figure size 720x504 with 1 Axes>"
      ]
     },
     "metadata": {
      "needs_background": "light"
     },
     "output_type": "display_data"
    },
    {
     "data": {
      "image/png": "[encoded data removed]",
      "text/plain": [
       "<Figure size 720x504 with 1 Axes>"
      ]
     },
     "metadata": {
      "needs_background": "light"
     },
     "output_type": "display_data"
    },
    {
     "data": {
      "image/png": "[encoded data removed]",
      "text/plain": [
       "<Figure size 720x504 with 1 Axes>"
      ]
     },
     "metadata": {
      "needs_background": "light"
     },
     "output_type": "display_data"
    },
    {
     "data": {
      "image/png": "[encoded data removed]",
      "text/plain": [
       "<Figure size 720x504 with 1 Axes>"
      ]
     },
     "metadata": {
      "needs_background": "light"
     },
     "output_type": "display_data"
    }
   ],
   "source": [
    "columns = ['CreditScore', 'Age', 'Tenure', 'Balance', 'NumOfProducts', 'EstimatedSalary']\n",
    "\n",
    "for column in columns:\n",
    "    plt.figure(figsize=(10, 7))\n",
    "    plt.tight_layout()\n",
    "    plt.hist(df[column], bins=50, alpha=0.5, color='g')\n",
    "    plt.title(f'Histogram of {column}')\n",
    "    plt.xlabel(column)\n",
    "    plt.ylabel('Frequency')\n",
    "    plt.grid(True)\n",
    "    plt.show()"
   ]
  },
  {
   "cell_type": "markdown",
   "metadata": {},
   "source": [
    "The datas for each columns look fine, with exception that there is a spike on zero account balance (> 3,000) for the data of column 'Balance'. We need to further investigate this."
   ]
  },
  {
   "cell_type": "code",
   "execution_count": 1050,
   "metadata": {
    "scrolled": true
   },
   "outputs": [
    {
     "data": {
      "text/html": [
       "<div>\n",
       "<style scoped>\n",
       "    .dataframe tbody tr th:only-of-type {\n",
       "        vertical-align: middle;\n",
       "    }\n",
       "\n",
       "    .dataframe tbody tr th {\n",
       "        vertical-align: top;\n",
       "    }\n",
       "\n",
       "    .dataframe thead th {\n",
       "        text-align: right;\n",
       "    }\n",
       "</style>\n",
       "<table border=\"1\" class=\"dataframe\">\n",
       "  <thead>\n",
       "    <tr style=\"text-align: right;\">\n",
       "      <th></th>\n",
       "      <th>RowNumber</th>\n",
       "      <th>CustomerId</th>\n",
       "      <th>Surname</th>\n",
       "      <th>CreditScore</th>\n",
       "      <th>Geography</th>\n",
       "      <th>Gender</th>\n",
       "      <th>Age</th>\n",
       "      <th>Tenure</th>\n",
       "      <th>Balance</th>\n",
       "      <th>NumOfProducts</th>\n",
       "      <th>HasCrCard</th>\n",
       "      <th>IsActiveMember</th>\n",
       "      <th>EstimatedSalary</th>\n",
       "      <th>Exited</th>\n",
       "    </tr>\n",
       "  </thead>\n",
       "  <tbody>\n",
       "    <tr>\n",
       "      <th>0</th>\n",
       "      <td>1</td>\n",
       "      <td>15634602</td>\n",
       "      <td>Hargrave</td>\n",
       "      <td>619</td>\n",
       "      <td>France</td>\n",
       "      <td>Female</td>\n",
       "      <td>42</td>\n",
       "      <td>2</td>\n",
       "      <td>0.0</td>\n",
       "      <td>1</td>\n",
       "      <td>1</td>\n",
       "      <td>1</td>\n",
       "      <td>101348.88</td>\n",
       "      <td>1</td>\n",
       "    </tr>\n",
       "    <tr>\n",
       "      <th>3</th>\n",
       "      <td>4</td>\n",
       "      <td>15701354</td>\n",
       "      <td>Boni</td>\n",
       "      <td>699</td>\n",
       "      <td>France</td>\n",
       "      <td>Female</td>\n",
       "      <td>39</td>\n",
       "      <td>1</td>\n",
       "      <td>0.0</td>\n",
       "      <td>2</td>\n",
       "      <td>0</td>\n",
       "      <td>0</td>\n",
       "      <td>93826.63</td>\n",
       "      <td>0</td>\n",
       "    </tr>\n",
       "    <tr>\n",
       "      <th>6</th>\n",
       "      <td>7</td>\n",
       "      <td>15592531</td>\n",
       "      <td>Bartlett</td>\n",
       "      <td>822</td>\n",
       "      <td>France</td>\n",
       "      <td>Male</td>\n",
       "      <td>50</td>\n",
       "      <td>7</td>\n",
       "      <td>0.0</td>\n",
       "      <td>2</td>\n",
       "      <td>1</td>\n",
       "      <td>1</td>\n",
       "      <td>10062.80</td>\n",
       "      <td>0</td>\n",
       "    </tr>\n",
       "    <tr>\n",
       "      <th>11</th>\n",
       "      <td>12</td>\n",
       "      <td>15737173</td>\n",
       "      <td>Andrews</td>\n",
       "      <td>497</td>\n",
       "      <td>Spain</td>\n",
       "      <td>Male</td>\n",
       "      <td>24</td>\n",
       "      <td>3</td>\n",
       "      <td>0.0</td>\n",
       "      <td>2</td>\n",
       "      <td>1</td>\n",
       "      <td>0</td>\n",
       "      <td>76390.01</td>\n",
       "      <td>0</td>\n",
       "    </tr>\n",
       "    <tr>\n",
       "      <th>12</th>\n",
       "      <td>13</td>\n",
       "      <td>15632264</td>\n",
       "      <td>Kay</td>\n",
       "      <td>476</td>\n",
       "      <td>France</td>\n",
       "      <td>Female</td>\n",
       "      <td>34</td>\n",
       "      <td>10</td>\n",
       "      <td>0.0</td>\n",
       "      <td>2</td>\n",
       "      <td>1</td>\n",
       "      <td>0</td>\n",
       "      <td>26260.98</td>\n",
       "      <td>0</td>\n",
       "    </tr>\n",
       "    <tr>\n",
       "      <th>...</th>\n",
       "      <td>...</td>\n",
       "      <td>...</td>\n",
       "      <td>...</td>\n",
       "      <td>...</td>\n",
       "      <td>...</td>\n",
       "      <td>...</td>\n",
       "      <td>...</td>\n",
       "      <td>...</td>\n",
       "      <td>...</td>\n",
       "      <td>...</td>\n",
       "      <td>...</td>\n",
       "      <td>...</td>\n",
       "      <td>...</td>\n",
       "      <td>...</td>\n",
       "    </tr>\n",
       "    <tr>\n",
       "      <th>9989</th>\n",
       "      <td>9990</td>\n",
       "      <td>15605622</td>\n",
       "      <td>McMillan</td>\n",
       "      <td>841</td>\n",
       "      <td>Spain</td>\n",
       "      <td>Male</td>\n",
       "      <td>28</td>\n",
       "      <td>4</td>\n",
       "      <td>0.0</td>\n",
       "      <td>2</td>\n",
       "      <td>1</td>\n",
       "      <td>1</td>\n",
       "      <td>179436.60</td>\n",
       "      <td>0</td>\n",
       "    </tr>\n",
       "    <tr>\n",
       "      <th>9992</th>\n",
       "      <td>9993</td>\n",
       "      <td>15657105</td>\n",
       "      <td>Chukwualuka</td>\n",
       "      <td>726</td>\n",
       "      <td>Spain</td>\n",
       "      <td>Male</td>\n",
       "      <td>36</td>\n",
       "      <td>2</td>\n",
       "      <td>0.0</td>\n",
       "      <td>1</td>\n",
       "      <td>1</td>\n",
       "      <td>0</td>\n",
       "      <td>195192.40</td>\n",
       "      <td>0</td>\n",
       "    </tr>\n",
       "    <tr>\n",
       "      <th>9994</th>\n",
       "      <td>9995</td>\n",
       "      <td>15719294</td>\n",
       "      <td>Wood</td>\n",
       "      <td>800</td>\n",
       "      <td>France</td>\n",
       "      <td>Female</td>\n",
       "      <td>29</td>\n",
       "      <td>2</td>\n",
       "      <td>0.0</td>\n",
       "      <td>2</td>\n",
       "      <td>0</td>\n",
       "      <td>0</td>\n",
       "      <td>167773.55</td>\n",
       "      <td>0</td>\n",
       "    </tr>\n",
       "    <tr>\n",
       "      <th>9995</th>\n",
       "      <td>9996</td>\n",
       "      <td>15606229</td>\n",
       "      <td>Obijiaku</td>\n",
       "      <td>771</td>\n",
       "      <td>France</td>\n",
       "      <td>Male</td>\n",
       "      <td>39</td>\n",
       "      <td>5</td>\n",
       "      <td>0.0</td>\n",
       "      <td>2</td>\n",
       "      <td>1</td>\n",
       "      <td>0</td>\n",
       "      <td>96270.64</td>\n",
       "      <td>0</td>\n",
       "    </tr>\n",
       "    <tr>\n",
       "      <th>9997</th>\n",
       "      <td>9998</td>\n",
       "      <td>15584532</td>\n",
       "      <td>Liu</td>\n",
       "      <td>709</td>\n",
       "      <td>France</td>\n",
       "      <td>Female</td>\n",
       "      <td>36</td>\n",
       "      <td>7</td>\n",
       "      <td>0.0</td>\n",
       "      <td>1</td>\n",
       "      <td>0</td>\n",
       "      <td>1</td>\n",
       "      <td>42085.58</td>\n",
       "      <td>1</td>\n",
       "    </tr>\n",
       "  </tbody>\n",
       "</table>\n",
       "<p>3283 rows × 14 columns</p>\n",
       "</div>"
      ],
      "text/plain": [
       "      RowNumber  CustomerId      Surname  CreditScore Geography  Gender  Age  \\\n",
       "0             1    15634602     Hargrave          619    France  Female   42   \n",
       "3             4    15701354         Boni          699    France  Female   39   \n",
       "6             7    15592531     Bartlett          822    France    Male   50   \n",
       "11           12    15737173      Andrews          497     Spain    Male   24   \n",
       "12           13    15632264          Kay          476    France  Female   34   \n",
       "...         ...         ...          ...          ...       ...     ...  ...   \n",
       "9989       9990    15605622     McMillan          841     Spain    Male   28   \n",
       "9992       9993    15657105  Chukwualuka          726     Spain    Male   36   \n",
       "9994       9995    15719294         Wood          800    France  Female   29   \n",
       "9995       9996    15606229     Obijiaku          771    France    Male   39   \n",
       "9997       9998    15584532          Liu          709    France  Female   36   \n",
       "\n",
       "      Tenure  Balance  NumOfProducts  HasCrCard  IsActiveMember  \\\n",
       "0          2      0.0              1          1               1   \n",
       "3          1      0.0              2          0               0   \n",
       "6          7      0.0              2          1               1   \n",
       "11         3      0.0              2          1               0   \n",
       "12        10      0.0              2          1               0   \n",
       "...      ...      ...            ...        ...             ...   \n",
       "9989       4      0.0              2          1               1   \n",
       "9992       2      0.0              1          1               0   \n",
       "9994       2      0.0              2          0               0   \n",
       "9995       5      0.0              2          1               0   \n",
       "9997       7      0.0              1          0               1   \n",
       "\n",
       "      EstimatedSalary  Exited  \n",
       "0           101348.88       1  \n",
       "3            93826.63       0  \n",
       "6            10062.80       0  \n",
       "11           76390.01       0  \n",
       "12           26260.98       0  \n",
       "...               ...     ...  \n",
       "9989        179436.60       0  \n",
       "9992        195192.40       0  \n",
       "9994        167773.55       0  \n",
       "9995         96270.64       0  \n",
       "9997         42085.58       1  \n",
       "\n",
       "[3283 rows x 14 columns]"
      ]
     },
     "execution_count": 1050,
     "metadata": {},
     "output_type": "execute_result"
    }
   ],
   "source": [
    "# Looking into data with account balance zero\n",
    "zero_account_balance = df[df['Balance'] == 0]\n",
    "zero_account_balance"
   ]
  },
  {
   "cell_type": "code",
   "execution_count": 1051,
   "metadata": {
    "scrolled": false
   },
   "outputs": [
    {
     "data": {
      "text/html": [
       "<div>\n",
       "<style scoped>\n",
       "    .dataframe tbody tr th:only-of-type {\n",
       "        vertical-align: middle;\n",
       "    }\n",
       "\n",
       "    .dataframe tbody tr th {\n",
       "        vertical-align: top;\n",
       "    }\n",
       "\n",
       "    .dataframe thead th {\n",
       "        text-align: right;\n",
       "    }\n",
       "</style>\n",
       "<table border=\"1\" class=\"dataframe\">\n",
       "  <thead>\n",
       "    <tr style=\"text-align: right;\">\n",
       "      <th></th>\n",
       "      <th>RowNumber</th>\n",
       "      <th>CustomerId</th>\n",
       "      <th>Surname</th>\n",
       "      <th>CreditScore</th>\n",
       "      <th>Geography</th>\n",
       "      <th>Gender</th>\n",
       "      <th>Age</th>\n",
       "      <th>Tenure</th>\n",
       "      <th>Balance</th>\n",
       "      <th>NumOfProducts</th>\n",
       "      <th>HasCrCard</th>\n",
       "      <th>IsActiveMember</th>\n",
       "      <th>EstimatedSalary</th>\n",
       "      <th>Exited</th>\n",
       "    </tr>\n",
       "  </thead>\n",
       "  <tbody>\n",
       "    <tr>\n",
       "      <th>0</th>\n",
       "      <td>1</td>\n",
       "      <td>15634602</td>\n",
       "      <td>Hargrave</td>\n",
       "      <td>619</td>\n",
       "      <td>France</td>\n",
       "      <td>Female</td>\n",
       "      <td>42</td>\n",
       "      <td>2</td>\n",
       "      <td>0.0</td>\n",
       "      <td>1</td>\n",
       "      <td>1</td>\n",
       "      <td>1</td>\n",
       "      <td>101348.88</td>\n",
       "      <td>1</td>\n",
       "    </tr>\n",
       "    <tr>\n",
       "      <th>22</th>\n",
       "      <td>23</td>\n",
       "      <td>15699309</td>\n",
       "      <td>Gerasimov</td>\n",
       "      <td>510</td>\n",
       "      <td>Spain</td>\n",
       "      <td>Female</td>\n",
       "      <td>38</td>\n",
       "      <td>4</td>\n",
       "      <td>0.0</td>\n",
       "      <td>1</td>\n",
       "      <td>1</td>\n",
       "      <td>0</td>\n",
       "      <td>118913.53</td>\n",
       "      <td>1</td>\n",
       "    </tr>\n",
       "    <tr>\n",
       "      <th>58</th>\n",
       "      <td>59</td>\n",
       "      <td>15623944</td>\n",
       "      <td>T'ien</td>\n",
       "      <td>511</td>\n",
       "      <td>Spain</td>\n",
       "      <td>Female</td>\n",
       "      <td>66</td>\n",
       "      <td>4</td>\n",
       "      <td>0.0</td>\n",
       "      <td>1</td>\n",
       "      <td>1</td>\n",
       "      <td>0</td>\n",
       "      <td>1643.11</td>\n",
       "      <td>1</td>\n",
       "    </tr>\n",
       "    <tr>\n",
       "      <th>81</th>\n",
       "      <td>82</td>\n",
       "      <td>15663706</td>\n",
       "      <td>Leonard</td>\n",
       "      <td>777</td>\n",
       "      <td>France</td>\n",
       "      <td>Female</td>\n",
       "      <td>32</td>\n",
       "      <td>2</td>\n",
       "      <td>0.0</td>\n",
       "      <td>1</td>\n",
       "      <td>1</td>\n",
       "      <td>0</td>\n",
       "      <td>136458.19</td>\n",
       "      <td>1</td>\n",
       "    </tr>\n",
       "    <tr>\n",
       "      <th>88</th>\n",
       "      <td>89</td>\n",
       "      <td>15622897</td>\n",
       "      <td>Sharpe</td>\n",
       "      <td>646</td>\n",
       "      <td>France</td>\n",
       "      <td>Female</td>\n",
       "      <td>46</td>\n",
       "      <td>4</td>\n",
       "      <td>0.0</td>\n",
       "      <td>3</td>\n",
       "      <td>1</td>\n",
       "      <td>0</td>\n",
       "      <td>93251.42</td>\n",
       "      <td>1</td>\n",
       "    </tr>\n",
       "    <tr>\n",
       "      <th>...</th>\n",
       "      <td>...</td>\n",
       "      <td>...</td>\n",
       "      <td>...</td>\n",
       "      <td>...</td>\n",
       "      <td>...</td>\n",
       "      <td>...</td>\n",
       "      <td>...</td>\n",
       "      <td>...</td>\n",
       "      <td>...</td>\n",
       "      <td>...</td>\n",
       "      <td>...</td>\n",
       "      <td>...</td>\n",
       "      <td>...</td>\n",
       "      <td>...</td>\n",
       "    </tr>\n",
       "    <tr>\n",
       "      <th>9784</th>\n",
       "      <td>9785</td>\n",
       "      <td>15687626</td>\n",
       "      <td>Zhirov</td>\n",
       "      <td>527</td>\n",
       "      <td>France</td>\n",
       "      <td>Male</td>\n",
       "      <td>39</td>\n",
       "      <td>4</td>\n",
       "      <td>0.0</td>\n",
       "      <td>2</td>\n",
       "      <td>1</td>\n",
       "      <td>0</td>\n",
       "      <td>167183.07</td>\n",
       "      <td>1</td>\n",
       "    </tr>\n",
       "    <tr>\n",
       "      <th>9884</th>\n",
       "      <td>9885</td>\n",
       "      <td>15686974</td>\n",
       "      <td>Sergeyeva</td>\n",
       "      <td>751</td>\n",
       "      <td>France</td>\n",
       "      <td>Female</td>\n",
       "      <td>48</td>\n",
       "      <td>4</td>\n",
       "      <td>0.0</td>\n",
       "      <td>1</td>\n",
       "      <td>0</td>\n",
       "      <td>1</td>\n",
       "      <td>30165.06</td>\n",
       "      <td>1</td>\n",
       "    </tr>\n",
       "    <tr>\n",
       "      <th>9898</th>\n",
       "      <td>9899</td>\n",
       "      <td>15746569</td>\n",
       "      <td>Tsui</td>\n",
       "      <td>589</td>\n",
       "      <td>France</td>\n",
       "      <td>Male</td>\n",
       "      <td>38</td>\n",
       "      <td>4</td>\n",
       "      <td>0.0</td>\n",
       "      <td>1</td>\n",
       "      <td>1</td>\n",
       "      <td>0</td>\n",
       "      <td>95483.48</td>\n",
       "      <td>1</td>\n",
       "    </tr>\n",
       "    <tr>\n",
       "      <th>9962</th>\n",
       "      <td>9963</td>\n",
       "      <td>15594612</td>\n",
       "      <td>Flynn</td>\n",
       "      <td>702</td>\n",
       "      <td>Spain</td>\n",
       "      <td>Male</td>\n",
       "      <td>44</td>\n",
       "      <td>9</td>\n",
       "      <td>0.0</td>\n",
       "      <td>1</td>\n",
       "      <td>0</td>\n",
       "      <td>0</td>\n",
       "      <td>59207.41</td>\n",
       "      <td>1</td>\n",
       "    </tr>\n",
       "    <tr>\n",
       "      <th>9997</th>\n",
       "      <td>9998</td>\n",
       "      <td>15584532</td>\n",
       "      <td>Liu</td>\n",
       "      <td>709</td>\n",
       "      <td>France</td>\n",
       "      <td>Female</td>\n",
       "      <td>36</td>\n",
       "      <td>7</td>\n",
       "      <td>0.0</td>\n",
       "      <td>1</td>\n",
       "      <td>0</td>\n",
       "      <td>1</td>\n",
       "      <td>42085.58</td>\n",
       "      <td>1</td>\n",
       "    </tr>\n",
       "  </tbody>\n",
       "</table>\n",
       "<p>452 rows × 14 columns</p>\n",
       "</div>"
      ],
      "text/plain": [
       "      RowNumber  CustomerId    Surname  CreditScore Geography  Gender  Age  \\\n",
       "0             1    15634602   Hargrave          619    France  Female   42   \n",
       "22           23    15699309  Gerasimov          510     Spain  Female   38   \n",
       "58           59    15623944      T'ien          511     Spain  Female   66   \n",
       "81           82    15663706    Leonard          777    France  Female   32   \n",
       "88           89    15622897     Sharpe          646    France  Female   46   \n",
       "...         ...         ...        ...          ...       ...     ...  ...   \n",
       "9784       9785    15687626     Zhirov          527    France    Male   39   \n",
       "9884       9885    15686974  Sergeyeva          751    France  Female   48   \n",
       "9898       9899    15746569       Tsui          589    France    Male   38   \n",
       "9962       9963    15594612      Flynn          702     Spain    Male   44   \n",
       "9997       9998    15584532        Liu          709    France  Female   36   \n",
       "\n",
       "      Tenure  Balance  NumOfProducts  HasCrCard  IsActiveMember  \\\n",
       "0          2      0.0              1          1               1   \n",
       "22         4      0.0              1          1               0   \n",
       "58         4      0.0              1          1               0   \n",
       "81         2      0.0              1          1               0   \n",
       "88         4      0.0              3          1               0   \n",
       "...      ...      ...            ...        ...             ...   \n",
       "9784       4      0.0              2          1               0   \n",
       "9884       4      0.0              1          0               1   \n",
       "9898       4      0.0              1          1               0   \n",
       "9962       9      0.0              1          0               0   \n",
       "9997       7      0.0              1          0               1   \n",
       "\n",
       "      EstimatedSalary  Exited  \n",
       "0           101348.88       1  \n",
       "22          118913.53       1  \n",
       "58            1643.11       1  \n",
       "81          136458.19       1  \n",
       "88           93251.42       1  \n",
       "...               ...     ...  \n",
       "9784        167183.07       1  \n",
       "9884         30165.06       1  \n",
       "9898         95483.48       1  \n",
       "9962         59207.41       1  \n",
       "9997         42085.58       1  \n",
       "\n",
       "[452 rows x 14 columns]"
      ]
     },
     "execution_count": 1051,
     "metadata": {},
     "output_type": "execute_result"
    }
   ],
   "source": [
    "# Looking at the data that account balance is zero and have left bank\n",
    "zero_account_balance_churn = df[(df['Balance'] == 0) & (df['Exited'] == 1)]\n",
    "zero_account_balance_churn"
   ]
  },
  {
   "cell_type": "code",
   "execution_count": 1052,
   "metadata": {
    "scrolled": true
   },
   "outputs": [
    {
     "data": {
      "text/plain": [
       "'Percentage of zero account balance customer that churned: '"
      ]
     },
     "metadata": {},
     "output_type": "display_data"
    },
    {
     "data": {
      "text/plain": [
       "13.76789521778861"
      ]
     },
     "metadata": {},
     "output_type": "display_data"
    }
   ],
   "source": [
    "# Percentage of zero account balance customer that churned\n",
    "display('Percentage of zero account balance customer that churned: ', (len(zero_account_balance_churn) / len(zero_account_balance) * 100))"
   ]
  },
  {
   "cell_type": "markdown",
   "metadata": {},
   "source": [
    "Only 14% of the customers with zero account balance who leaves the bank. Other customers with zero account balance are still staying with bank. Thus, we will remain the data as it is for further analysis."
   ]
  },
  {
   "cell_type": "markdown",
   "metadata": {},
   "source": [
    "## Model Development by Using Label Encoding"
   ]
  },
  {
   "cell_type": "markdown",
   "metadata": {},
   "source": [
    "### Remove The Irrelevant Features from the Original Dataframe"
   ]
  },
  {
   "cell_type": "code",
   "execution_count": 1053,
   "metadata": {
    "scrolled": true
   },
   "outputs": [
    {
     "data": {
      "text/html": [
       "<div>\n",
       "<style scoped>\n",
       "    .dataframe tbody tr th:only-of-type {\n",
       "        vertical-align: middle;\n",
       "    }\n",
       "\n",
       "    .dataframe tbody tr th {\n",
       "        vertical-align: top;\n",
       "    }\n",
       "\n",
       "    .dataframe thead th {\n",
       "        text-align: right;\n",
       "    }\n",
       "</style>\n",
       "<table border=\"1\" class=\"dataframe\">\n",
       "  <thead>\n",
       "    <tr style=\"text-align: right;\">\n",
       "      <th></th>\n",
       "      <th>CreditScore</th>\n",
       "      <th>Geography</th>\n",
       "      <th>Gender</th>\n",
       "      <th>Age</th>\n",
       "      <th>Tenure</th>\n",
       "      <th>Balance</th>\n",
       "      <th>NumOfProducts</th>\n",
       "      <th>HasCrCard</th>\n",
       "      <th>IsActiveMember</th>\n",
       "      <th>EstimatedSalary</th>\n",
       "      <th>Exited</th>\n",
       "    </tr>\n",
       "  </thead>\n",
       "  <tbody>\n",
       "    <tr>\n",
       "      <th>0</th>\n",
       "      <td>619</td>\n",
       "      <td>France</td>\n",
       "      <td>Female</td>\n",
       "      <td>42</td>\n",
       "      <td>2</td>\n",
       "      <td>0.00</td>\n",
       "      <td>1</td>\n",
       "      <td>1</td>\n",
       "      <td>1</td>\n",
       "      <td>101348.88</td>\n",
       "      <td>1</td>\n",
       "    </tr>\n",
       "    <tr>\n",
       "      <th>1</th>\n",
       "      <td>608</td>\n",
       "      <td>Spain</td>\n",
       "      <td>Female</td>\n",
       "      <td>41</td>\n",
       "      <td>1</td>\n",
       "      <td>83807.86</td>\n",
       "      <td>1</td>\n",
       "      <td>0</td>\n",
       "      <td>1</td>\n",
       "      <td>112542.58</td>\n",
       "      <td>0</td>\n",
       "    </tr>\n",
       "    <tr>\n",
       "      <th>2</th>\n",
       "      <td>502</td>\n",
       "      <td>France</td>\n",
       "      <td>Female</td>\n",
       "      <td>42</td>\n",
       "      <td>8</td>\n",
       "      <td>159660.80</td>\n",
       "      <td>3</td>\n",
       "      <td>1</td>\n",
       "      <td>0</td>\n",
       "      <td>113931.57</td>\n",
       "      <td>1</td>\n",
       "    </tr>\n",
       "    <tr>\n",
       "      <th>3</th>\n",
       "      <td>699</td>\n",
       "      <td>France</td>\n",
       "      <td>Female</td>\n",
       "      <td>39</td>\n",
       "      <td>1</td>\n",
       "      <td>0.00</td>\n",
       "      <td>2</td>\n",
       "      <td>0</td>\n",
       "      <td>0</td>\n",
       "      <td>93826.63</td>\n",
       "      <td>0</td>\n",
       "    </tr>\n",
       "    <tr>\n",
       "      <th>4</th>\n",
       "      <td>850</td>\n",
       "      <td>Spain</td>\n",
       "      <td>Female</td>\n",
       "      <td>43</td>\n",
       "      <td>2</td>\n",
       "      <td>125510.82</td>\n",
       "      <td>1</td>\n",
       "      <td>1</td>\n",
       "      <td>1</td>\n",
       "      <td>79084.10</td>\n",
       "      <td>0</td>\n",
       "    </tr>\n",
       "    <tr>\n",
       "      <th>5</th>\n",
       "      <td>645</td>\n",
       "      <td>Spain</td>\n",
       "      <td>Male</td>\n",
       "      <td>44</td>\n",
       "      <td>8</td>\n",
       "      <td>113755.78</td>\n",
       "      <td>2</td>\n",
       "      <td>1</td>\n",
       "      <td>0</td>\n",
       "      <td>149756.71</td>\n",
       "      <td>1</td>\n",
       "    </tr>\n",
       "    <tr>\n",
       "      <th>6</th>\n",
       "      <td>822</td>\n",
       "      <td>France</td>\n",
       "      <td>Male</td>\n",
       "      <td>50</td>\n",
       "      <td>7</td>\n",
       "      <td>0.00</td>\n",
       "      <td>2</td>\n",
       "      <td>1</td>\n",
       "      <td>1</td>\n",
       "      <td>10062.80</td>\n",
       "      <td>0</td>\n",
       "    </tr>\n",
       "    <tr>\n",
       "      <th>7</th>\n",
       "      <td>376</td>\n",
       "      <td>Germany</td>\n",
       "      <td>Female</td>\n",
       "      <td>29</td>\n",
       "      <td>4</td>\n",
       "      <td>115046.74</td>\n",
       "      <td>4</td>\n",
       "      <td>1</td>\n",
       "      <td>0</td>\n",
       "      <td>119346.88</td>\n",
       "      <td>1</td>\n",
       "    </tr>\n",
       "    <tr>\n",
       "      <th>8</th>\n",
       "      <td>501</td>\n",
       "      <td>France</td>\n",
       "      <td>Male</td>\n",
       "      <td>44</td>\n",
       "      <td>4</td>\n",
       "      <td>142051.07</td>\n",
       "      <td>2</td>\n",
       "      <td>0</td>\n",
       "      <td>1</td>\n",
       "      <td>74940.50</td>\n",
       "      <td>0</td>\n",
       "    </tr>\n",
       "    <tr>\n",
       "      <th>9</th>\n",
       "      <td>684</td>\n",
       "      <td>France</td>\n",
       "      <td>Male</td>\n",
       "      <td>27</td>\n",
       "      <td>2</td>\n",
       "      <td>134603.88</td>\n",
       "      <td>1</td>\n",
       "      <td>1</td>\n",
       "      <td>1</td>\n",
       "      <td>71725.73</td>\n",
       "      <td>0</td>\n",
       "    </tr>\n",
       "    <tr>\n",
       "      <th>10</th>\n",
       "      <td>528</td>\n",
       "      <td>France</td>\n",
       "      <td>Male</td>\n",
       "      <td>31</td>\n",
       "      <td>6</td>\n",
       "      <td>102016.72</td>\n",
       "      <td>2</td>\n",
       "      <td>0</td>\n",
       "      <td>0</td>\n",
       "      <td>80181.12</td>\n",
       "      <td>0</td>\n",
       "    </tr>\n",
       "    <tr>\n",
       "      <th>11</th>\n",
       "      <td>497</td>\n",
       "      <td>Spain</td>\n",
       "      <td>Male</td>\n",
       "      <td>24</td>\n",
       "      <td>3</td>\n",
       "      <td>0.00</td>\n",
       "      <td>2</td>\n",
       "      <td>1</td>\n",
       "      <td>0</td>\n",
       "      <td>76390.01</td>\n",
       "      <td>0</td>\n",
       "    </tr>\n",
       "    <tr>\n",
       "      <th>12</th>\n",
       "      <td>476</td>\n",
       "      <td>France</td>\n",
       "      <td>Female</td>\n",
       "      <td>34</td>\n",
       "      <td>10</td>\n",
       "      <td>0.00</td>\n",
       "      <td>2</td>\n",
       "      <td>1</td>\n",
       "      <td>0</td>\n",
       "      <td>26260.98</td>\n",
       "      <td>0</td>\n",
       "    </tr>\n",
       "    <tr>\n",
       "      <th>13</th>\n",
       "      <td>549</td>\n",
       "      <td>France</td>\n",
       "      <td>Female</td>\n",
       "      <td>25</td>\n",
       "      <td>5</td>\n",
       "      <td>0.00</td>\n",
       "      <td>2</td>\n",
       "      <td>0</td>\n",
       "      <td>0</td>\n",
       "      <td>190857.79</td>\n",
       "      <td>0</td>\n",
       "    </tr>\n",
       "    <tr>\n",
       "      <th>14</th>\n",
       "      <td>635</td>\n",
       "      <td>Spain</td>\n",
       "      <td>Female</td>\n",
       "      <td>35</td>\n",
       "      <td>7</td>\n",
       "      <td>0.00</td>\n",
       "      <td>2</td>\n",
       "      <td>1</td>\n",
       "      <td>1</td>\n",
       "      <td>65951.65</td>\n",
       "      <td>0</td>\n",
       "    </tr>\n",
       "    <tr>\n",
       "      <th>15</th>\n",
       "      <td>616</td>\n",
       "      <td>Germany</td>\n",
       "      <td>Male</td>\n",
       "      <td>45</td>\n",
       "      <td>3</td>\n",
       "      <td>143129.41</td>\n",
       "      <td>2</td>\n",
       "      <td>0</td>\n",
       "      <td>1</td>\n",
       "      <td>64327.26</td>\n",
       "      <td>0</td>\n",
       "    </tr>\n",
       "    <tr>\n",
       "      <th>16</th>\n",
       "      <td>653</td>\n",
       "      <td>Germany</td>\n",
       "      <td>Male</td>\n",
       "      <td>58</td>\n",
       "      <td>1</td>\n",
       "      <td>132602.88</td>\n",
       "      <td>1</td>\n",
       "      <td>1</td>\n",
       "      <td>0</td>\n",
       "      <td>5097.67</td>\n",
       "      <td>1</td>\n",
       "    </tr>\n",
       "    <tr>\n",
       "      <th>17</th>\n",
       "      <td>549</td>\n",
       "      <td>Spain</td>\n",
       "      <td>Female</td>\n",
       "      <td>24</td>\n",
       "      <td>9</td>\n",
       "      <td>0.00</td>\n",
       "      <td>2</td>\n",
       "      <td>1</td>\n",
       "      <td>1</td>\n",
       "      <td>14406.41</td>\n",
       "      <td>0</td>\n",
       "    </tr>\n",
       "    <tr>\n",
       "      <th>18</th>\n",
       "      <td>587</td>\n",
       "      <td>Spain</td>\n",
       "      <td>Male</td>\n",
       "      <td>45</td>\n",
       "      <td>6</td>\n",
       "      <td>0.00</td>\n",
       "      <td>1</td>\n",
       "      <td>0</td>\n",
       "      <td>0</td>\n",
       "      <td>158684.81</td>\n",
       "      <td>0</td>\n",
       "    </tr>\n",
       "    <tr>\n",
       "      <th>19</th>\n",
       "      <td>726</td>\n",
       "      <td>France</td>\n",
       "      <td>Female</td>\n",
       "      <td>24</td>\n",
       "      <td>6</td>\n",
       "      <td>0.00</td>\n",
       "      <td>2</td>\n",
       "      <td>1</td>\n",
       "      <td>1</td>\n",
       "      <td>54724.03</td>\n",
       "      <td>0</td>\n",
       "    </tr>\n",
       "  </tbody>\n",
       "</table>\n",
       "</div>"
      ],
      "text/plain": [
       "    CreditScore Geography  Gender  Age  Tenure    Balance  NumOfProducts  \\\n",
       "0           619    France  Female   42       2       0.00              1   \n",
       "1           608     Spain  Female   41       1   83807.86              1   \n",
       "2           502    France  Female   42       8  159660.80              3   \n",
       "3           699    France  Female   39       1       0.00              2   \n",
       "4           850     Spain  Female   43       2  125510.82              1   \n",
       "5           645     Spain    Male   44       8  113755.78              2   \n",
       "6           822    France    Male   50       7       0.00              2   \n",
       "7           376   Germany  Female   29       4  115046.74              4   \n",
       "8           501    France    Male   44       4  142051.07              2   \n",
       "9           684    France    Male   27       2  134603.88              1   \n",
       "10          528    France    Male   31       6  102016.72              2   \n",
       "11          497     Spain    Male   24       3       0.00              2   \n",
       "12          476    France  Female   34      10       0.00              2   \n",
       "13          549    France  Female   25       5       0.00              2   \n",
       "14          635     Spain  Female   35       7       0.00              2   \n",
       "15          616   Germany    Male   45       3  143129.41              2   \n",
       "16          653   Germany    Male   58       1  132602.88              1   \n",
       "17          549     Spain  Female   24       9       0.00              2   \n",
       "18          587     Spain    Male   45       6       0.00              1   \n",
       "19          726    France  Female   24       6       0.00              2   \n",
       "\n",
       "    HasCrCard  IsActiveMember  EstimatedSalary  Exited  \n",
       "0           1               1        101348.88       1  \n",
       "1           0               1        112542.58       0  \n",
       "2           1               0        113931.57       1  \n",
       "3           0               0         93826.63       0  \n",
       "4           1               1         79084.10       0  \n",
       "5           1               0        149756.71       1  \n",
       "6           1               1         10062.80       0  \n",
       "7           1               0        119346.88       1  \n",
       "8           0               1         74940.50       0  \n",
       "9           1               1         71725.73       0  \n",
       "10          0               0         80181.12       0  \n",
       "11          1               0         76390.01       0  \n",
       "12          1               0         26260.98       0  \n",
       "13          0               0        190857.79       0  \n",
       "14          1               1         65951.65       0  \n",
       "15          0               1         64327.26       0  \n",
       "16          1               0          5097.67       1  \n",
       "17          1               1         14406.41       0  \n",
       "18          0               0        158684.81       0  \n",
       "19          1               1         54724.03       0  "
      ]
     },
     "execution_count": 1053,
     "metadata": {},
     "output_type": "execute_result"
    }
   ],
   "source": [
    "df_analysis = df.drop(columns=['RowNumber', 'CustomerId', 'Surname'])\n",
    "df_analysis.head(20)"
   ]
  },
  {
   "cell_type": "markdown",
   "metadata": {},
   "source": [
    "### Label Encoding for New Dataframe, df_analysis"
   ]
  },
  {
   "cell_type": "code",
   "execution_count": 1054,
   "metadata": {},
   "outputs": [
    {
     "data": {
      "text/plain": [
       "(9091, 11)"
      ]
     },
     "execution_count": 1054,
     "metadata": {},
     "output_type": "execute_result"
    }
   ],
   "source": [
    "encoder = OrdinalEncoder()\n",
    "data_ordinal = pd.DataFrame(encoder.fit_transform(df_analysis), columns=df_analysis.columns)\n",
    "data_ordinal.shape"
   ]
  },
  {
   "cell_type": "markdown",
   "metadata": {},
   "source": [
    "We use label encoding instead of one-hot encoding as there are too many categorial consideration and it will cause bias or overfitting if using one-hot encoding."
   ]
  },
  {
   "cell_type": "markdown",
   "metadata": {},
   "source": [
    "### Model Development without Feature Scaling & Imbalance Consideration"
   ]
  },
  {
   "cell_type": "markdown",
   "metadata": {},
   "source": [
    "Split the data_ordinal dataset into a training set, a validation set and a testing set in the split ratio of 3:1:1."
   ]
  },
  {
   "cell_type": "code",
   "execution_count": 1055,
   "metadata": {},
   "outputs": [],
   "source": [
    "target = data_ordinal['Exited']\n",
    "features = data_ordinal.drop('Exited', axis=1)\n",
    "\n",
    "# First split to separate out the training set\n",
    "features_train, features_temp, target_train, target_temp = train_test_split(features, target, test_size=0.4, random_state=12345)\n",
    "\n",
    "# Second split to separate out the validation and test sets\n",
    "features_valid, features_test, target_valid, target_test = train_test_split(features_temp, target_temp, test_size=0.5, random_state=12345)"
   ]
  },
  {
   "cell_type": "code",
   "execution_count": 1056,
   "metadata": {
    "scrolled": true
   },
   "outputs": [
    {
     "data": {
      "text/plain": [
       "'features_train: '"
      ]
     },
     "metadata": {},
     "output_type": "display_data"
    },
    {
     "data": {
      "text/plain": [
       "(5454, 10)"
      ]
     },
     "metadata": {},
     "output_type": "display_data"
    },
    {
     "data": {
      "text/plain": [
       "'features_valid: '"
      ]
     },
     "metadata": {},
     "output_type": "display_data"
    },
    {
     "data": {
      "text/plain": [
       "(1818, 10)"
      ]
     },
     "metadata": {},
     "output_type": "display_data"
    },
    {
     "data": {
      "text/plain": [
       "'features_test: '"
      ]
     },
     "metadata": {},
     "output_type": "display_data"
    },
    {
     "data": {
      "text/plain": [
       "(1819, 10)"
      ]
     },
     "metadata": {},
     "output_type": "display_data"
    },
    {
     "data": {
      "text/plain": [
       "'target_train: '"
      ]
     },
     "metadata": {},
     "output_type": "display_data"
    },
    {
     "data": {
      "text/plain": [
       "(5454,)"
      ]
     },
     "metadata": {},
     "output_type": "display_data"
    },
    {
     "data": {
      "text/plain": [
       "'target_valid: '"
      ]
     },
     "metadata": {},
     "output_type": "display_data"
    },
    {
     "data": {
      "text/plain": [
       "(1818,)"
      ]
     },
     "metadata": {},
     "output_type": "display_data"
    },
    {
     "data": {
      "text/plain": [
       "'target_test: '"
      ]
     },
     "metadata": {},
     "output_type": "display_data"
    },
    {
     "data": {
      "text/plain": [
       "(1819,)"
      ]
     },
     "metadata": {},
     "output_type": "display_data"
    }
   ],
   "source": [
    "display('features_train: ', features_train.shape)\n",
    "display('features_valid: ', features_valid.shape)\n",
    "display('features_test: ', features_test.shape)\n",
    "display('target_train: ', target_train.shape)\n",
    "display('target_valid: ', target_valid.shape)\n",
    "display('target_test: ', target_test.shape)"
   ]
  },
  {
   "cell_type": "markdown",
   "metadata": {},
   "source": [
    "#### Decision Tree Regression"
   ]
  },
  {
   "cell_type": "code",
   "execution_count": 1057,
   "metadata": {
    "scrolled": true
   },
   "outputs": [
    {
     "name": "stdout",
     "output_type": "stream",
     "text": [
      "max_depth = 1 : 0.7926292629262927\n",
      "max_depth = 2 : 0.8305830583058306\n",
      "max_depth = 3 : 0.8333333333333334\n",
      "max_depth = 4 : 0.8509350935093509\n",
      "max_depth = 5 : 0.8558855885588559\n",
      "max_depth = 6 : 0.8481848184818482\n",
      "max_depth = 7 : 0.8487348734873488\n",
      "max_depth = 8 : 0.8426842684268426\n",
      "max_depth = 9 : 0.8388338833883389\n",
      "max_depth = 10 : 0.834983498349835\n"
     ]
    }
   ],
   "source": [
    "# < create a loop for max_depth from 1 to 10 >\n",
    "for depth in range(1, 11):\n",
    "        model = DecisionTreeClassifier(random_state=12345, max_depth=depth) # < create a model, specify max_depth=depth >\n",
    "\n",
    "        # < train the model >\n",
    "        model.fit(features_train, target_train)\n",
    "        predictions_valid = model.predict(features_valid) # < find the predictions using validation set >\n",
    "\n",
    "        print(\"max_depth =\", depth, \": \", end='')\n",
    "        print(accuracy_score(target_valid, predictions_valid))"
   ]
  },
  {
   "cell_type": "markdown",
   "metadata": {},
   "source": [
    "Max_depth of 5 gives the best accuracy, which is 86%."
   ]
  },
  {
   "cell_type": "markdown",
   "metadata": {},
   "source": [
    "#### Random Forest Regression"
   ]
  },
  {
   "cell_type": "code",
   "execution_count": 1058,
   "metadata": {},
   "outputs": [
    {
     "name": "stdout",
     "output_type": "stream",
     "text": [
      "Accuracy of the best model on the validation set (n_estimators = 61): 0.8547854785478548\n"
     ]
    }
   ],
   "source": [
    "best_score = 0\n",
    "best_est = 0\n",
    "for est in range(1, 100, 10): # choose hyperparameter range\n",
    "    model = RandomForestClassifier(random_state=54321, n_estimators=est) # set number of trees\n",
    "    model.fit(features_train,target_train) # train model on training set\n",
    "    score = model.score(features_valid, target_valid) # calculate accuracy score on validation set\n",
    "    if score > best_score:\n",
    "        best_score = score # save best accuracy score on validation set\n",
    "        best_est = est # save number of estimators corresponding to best accuracy score\n",
    "\n",
    "print(\"Accuracy of the best model on the validation set (n_estimators = {}): {}\".format(best_est, best_score))"
   ]
  },
  {
   "cell_type": "markdown",
   "metadata": {},
   "source": [
    "We are trying to build the model with number of estimators from 1 to 100. And number of estimators 61 gave us the best accuracy score, which is 85%."
   ]
  },
  {
   "cell_type": "markdown",
   "metadata": {},
   "source": [
    "#### Logistic Regression"
   ]
  },
  {
   "cell_type": "code",
   "execution_count": 1059,
   "metadata": {},
   "outputs": [
    {
     "name": "stdout",
     "output_type": "stream",
     "text": [
      "Accuracy of the logistic regression model on the training set: 0.8034470113678035\n",
      "Accuracy of the logistic regression model on the validation set: 0.8014301430143014\n"
     ]
    }
   ],
   "source": [
    "model = LogisticRegression(random_state=54321, solver='liblinear') # initialize logistic regression constructor with parameters random_state=54321 and solver='liblinear'\n",
    "model.fit(features_train, target_train)  # train model on training set\n",
    "score_train = model.score(features_train, target_train) # calculate accuracy score on training set \n",
    "score_valid = model.score(features_valid, target_valid) # calculate accuracy score on validation set  \n",
    "\n",
    "print(\"Accuracy of the logistic regression model on the training set:\",score_train)\n",
    "print(\"Accuracy of the logistic regression model on the validation set:\",score_valid)"
   ]
  },
  {
   "cell_type": "markdown",
   "metadata": {},
   "source": [
    "We are trying to build the Logistic Regression model, and the accuracy score on training set and validation set are both 80%."
   ]
  },
  {
   "cell_type": "markdown",
   "metadata": {},
   "source": [
    "#### Sanity Checking on all 3 Models"
   ]
  },
  {
   "cell_type": "markdown",
   "metadata": {},
   "source": [
    "The highest accuracy score are Random Forest Regression model, 0.86 and also Decision Tree Regression model, 0.86. The lowest accuracy score is Logistic Regression model which is 0.79.\n",
    "\n",
    "We need to do a baseline check for sanity check, called Dummy Classifier.\n",
    "\n",
    "A Dummy Classifier in machine learning is a type of classifier that does not generate any insight about the data and classifies the given data using only simple rules. It’s used as a simple baseline for other classifiers, meaning any other classifier is expected to perform better on the given dataset. A Dummy Classifier serves as a simple baseline to compare against other (more complex) classifiers. It’s especially useful for datasets where there’s a class imbalance.\n",
    "\n",
    "The strategy used is ‘most_frequent’, meaning the classifier always predicts the most frequent class label in the training data."
   ]
  },
  {
   "cell_type": "code",
   "execution_count": 1060,
   "metadata": {},
   "outputs": [
    {
     "data": {
      "text/plain": [
       "0.7926292629262927"
      ]
     },
     "metadata": {},
     "output_type": "display_data"
    }
   ],
   "source": [
    "from sklearn.dummy import DummyClassifier\n",
    "\n",
    "clf_dummy = DummyClassifier(strategy='most_frequent', random_state=42)\n",
    "\n",
    "#establishing random_state for reproducibility\n",
    "\n",
    "clf_dummy.fit(features_train, target_train)\n",
    "y_pred = clf_dummy.predict(features_valid)\n",
    "score = clf_dummy.score(features_valid, target_valid)\n",
    "display(score)"
   ]
  },
  {
   "cell_type": "markdown",
   "metadata": {},
   "source": [
    "Dummy Classifier has achieved an accuracy of approximately 79%. This is the baseline model, and it’s quite common for the baseline model not to have a very high accuracy.\n",
    "\n",
    "The score we have obtained is the baseline performance. Any other machine learning model we use should ideally perform better than this. If not, we might need to revisit our feature selection, data preprocessing steps, or model choice.\n",
    "\n",
    "The Dummy Classifier doesn’t learn anything from the data and its predictions are based solely on the class distribution of the training set (or are random, depending on the strategy used). It’s a simple tool to provide a sanity check and a baseline for other models."
   ]
  },
  {
   "cell_type": "markdown",
   "metadata": {},
   "source": [
    "#### Section Conclusion"
   ]
  },
  {
   "cell_type": "markdown",
   "metadata": {},
   "source": [
    "The accuracy for sanity check through Dummy Classifier is 79%, while the accuracy using Decision Tree is 86% and Random Forest models is 85%. Only Logistic Regression model has the lowest accuracy, which is 80%. These models are without feature scaling and imbalance consideration."
   ]
  },
  {
   "cell_type": "markdown",
   "metadata": {},
   "source": [
    "### Model Development with Imbalance Fixing"
   ]
  },
  {
   "cell_type": "markdown",
   "metadata": {},
   "source": [
    "Class Distribution Plot for Target (column name: 'Exited')"
   ]
  },
  {
   "cell_type": "code",
   "execution_count": 1061,
   "metadata": {
    "scrolled": true
   },
   "outputs": [
    {
     "data": {
      "image/png": "[encoded data removed]",
      "text/plain": [
       "<Figure size 576x432 with 1 Axes>"
      ]
     },
     "metadata": {
      "needs_background": "light"
     },
     "output_type": "display_data"
    }
   ],
   "source": [
    "plt.figure(figsize=(8, 6))\n",
    "target_train.value_counts().plot(kind='bar', color=['blue', 'red'])\n",
    "plt.title('Class Distribution Plot for Target')\n",
    "plt.xlabel('Class')\n",
    "plt.ylabel('Count')\n",
    "plt.xticks([0, 1], ['Class 0', 'Class 1'])\n",
    "plt.show()"
   ]
  },
  {
   "cell_type": "markdown",
   "metadata": {},
   "source": [
    "We can observe that the class zero is roughly 4x more than class one."
   ]
  },
  {
   "cell_type": "markdown",
   "metadata": {},
   "source": [
    "#### Imbalance Fixing with Feature Scaling"
   ]
  },
  {
   "cell_type": "code",
   "execution_count": 1062,
   "metadata": {
    "scrolled": true
   },
   "outputs": [],
   "source": [
    "# Feature Scaling\n",
    "\n",
    "numeric = ['CreditScore', 'Age', 'Tenure', 'Balance', 'NumOfProducts', 'EstimatedSalary']\n",
    "\n",
    "scaler = StandardScaler()\n",
    "\n",
    "features_train_scaled = features_train.copy()\n",
    "features_valid_scaled = features_valid.copy()\n",
    "features_test_scaled = features_test.copy()\n",
    "\n",
    "# Replacing on the numeric data with the scaled ones.\n",
    "features_train_scaled[numeric] = scaler.fit_transform(features_train_scaled[numeric])\n",
    "features_valid_scaled[numeric] = scaler.transform(features_valid_scaled[numeric])\n",
    "features_test_scaled[numeric] = scaler.transform(features_test_scaled[numeric])"
   ]
  },
  {
   "cell_type": "markdown",
   "metadata": {},
   "source": [
    "Decision Tree Regression"
   ]
  },
  {
   "cell_type": "code",
   "execution_count": 1063,
   "metadata": {
    "scrolled": false
   },
   "outputs": [
    {
     "name": "stdout",
     "output_type": "stream",
     "text": [
      "max_depth = 1 : 0.7926292629262927\n",
      "max_depth = 2 : 0.8305830583058306\n",
      "max_depth = 3 : 0.8333333333333334\n",
      "max_depth = 4 : 0.8509350935093509\n",
      "max_depth = 5 : 0.8558855885588559\n",
      "max_depth = 6 : 0.8481848184818482\n",
      "max_depth = 7 : 0.8487348734873488\n",
      "max_depth = 8 : 0.8426842684268426\n",
      "max_depth = 9 : 0.8388338833883389\n",
      "max_depth = 10 : 0.8355335533553355\n"
     ]
    }
   ],
   "source": [
    "# < create a loop for max_depth from 1 to 10 >\n",
    "for depth in range(1, 11):\n",
    "        model = DecisionTreeClassifier(random_state=12345, max_depth=depth) # < create a model, specify max_depth=depth >\n",
    "\n",
    "        # < train the model >\n",
    "        model.fit(features_train_scaled, target_train)\n",
    "        predictions_valid = model.predict(features_valid_scaled) # < find the predictions using validation set >\n",
    "\n",
    "        print(\"max_depth =\", depth, \": \", end='')\n",
    "        print(accuracy_score(target_valid, predictions_valid))"
   ]
  },
  {
   "cell_type": "markdown",
   "metadata": {},
   "source": [
    "Max_depth of 5 gave the best accuracy of 85.6%."
   ]
  },
  {
   "cell_type": "markdown",
   "metadata": {},
   "source": [
    "Imbalance Checking using Confusion Matrix, F1 Score & AUC-ROC for Decision Tree Model"
   ]
  },
  {
   "cell_type": "code",
   "execution_count": 1064,
   "metadata": {},
   "outputs": [
    {
     "data": {
      "text/plain": [
       "'Confusion Matrix: '"
      ]
     },
     "metadata": {},
     "output_type": "display_data"
    },
    {
     "data": {
      "text/plain": [
       "array([[1395,   46],\n",
       "       [ 216,  161]])"
      ]
     },
     "metadata": {},
     "output_type": "display_data"
    },
    {
     "data": {
      "text/plain": [
       "'F1 Score: '"
      ]
     },
     "metadata": {},
     "output_type": "display_data"
    },
    {
     "data": {
      "text/plain": [
       "0.5513698630136986"
      ]
     },
     "metadata": {},
     "output_type": "display_data"
    },
    {
     "data": {
      "image/png": "[encoded data removed]",
      "text/plain": [
       "<Figure size 432x288 with 1 Axes>"
      ]
     },
     "metadata": {
      "needs_background": "light"
     },
     "output_type": "display_data"
    },
    {
     "data": {
      "text/plain": [
       "0.8349528860189559"
      ]
     },
     "metadata": {},
     "output_type": "display_data"
    }
   ],
   "source": [
    "model = DecisionTreeClassifier(random_state=12345, max_depth=5)\n",
    "model.fit(features_train_scaled, target_train)\n",
    "predictions_valid = model.predict(features_valid_scaled)\n",
    "\n",
    "display('Confusion Matrix: ', confusion_matrix(target_valid, predictions_valid))\n",
    "display('F1 Score: ', f1_score(target_valid, predictions_valid))\n",
    "\n",
    "# ROC Curve & Score\n",
    "probabilities_valid = model.predict_proba(features_valid_scaled)\n",
    "probabilities_one_valid = probabilities_valid[:, 1]\n",
    "\n",
    "fpr, tpr, thresholds = roc_curve(target_valid, probabilities_one_valid) \n",
    "\n",
    "plt.figure()\n",
    "plt.plot(fpr, tpr)\n",
    "\n",
    "# ROC curve for random model (looks like a straight line)\n",
    "plt.plot([0, 1], [0, 1], linestyle='--')\n",
    "\n",
    "plt.xlim([0.0, 1.0])\n",
    "plt.ylim([0.0, 1.0])\n",
    "plt.xlabel('False Positive Rate')\n",
    "plt.ylabel('True Positive Rate')\n",
    "plt.title('ROC curve')\n",
    "plt.show()\n",
    "\n",
    "auc_roc = roc_auc_score(target_valid, probabilities_one_valid)\n",
    "display(auc_roc)"
   ]
  },
  {
   "cell_type": "markdown",
   "metadata": {},
   "source": [
    "1. From the confusion matrix, it detected 1,395 true negative values while only detected 161 true positive values.\n",
    "2. F1 Score: 0.55\n",
    "3. AUC-ROC: 0.83"
   ]
  },
  {
   "cell_type": "markdown",
   "metadata": {},
   "source": [
    "Random Forest Regression"
   ]
  },
  {
   "cell_type": "markdown",
   "metadata": {},
   "source": [
    "Imbalance Checking using Confusion Matrix, F1 Score & AUC-ROC for Random Forest Model"
   ]
  },
  {
   "cell_type": "code",
   "execution_count": 1065,
   "metadata": {},
   "outputs": [
    {
     "data": {
      "text/plain": [
       "'Confusion Matrix: '"
      ]
     },
     "metadata": {},
     "output_type": "display_data"
    },
    {
     "data": {
      "text/plain": [
       "array([[1412,   29],\n",
       "       [ 229,  148]])"
      ]
     },
     "metadata": {},
     "output_type": "display_data"
    },
    {
     "data": {
      "text/plain": [
       "'F1 Score: '"
      ]
     },
     "metadata": {},
     "output_type": "display_data"
    },
    {
     "data": {
      "text/plain": [
       "0.5342960288808665"
      ]
     },
     "metadata": {},
     "output_type": "display_data"
    },
    {
     "data": {
      "image/png": "[encoded data removed]",
      "text/plain": [
       "<Figure size 432x288 with 1 Axes>"
      ]
     },
     "metadata": {
      "needs_background": "light"
     },
     "output_type": "display_data"
    },
    {
     "data": {
      "text/plain": [
       "0.8640698601214527"
      ]
     },
     "metadata": {},
     "output_type": "display_data"
    }
   ],
   "source": [
    "model = RandomForestClassifier(random_state=54321, n_estimators=50, max_depth=8)\n",
    "model.fit(features_train_scaled,target_train)\n",
    "predictions_valid = model.predict(features_valid_scaled)\n",
    "\n",
    "display('Confusion Matrix: ', confusion_matrix(target_valid, predictions_valid))\n",
    "display('F1 Score: ', f1_score(target_valid, predictions_valid))\n",
    "\n",
    "# ROC Curve & Score\n",
    "probabilities_valid = model.predict_proba(features_valid_scaled)\n",
    "probabilities_one_valid = probabilities_valid[:, 1]\n",
    "\n",
    "fpr, tpr, thresholds = roc_curve(target_valid, probabilities_one_valid) \n",
    "\n",
    "plt.figure()\n",
    "plt.plot(fpr, tpr)\n",
    "\n",
    "# ROC curve for random model (looks like a straight line)\n",
    "plt.plot([0, 1], [0, 1], linestyle='--')\n",
    "\n",
    "plt.xlim([0.0, 1.0])\n",
    "plt.ylim([0.0, 1.0])\n",
    "plt.xlabel('False Positive Rate')\n",
    "plt.ylabel('True Positive Rate')\n",
    "plt.title('ROC curve')\n",
    "plt.show()\n",
    "\n",
    "auc_roc = roc_auc_score(target_valid, probabilities_one_valid)\n",
    "display(auc_roc)"
   ]
  },
  {
   "cell_type": "markdown",
   "metadata": {},
   "source": [
    "1. From the confusion matrix, it detected 1,412 true negative values while only detected 148 true positive values.\n",
    "2. F1 Score: 0.53\n",
    "3. AUC-ROC: 0.86"
   ]
  },
  {
   "cell_type": "markdown",
   "metadata": {},
   "source": [
    "Logistic Regression"
   ]
  },
  {
   "cell_type": "code",
   "execution_count": 1066,
   "metadata": {
    "scrolled": true
   },
   "outputs": [
    {
     "name": "stdout",
     "output_type": "stream",
     "text": [
      "Accuracy of the logistic regression model on the training set: 0.8027136046938027\n",
      "Accuracy of the logistic regression model on the validation set: 0.7970297029702971\n"
     ]
    }
   ],
   "source": [
    "model = LogisticRegression(random_state=54321, solver='liblinear') # initialize logistic regression constructor with parameters random_state=54321 and solver='liblinear'\n",
    "model.fit(features_train_scaled, target_train)  # train model on training set\n",
    "score_train = model.score(features_train_scaled, target_train) # calculate accuracy score on training set \n",
    "score_valid = model.score(features_valid_scaled, target_valid) # calculate accuracy score on validation set  \n",
    "\n",
    "print(\"Accuracy of the logistic regression model on the training set:\",score_train)\n",
    "print(\"Accuracy of the logistic regression model on the validation set:\",score_valid)"
   ]
  },
  {
   "cell_type": "markdown",
   "metadata": {},
   "source": [
    "We are trying to build the Logistic Regression model, and the accuracy score on training set is 0.80 and on validation set is 0.79."
   ]
  },
  {
   "cell_type": "markdown",
   "metadata": {},
   "source": [
    "Imbalance Checking using Confusion Matrix, F1 Score & AUC-ROC for Logistic Regression Model"
   ]
  },
  {
   "cell_type": "code",
   "execution_count": 1067,
   "metadata": {
    "scrolled": true
   },
   "outputs": [
    {
     "data": {
      "text/plain": [
       "'Confusion Matrix: '"
      ]
     },
     "metadata": {},
     "output_type": "display_data"
    },
    {
     "data": {
      "text/plain": [
       "array([[1399,   42],\n",
       "       [ 327,   50]])"
      ]
     },
     "metadata": {},
     "output_type": "display_data"
    },
    {
     "data": {
      "text/plain": [
       "'F1 Score: '"
      ]
     },
     "metadata": {},
     "output_type": "display_data"
    },
    {
     "data": {
      "text/plain": [
       "0.21321961620469088"
      ]
     },
     "metadata": {},
     "output_type": "display_data"
    },
    {
     "data": {
      "image/png": "[encoded data removed]",
      "text/plain": [
       "<Figure size 432x288 with 1 Axes>"
      ]
     },
     "metadata": {
      "needs_background": "light"
     },
     "output_type": "display_data"
    },
    {
     "data": {
      "text/plain": [
       "0.7502139871184356"
      ]
     },
     "metadata": {},
     "output_type": "display_data"
    }
   ],
   "source": [
    "model = LogisticRegression(random_state=54321, solver='liblinear')\n",
    "model.fit(features_train_scaled,target_train)\n",
    "predictions_valid = model.predict(features_valid_scaled)\n",
    "\n",
    "display('Confusion Matrix: ', confusion_matrix(target_valid, predictions_valid))\n",
    "display('F1 Score: ', f1_score(target_valid, predictions_valid))\n",
    "\n",
    "# ROC Curve & Score\n",
    "probabilities_valid = model.predict_proba(features_valid_scaled)\n",
    "probabilities_one_valid = probabilities_valid[:, 1]\n",
    "\n",
    "fpr, tpr, thresholds = roc_curve(target_valid, probabilities_one_valid) \n",
    "\n",
    "plt.figure()\n",
    "plt.plot(fpr, tpr)\n",
    "\n",
    "# ROC curve for random model (looks like a straight line)\n",
    "plt.plot([0, 1], [0, 1], linestyle='--')\n",
    "\n",
    "plt.xlim([0.0, 1.0])\n",
    "plt.ylim([0.0, 1.0])\n",
    "plt.xlabel('False Positive Rate')\n",
    "plt.ylabel('True Positive Rate')\n",
    "plt.title('ROC curve')\n",
    "plt.show()\n",
    "\n",
    "auc_roc = roc_auc_score(target_valid, probabilities_one_valid)\n",
    "display(auc_roc)"
   ]
  },
  {
   "cell_type": "markdown",
   "metadata": {},
   "source": [
    "1. From the confusion matrix, it detected 1,399 true negative values while only detected 50 true positive values.\n",
    "2. F1 Score: 0.21\n",
    "3. AUC-ROC: 0.75"
   ]
  },
  {
   "cell_type": "markdown",
   "metadata": {},
   "source": [
    "Section Conclusion:"
   ]
  },
  {
   "cell_type": "markdown",
   "metadata": {},
   "source": [
    "1. With the feature scaling only, the F1 Score for Decision Tree model is 0.55 while the AUC-ROC is 0.83.\n",
    "2. With the feature scaling only, the F1 Score for Random Forest model is 0.53 while the AUC-ROC is 0.86.\n",
    "3. With the feature scaling only, the F1 Score for Logistic Regression model is 0.21 while the AUC-ROC is 0.75."
   ]
  },
  {
   "cell_type": "markdown",
   "metadata": {},
   "source": [
    "##### Feature Scaling + Class Weight Adjustment"
   ]
  },
  {
   "cell_type": "code",
   "execution_count": 1068,
   "metadata": {
    "scrolled": true
   },
   "outputs": [],
   "source": [
    "# Feature Scaling\n",
    "\n",
    "numeric = ['CreditScore', 'Age', 'Tenure', 'Balance', 'NumOfProducts', 'EstimatedSalary']\n",
    "\n",
    "scaler = StandardScaler()\n",
    "\n",
    "features_train_scaled = features_train.copy()\n",
    "features_valid_scaled = features_valid.copy()\n",
    "features_test_scaled = features_test.copy()\n",
    "\n",
    "# Replacing on the numeric data with the scaled ones.\n",
    "features_train_scaled[numeric] = scaler.fit_transform(features_train_scaled[numeric])\n",
    "features_valid_scaled[numeric] = scaler.transform(features_valid_scaled[numeric])\n",
    "features_test_scaled[numeric] = scaler.transform(features_test_scaled[numeric])"
   ]
  },
  {
   "cell_type": "markdown",
   "metadata": {},
   "source": [
    "Decision Tree Regression"
   ]
  },
  {
   "cell_type": "code",
   "execution_count": 1069,
   "metadata": {
    "scrolled": false
   },
   "outputs": [
    {
     "name": "stdout",
     "output_type": "stream",
     "text": [
      "max_depth = 1 : 0.7321232123212321\n",
      "max_depth = 2 : 0.7392739273927392\n",
      "max_depth = 3 : 0.7667766776677668\n",
      "max_depth = 4 : 0.6705170517051705\n",
      "max_depth = 5 : 0.7909790979097909\n",
      "max_depth = 6 : 0.7953795379537953\n",
      "max_depth = 7 : 0.7282728272827282\n",
      "max_depth = 8 : 0.7678767876787679\n",
      "max_depth = 9 : 0.7200220022002201\n",
      "max_depth = 10 : 0.7524752475247525\n"
     ]
    }
   ],
   "source": [
    "# < create a loop for max_depth from 1 to 10 >\n",
    "for depth in range(1, 11):\n",
    "        model = DecisionTreeClassifier(random_state=12345, max_depth=depth, class_weight='balanced') # < create a model, specify max_depth=depth >\n",
    "\n",
    "        # < train the model >\n",
    "        model.fit(features_train_scaled, target_train)\n",
    "        predictions_valid = model.predict(features_valid_scaled) # < find the predictions using validation set >\n",
    "\n",
    "        print(\"max_depth =\", depth, \": \", end='')\n",
    "        print(accuracy_score(target_valid, predictions_valid))"
   ]
  },
  {
   "cell_type": "markdown",
   "metadata": {},
   "source": [
    "Max_depth of 6 gave the best accuracy of 80%."
   ]
  },
  {
   "cell_type": "markdown",
   "metadata": {},
   "source": [
    "Imbalance Checking using Confusion Matrix & F1 Score for Decision Tree Model"
   ]
  },
  {
   "cell_type": "code",
   "execution_count": 1070,
   "metadata": {},
   "outputs": [
    {
     "data": {
      "text/plain": [
       "'Confusion Matrix: '"
      ]
     },
     "metadata": {},
     "output_type": "display_data"
    },
    {
     "data": {
      "text/plain": [
       "array([[1195,  246],\n",
       "       [ 126,  251]])"
      ]
     },
     "metadata": {},
     "output_type": "display_data"
    },
    {
     "data": {
      "text/plain": [
       "'F1 Score: '"
      ]
     },
     "metadata": {},
     "output_type": "display_data"
    },
    {
     "data": {
      "text/plain": [
       "0.574370709382151"
      ]
     },
     "metadata": {},
     "output_type": "display_data"
    },
    {
     "data": {
      "image/png": "[encoded data removed]",
      "text/plain": [
       "<Figure size 432x288 with 1 Axes>"
      ]
     },
     "metadata": {
      "needs_background": "light"
     },
     "output_type": "display_data"
    },
    {
     "data": {
      "text/plain": [
       "0.8220759235499956"
      ]
     },
     "metadata": {},
     "output_type": "display_data"
    }
   ],
   "source": [
    "model = DecisionTreeClassifier(random_state=12345, max_depth=6, class_weight='balanced')\n",
    "model.fit(features_train_scaled, target_train)\n",
    "predictions_valid = model.predict(features_valid_scaled)\n",
    "\n",
    "display('Confusion Matrix: ', confusion_matrix(target_valid, predictions_valid))\n",
    "display('F1 Score: ', f1_score(target_valid, predictions_valid))\n",
    "\n",
    "# ROC Curve & Score\n",
    "probabilities_valid = model.predict_proba(features_valid_scaled)\n",
    "probabilities_one_valid = probabilities_valid[:, 1]\n",
    "\n",
    "fpr, tpr, thresholds = roc_curve(target_valid, probabilities_one_valid) \n",
    "\n",
    "plt.figure()\n",
    "plt.plot(fpr, tpr)\n",
    "\n",
    "# ROC curve for random model (looks like a straight line)\n",
    "plt.plot([0, 1], [0, 1], linestyle='--')\n",
    "\n",
    "plt.xlim([0.0, 1.0])\n",
    "plt.ylim([0.0, 1.0])\n",
    "plt.xlabel('False Positive Rate')\n",
    "plt.ylabel('True Positive Rate')\n",
    "plt.title('ROC curve')\n",
    "plt.show()\n",
    "\n",
    "auc_roc = roc_auc_score(target_valid, probabilities_one_valid)\n",
    "display(auc_roc)"
   ]
  },
  {
   "cell_type": "markdown",
   "metadata": {},
   "source": [
    "1. From the confusion matrix, it detected 1,195 true negative values while only detected 251 true positive values.\n",
    "2. F1 Score: 0.57\n",
    "3. AUC-ROC: 0.82"
   ]
  },
  {
   "cell_type": "markdown",
   "metadata": {},
   "source": [
    "Random Forest Regression"
   ]
  },
  {
   "cell_type": "markdown",
   "metadata": {},
   "source": [
    "Imbalance Checking using Confusion Matrix & F1 Score for Random Forest Model"
   ]
  },
  {
   "cell_type": "code",
   "execution_count": 1071,
   "metadata": {},
   "outputs": [
    {
     "data": {
      "text/plain": [
       "'Confusion Matrix: '"
      ]
     },
     "metadata": {},
     "output_type": "display_data"
    },
    {
     "data": {
      "text/plain": [
       "array([[1234,  207],\n",
       "       [ 115,  262]])"
      ]
     },
     "metadata": {},
     "output_type": "display_data"
    },
    {
     "data": {
      "text/plain": [
       "'F1 Score: '"
      ]
     },
     "metadata": {},
     "output_type": "display_data"
    },
    {
     "data": {
      "text/plain": [
       "0.6193853427895981"
      ]
     },
     "metadata": {},
     "output_type": "display_data"
    },
    {
     "data": {
      "image/png": "[encoded data removed]",
      "text/plain": [
       "<Figure size 432x288 with 1 Axes>"
      ]
     },
     "metadata": {
      "needs_background": "light"
     },
     "output_type": "display_data"
    },
    {
     "data": {
      "text/plain": [
       "0.8612240615399342"
      ]
     },
     "metadata": {},
     "output_type": "display_data"
    }
   ],
   "source": [
    "model = RandomForestClassifier(random_state=54321, n_estimators=50, max_depth=8, class_weight='balanced')\n",
    "model.fit(features_train_scaled,target_train)\n",
    "predictions_valid = model.predict(features_valid_scaled)\n",
    "\n",
    "display('Confusion Matrix: ', confusion_matrix(target_valid, predictions_valid))\n",
    "display('F1 Score: ', f1_score(target_valid, predictions_valid))\n",
    "\n",
    "# ROC Curve & Score\n",
    "probabilities_valid = model.predict_proba(features_valid_scaled)\n",
    "probabilities_one_valid = probabilities_valid[:, 1]\n",
    "\n",
    "fpr, tpr, thresholds = roc_curve(target_valid, probabilities_one_valid) \n",
    "\n",
    "plt.figure()\n",
    "plt.plot(fpr, tpr)\n",
    "\n",
    "# ROC curve for random model (looks like a straight line)\n",
    "plt.plot([0, 1], [0, 1], linestyle='--')\n",
    "\n",
    "plt.xlim([0.0, 1.0])\n",
    "plt.ylim([0.0, 1.0])\n",
    "plt.xlabel('False Positive Rate')\n",
    "plt.ylabel('True Positive Rate')\n",
    "plt.title('ROC curve')\n",
    "plt.show()\n",
    "\n",
    "auc_roc = roc_auc_score(target_valid, probabilities_one_valid)\n",
    "display(auc_roc)"
   ]
  },
  {
   "cell_type": "markdown",
   "metadata": {},
   "source": [
    "1. From the confusion matrix, it detected 1,234 true negative values while only detected 262 true positive values.\n",
    "2. F1 Score: 0.62\n",
    "3. AUC-ROC: 0.86"
   ]
  },
  {
   "cell_type": "markdown",
   "metadata": {},
   "source": [
    "Logistic Regression"
   ]
  },
  {
   "cell_type": "code",
   "execution_count": 1072,
   "metadata": {
    "scrolled": true
   },
   "outputs": [
    {
     "name": "stdout",
     "output_type": "stream",
     "text": [
      "Accuracy of the logistic regression model on the training set: 0.7004033736707004\n",
      "Accuracy of the logistic regression model on the validation set: 0.6881188118811881\n"
     ]
    }
   ],
   "source": [
    "model = LogisticRegression(random_state=54321, solver='liblinear', class_weight='balanced') # initialize logistic regression constructor with parameters random_state=54321 and solver='liblinear'\n",
    "model.fit(features_train_scaled, target_train)  # train model on training set\n",
    "score_train = model.score(features_train_scaled, target_train) # calculate accuracy score on training set \n",
    "score_valid = model.score(features_valid_scaled, target_valid) # calculate accuracy score on validation set  \n",
    "\n",
    "print(\"Accuracy of the logistic regression model on the training set:\",score_train)\n",
    "print(\"Accuracy of the logistic regression model on the validation set:\",score_valid)"
   ]
  },
  {
   "cell_type": "markdown",
   "metadata": {},
   "source": [
    "We are trying to build the Logistic Regression model, and the accuracy score on training set is 0.70 and on validation set is 0.69."
   ]
  },
  {
   "cell_type": "markdown",
   "metadata": {},
   "source": [
    "Imbalance Checking using Confusion Matrix & F1 Score for Logistic Regression Model"
   ]
  },
  {
   "cell_type": "code",
   "execution_count": 1073,
   "metadata": {
    "scrolled": true
   },
   "outputs": [
    {
     "data": {
      "text/plain": [
       "'Confusion Matrix: '"
      ]
     },
     "metadata": {},
     "output_type": "display_data"
    },
    {
     "data": {
      "text/plain": [
       "array([[990, 451],\n",
       "       [116, 261]])"
      ]
     },
     "metadata": {},
     "output_type": "display_data"
    },
    {
     "data": {
      "text/plain": [
       "'F1 Score: '"
      ]
     },
     "metadata": {},
     "output_type": "display_data"
    },
    {
     "data": {
      "text/plain": [
       "0.47933884297520657"
      ]
     },
     "metadata": {},
     "output_type": "display_data"
    },
    {
     "data": {
      "image/png": "[encoded data removed]",
      "text/plain": [
       "<Figure size 432x288 with 1 Axes>"
      ]
     },
     "metadata": {
      "needs_background": "light"
     },
     "output_type": "display_data"
    },
    {
     "data": {
      "text/plain": [
       "0.7569327224499639"
      ]
     },
     "metadata": {},
     "output_type": "display_data"
    }
   ],
   "source": [
    "model = LogisticRegression(random_state=54321, solver='liblinear', class_weight='balanced')\n",
    "model.fit(features_train_scaled,target_train)\n",
    "predictions_valid = model.predict(features_valid_scaled)\n",
    "\n",
    "display('Confusion Matrix: ', confusion_matrix(target_valid, predictions_valid))\n",
    "display('F1 Score: ', f1_score(target_valid, predictions_valid))\n",
    "\n",
    "# ROC Curve & Score\n",
    "probabilities_valid = model.predict_proba(features_valid_scaled)\n",
    "probabilities_one_valid = probabilities_valid[:, 1]\n",
    "\n",
    "fpr, tpr, thresholds = roc_curve(target_valid, probabilities_one_valid) \n",
    "\n",
    "plt.figure()\n",
    "plt.plot(fpr, tpr)\n",
    "\n",
    "# ROC curve for random model (looks like a straight line)\n",
    "plt.plot([0, 1], [0, 1], linestyle='--')\n",
    "\n",
    "plt.xlim([0.0, 1.0])\n",
    "plt.ylim([0.0, 1.0])\n",
    "plt.xlabel('False Positive Rate')\n",
    "plt.ylabel('True Positive Rate')\n",
    "plt.title('ROC curve')\n",
    "plt.show()\n",
    "\n",
    "auc_roc = roc_auc_score(target_valid, probabilities_one_valid)\n",
    "display(auc_roc)"
   ]
  },
  {
   "cell_type": "markdown",
   "metadata": {},
   "source": [
    "1. From the confusion matrix, it detected 1,033 true negative values while only detected 252 true positive values.\n",
    "2. F1 Score: 0.48\n",
    "3. AUC-ROC: 0.76"
   ]
  },
  {
   "cell_type": "markdown",
   "metadata": {},
   "source": [
    "Section Conclusion:"
   ]
  },
  {
   "cell_type": "markdown",
   "metadata": {},
   "source": [
    "1. With the Feature Scaling & Class Weight Adjustment, the F1 Score for Decision Tree model is 0.57 while the AUC-ROC is 0.82.\n",
    "2. With the Feature Scaling & Class Weight Adjustment, the F1 Score for Random Forest model is 0.62 while the AUC-ROC is 0.86.\n",
    "3. With the Feature Scaling & Class Weight Adjustment, the F1 Score for Logistic Regression model is 0.48 while the AUC-ROC is 0.76."
   ]
  },
  {
   "cell_type": "markdown",
   "metadata": {},
   "source": [
    "##### Feature Scaling + Upsampling for Imbalance Fixing"
   ]
  },
  {
   "cell_type": "code",
   "execution_count": 1074,
   "metadata": {},
   "outputs": [],
   "source": [
    "def upsample(features, target, repeat):\n",
    "    features_zeros = features[target == 0]\n",
    "    features_ones = features[target == 1]\n",
    "    target_zeros = target[target == 0]\n",
    "    target_ones = target[target == 1]\n",
    "\n",
    "    features_upsampled = pd.concat([features_zeros] + [features_ones] * repeat)\n",
    "    target_upsampled = pd.concat([target_zeros] + [target_ones] * repeat)\n",
    "\n",
    "    features_upsampled, target_upsampled = shuffle(features_upsampled, target_upsampled, random_state=12345)\n",
    "\n",
    "    return features_upsampled, target_upsampled\n",
    "\n",
    "\n",
    "features_upsampled, target_upsampled = upsample(features_train, target_train, 4) \n",
    "# repeat number 4 is chosen as the class zero is around 4x higher than class one.\n",
    "\n",
    "# Feature Scaling\n",
    "numeric = ['CreditScore', 'Age', 'Tenure', 'Balance', 'NumOfProducts', 'EstimatedSalary']\n",
    "scaler = StandardScaler()\n",
    "scaler.fit(features_train[numeric])\n",
    "features_valid_scaled = scaler.transform(features_valid[numeric])\n",
    "features_train_upsampled_scaled = scaler.transform(features_upsampled[numeric])"
   ]
  },
  {
   "cell_type": "code",
   "execution_count": 1075,
   "metadata": {
    "scrolled": false
   },
   "outputs": [
    {
     "name": "stdout",
     "output_type": "stream",
     "text": [
      "max_depth = 1 : 0.7321232123212321\n",
      "max_depth = 2 : 0.7392739273927392\n",
      "max_depth = 3 : 0.823982398239824\n",
      "max_depth = 4 : 0.6974697469746974\n",
      "max_depth = 5 : 0.7717271727172718\n",
      "max_depth = 6 : 0.7491749174917491\n",
      "max_depth = 7 : 0.7392739273927392\n",
      "max_depth = 8 : 0.7414741474147415\n",
      "max_depth = 9 : 0.7491749174917491\n",
      "max_depth = 10 : 0.7288228822882288\n"
     ]
    }
   ],
   "source": [
    "# < create a loop for max_depth from 1 to 10 >\n",
    "for depth in range(1, 11):\n",
    "        model = DecisionTreeClassifier(random_state=12345, max_depth=depth) # < create a model, specify max_depth=depth >\n",
    "\n",
    "        # < train the model >\n",
    "        model.fit(features_train_upsampled_scaled, target_upsampled)\n",
    "        predictions_valid = model.predict(features_valid_scaled) # < find the predictions using validation set >\n",
    "\n",
    "        print(\"max_depth =\", depth, \": \", end='')\n",
    "        print(accuracy_score(target_valid, predictions_valid))"
   ]
  },
  {
   "cell_type": "markdown",
   "metadata": {},
   "source": [
    "Max_depth of 3 gave the best accuracy of 82%."
   ]
  },
  {
   "cell_type": "markdown",
   "metadata": {},
   "source": [
    "Imbalance Checking using Confusion Matrix,F1 Score & AUC-ROC for Decision Tree Model"
   ]
  },
  {
   "cell_type": "code",
   "execution_count": 1076,
   "metadata": {},
   "outputs": [
    {
     "data": {
      "text/plain": [
       "'Confusion Matrix: '"
      ]
     },
     "metadata": {},
     "output_type": "display_data"
    },
    {
     "data": {
      "text/plain": [
       "array([[1277,  164],\n",
       "       [ 156,  221]])"
      ]
     },
     "metadata": {},
     "output_type": "display_data"
    },
    {
     "data": {
      "text/plain": [
       "'F1 Score: '"
      ]
     },
     "metadata": {},
     "output_type": "display_data"
    },
    {
     "data": {
      "text/plain": [
       "0.5800524934383202"
      ]
     },
     "metadata": {},
     "output_type": "display_data"
    },
    {
     "data": {
      "image/png": "[encoded data removed]",
      "text/plain": [
       "<Figure size 432x288 with 1 Axes>"
      ]
     },
     "metadata": {
      "needs_background": "light"
     },
     "output_type": "display_data"
    },
    {
     "data": {
      "text/plain": [
       "0.796536445917862"
      ]
     },
     "metadata": {},
     "output_type": "display_data"
    }
   ],
   "source": [
    "model = DecisionTreeClassifier(random_state=12345, max_depth=3)\n",
    "model.fit(features_train_upsampled_scaled, target_upsampled)\n",
    "predictions_valid = model.predict(features_valid_scaled)\n",
    "\n",
    "display('Confusion Matrix: ', confusion_matrix(target_valid, predictions_valid))\n",
    "display('F1 Score: ', f1_score(target_valid, predictions_valid))\n",
    "\n",
    "# ROC Curve & Score\n",
    "probabilities_valid = model.predict_proba(features_valid_scaled)\n",
    "probabilities_one_valid = probabilities_valid[:, 1]\n",
    "\n",
    "fpr, tpr, thresholds = roc_curve(target_valid, probabilities_one_valid) \n",
    "\n",
    "plt.figure()\n",
    "plt.plot(fpr, tpr)\n",
    "\n",
    "# ROC curve for random model (looks like a straight line)\n",
    "plt.plot([0, 1], [0, 1], linestyle='--')\n",
    "\n",
    "plt.xlim([0.0, 1.0])\n",
    "plt.ylim([0.0, 1.0])\n",
    "plt.xlabel('False Positive Rate')\n",
    "plt.ylabel('True Positive Rate')\n",
    "plt.title('ROC curve')\n",
    "plt.show()\n",
    "\n",
    "auc_roc = roc_auc_score(target_valid, probabilities_one_valid)\n",
    "display(auc_roc)"
   ]
  },
  {
   "cell_type": "markdown",
   "metadata": {},
   "source": [
    "1. From the confusion matrix, it detected 1,277 true negative values while only detected 221 true positive values.\n",
    "2. F1 Score: 0.58\n",
    "3. AUC-ROC: 0.80"
   ]
  },
  {
   "cell_type": "markdown",
   "metadata": {},
   "source": [
    "Random Forest Regression"
   ]
  },
  {
   "cell_type": "markdown",
   "metadata": {},
   "source": [
    "Imbalance Checking using Confusion Matrix, F1 Score & AUC-ROC for Random Forest Model"
   ]
  },
  {
   "cell_type": "code",
   "execution_count": 1077,
   "metadata": {
    "scrolled": true
   },
   "outputs": [
    {
     "data": {
      "text/plain": [
       "'Confusion Matrix: '"
      ]
     },
     "metadata": {},
     "output_type": "display_data"
    },
    {
     "data": {
      "text/plain": [
       "array([[1144,  297],\n",
       "       [ 102,  275]])"
      ]
     },
     "metadata": {},
     "output_type": "display_data"
    },
    {
     "data": {
      "text/plain": [
       "'F1 Score: '"
      ]
     },
     "metadata": {},
     "output_type": "display_data"
    },
    {
     "data": {
      "text/plain": [
       "0.5795574288724974"
      ]
     },
     "metadata": {},
     "output_type": "display_data"
    },
    {
     "data": {
      "image/png": "[encoded data removed]",
      "text/plain": [
       "<Figure size 432x288 with 1 Axes>"
      ]
     },
     "metadata": {
      "needs_background": "light"
     },
     "output_type": "display_data"
    },
    {
     "data": {
      "text/plain": [
       "0.8264633497589539"
      ]
     },
     "metadata": {},
     "output_type": "display_data"
    }
   ],
   "source": [
    "model = RandomForestClassifier(random_state=54321, n_estimators=50, max_depth=8)\n",
    "model.fit(features_train_upsampled_scaled,target_upsampled)\n",
    "predictions_valid = model.predict(features_valid_scaled)\n",
    "\n",
    "display('Confusion Matrix: ', confusion_matrix(target_valid, predictions_valid))\n",
    "display('F1 Score: ', f1_score(target_valid, predictions_valid))\n",
    "\n",
    "# ROC Curve & Score\n",
    "probabilities_valid = model.predict_proba(features_valid_scaled)\n",
    "probabilities_one_valid = probabilities_valid[:, 1]\n",
    "\n",
    "fpr, tpr, thresholds = roc_curve(target_valid, probabilities_one_valid) \n",
    "\n",
    "plt.figure()\n",
    "plt.plot(fpr, tpr)\n",
    "\n",
    "# ROC curve for random model (looks like a straight line)\n",
    "plt.plot([0, 1], [0, 1], linestyle='--')\n",
    "\n",
    "plt.xlim([0.0, 1.0])\n",
    "plt.ylim([0.0, 1.0])\n",
    "plt.xlabel('False Positive Rate')\n",
    "plt.ylabel('True Positive Rate')\n",
    "plt.title('ROC curve')\n",
    "plt.show()\n",
    "\n",
    "auc_roc = roc_auc_score(target_valid, probabilities_one_valid)\n",
    "display(auc_roc)"
   ]
  },
  {
   "cell_type": "markdown",
   "metadata": {},
   "source": [
    "1. From the confusion matrix, it detected 1,144 true negative values while only detected 275 true positive values.\n",
    "2. F1 Score: 0.58\n",
    "3. AUC-ROC: 0.83"
   ]
  },
  {
   "cell_type": "markdown",
   "metadata": {},
   "source": [
    "Logistic Regression"
   ]
  },
  {
   "cell_type": "code",
   "execution_count": 1078,
   "metadata": {
    "scrolled": true
   },
   "outputs": [
    {
     "name": "stdout",
     "output_type": "stream",
     "text": [
      "Accuracy of the logistic regression model on the training set: 0.6843297101449275\n",
      "Accuracy of the logistic regression model on the validation set: 0.6925192519251925\n"
     ]
    }
   ],
   "source": [
    "model = LogisticRegression(random_state=54321, solver='liblinear') # initialize logistic regression constructor with parameters random_state=54321 and solver='liblinear'\n",
    "model.fit(features_train_upsampled_scaled,target_upsampled)  # train model on training set\n",
    "score_train = model.score(features_train_upsampled_scaled, target_upsampled) # calculate accuracy score on training set \n",
    "score_valid = model.score(features_valid_scaled, target_valid) # calculate accuracy score on validation set  \n",
    "\n",
    "print(\"Accuracy of the logistic regression model on the training set:\",score_train)\n",
    "print(\"Accuracy of the logistic regression model on the validation set:\",score_valid)"
   ]
  },
  {
   "cell_type": "markdown",
   "metadata": {},
   "source": [
    "We are trying to build the Logistic Regression model, and the accuracy score on training set and validation set are both 0.69."
   ]
  },
  {
   "cell_type": "markdown",
   "metadata": {},
   "source": [
    "Imbalance Checking using Confusion Matrix, F1 Score & AUC-ROC for Logistic Regression Model"
   ]
  },
  {
   "cell_type": "code",
   "execution_count": 1079,
   "metadata": {
    "scrolled": true
   },
   "outputs": [
    {
     "data": {
      "text/plain": [
       "'Confusion Matrix: '"
      ]
     },
     "metadata": {},
     "output_type": "display_data"
    },
    {
     "data": {
      "text/plain": [
       "array([[1003,  438],\n",
       "       [ 121,  256]])"
      ]
     },
     "metadata": {},
     "output_type": "display_data"
    },
    {
     "data": {
      "text/plain": [
       "'F1 Score: '"
      ]
     },
     "metadata": {},
     "output_type": "display_data"
    },
    {
     "data": {
      "text/plain": [
       "0.4780578898225957"
      ]
     },
     "metadata": {},
     "output_type": "display_data"
    },
    {
     "data": {
      "image/png": "[encoded data removed]",
      "text/plain": [
       "<Figure size 432x288 with 1 Axes>"
      ]
     },
     "metadata": {
      "needs_background": "light"
     },
     "output_type": "display_data"
    },
    {
     "data": {
      "text/plain": [
       "0.7405647787327175"
      ]
     },
     "metadata": {},
     "output_type": "display_data"
    }
   ],
   "source": [
    "model = LogisticRegression(random_state=54321, solver='liblinear')\n",
    "model.fit(features_train_upsampled_scaled,target_upsampled)\n",
    "predictions_valid = model.predict(features_valid_scaled)\n",
    "\n",
    "display('Confusion Matrix: ', confusion_matrix(target_valid, predictions_valid))\n",
    "display('F1 Score: ', f1_score(target_valid, predictions_valid))\n",
    "\n",
    "# ROC Curve & Score\n",
    "probabilities_valid = model.predict_proba(features_valid_scaled)\n",
    "probabilities_one_valid = probabilities_valid[:, 1]\n",
    "\n",
    "fpr, tpr, thresholds = roc_curve(target_valid, probabilities_one_valid) \n",
    "\n",
    "plt.figure()\n",
    "plt.plot(fpr, tpr)\n",
    "\n",
    "# ROC curve for random model (looks like a straight line)\n",
    "plt.plot([0, 1], [0, 1], linestyle='--')\n",
    "\n",
    "plt.xlim([0.0, 1.0])\n",
    "plt.ylim([0.0, 1.0])\n",
    "plt.xlabel('False Positive Rate')\n",
    "plt.ylabel('True Positive Rate')\n",
    "plt.title('ROC curve')\n",
    "plt.show()\n",
    "\n",
    "auc_roc = roc_auc_score(target_valid, probabilities_one_valid)\n",
    "display(auc_roc)"
   ]
  },
  {
   "cell_type": "markdown",
   "metadata": {},
   "source": [
    "1. From the confusion matrix, it detected 1,003 true negative values while only detected 256 true positive values.\n",
    "2. F1 Score: 0.48\n",
    "3. AUC-ROC: 0.74"
   ]
  },
  {
   "cell_type": "markdown",
   "metadata": {},
   "source": [
    "Section Conclusion:"
   ]
  },
  {
   "cell_type": "markdown",
   "metadata": {},
   "source": [
    "1. With the Feature Scaling & upsampling, the F1 Score for Decision Tree model is 0.58 while the AUC-ROC is 0.80.\n",
    "2. With the Feature Scaling & Class upsampling, the F1 Score for Random Forest model is 0.58 while the AUC-ROC is 0.83.\n",
    "3. With the Feature Scaling & upsampling, the F1 Score for Logistic Regression model is 0.48 while the AUC-ROC is 0.74."
   ]
  },
  {
   "cell_type": "markdown",
   "metadata": {},
   "source": [
    "##### Feature Scaling + Downsampling for Imbalance Fixing"
   ]
  },
  {
   "cell_type": "code",
   "execution_count": 1080,
   "metadata": {},
   "outputs": [],
   "source": [
    "def downsample(features, target, fraction):\n",
    "    features_zeros = features[target == 0]\n",
    "    features_ones = features[target == 1]\n",
    "    target_zeros = target[target == 0]\n",
    "    target_ones = target[target == 1]\n",
    "\n",
    "    features_downsampled = pd.concat([features_zeros.sample(frac=fraction, random_state=12345)] + [features_ones])\n",
    "    target_downsampled = pd.concat([target_zeros.sample(frac=fraction, random_state=12345)] + [target_ones])\n",
    "\n",
    "    features_downsampled, target_downsampled = shuffle(features_downsampled, target_downsampled, random_state=12345)\n",
    "\n",
    "    return features_downsampled, target_downsampled\n",
    "\n",
    "\n",
    "features_downsampled, target_downsampled = downsample(features_train, target_train, 0.25) \n",
    "# fraction number 0.25 is chosen as the class zero is around 4x higher than class one.\n",
    "\n",
    "\n",
    "# Feature Scaling\n",
    "numeric = ['CreditScore', 'Age', 'Tenure', 'Balance', 'NumOfProducts', 'EstimatedSalary']\n",
    "scaler = StandardScaler()\n",
    "scaler.fit(features_train[numeric])\n",
    "features_valid_scaled = scaler.transform(features_valid[numeric])\n",
    "features_train_downsampled_scaled = scaler.transform(features_downsampled[numeric])"
   ]
  },
  {
   "cell_type": "code",
   "execution_count": 1081,
   "metadata": {
    "scrolled": false
   },
   "outputs": [
    {
     "name": "stdout",
     "output_type": "stream",
     "text": [
      "max_depth = 1 : 0.6875687568756875\n",
      "max_depth = 2 : 0.6925192519251925\n",
      "max_depth = 3 : 0.8030803080308031\n",
      "max_depth = 4 : 0.6903190319031903\n",
      "max_depth = 5 : 0.6947194719471947\n",
      "max_depth = 6 : 0.7205720572057206\n",
      "max_depth = 7 : 0.7051705170517052\n",
      "max_depth = 8 : 0.713971397139714\n",
      "max_depth = 9 : 0.6947194719471947\n",
      "max_depth = 10 : 0.693069306930693\n"
     ]
    }
   ],
   "source": [
    "# < create a loop for max_depth from 1 to 10 >\n",
    "for depth in range(1, 11):\n",
    "        model = DecisionTreeClassifier(random_state=12345, max_depth=depth) # < create a model, specify max_depth=depth >\n",
    "\n",
    "        # < train the model >\n",
    "        model.fit(features_train_downsampled_scaled, target_downsampled)\n",
    "        predictions_valid = model.predict(features_valid_scaled) # < find the predictions using validation set >\n",
    "\n",
    "        print(\"max_depth =\", depth, \": \", end='')\n",
    "        print(accuracy_score(target_valid, predictions_valid))"
   ]
  },
  {
   "cell_type": "markdown",
   "metadata": {},
   "source": [
    "Max_depth of 3 gave the best accuracy of 80%."
   ]
  },
  {
   "cell_type": "markdown",
   "metadata": {},
   "source": [
    "Imbalance Checking using Confusion Matrix,F1 Score & AUC-ROC for Decision Tree Model"
   ]
  },
  {
   "cell_type": "code",
   "execution_count": 1082,
   "metadata": {},
   "outputs": [
    {
     "data": {
      "text/plain": [
       "'Confusion Matrix: '"
      ]
     },
     "metadata": {},
     "output_type": "display_data"
    },
    {
     "data": {
      "text/plain": [
       "array([[1221,  220],\n",
       "       [ 138,  239]])"
      ]
     },
     "metadata": {},
     "output_type": "display_data"
    },
    {
     "data": {
      "text/plain": [
       "'F1 Score: '"
      ]
     },
     "metadata": {},
     "output_type": "display_data"
    },
    {
     "data": {
      "text/plain": [
       "0.5717703349282297"
      ]
     },
     "metadata": {},
     "output_type": "display_data"
    },
    {
     "data": {
      "image/png": "[encoded data removed]",
      "text/plain": [
       "<Figure size 432x288 with 1 Axes>"
      ]
     },
     "metadata": {
      "needs_background": "light"
     },
     "output_type": "display_data"
    },
    {
     "data": {
      "text/plain": [
       "0.784358968223143"
      ]
     },
     "metadata": {},
     "output_type": "display_data"
    }
   ],
   "source": [
    "model = DecisionTreeClassifier(random_state=12345, max_depth=3)\n",
    "model.fit(features_train_downsampled_scaled, target_downsampled)\n",
    "predictions_valid = model.predict(features_valid_scaled)\n",
    "\n",
    "display('Confusion Matrix: ', confusion_matrix(target_valid, predictions_valid))\n",
    "display('F1 Score: ', f1_score(target_valid, predictions_valid))\n",
    "\n",
    "# ROC Curve & Score\n",
    "probabilities_valid = model.predict_proba(features_valid_scaled)\n",
    "probabilities_one_valid = probabilities_valid[:, 1]\n",
    "\n",
    "fpr, tpr, thresholds = roc_curve(target_valid, probabilities_one_valid) \n",
    "\n",
    "plt.figure()\n",
    "plt.plot(fpr, tpr)\n",
    "\n",
    "# ROC curve for random model (looks like a straight line)\n",
    "plt.plot([0, 1], [0, 1], linestyle='--')\n",
    "\n",
    "plt.xlim([0.0, 1.0])\n",
    "plt.ylim([0.0, 1.0])\n",
    "plt.xlabel('False Positive Rate')\n",
    "plt.ylabel('True Positive Rate')\n",
    "plt.title('ROC curve')\n",
    "plt.show()\n",
    "\n",
    "auc_roc = roc_auc_score(target_valid, probabilities_one_valid)\n",
    "display(auc_roc)"
   ]
  },
  {
   "cell_type": "markdown",
   "metadata": {},
   "source": [
    "1. From the confusion matrix, it detected 1,221 true negative values while only detected 239 true positive values.\n",
    "2. F1 Score: 0.57\n",
    "3. AUC-ROC: 0.78"
   ]
  },
  {
   "cell_type": "markdown",
   "metadata": {},
   "source": [
    "Random Forest Regression"
   ]
  },
  {
   "cell_type": "markdown",
   "metadata": {},
   "source": [
    "Imbalance Checking using Confusion Matrix, F1 Score & AUC-ROC for Random Forest Model"
   ]
  },
  {
   "cell_type": "code",
   "execution_count": 1083,
   "metadata": {
    "scrolled": true
   },
   "outputs": [
    {
     "data": {
      "text/plain": [
       "'Confusion Matrix: '"
      ]
     },
     "metadata": {},
     "output_type": "display_data"
    },
    {
     "data": {
      "text/plain": [
       "array([[1082,  359],\n",
       "       [  91,  286]])"
      ]
     },
     "metadata": {},
     "output_type": "display_data"
    },
    {
     "data": {
      "text/plain": [
       "'F1 Score: '"
      ]
     },
     "metadata": {},
     "output_type": "display_data"
    },
    {
     "data": {
      "text/plain": [
       "0.5596868884540117"
      ]
     },
     "metadata": {},
     "output_type": "display_data"
    },
    {
     "data": {
      "image/png": "[encoded data removed]",
      "text/plain": [
       "<Figure size 432x288 with 1 Axes>"
      ]
     },
     "metadata": {
      "needs_background": "light"
     },
     "output_type": "display_data"
    },
    {
     "data": {
      "text/plain": [
       "0.8325746377865356"
      ]
     },
     "metadata": {},
     "output_type": "display_data"
    }
   ],
   "source": [
    "model = RandomForestClassifier(random_state=54321, n_estimators=50, max_depth=8)\n",
    "model.fit(features_train_downsampled_scaled, target_downsampled)\n",
    "predictions_valid = model.predict(features_valid_scaled)\n",
    "\n",
    "display('Confusion Matrix: ', confusion_matrix(target_valid, predictions_valid))\n",
    "display('F1 Score: ', f1_score(target_valid, predictions_valid))\n",
    "\n",
    "# ROC Curve & Score\n",
    "probabilities_valid = model.predict_proba(features_valid_scaled)\n",
    "probabilities_one_valid = probabilities_valid[:, 1]\n",
    "\n",
    "fpr, tpr, thresholds = roc_curve(target_valid, probabilities_one_valid) \n",
    "\n",
    "plt.figure()\n",
    "plt.plot(fpr, tpr)\n",
    "\n",
    "# ROC curve for random model (looks like a straight line)\n",
    "plt.plot([0, 1], [0, 1], linestyle='--')\n",
    "\n",
    "plt.xlim([0.0, 1.0])\n",
    "plt.ylim([0.0, 1.0])\n",
    "plt.xlabel('False Positive Rate')\n",
    "plt.ylabel('True Positive Rate')\n",
    "plt.title('ROC curve')\n",
    "plt.show()\n",
    "\n",
    "auc_roc = roc_auc_score(target_valid, probabilities_one_valid)\n",
    "display(auc_roc)"
   ]
  },
  {
   "cell_type": "markdown",
   "metadata": {},
   "source": [
    "1. From the confusion matrix, it detected 1,082 true negative values while only detected 286 true positive values.\n",
    "2. F1 Score: 0.56\n",
    "3. AUC-ROC: 0.83"
   ]
  },
  {
   "cell_type": "markdown",
   "metadata": {},
   "source": [
    "Logistic Regression"
   ]
  },
  {
   "cell_type": "code",
   "execution_count": 1084,
   "metadata": {
    "scrolled": true
   },
   "outputs": [
    {
     "name": "stdout",
     "output_type": "stream",
     "text": [
      "Accuracy of the logistic regression model on the training set: 0.6825181159420289\n",
      "Accuracy of the logistic regression model on the validation set: 0.6886688668866887\n"
     ]
    }
   ],
   "source": [
    "model = LogisticRegression(random_state=54321, solver='liblinear') # initialize logistic regression constructor with parameters random_state=54321 and solver='liblinear'\n",
    "model.fit(features_train_downsampled_scaled, target_downsampled)  # train model on training set\n",
    "score_train = model.score(features_train_downsampled_scaled, target_downsampled) # calculate accuracy score on training set \n",
    "score_valid = model.score(features_valid_scaled, target_valid) # calculate accuracy score on validation set  \n",
    "\n",
    "print(\"Accuracy of the logistic regression model on the training set:\",score_train)\n",
    "print(\"Accuracy of the logistic regression model on the validation set:\",score_valid)"
   ]
  },
  {
   "cell_type": "markdown",
   "metadata": {},
   "source": [
    "We are trying to build the Logistic Regression model, and the accuracy score on training set is 0.69 and on validation set is 0.68."
   ]
  },
  {
   "cell_type": "markdown",
   "metadata": {},
   "source": [
    "Imbalance Checking using Confusion Matrix, F1 Score & AUC-ROC for Logistic Regression Model"
   ]
  },
  {
   "cell_type": "code",
   "execution_count": 1085,
   "metadata": {
    "scrolled": true
   },
   "outputs": [
    {
     "data": {
      "text/plain": [
       "'Confusion Matrix: '"
      ]
     },
     "metadata": {},
     "output_type": "display_data"
    },
    {
     "data": {
      "text/plain": [
       "array([[990, 451],\n",
       "       [115, 262]])"
      ]
     },
     "metadata": {},
     "output_type": "display_data"
    },
    {
     "data": {
      "text/plain": [
       "'F1 Score: '"
      ]
     },
     "metadata": {},
     "output_type": "display_data"
    },
    {
     "data": {
      "text/plain": [
       "0.48073394495412836"
      ]
     },
     "metadata": {},
     "output_type": "display_data"
    },
    {
     "data": {
      "image/png": "[encoded data removed]",
      "text/plain": [
       "<Figure size 432x288 with 1 Axes>"
      ]
     },
     "metadata": {
      "needs_background": "light"
     },
     "output_type": "display_data"
    },
    {
     "data": {
      "text/plain": [
       "0.739079293962158"
      ]
     },
     "metadata": {},
     "output_type": "display_data"
    }
   ],
   "source": [
    "model = LogisticRegression(random_state=54321, solver='liblinear')\n",
    "model.fit(features_train_downsampled_scaled, target_downsampled)\n",
    "predictions_valid = model.predict(features_valid_scaled)\n",
    "\n",
    "display('Confusion Matrix: ', confusion_matrix(target_valid, predictions_valid))\n",
    "display('F1 Score: ', f1_score(target_valid, predictions_valid))\n",
    "\n",
    "# ROC Curve & Score\n",
    "probabilities_valid = model.predict_proba(features_valid_scaled)\n",
    "probabilities_one_valid = probabilities_valid[:, 1]\n",
    "\n",
    "fpr, tpr, thresholds = roc_curve(target_valid, probabilities_one_valid) \n",
    "\n",
    "plt.figure()\n",
    "plt.plot(fpr, tpr)\n",
    "\n",
    "# ROC curve for random model (looks like a straight line)\n",
    "plt.plot([0, 1], [0, 1], linestyle='--')\n",
    "\n",
    "plt.xlim([0.0, 1.0])\n",
    "plt.ylim([0.0, 1.0])\n",
    "plt.xlabel('False Positive Rate')\n",
    "plt.ylabel('True Positive Rate')\n",
    "plt.title('ROC curve')\n",
    "plt.show()\n",
    "\n",
    "auc_roc = roc_auc_score(target_valid, probabilities_one_valid)\n",
    "display(auc_roc)"
   ]
  },
  {
   "cell_type": "markdown",
   "metadata": {},
   "source": [
    "1. From the confusion matrix, it detected 990 true negative values while only detected 262 true positive values.\n",
    "2. F1 Score: 0.48\n",
    "3. AUC-ROC: 0.74"
   ]
  },
  {
   "cell_type": "markdown",
   "metadata": {},
   "source": [
    "Section Conclusion:"
   ]
  },
  {
   "cell_type": "markdown",
   "metadata": {},
   "source": [
    "1. With the Feature Scaling & upsampling, the F1 Score for Decision Tree model is 0.57 while the AUC-ROC is 0.78.\n",
    "2. With the Feature Scaling & Class upsampling, the F1 Score for Random Forest model is 0.56 while the AUC-ROC is 0.83.\n",
    "3. With the Feature Scaling & upsampling, the F1 Score for Logistic Regression model is 0.48 while the AUC-ROC is 0.74."
   ]
  },
  {
   "cell_type": "markdown",
   "metadata": {},
   "source": [
    "#### Imbalance Fixing without Feature Scaling"
   ]
  },
  {
   "cell_type": "markdown",
   "metadata": {},
   "source": [
    "##### Class Weight Adjustment without Feature Scaling"
   ]
  },
  {
   "cell_type": "markdown",
   "metadata": {},
   "source": [
    "Decision Tree Regression Model"
   ]
  },
  {
   "cell_type": "code",
   "execution_count": 1086,
   "metadata": {
    "scrolled": true
   },
   "outputs": [
    {
     "name": "stdout",
     "output_type": "stream",
     "text": [
      "max_depth = 1 : 0.7321232123212321\n",
      "max_depth = 2 : 0.7392739273927392\n",
      "max_depth = 3 : 0.7667766776677668\n",
      "max_depth = 4 : 0.6705170517051705\n",
      "max_depth = 5 : 0.7909790979097909\n",
      "max_depth = 6 : 0.7953795379537953\n",
      "max_depth = 7 : 0.7282728272827282\n",
      "max_depth = 8 : 0.7678767876787679\n",
      "max_depth = 9 : 0.7189218921892189\n",
      "max_depth = 10 : 0.7519251925192519\n"
     ]
    }
   ],
   "source": [
    "# < create a loop for max_depth from 1 to 10 >\n",
    "for depth in range(1, 11):\n",
    "        model = DecisionTreeClassifier(random_state=12345, max_depth=depth, class_weight='balanced') # < create a model, specify max_depth=depth >\n",
    "\n",
    "        # < train the model >\n",
    "        model.fit(features_train, target_train)\n",
    "        predictions_valid = model.predict(features_valid) # < find the predictions using validation set >\n",
    "\n",
    "        print(\"max_depth =\", depth, \": \", end='')\n",
    "        print(accuracy_score(target_valid, predictions_valid))"
   ]
  },
  {
   "cell_type": "markdown",
   "metadata": {},
   "source": [
    "We will use max_depth 6 since it gives the best accuracy of 80%."
   ]
  },
  {
   "cell_type": "code",
   "execution_count": 1087,
   "metadata": {
    "scrolled": true
   },
   "outputs": [
    {
     "data": {
      "text/plain": [
       "'Confusion Matrix: '"
      ]
     },
     "metadata": {},
     "output_type": "display_data"
    },
    {
     "data": {
      "text/plain": [
       "array([[1195,  246],\n",
       "       [ 126,  251]])"
      ]
     },
     "metadata": {},
     "output_type": "display_data"
    },
    {
     "data": {
      "text/plain": [
       "'F1 Score: '"
      ]
     },
     "metadata": {},
     "output_type": "display_data"
    },
    {
     "data": {
      "text/plain": [
       "0.574370709382151"
      ]
     },
     "metadata": {},
     "output_type": "display_data"
    },
    {
     "data": {
      "image/png": "[encoded data removed]",
      "text/plain": [
       "<Figure size 432x288 with 1 Axes>"
      ]
     },
     "metadata": {
      "needs_background": "light"
     },
     "output_type": "display_data"
    },
    {
     "data": {
      "text/plain": [
       "0.8220759235499956"
      ]
     },
     "metadata": {},
     "output_type": "display_data"
    }
   ],
   "source": [
    "model = DecisionTreeClassifier(random_state=12345, max_depth=6, class_weight='balanced')\n",
    "model.fit(features_train, target_train)\n",
    "predictions_valid = model.predict(features_valid)\n",
    "\n",
    "display('Confusion Matrix: ', confusion_matrix(target_valid, predictions_valid))\n",
    "display('F1 Score: ', f1_score(target_valid, predictions_valid))\n",
    "\n",
    "# ROC Curve & Score\n",
    "probabilities_valid = model.predict_proba(features_valid)\n",
    "probabilities_one_valid = probabilities_valid[:, 1]\n",
    "\n",
    "fpr, tpr, thresholds = roc_curve(target_valid, probabilities_one_valid) \n",
    "\n",
    "plt.figure()\n",
    "plt.plot(fpr, tpr)\n",
    "\n",
    "# ROC curve for random model (looks like a straight line)\n",
    "plt.plot([0, 1], [0, 1], linestyle='--')\n",
    "\n",
    "plt.xlim([0.0, 1.0])\n",
    "plt.ylim([0.0, 1.0])\n",
    "plt.xlabel('False Positive Rate')\n",
    "plt.ylabel('True Positive Rate')\n",
    "plt.title('ROC curve')\n",
    "plt.show()\n",
    "\n",
    "auc_roc = roc_auc_score(target_valid, probabilities_one_valid)\n",
    "display(auc_roc)"
   ]
  },
  {
   "cell_type": "markdown",
   "metadata": {},
   "source": [
    "1. From the confusion matrix, it detected 1,195 true negative values while only detected 251 true positive values. \n",
    "2. F1 Score: 0.57\n",
    "3. AUC-ROC: 0.82"
   ]
  },
  {
   "cell_type": "markdown",
   "metadata": {},
   "source": [
    "Random Forest Regression Model"
   ]
  },
  {
   "cell_type": "code",
   "execution_count": 1088,
   "metadata": {
    "scrolled": true
   },
   "outputs": [
    {
     "data": {
      "text/plain": [
       "'Confusion Matrix: '"
      ]
     },
     "metadata": {},
     "output_type": "display_data"
    },
    {
     "data": {
      "text/plain": [
       "array([[1235,  206],\n",
       "       [ 115,  262]])"
      ]
     },
     "metadata": {},
     "output_type": "display_data"
    },
    {
     "data": {
      "text/plain": [
       "'F1 Score: '"
      ]
     },
     "metadata": {},
     "output_type": "display_data"
    },
    {
     "data": {
      "text/plain": [
       "0.6201183431952663"
      ]
     },
     "metadata": {},
     "output_type": "display_data"
    },
    {
     "data": {
      "image/png": "[encoded data removed]",
      "text/plain": [
       "<Figure size 432x288 with 1 Axes>"
      ]
     },
     "metadata": {
      "needs_background": "light"
     },
     "output_type": "display_data"
    },
    {
     "data": {
      "text/plain": [
       "0.8611044128285508"
      ]
     },
     "metadata": {},
     "output_type": "display_data"
    }
   ],
   "source": [
    "model = RandomForestClassifier(random_state=54321, n_estimators=50, max_depth=8, class_weight='balanced')\n",
    "model.fit(features_train, target_train)\n",
    "predictions_valid = model.predict(features_valid)\n",
    "\n",
    "display('Confusion Matrix: ', confusion_matrix(target_valid, predictions_valid))\n",
    "display('F1 Score: ', f1_score(target_valid, predictions_valid))\n",
    "\n",
    "# ROC Curve & Score\n",
    "probabilities_valid = model.predict_proba(features_valid)\n",
    "probabilities_one_valid = probabilities_valid[:, 1]\n",
    "\n",
    "fpr, tpr, thresholds = roc_curve(target_valid, probabilities_one_valid) \n",
    "\n",
    "plt.figure()\n",
    "plt.plot(fpr, tpr)\n",
    "\n",
    "# ROC curve for random model (looks like a straight line)\n",
    "plt.plot([0, 1], [0, 1], linestyle='--')\n",
    "\n",
    "plt.xlim([0.0, 1.0])\n",
    "plt.ylim([0.0, 1.0])\n",
    "plt.xlabel('False Positive Rate')\n",
    "plt.ylabel('True Positive Rate')\n",
    "plt.title('ROC curve')\n",
    "plt.show()\n",
    "\n",
    "auc_roc = roc_auc_score(target_valid, probabilities_one_valid)\n",
    "display(auc_roc)"
   ]
  },
  {
   "cell_type": "markdown",
   "metadata": {},
   "source": [
    "1. From the confusion matrix, it detected 1,235 true negative values while only detected 262 true positive values.\n",
    "2. F1 Score: 0.62\n",
    "3. AUC-ROC: 0.86"
   ]
  },
  {
   "cell_type": "markdown",
   "metadata": {},
   "source": [
    "Logistic Regression Model"
   ]
  },
  {
   "cell_type": "code",
   "execution_count": 1089,
   "metadata": {
    "scrolled": true
   },
   "outputs": [
    {
     "data": {
      "text/plain": [
       "'Confusion Matrix: '"
      ]
     },
     "metadata": {},
     "output_type": "display_data"
    },
    {
     "data": {
      "text/plain": [
       "array([[991, 450],\n",
       "       [116, 261]])"
      ]
     },
     "metadata": {},
     "output_type": "display_data"
    },
    {
     "data": {
      "text/plain": [
       "'F1 Score: '"
      ]
     },
     "metadata": {},
     "output_type": "display_data"
    },
    {
     "data": {
      "text/plain": [
       "0.4797794117647059"
      ]
     },
     "metadata": {},
     "output_type": "display_data"
    },
    {
     "data": {
      "image/png": "[encoded data removed]",
      "text/plain": [
       "<Figure size 432x288 with 1 Axes>"
      ]
     },
     "metadata": {
      "needs_background": "light"
     },
     "output_type": "display_data"
    },
    {
     "data": {
      "text/plain": [
       "0.757002670927388"
      ]
     },
     "metadata": {},
     "output_type": "display_data"
    }
   ],
   "source": [
    "model = LogisticRegression(random_state=12345, solver='liblinear', class_weight='balanced')\n",
    "model.fit(features_train, target_train)\n",
    "predictions_valid = model.predict(features_valid)\n",
    "\n",
    "display('Confusion Matrix: ', confusion_matrix(target_valid, predictions_valid))\n",
    "display('F1 Score: ', f1_score(target_valid, predictions_valid))\n",
    "\n",
    "# ROC Curve & Score\n",
    "probabilities_valid = model.predict_proba(features_valid)\n",
    "probabilities_one_valid = probabilities_valid[:, 1]\n",
    "\n",
    "fpr, tpr, thresholds = roc_curve(target_valid, probabilities_one_valid) \n",
    "\n",
    "plt.figure()\n",
    "plt.plot(fpr, tpr)\n",
    "\n",
    "# ROC curve for random model (looks like a straight line)\n",
    "plt.plot([0, 1], [0, 1], linestyle='--')\n",
    "\n",
    "plt.xlim([0.0, 1.0])\n",
    "plt.ylim([0.0, 1.0])\n",
    "plt.xlabel('False Positive Rate')\n",
    "plt.ylabel('True Positive Rate')\n",
    "plt.title('ROC curve')\n",
    "plt.show()\n",
    "\n",
    "auc_roc = roc_auc_score(target_valid, probabilities_one_valid)\n",
    "display(auc_roc)"
   ]
  },
  {
   "cell_type": "markdown",
   "metadata": {},
   "source": [
    "1. From the confusion matrix, it detected 991 true negative values while only detected 261 true positive values.\n",
    "2. F1 Score: 0.48\n",
    "3. AUC-ROC: 0.76"
   ]
  },
  {
   "cell_type": "markdown",
   "metadata": {},
   "source": [
    "Section Conclusion"
   ]
  },
  {
   "cell_type": "markdown",
   "metadata": {},
   "source": [
    "1. With the Class Weight Adjustment, the F1 Score for Decision Tree model is 0.57 while the AUC-ROC is 0.82.\n",
    "\n",
    "3. The F1 Score for class weight adjusted Random Forest Model is 0.62 while the AUC-ROC is 0.86.\n",
    "\n",
    "4. The F1 Score for class weight adjusted Logistic Regression model is 0.48 while the AUC-ROC is 0.76."
   ]
  },
  {
   "cell_type": "markdown",
   "metadata": {},
   "source": [
    "##### Upsampling for Imbalance Fixing without Feature Scaling"
   ]
  },
  {
   "cell_type": "code",
   "execution_count": 1090,
   "metadata": {
    "scrolled": true
   },
   "outputs": [],
   "source": [
    "def upsample(features, target, repeat):\n",
    "    features_zeros = features[target == 0]\n",
    "    features_ones = features[target == 1]\n",
    "    target_zeros = target[target == 0]\n",
    "    target_ones = target[target == 1]\n",
    "\n",
    "    features_upsampled = pd.concat([features_zeros] + [features_ones] * repeat)\n",
    "    target_upsampled = pd.concat([target_zeros] + [target_ones] * repeat)\n",
    "\n",
    "    features_upsampled, target_upsampled = shuffle(features_upsampled, target_upsampled, random_state=12345)\n",
    "\n",
    "    return features_upsampled, target_upsampled\n",
    "\n",
    "\n",
    "features_upsampled, target_upsampled = upsample(features_train, target_train, 4) # repeat number 4 is chosen as the class zero is around 4x higher than class one."
   ]
  },
  {
   "cell_type": "markdown",
   "metadata": {},
   "source": [
    "Decision Tree Regression Model"
   ]
  },
  {
   "cell_type": "code",
   "execution_count": 1091,
   "metadata": {
    "scrolled": true
   },
   "outputs": [
    {
     "data": {
      "text/plain": [
       "'Confusion Matrix: '"
      ]
     },
     "metadata": {},
     "output_type": "display_data"
    },
    {
     "data": {
      "text/plain": [
       "array([[1099,  342],\n",
       "       [ 100,  277]])"
      ]
     },
     "metadata": {},
     "output_type": "display_data"
    },
    {
     "data": {
      "text/plain": [
       "'F1 Score: '"
      ]
     },
     "metadata": {},
     "output_type": "display_data"
    },
    {
     "data": {
      "text/plain": [
       "0.5562248995983935"
      ]
     },
     "metadata": {},
     "output_type": "display_data"
    },
    {
     "data": {
      "image/png": "[encoded data removed]",
      "text/plain": [
       "<Figure size 432x288 with 1 Axes>"
      ]
     },
     "metadata": {
      "needs_background": "light"
     },
     "output_type": "display_data"
    },
    {
     "data": {
      "text/plain": [
       "0.8220823661729162"
      ]
     },
     "metadata": {},
     "output_type": "display_data"
    }
   ],
   "source": [
    "model = DecisionTreeClassifier(random_state=12345, max_depth=6) # max_depth is taken from the first model without feature scaling & imbalance consideration\n",
    "model.fit(features_upsampled, target_upsampled)\n",
    "predictions_valid = model.predict(features_valid)\n",
    "\n",
    "display('Confusion Matrix: ', confusion_matrix(target_valid, predictions_valid))\n",
    "display('F1 Score: ', f1_score(target_valid, predictions_valid))\n",
    "\n",
    "# ROC Curve & Score\n",
    "probabilities_valid = model.predict_proba(features_valid)\n",
    "probabilities_one_valid = probabilities_valid[:, 1]\n",
    "\n",
    "fpr, tpr, thresholds = roc_curve(target_valid, probabilities_one_valid) \n",
    "\n",
    "plt.figure()\n",
    "plt.plot(fpr, tpr)\n",
    "\n",
    "# ROC curve for random model (looks like a straight line)\n",
    "plt.plot([0, 1], [0, 1], linestyle='--')\n",
    "\n",
    "plt.xlim([0.0, 1.0])\n",
    "plt.ylim([0.0, 1.0])\n",
    "plt.xlabel('False Positive Rate')\n",
    "plt.ylabel('True Positive Rate')\n",
    "plt.title('ROC curve')\n",
    "plt.show()\n",
    "\n",
    "auc_roc = roc_auc_score(target_valid, probabilities_one_valid)\n",
    "display(auc_roc)"
   ]
  },
  {
   "cell_type": "markdown",
   "metadata": {},
   "source": [
    "1. From the confusion matrix, it detected 1,099 true negative values while only detected 277 true positive values.\n",
    "2. F1 Score: 0.56\n",
    "3. AUC-ROC: 0.82"
   ]
  },
  {
   "cell_type": "markdown",
   "metadata": {},
   "source": [
    "Random Forest Regression Model"
   ]
  },
  {
   "cell_type": "code",
   "execution_count": 1092,
   "metadata": {},
   "outputs": [
    {
     "data": {
      "text/plain": [
       "'Confusion Matrix: '"
      ]
     },
     "metadata": {},
     "output_type": "display_data"
    },
    {
     "data": {
      "text/plain": [
       "array([[1178,  263],\n",
       "       [ 100,  277]])"
      ]
     },
     "metadata": {},
     "output_type": "display_data"
    },
    {
     "data": {
      "text/plain": [
       "'F1 Score: '"
      ]
     },
     "metadata": {},
     "output_type": "display_data"
    },
    {
     "data": {
      "text/plain": [
       "0.604143947655398"
      ]
     },
     "metadata": {},
     "output_type": "display_data"
    },
    {
     "data": {
      "image/png": "[encoded data removed]",
      "text/plain": [
       "<Figure size 432x288 with 1 Axes>"
      ]
     },
     "metadata": {
      "needs_background": "light"
     },
     "output_type": "display_data"
    },
    {
     "data": {
      "text/plain": [
       "0.8652092840037037"
      ]
     },
     "metadata": {},
     "output_type": "display_data"
    }
   ],
   "source": [
    "model = RandomForestClassifier(random_state=54321, n_estimators=50, max_depth=8)\n",
    "model.fit(features_upsampled, target_upsampled)\n",
    "predictions_valid = model.predict(features_valid)\n",
    "\n",
    "display('Confusion Matrix: ', confusion_matrix(target_valid, predictions_valid))\n",
    "display('F1 Score: ', f1_score(target_valid, predictions_valid))\n",
    "\n",
    "# ROC Curve & Score\n",
    "probabilities_valid = model.predict_proba(features_valid)\n",
    "probabilities_one_valid = probabilities_valid[:, 1]\n",
    "\n",
    "fpr, tpr, thresholds = roc_curve(target_valid, probabilities_one_valid) \n",
    "\n",
    "plt.figure()\n",
    "plt.plot(fpr, tpr)\n",
    "\n",
    "# ROC curve for random model (looks like a straight line)\n",
    "plt.plot([0, 1], [0, 1], linestyle='--')\n",
    "\n",
    "plt.xlim([0.0, 1.0])\n",
    "plt.ylim([0.0, 1.0])\n",
    "plt.xlabel('False Positive Rate')\n",
    "plt.ylabel('True Positive Rate')\n",
    "plt.title('ROC curve')\n",
    "plt.show()\n",
    "\n",
    "auc_roc = roc_auc_score(target_valid, probabilities_one_valid)\n",
    "display(auc_roc)"
   ]
  },
  {
   "cell_type": "markdown",
   "metadata": {},
   "source": [
    "1. From the confusion matrix, it detected 1,178 true negative values while only detected 277 true positive values.\n",
    "2. F1 Score: 0.60\n",
    "3. AUC-ROC: 0.87"
   ]
  },
  {
   "cell_type": "markdown",
   "metadata": {},
   "source": [
    "Logistic Regression Model"
   ]
  },
  {
   "cell_type": "code",
   "execution_count": 1093,
   "metadata": {},
   "outputs": [
    {
     "data": {
      "text/plain": [
       "'Confusion Matrix: '"
      ]
     },
     "metadata": {},
     "output_type": "display_data"
    },
    {
     "data": {
      "text/plain": [
       "array([[972, 469],\n",
       "       [112, 265]])"
      ]
     },
     "metadata": {},
     "output_type": "display_data"
    },
    {
     "data": {
      "text/plain": [
       "'F1 Score: '"
      ]
     },
     "metadata": {},
     "output_type": "display_data"
    },
    {
     "data": {
      "text/plain": [
       "0.47704770477047703"
      ]
     },
     "metadata": {},
     "output_type": "display_data"
    },
    {
     "data": {
      "image/png": "[encoded data removed]",
      "text/plain": [
       "<Figure size 432x288 with 1 Axes>"
      ]
     },
     "metadata": {
      "needs_background": "light"
     },
     "output_type": "display_data"
    },
    {
     "data": {
      "text/plain": [
       "0.7571315233858009"
      ]
     },
     "metadata": {},
     "output_type": "display_data"
    }
   ],
   "source": [
    "model = LogisticRegression(random_state=54321, solver='liblinear')\n",
    "model.fit(features_upsampled, target_upsampled)\n",
    "predictions_valid = model.predict(features_valid)\n",
    "\n",
    "display('Confusion Matrix: ', confusion_matrix(target_valid, predictions_valid))\n",
    "display('F1 Score: ', f1_score(target_valid, predictions_valid))\n",
    "\n",
    "# ROC Curve & Score\n",
    "probabilities_valid = model.predict_proba(features_valid)\n",
    "probabilities_one_valid = probabilities_valid[:, 1]\n",
    "\n",
    "fpr, tpr, thresholds = roc_curve(target_valid, probabilities_one_valid) \n",
    "\n",
    "plt.figure()\n",
    "plt.plot(fpr, tpr)\n",
    "\n",
    "# ROC curve for random model (looks like a straight line)\n",
    "plt.plot([0, 1], [0, 1], linestyle='--')\n",
    "\n",
    "plt.xlim([0.0, 1.0])\n",
    "plt.ylim([0.0, 1.0])\n",
    "plt.xlabel('False Positive Rate')\n",
    "plt.ylabel('True Positive Rate')\n",
    "plt.title('ROC curve')\n",
    "plt.show()\n",
    "\n",
    "auc_roc = roc_auc_score(target_valid, probabilities_one_valid)\n",
    "display(auc_roc)"
   ]
  },
  {
   "cell_type": "markdown",
   "metadata": {},
   "source": [
    "1. From the confusion matrix, it detected 972 true negative values while only detected 265 true positive values.\n",
    "2. F1 Score: 0.48\n",
    "3. AUC-ROC: 0.76"
   ]
  },
  {
   "cell_type": "markdown",
   "metadata": {},
   "source": [
    "Section Conclusion"
   ]
  },
  {
   "cell_type": "markdown",
   "metadata": {},
   "source": [
    "1. With the upsampling method, the F1 Score for Decision Tree model is 0.56 while the AUC-ROC is 0.82.\n",
    "2. With the upsampling method, the F1 Score for Random Forest model is 0.60 while the AUC-ROC is 0.87.\n",
    "3. With the upsampling method, the F1 Score for Logistic Regression model is 0.48 while the AUC-ROC is 0.76."
   ]
  },
  {
   "cell_type": "markdown",
   "metadata": {},
   "source": [
    "##### Downsampling for Imbalance Fixing without Feature Scaling"
   ]
  },
  {
   "cell_type": "code",
   "execution_count": 1094,
   "metadata": {
    "scrolled": true
   },
   "outputs": [],
   "source": [
    "def downsample(features, target, fraction):\n",
    "    features_zeros = features[target == 0]\n",
    "    features_ones = features[target == 1]\n",
    "    target_zeros = target[target == 0]\n",
    "    target_ones = target[target == 1]\n",
    "\n",
    "    features_downsampled = pd.concat([features_zeros.sample(frac=fraction, random_state=12345)] + [features_ones])\n",
    "    target_downsampled = pd.concat([target_zeros.sample(frac=fraction, random_state=12345)] + [target_ones])\n",
    "\n",
    "    features_downsampled, target_downsampled = shuffle(features_downsampled, target_downsampled, random_state=12345)\n",
    "\n",
    "    return features_downsampled, target_downsampled\n",
    "\n",
    "\n",
    "features_downsampled, target_downsampled = downsample(features_train, target_train, 0.25) # fraction number 0.25 is chosen as the class zero is around 5x higher than class one."
   ]
  },
  {
   "cell_type": "markdown",
   "metadata": {},
   "source": [
    "Decision Tree Regression Model"
   ]
  },
  {
   "cell_type": "code",
   "execution_count": 1095,
   "metadata": {
    "scrolled": false
   },
   "outputs": [
    {
     "data": {
      "text/plain": [
       "'Confusion Matrix: '"
      ]
     },
     "metadata": {},
     "output_type": "display_data"
    },
    {
     "data": {
      "text/plain": [
       "array([[1013,  428],\n",
       "       [  81,  296]])"
      ]
     },
     "metadata": {},
     "output_type": "display_data"
    },
    {
     "data": {
      "text/plain": [
       "'F1 Score: '"
      ]
     },
     "metadata": {},
     "output_type": "display_data"
    },
    {
     "data": {
      "text/plain": [
       "0.5376930063578564"
      ]
     },
     "metadata": {},
     "output_type": "display_data"
    },
    {
     "data": {
      "image/png": "[encoded data removed]",
      "text/plain": [
       "<Figure size 432x288 with 1 Axes>"
      ]
     },
     "metadata": {
      "needs_background": "light"
     },
     "output_type": "display_data"
    },
    {
     "data": {
      "text/plain": [
       "0.8258098837198601"
      ]
     },
     "metadata": {},
     "output_type": "display_data"
    }
   ],
   "source": [
    "model = DecisionTreeClassifier(random_state=12345, max_depth=6) # max_depth is taken from the first model without feature scaling & imbalance consideration\n",
    "model.fit(features_downsampled, target_downsampled)\n",
    "predictions_valid = model.predict(features_valid)\n",
    "\n",
    "display('Confusion Matrix: ', confusion_matrix(target_valid, predictions_valid))\n",
    "display('F1 Score: ', f1_score(target_valid, predictions_valid))\n",
    "\n",
    "# ROC Curve & Score\n",
    "probabilities_valid = model.predict_proba(features_valid)\n",
    "probabilities_one_valid = probabilities_valid[:, 1]\n",
    "\n",
    "fpr, tpr, thresholds = roc_curve(target_valid, probabilities_one_valid) \n",
    "\n",
    "plt.figure()\n",
    "plt.plot(fpr, tpr)\n",
    "\n",
    "# ROC curve for random model (looks like a straight line)\n",
    "plt.plot([0, 1], [0, 1], linestyle='--')\n",
    "\n",
    "plt.xlim([0.0, 1.0])\n",
    "plt.ylim([0.0, 1.0])\n",
    "plt.xlabel('False Positive Rate')\n",
    "plt.ylabel('True Positive Rate')\n",
    "plt.title('ROC curve')\n",
    "plt.show()\n",
    "\n",
    "auc_roc = roc_auc_score(target_valid, probabilities_one_valid)\n",
    "display(auc_roc)"
   ]
  },
  {
   "cell_type": "markdown",
   "metadata": {},
   "source": [
    "1. From the confusion matrix, it detected 1,013 true negative values while only detected 296 true positive values.\n",
    "2. F1 Score: 0.54\n",
    "3. AUC-ROC: 0.83"
   ]
  },
  {
   "cell_type": "markdown",
   "metadata": {},
   "source": [
    "Random Forest Regression Model"
   ]
  },
  {
   "cell_type": "code",
   "execution_count": 1096,
   "metadata": {},
   "outputs": [
    {
     "data": {
      "text/plain": [
       "'Confusion Matrix: '"
      ]
     },
     "metadata": {},
     "output_type": "display_data"
    },
    {
     "data": {
      "text/plain": [
       "array([[1092,  349],\n",
       "       [  78,  299]])"
      ]
     },
     "metadata": {},
     "output_type": "display_data"
    },
    {
     "data": {
      "text/plain": [
       "'F1 Score: '"
      ]
     },
     "metadata": {},
     "output_type": "display_data"
    },
    {
     "data": {
      "text/plain": [
       "0.5834146341463415"
      ]
     },
     "metadata": {},
     "output_type": "display_data"
    },
    {
     "data": {
      "image/png": "[encoded data removed]",
      "text/plain": [
       "<Figure size 432x288 with 1 Axes>"
      ]
     },
     "metadata": {
      "needs_background": "light"
     },
     "output_type": "display_data"
    },
    {
     "data": {
      "text/plain": [
       "0.8660284174893282"
      ]
     },
     "metadata": {},
     "output_type": "display_data"
    }
   ],
   "source": [
    "model = RandomForestClassifier(random_state=54321, n_estimators=50, max_depth=8)\n",
    "model.fit(features_downsampled, target_downsampled)\n",
    "predictions_valid = model.predict(features_valid)\n",
    "\n",
    "display('Confusion Matrix: ', confusion_matrix(target_valid, predictions_valid))\n",
    "display('F1 Score: ', f1_score(target_valid, predictions_valid))\n",
    "\n",
    "# ROC Curve & Score\n",
    "probabilities_valid = model.predict_proba(features_valid)\n",
    "probabilities_one_valid = probabilities_valid[:, 1]\n",
    "\n",
    "fpr, tpr, thresholds = roc_curve(target_valid, probabilities_one_valid) \n",
    "\n",
    "plt.figure()\n",
    "plt.plot(fpr, tpr)\n",
    "\n",
    "# ROC curve for random model (looks like a straight line)\n",
    "plt.plot([0, 1], [0, 1], linestyle='--')\n",
    "\n",
    "plt.xlim([0.0, 1.0])\n",
    "plt.ylim([0.0, 1.0])\n",
    "plt.xlabel('False Positive Rate')\n",
    "plt.ylabel('True Positive Rate')\n",
    "plt.title('ROC curve')\n",
    "plt.show()\n",
    "\n",
    "auc_roc = roc_auc_score(target_valid, probabilities_one_valid)\n",
    "display(auc_roc)"
   ]
  },
  {
   "cell_type": "markdown",
   "metadata": {},
   "source": [
    "1. From the confusion matrix, it detected 1,092 true negative values while only detected 299 true positive values.\n",
    "2. F1 Score: 0.58\n",
    "3. AUC-ROC: 0.87"
   ]
  },
  {
   "cell_type": "markdown",
   "metadata": {},
   "source": [
    "Logistic Regression Model"
   ]
  },
  {
   "cell_type": "code",
   "execution_count": 1097,
   "metadata": {
    "scrolled": true
   },
   "outputs": [
    {
     "data": {
      "text/plain": [
       "'Confusion Matrix: '"
      ]
     },
     "metadata": {},
     "output_type": "display_data"
    },
    {
     "data": {
      "text/plain": [
       "array([[947, 494],\n",
       "       [112, 265]])"
      ]
     },
     "metadata": {},
     "output_type": "display_data"
    },
    {
     "data": {
      "text/plain": [
       "'F1 Score: '"
      ]
     },
     "metadata": {},
     "output_type": "display_data"
    },
    {
     "data": {
      "text/plain": [
       "0.4665492957746478"
      ]
     },
     "metadata": {},
     "output_type": "display_data"
    },
    {
     "data": {
      "image/png": "[encoded data removed]",
      "text/plain": [
       "<Figure size 432x288 with 1 Axes>"
      ]
     },
     "metadata": {
      "needs_background": "light"
     },
     "output_type": "display_data"
    },
    {
     "data": {
      "text/plain": [
       "0.7529585444826299"
      ]
     },
     "metadata": {},
     "output_type": "display_data"
    }
   ],
   "source": [
    "model = LogisticRegression(random_state=54321, solver='liblinear')\n",
    "model.fit(features_downsampled, target_downsampled)\n",
    "predictions_valid = model.predict(features_valid)\n",
    "\n",
    "display('Confusion Matrix: ', confusion_matrix(target_valid, predictions_valid))\n",
    "display('F1 Score: ', f1_score(target_valid, predictions_valid))\n",
    "\n",
    "\n",
    "# ROC Curve & Score\n",
    "probabilities_valid = model.predict_proba(features_valid)\n",
    "probabilities_one_valid = probabilities_valid[:, 1]\n",
    "\n",
    "fpr, tpr, thresholds = roc_curve(target_valid, probabilities_one_valid) \n",
    "\n",
    "plt.figure()\n",
    "plt.plot(fpr, tpr)\n",
    "\n",
    "# ROC curve for random model (looks like a straight line)\n",
    "plt.plot([0, 1], [0, 1], linestyle='--')\n",
    "\n",
    "plt.xlim([0.0, 1.0])\n",
    "plt.ylim([0.0, 1.0])\n",
    "plt.xlabel('False Positive Rate')\n",
    "plt.ylabel('True Positive Rate')\n",
    "plt.title('ROC curve')\n",
    "plt.show()\n",
    "\n",
    "auc_roc = roc_auc_score(target_valid, probabilities_one_valid)\n",
    "display(auc_roc)"
   ]
  },
  {
   "cell_type": "markdown",
   "metadata": {},
   "source": [
    "1. From the confusion matrix, it detected 947 true negative values while only detected 265 true positive values.\n",
    "2. F1 Score: 0.47\n",
    "3. AUC-ROC: 0.75"
   ]
  },
  {
   "cell_type": "markdown",
   "metadata": {},
   "source": [
    "Section Conclusion"
   ]
  },
  {
   "cell_type": "markdown",
   "metadata": {},
   "source": [
    "1. With the downsampling method, the F1 Score for Decision Tree model is 0.54 while the AUC-ROC is 0.83.\n",
    "2. With the downsampling method, the F1 Score for Random Forest model is 0.58 while the AUC-ROC is 0.87.\n",
    "3. With the downsampling method, the F1 Score for Logistic Regression model is 0.47 while the AUC-ROC is 0.75."
   ]
  },
  {
   "cell_type": "markdown",
   "metadata": {},
   "source": [
    "## Model Development by Using One Hot Encoding for Logistic Regression Only"
   ]
  },
  {
   "cell_type": "markdown",
   "metadata": {},
   "source": [
    "### One Hot Encoding for New Dataframe, df_analysis"
   ]
  },
  {
   "cell_type": "code",
   "execution_count": 1098,
   "metadata": {},
   "outputs": [
    {
     "data": {
      "text/plain": [
       "(9091, 12)"
      ]
     },
     "execution_count": 1098,
     "metadata": {},
     "output_type": "execute_result"
    }
   ],
   "source": [
    "data_ohe = pd.get_dummies(df_analysis, drop_first=True)\n",
    "data_ohe.shape"
   ]
  },
  {
   "cell_type": "markdown",
   "metadata": {},
   "source": [
    "We use one-hot encoding to test on Logistic Regression model only, with or without imbalance consideration."
   ]
  },
  {
   "cell_type": "markdown",
   "metadata": {},
   "source": [
    "### Model Development without Feature Scaling & Imbalance Consideration"
   ]
  },
  {
   "cell_type": "markdown",
   "metadata": {},
   "source": [
    "Split the data_ohe dataset into a training set, a validation set and a testing set in the split ratio of 3:1:1."
   ]
  },
  {
   "cell_type": "code",
   "execution_count": 1099,
   "metadata": {},
   "outputs": [],
   "source": [
    "target_ohe = data_ohe['Exited']\n",
    "features_ohe = data_ohe.drop('Exited', axis=1)\n",
    "\n",
    "# First split to separate out the training set\n",
    "features_ohe_train, features_ohe_temp, target_ohe_train, target_ohe_temp = train_test_split(features_ohe, target_ohe, test_size=0.4, random_state=12345)\n",
    "\n",
    "# Second split to separate out the validation and test sets\n",
    "features_ohe_valid, features_ohe_test, target_ohe_valid, target_ohe_test = train_test_split(features_ohe_temp, target_ohe_temp, test_size=0.5, random_state=12345)"
   ]
  },
  {
   "cell_type": "markdown",
   "metadata": {},
   "source": [
    "#### Logistic Regression"
   ]
  },
  {
   "cell_type": "code",
   "execution_count": 1100,
   "metadata": {
    "scrolled": true
   },
   "outputs": [
    {
     "name": "stdout",
     "output_type": "stream",
     "text": [
      "Accuracy of the logistic regression model on the training set: 0.7882288228822882\n",
      "Accuracy of the logistic regression model on the validation set: 0.7887788778877888\n"
     ]
    }
   ],
   "source": [
    "model = LogisticRegression(random_state=54321, solver='liblinear') # initialize logistic regression constructor with parameters random_state=54321 and solver='liblinear'\n",
    "model.fit(features_ohe_train, target_ohe_train)  # train model on training set\n",
    "score_train_ohe = model.score(features_ohe_train, target_ohe_train) # calculate accuracy score on training set \n",
    "score_valid_ohe = model.score(features_ohe_valid, target_ohe_valid) # calculate accuracy score on validation set  \n",
    "\n",
    "print(\"Accuracy of the logistic regression model on the training set:\",score_train_ohe)\n",
    "print(\"Accuracy of the logistic regression model on the validation set:\",score_valid_ohe)"
   ]
  },
  {
   "cell_type": "markdown",
   "metadata": {},
   "source": [
    "We are trying to build the Logistic Regression model, and the accuracy score on training set and validation set are both 79%."
   ]
  },
  {
   "cell_type": "markdown",
   "metadata": {},
   "source": [
    "Imbalance Checking using Confusion Matrix, F1 Score & AUC-ROC for Logistic Regression Model"
   ]
  },
  {
   "cell_type": "code",
   "execution_count": 1101,
   "metadata": {
    "scrolled": true
   },
   "outputs": [
    {
     "data": {
      "text/plain": [
       "'Confusion Matrix: '"
      ]
     },
     "metadata": {},
     "output_type": "display_data"
    },
    {
     "data": {
      "text/plain": [
       "array([[1419,   22],\n",
       "       [ 362,   15]])"
      ]
     },
     "metadata": {},
     "output_type": "display_data"
    },
    {
     "data": {
      "text/plain": [
       "'F1 Score: '"
      ]
     },
     "metadata": {},
     "output_type": "display_data"
    },
    {
     "data": {
      "text/plain": [
       "0.07246376811594203"
      ]
     },
     "metadata": {},
     "output_type": "display_data"
    },
    {
     "data": {
      "image/png": "[encoded data removed]",
      "text/plain": [
       "<Figure size 432x288 with 1 Axes>"
      ]
     },
     "metadata": {
      "needs_background": "light"
     },
     "output_type": "display_data"
    },
    {
     "data": {
      "text/plain": [
       "0.693795017827658"
      ]
     },
     "metadata": {},
     "output_type": "display_data"
    }
   ],
   "source": [
    "model = LogisticRegression(random_state=54321, solver='liblinear')\n",
    "model.fit(features_ohe_train, target_ohe_train)\n",
    "predictions_valid_ohe = model.predict(features_ohe_valid)\n",
    "\n",
    "display('Confusion Matrix: ', confusion_matrix(target_ohe_valid, predictions_valid_ohe))\n",
    "display('F1 Score: ', f1_score(target_ohe_valid, predictions_valid_ohe))\n",
    "\n",
    "# ROC Curve & Score\n",
    "probabilities_valid_ohe = model.predict_proba(features_ohe_valid)\n",
    "probabilities_one_valid_ohe = probabilities_valid_ohe[:, 1]\n",
    "\n",
    "fpr, tpr, thresholds = roc_curve(target_ohe_valid, probabilities_one_valid_ohe) \n",
    "\n",
    "plt.figure()\n",
    "plt.plot(fpr, tpr)\n",
    "\n",
    "# ROC curve for random model (looks like a straight line)\n",
    "plt.plot([0, 1], [0, 1], linestyle='--')\n",
    "\n",
    "plt.xlim([0.0, 1.0])\n",
    "plt.ylim([0.0, 1.0])\n",
    "plt.xlabel('False Positive Rate')\n",
    "plt.ylabel('True Positive Rate')\n",
    "plt.title('ROC curve')\n",
    "plt.show()\n",
    "\n",
    "auc_roc = roc_auc_score(target_ohe_valid, probabilities_one_valid_ohe)\n",
    "display(auc_roc)"
   ]
  },
  {
   "cell_type": "markdown",
   "metadata": {},
   "source": [
    "1. From the confusion matrix, it detected 1,419 true negative values while only detected 15 true positive values.\n",
    "2. F1 Score: 0.07\n",
    "3. AUC-ROC: 0.69"
   ]
  },
  {
   "cell_type": "markdown",
   "metadata": {},
   "source": [
    "### Model Development with Imbalance Fixing"
   ]
  },
  {
   "cell_type": "markdown",
   "metadata": {},
   "source": [
    "#### Imbalance Fixing with Feature Scaling"
   ]
  },
  {
   "cell_type": "code",
   "execution_count": 1102,
   "metadata": {
    "scrolled": true
   },
   "outputs": [],
   "source": [
    "# Feature Scaling\n",
    "\n",
    "numeric = ['CreditScore', 'Age', 'Tenure', 'Balance', 'NumOfProducts', 'EstimatedSalary']\n",
    "\n",
    "scaler = StandardScaler()\n",
    "\n",
    "features_ohe_train_scaled = features_ohe_train.copy()\n",
    "features_ohe_valid_scaled = features_ohe_valid.copy()\n",
    "features_ohe_test_scaled = features_ohe_test.copy()\n",
    "\n",
    "# Replacing on the numeric data with the scaled ones.\n",
    "features_ohe_train_scaled[numeric] = scaler.fit_transform(features_ohe_train_scaled[numeric])\n",
    "features_ohe_valid_scaled[numeric] = scaler.transform(features_ohe_valid_scaled[numeric])\n",
    "features_ohe_test_scaled[numeric] = scaler.transform(features_ohe_test_scaled[numeric])"
   ]
  },
  {
   "cell_type": "markdown",
   "metadata": {},
   "source": [
    "Logistic Regression"
   ]
  },
  {
   "cell_type": "code",
   "execution_count": 1103,
   "metadata": {
    "scrolled": true
   },
   "outputs": [
    {
     "name": "stdout",
     "output_type": "stream",
     "text": [
      "Accuracy of the logistic regression model on the training set: 0.8049138247158049\n",
      "Accuracy of the logistic regression model on the validation set: 0.8085808580858086\n"
     ]
    }
   ],
   "source": [
    "model = LogisticRegression(random_state=54321, solver='liblinear') # initialize logistic regression constructor with parameters random_state=54321 and solver='liblinear'\n",
    "model.fit(features_ohe_train_scaled, target_ohe_train)  # train model on training set\n",
    "score_train_ohe = model.score(features_ohe_train_scaled, target_ohe_train) # calculate accuracy score on training set \n",
    "score_valid_ohe = model.score(features_ohe_valid_scaled, target_ohe_valid) # calculate accuracy score on validation set  \n",
    "\n",
    "print(\"Accuracy of the logistic regression model on the training set:\",score_train_ohe)\n",
    "print(\"Accuracy of the logistic regression model on the validation set:\",score_valid_ohe)"
   ]
  },
  {
   "cell_type": "markdown",
   "metadata": {},
   "source": [
    "We are trying to build the Logistic Regression model, and the accuracy score on training set is 0.80 and on validation set is 0.80."
   ]
  },
  {
   "cell_type": "markdown",
   "metadata": {},
   "source": [
    "Imbalance Checking using Confusion Matrix, F1 Score & AUC-ROC for Logistic Regression Model"
   ]
  },
  {
   "cell_type": "code",
   "execution_count": 1104,
   "metadata": {
    "scrolled": true
   },
   "outputs": [
    {
     "data": {
      "text/plain": [
       "'Confusion Matrix: '"
      ]
     },
     "metadata": {},
     "output_type": "display_data"
    },
    {
     "data": {
      "text/plain": [
       "array([[1394,   47],\n",
       "       [ 301,   76]])"
      ]
     },
     "metadata": {},
     "output_type": "display_data"
    },
    {
     "data": {
      "text/plain": [
       "'F1 Score: '"
      ]
     },
     "metadata": {},
     "output_type": "display_data"
    },
    {
     "data": {
      "text/plain": [
       "0.30400000000000005"
      ]
     },
     "metadata": {},
     "output_type": "display_data"
    },
    {
     "data": {
      "image/png": "[encoded data removed]",
      "text/plain": [
       "<Figure size 432x288 with 1 Axes>"
      ]
     },
     "metadata": {
      "needs_background": "light"
     },
     "output_type": "display_data"
    },
    {
     "data": {
      "text/plain": [
       "0.7736191158144302"
      ]
     },
     "metadata": {},
     "output_type": "display_data"
    }
   ],
   "source": [
    "model = LogisticRegression(random_state=54321, solver='liblinear')\n",
    "model.fit(features_ohe_train_scaled, target_ohe_train)\n",
    "predictions_valid_ohe = model.predict(features_ohe_valid_scaled)\n",
    "\n",
    "display('Confusion Matrix: ', confusion_matrix(target_ohe_valid, predictions_valid_ohe))\n",
    "display('F1 Score: ', f1_score(target_ohe_valid, predictions_valid_ohe))\n",
    "\n",
    "# ROC Curve & Score\n",
    "probabilities_valid_ohe = model.predict_proba(features_ohe_valid_scaled)\n",
    "probabilities_one_valid_ohe = probabilities_valid_ohe[:, 1]\n",
    "\n",
    "fpr, tpr, thresholds = roc_curve(target_ohe_valid, probabilities_one_valid_ohe) \n",
    "\n",
    "plt.figure()\n",
    "plt.plot(fpr, tpr)\n",
    "\n",
    "# ROC curve for random model (looks like a straight line)\n",
    "plt.plot([0, 1], [0, 1], linestyle='--')\n",
    "\n",
    "plt.xlim([0.0, 1.0])\n",
    "plt.ylim([0.0, 1.0])\n",
    "plt.xlabel('False Positive Rate')\n",
    "plt.ylabel('True Positive Rate')\n",
    "plt.title('ROC curve')\n",
    "plt.show()\n",
    "\n",
    "auc_roc = roc_auc_score(target_ohe_valid, probabilities_one_valid_ohe)\n",
    "display(auc_roc)"
   ]
  },
  {
   "cell_type": "markdown",
   "metadata": {},
   "source": [
    "1. From the confusion matrix, it detected 1,394 true negative values while only detected 76 true positive values.\n",
    "2. F1 Score: 0.30\n",
    "3. AUC-ROC: 0.77"
   ]
  },
  {
   "cell_type": "markdown",
   "metadata": {},
   "source": [
    "##### Feature Scaling + Class Weight Adjustment"
   ]
  },
  {
   "cell_type": "code",
   "execution_count": 1105,
   "metadata": {
    "scrolled": true
   },
   "outputs": [],
   "source": [
    "# Feature Scaling\n",
    "\n",
    "numeric = ['CreditScore', 'Age', 'Tenure', 'Balance', 'NumOfProducts', 'EstimatedSalary']\n",
    "\n",
    "scaler = StandardScaler()\n",
    "\n",
    "features_ohe_train_scaled = features_ohe_train.copy()\n",
    "features_ohe_valid_scaled = features_ohe_valid.copy()\n",
    "features_ohe_test_scaled = features_ohe_test.copy()\n",
    "\n",
    "# Replacing on the numeric data with the scaled ones.\n",
    "features_ohe_train_scaled[numeric] = scaler.fit_transform(features_ohe_train_scaled[numeric])\n",
    "features_ohe_valid_scaled[numeric] = scaler.transform(features_ohe_valid_scaled[numeric])\n",
    "features_ohe_test_scaled[numeric] = scaler.transform(features_ohe_test_scaled[numeric])"
   ]
  },
  {
   "cell_type": "markdown",
   "metadata": {},
   "source": [
    "Logistic Regression"
   ]
  },
  {
   "cell_type": "code",
   "execution_count": 1106,
   "metadata": {
    "scrolled": true
   },
   "outputs": [
    {
     "name": "stdout",
     "output_type": "stream",
     "text": [
      "Accuracy of the logistic regression model on the training set: 0.7097543087642098\n",
      "Accuracy of the logistic regression model on the validation set: 0.7090209020902091\n"
     ]
    }
   ],
   "source": [
    "model = LogisticRegression(random_state=54321, solver='liblinear', class_weight='balanced') # initialize logistic regression constructor with parameters random_state=54321 and solver='liblinear'\n",
    "model.fit(features_ohe_train_scaled, target_ohe_train)  # train model on training set\n",
    "score_train_ohe = model.score(features_ohe_train_scaled, target_ohe_train) # calculate accuracy score on training set \n",
    "score_valid_ohe = model.score(features_ohe_valid_scaled, target_ohe_valid) # calculate accuracy score on validation set  \n",
    "\n",
    "print(\"Accuracy of the logistic regression model on the training set:\",score_train_ohe)\n",
    "print(\"Accuracy of the logistic regression model on the validation set:\",score_valid_ohe)"
   ]
  },
  {
   "cell_type": "markdown",
   "metadata": {},
   "source": [
    "We are trying to build the Logistic Regression model, and the accuracy score on training set is 0.70 and on validation set is 0.70."
   ]
  },
  {
   "cell_type": "markdown",
   "metadata": {},
   "source": [
    "Imbalance Checking using Confusion Matrix & F1 Score for Logistic Regression Model"
   ]
  },
  {
   "cell_type": "code",
   "execution_count": 1107,
   "metadata": {
    "scrolled": true
   },
   "outputs": [
    {
     "data": {
      "text/plain": [
       "'Confusion Matrix: '"
      ]
     },
     "metadata": {},
     "output_type": "display_data"
    },
    {
     "data": {
      "text/plain": [
       "array([[1014,  427],\n",
       "       [ 102,  275]])"
      ]
     },
     "metadata": {},
     "output_type": "display_data"
    },
    {
     "data": {
      "text/plain": [
       "'F1 Score: '"
      ]
     },
     "metadata": {},
     "output_type": "display_data"
    },
    {
     "data": {
      "text/plain": [
       "0.509731232622799"
      ]
     },
     "metadata": {},
     "output_type": "display_data"
    },
    {
     "data": {
      "image/png": "[encoded data removed]",
      "text/plain": [
       "<Figure size 432x288 with 1 Axes>"
      ]
     },
     "metadata": {
      "needs_background": "light"
     },
     "output_type": "display_data"
    },
    {
     "data": {
      "text/plain": [
       "0.7777884132187896"
      ]
     },
     "metadata": {},
     "output_type": "display_data"
    }
   ],
   "source": [
    "model = LogisticRegression(random_state=54321, solver='liblinear', class_weight='balanced')\n",
    "model.fit(features_ohe_train_scaled, target_ohe_train)\n",
    "predictions_valid_ohe = model.predict(features_ohe_valid_scaled)\n",
    "\n",
    "display('Confusion Matrix: ', confusion_matrix(target_ohe_valid, predictions_valid_ohe))\n",
    "display('F1 Score: ', f1_score(target_ohe_valid, predictions_valid_ohe))\n",
    "\n",
    "# ROC Curve & Score\n",
    "probabilities_valid_ohe = model.predict_proba(features_ohe_valid_scaled)\n",
    "probabilities_one_valid_ohe = probabilities_valid_ohe[:, 1]\n",
    "\n",
    "fpr, tpr, thresholds = roc_curve(target_ohe_valid, probabilities_one_valid_ohe) \n",
    "\n",
    "plt.figure()\n",
    "plt.plot(fpr, tpr)\n",
    "\n",
    "# ROC curve for random model (looks like a straight line)\n",
    "plt.plot([0, 1], [0, 1], linestyle='--')\n",
    "\n",
    "plt.xlim([0.0, 1.0])\n",
    "plt.ylim([0.0, 1.0])\n",
    "plt.xlabel('False Positive Rate')\n",
    "plt.ylabel('True Positive Rate')\n",
    "plt.title('ROC curve')\n",
    "plt.show()\n",
    "\n",
    "auc_roc = roc_auc_score(target_ohe_valid, probabilities_one_valid_ohe)\n",
    "display(auc_roc)"
   ]
  },
  {
   "cell_type": "markdown",
   "metadata": {},
   "source": [
    "1. From the confusion matrix, it detected 1,033 true negative values while only detected 252 true positive values.\n",
    "2. F1 Score: 0.51\n",
    "3. AUC-ROC: 0.78"
   ]
  },
  {
   "cell_type": "markdown",
   "metadata": {},
   "source": [
    "##### Feature Scaling + Upsampling for Imbalance Fixing"
   ]
  },
  {
   "cell_type": "code",
   "execution_count": 1108,
   "metadata": {},
   "outputs": [],
   "source": [
    "def upsample(features_ohe, target_ohe, repeat):\n",
    "    features_ohe_zeros = features_ohe[target_ohe == 0]\n",
    "    features_ohe_ones = features_ohe[target_ohe == 1]\n",
    "    target_ohe_zeros = target_ohe[target_ohe == 0]\n",
    "    target_ohe_ones = target_ohe[target_ohe == 1]\n",
    "\n",
    "    features_ohe_upsampled = pd.concat([features_ohe_zeros] + [features_ohe_ones] * repeat)\n",
    "    target_ohe_upsampled = pd.concat([target_ohe_zeros] + [target_ohe_ones] * repeat)\n",
    "\n",
    "    features_ohe_upsampled, target_ohe_upsampled = shuffle(features_ohe_upsampled, target_ohe_upsampled, random_state=12345)\n",
    "\n",
    "    return features_ohe_upsampled, target_ohe_upsampled\n",
    "\n",
    "\n",
    "features_ohe_upsampled, target_ohe_upsampled = upsample(features_ohe_train, target_ohe_train, 4) \n",
    "# repeat number 4 is chosen as the class zero is around 4x higher than class one.\n",
    "\n",
    "# Feature Scaling\n",
    "numeric = ['CreditScore', 'Age', 'Tenure', 'Balance', 'NumOfProducts', 'EstimatedSalary']\n",
    "scaler = StandardScaler()\n",
    "scaler.fit(features_ohe_train[numeric])\n",
    "features_ohe_valid_scaled = scaler.transform(features_ohe_valid[numeric])\n",
    "features_ohe_train_upsampled_scaled = scaler.transform(features_ohe_upsampled[numeric])"
   ]
  },
  {
   "cell_type": "markdown",
   "metadata": {},
   "source": [
    "Logistic Regression"
   ]
  },
  {
   "cell_type": "code",
   "execution_count": 1109,
   "metadata": {
    "scrolled": true
   },
   "outputs": [
    {
     "name": "stdout",
     "output_type": "stream",
     "text": [
      "Accuracy of the logistic regression model on the training set: 0.6901041666666666\n",
      "Accuracy of the logistic regression model on the validation set: 0.6881188118811881\n"
     ]
    }
   ],
   "source": [
    "model = LogisticRegression(random_state=54321, solver='liblinear') # initialize logistic regression constructor with parameters random_state=54321 and solver='liblinear'\n",
    "model.fit(features_ohe_train_upsampled_scaled,target_ohe_upsampled)  # train model on training set\n",
    "score_train_ohe = model.score(features_ohe_train_upsampled_scaled, target_ohe_upsampled) # calculate accuracy score on training set \n",
    "score_valid_ohe = model.score(features_ohe_valid_scaled, target_ohe_valid) # calculate accuracy score on validation set  \n",
    "\n",
    "print(\"Accuracy of the logistic regression model on the training set:\",score_train_ohe)\n",
    "print(\"Accuracy of the logistic regression model on the validation set:\",score_valid_ohe)"
   ]
  },
  {
   "cell_type": "markdown",
   "metadata": {},
   "source": [
    "We are trying to build the Logistic Regression model, and the accuracy score on training set and validation set are both 0.69."
   ]
  },
  {
   "cell_type": "markdown",
   "metadata": {},
   "source": [
    "Imbalance Checking using Confusion Matrix, F1 Score & AUC-ROC for Logistic Regression Model"
   ]
  },
  {
   "cell_type": "code",
   "execution_count": 1110,
   "metadata": {
    "scrolled": true
   },
   "outputs": [
    {
     "data": {
      "text/plain": [
       "'Confusion Matrix: '"
      ]
     },
     "metadata": {},
     "output_type": "display_data"
    },
    {
     "data": {
      "text/plain": [
       "array([[993, 448],\n",
       "       [119, 258]])"
      ]
     },
     "metadata": {},
     "output_type": "display_data"
    },
    {
     "data": {
      "text/plain": [
       "'F1 Score: '"
      ]
     },
     "metadata": {},
     "output_type": "display_data"
    },
    {
     "data": {
      "text/plain": [
       "0.47645429362880887"
      ]
     },
     "metadata": {},
     "output_type": "display_data"
    },
    {
     "data": {
      "image/png": "[encoded data removed]",
      "text/plain": [
       "<Figure size 432x288 with 1 Axes>"
      ]
     },
     "metadata": {
      "needs_background": "light"
     },
     "output_type": "display_data"
    },
    {
     "data": {
      "text/plain": [
       "0.7423484649070329"
      ]
     },
     "metadata": {},
     "output_type": "display_data"
    }
   ],
   "source": [
    "model = LogisticRegression(random_state=54321, solver='liblinear')\n",
    "model.fit(features_ohe_train_upsampled_scaled,target_ohe_upsampled)\n",
    "predictions_valid_ohe = model.predict(features_ohe_valid_scaled)\n",
    "\n",
    "display('Confusion Matrix: ', confusion_matrix(target_ohe_valid, predictions_valid_ohe))\n",
    "display('F1 Score: ', f1_score(target_ohe_valid, predictions_valid_ohe))\n",
    "\n",
    "# ROC Curve & Score\n",
    "probabilities_valid_ohe = model.predict_proba(features_ohe_valid_scaled)\n",
    "probabilities_one_valid_ohe = probabilities_valid_ohe[:, 1]\n",
    "\n",
    "fpr, tpr, thresholds = roc_curve(target_ohe_valid, probabilities_one_valid_ohe) \n",
    "\n",
    "plt.figure()\n",
    "plt.plot(fpr, tpr)\n",
    "\n",
    "# ROC curve for random model (looks like a straight line)\n",
    "plt.plot([0, 1], [0, 1], linestyle='--')\n",
    "\n",
    "plt.xlim([0.0, 1.0])\n",
    "plt.ylim([0.0, 1.0])\n",
    "plt.xlabel('False Positive Rate')\n",
    "plt.ylabel('True Positive Rate')\n",
    "plt.title('ROC curve')\n",
    "plt.show()\n",
    "\n",
    "auc_roc = roc_auc_score(target_ohe_valid, probabilities_one_valid_ohe)\n",
    "display(auc_roc)"
   ]
  },
  {
   "cell_type": "markdown",
   "metadata": {},
   "source": [
    "1. From the confusion matrix, it detected 1,393 true negative values while only detected 6 true positive values.\n",
    "2. F1 Score: 0.48\n",
    "3. AUC-ROC: 0.74"
   ]
  },
  {
   "cell_type": "markdown",
   "metadata": {},
   "source": [
    "##### Feature Scaling + Downsampling for Imbalance Fixing"
   ]
  },
  {
   "cell_type": "code",
   "execution_count": 1111,
   "metadata": {},
   "outputs": [],
   "source": [
    "def downsample(features_ohe, target_ohe, fraction):\n",
    "    features_ohe_zeros = features_ohe[target_ohe == 0]\n",
    "    features_ohe_ones = features_ohe[target_ohe == 1]\n",
    "    target_ohe_zeros = target_ohe[target_ohe == 0]\n",
    "    target_ohe_ones = target_ohe[target_ohe == 1]\n",
    "\n",
    "    features_ohe_downsampled = pd.concat([features_ohe_zeros.sample(frac=fraction, random_state=12345)] + [features_ohe_ones])\n",
    "    target_ohe_downsampled = pd.concat([target_ohe_zeros.sample(frac=fraction, random_state=12345)] + [target_ohe_ones])\n",
    "\n",
    "    features_ohe_downsampled, target_ohe_downsampled = shuffle(features_ohe_downsampled, target_ohe_downsampled, random_state=12345)\n",
    "\n",
    "    return features_ohe_downsampled, target_ohe_downsampled\n",
    "\n",
    "\n",
    "features_ohe_downsampled, target_ohe_downsampled = downsample(features_ohe_train, target_ohe_train, 0.25) \n",
    "# fraction number 0.25 is chosen as the class zero is around 4x higher than class one.\n",
    "\n",
    "\n",
    "# Feature Scaling\n",
    "numeric = ['CreditScore', 'Age', 'Tenure', 'Balance', 'NumOfProducts', 'EstimatedSalary']\n",
    "scaler = StandardScaler()\n",
    "scaler.fit(features_ohe_train[numeric])\n",
    "features_ohe_valid_scaled = scaler.transform(features_ohe_valid[numeric])\n",
    "features_ohe_train_downsampled_scaled = scaler.transform(features_ohe_downsampled[numeric])"
   ]
  },
  {
   "cell_type": "markdown",
   "metadata": {},
   "source": [
    "Logistic Regression"
   ]
  },
  {
   "cell_type": "code",
   "execution_count": 1112,
   "metadata": {
    "scrolled": true
   },
   "outputs": [
    {
     "name": "stdout",
     "output_type": "stream",
     "text": [
      "Accuracy of the logistic regression model on the training set: 0.6897644927536232\n",
      "Accuracy of the logistic regression model on the validation set: 0.6787678767876788\n"
     ]
    }
   ],
   "source": [
    "model = LogisticRegression(random_state=54321, solver='liblinear') # initialize logistic regression constructor with parameters random_state=54321 and solver='liblinear'\n",
    "model.fit(features_ohe_train_downsampled_scaled, target_ohe_downsampled)  # train model on training set\n",
    "score_train_ohe = model.score(features_ohe_train_downsampled_scaled, target_ohe_downsampled) # calculate accuracy score on training set \n",
    "score_valid_ohe = model.score(features_ohe_valid_scaled, target_ohe_valid) # calculate accuracy score on validation set  \n",
    "\n",
    "print(\"Accuracy of the logistic regression model on the training set:\",score_train_ohe)\n",
    "print(\"Accuracy of the logistic regression model on the validation set:\",score_valid_ohe)"
   ]
  },
  {
   "cell_type": "markdown",
   "metadata": {},
   "source": [
    "We are trying to build the Logistic Regression model, and the accuracy score on training set is 0.69 and on validation set is 0.68."
   ]
  },
  {
   "cell_type": "markdown",
   "metadata": {},
   "source": [
    "Imbalance Checking using Confusion Matrix, F1 Score & AUC-ROC for Logistic Regression Model"
   ]
  },
  {
   "cell_type": "code",
   "execution_count": 1113,
   "metadata": {
    "scrolled": true
   },
   "outputs": [
    {
     "data": {
      "text/plain": [
       "'Confusion Matrix: '"
      ]
     },
     "metadata": {},
     "output_type": "display_data"
    },
    {
     "data": {
      "text/plain": [
       "array([[973, 468],\n",
       "       [116, 261]])"
      ]
     },
     "metadata": {},
     "output_type": "display_data"
    },
    {
     "data": {
      "text/plain": [
       "'F1 Score: '"
      ]
     },
     "metadata": {},
     "output_type": "display_data"
    },
    {
     "data": {
      "text/plain": [
       "0.47197106690777574"
      ]
     },
     "metadata": {},
     "output_type": "display_data"
    },
    {
     "data": {
      "image/png": "[encoded data removed]",
      "text/plain": [
       "<Figure size 432x288 with 1 Axes>"
      ]
     },
     "metadata": {
      "needs_background": "light"
     },
     "output_type": "display_data"
    },
    {
     "data": {
      "text/plain": [
       "0.7405077155011349"
      ]
     },
     "metadata": {},
     "output_type": "display_data"
    }
   ],
   "source": [
    "model = LogisticRegression(random_state=54321, solver='liblinear')\n",
    "model.fit(features_ohe_train_downsampled_scaled, target_ohe_downsampled)\n",
    "predictions_valid_ohe = model.predict(features_ohe_valid_scaled)\n",
    "\n",
    "display('Confusion Matrix: ', confusion_matrix(target_ohe_valid, predictions_valid_ohe))\n",
    "display('F1 Score: ', f1_score(target_ohe_valid, predictions_valid_ohe))\n",
    "\n",
    "# ROC Curve & Score\n",
    "probabilities_valid_ohe = model.predict_proba(features_ohe_valid_scaled)\n",
    "probabilities_one_valid_ohe = probabilities_valid_ohe[:, 1]\n",
    "\n",
    "fpr, tpr, thresholds = roc_curve(target_ohe_valid, probabilities_one_valid_ohe) \n",
    "\n",
    "plt.figure()\n",
    "plt.plot(fpr, tpr)\n",
    "\n",
    "# ROC curve for random model (looks like a straight line)\n",
    "plt.plot([0, 1], [0, 1], linestyle='--')\n",
    "\n",
    "plt.xlim([0.0, 1.0])\n",
    "plt.ylim([0.0, 1.0])\n",
    "plt.xlabel('False Positive Rate')\n",
    "plt.ylabel('True Positive Rate')\n",
    "plt.title('ROC curve')\n",
    "plt.show()\n",
    "\n",
    "auc_roc = roc_auc_score(target_ohe_valid, probabilities_one_valid_ohe)\n",
    "display(auc_roc)"
   ]
  },
  {
   "cell_type": "markdown",
   "metadata": {},
   "source": [
    "1. From the confusion matrix, it detected 973 true negative values while only detected 261 true positive values.\n",
    "2. F1 Score: 0.47\n",
    "3. AUC-ROC: 0.74"
   ]
  },
  {
   "cell_type": "markdown",
   "metadata": {},
   "source": [
    "#### Imbalance Fixing without Feature Scaling"
   ]
  },
  {
   "cell_type": "markdown",
   "metadata": {},
   "source": [
    "##### Class Weight Adjustment without Feature Scaling"
   ]
  },
  {
   "cell_type": "markdown",
   "metadata": {},
   "source": [
    "Logistic Regression Model"
   ]
  },
  {
   "cell_type": "code",
   "execution_count": 1114,
   "metadata": {
    "scrolled": true
   },
   "outputs": [
    {
     "data": {
      "text/plain": [
       "'Confusion Matrix: '"
      ]
     },
     "metadata": {},
     "output_type": "display_data"
    },
    {
     "data": {
      "text/plain": [
       "array([[1012,  429],\n",
       "       [ 108,  269]])"
      ]
     },
     "metadata": {},
     "output_type": "display_data"
    },
    {
     "data": {
      "text/plain": [
       "'F1 Score: '"
      ]
     },
     "metadata": {},
     "output_type": "display_data"
    },
    {
     "data": {
      "text/plain": [
       "0.5004651162790699"
      ]
     },
     "metadata": {},
     "output_type": "display_data"
    },
    {
     "data": {
      "image/png": "[encoded data removed]",
      "text/plain": [
       "<Figure size 432x288 with 1 Axes>"
      ]
     },
     "metadata": {
      "needs_background": "light"
     },
     "output_type": "display_data"
    },
    {
     "data": {
      "text/plain": [
       "0.7694442961618535"
      ]
     },
     "metadata": {},
     "output_type": "display_data"
    }
   ],
   "source": [
    "model = LogisticRegression(random_state=12345, solver='liblinear', class_weight='balanced')\n",
    "model.fit(features_ohe_train, target_ohe_train)\n",
    "predictions_valid_ohe = model.predict(features_ohe_valid)\n",
    "\n",
    "display('Confusion Matrix: ', confusion_matrix(target_ohe_valid, predictions_valid_ohe))\n",
    "display('F1 Score: ', f1_score(target_ohe_valid, predictions_valid_ohe))\n",
    "\n",
    "# ROC Curve & Score\n",
    "probabilities_valid_ohe = model.predict_proba(features_ohe_valid)\n",
    "probabilities_one_valid_ohe = probabilities_valid_ohe[:, 1]\n",
    "\n",
    "fpr, tpr, thresholds = roc_curve(target_ohe_valid, probabilities_one_valid_ohe) \n",
    "\n",
    "plt.figure()\n",
    "plt.plot(fpr, tpr)\n",
    "\n",
    "# ROC curve for random model (looks like a straight line)\n",
    "plt.plot([0, 1], [0, 1], linestyle='--')\n",
    "\n",
    "plt.xlim([0.0, 1.0])\n",
    "plt.ylim([0.0, 1.0])\n",
    "plt.xlabel('False Positive Rate')\n",
    "plt.ylabel('True Positive Rate')\n",
    "plt.title('ROC curve')\n",
    "plt.show()\n",
    "\n",
    "auc_roc = roc_auc_score(target_ohe_valid, probabilities_one_valid_ohe)\n",
    "display(auc_roc)"
   ]
  },
  {
   "cell_type": "markdown",
   "metadata": {},
   "source": [
    "1. From the confusion matrix, it detected 1,012 true negative values while only detected 269 true positive values.\n",
    "2. F1 Score: 0.50\n",
    "3. AUC-ROC: 0.77"
   ]
  },
  {
   "cell_type": "markdown",
   "metadata": {},
   "source": [
    "##### Upsampling for Imbalance Fixing without Feature Scaling"
   ]
  },
  {
   "cell_type": "code",
   "execution_count": 1115,
   "metadata": {
    "scrolled": true
   },
   "outputs": [],
   "source": [
    "def upsample(features_ohe, target_ohe, repeat):\n",
    "    features_ohe_zeros = features_ohe[target_ohe == 0]\n",
    "    features_ohe_ones = features_ohe[target_ohe == 1]\n",
    "    target_ohe_zeros = target_ohe[target_ohe == 0]\n",
    "    target_ohe_ones = target_ohe[target_ohe == 1]\n",
    "\n",
    "    features_ohe_upsampled = pd.concat([features_ohe_zeros] + [features_ohe_ones] * repeat)\n",
    "    target_ohe_upsampled = pd.concat([target_ohe_zeros] + [target_ohe_ones] * repeat)\n",
    "\n",
    "    features_ohe_upsampled, target_ohe_upsampled = shuffle(features_ohe_upsampled, target_ohe_upsampled, random_state=12345)\n",
    "\n",
    "    return features_ohe_upsampled, target_ohe_upsampled\n",
    "\n",
    "\n",
    "features_ohe_upsampled, target_ohe_upsampled = upsample(features_ohe_train, target_ohe_train, 4) \n",
    "# repeat number 4 is chosen as the class zero is around 4x higher than class one."
   ]
  },
  {
   "cell_type": "markdown",
   "metadata": {},
   "source": [
    "Logistic Regression Model"
   ]
  },
  {
   "cell_type": "code",
   "execution_count": 1116,
   "metadata": {},
   "outputs": [
    {
     "data": {
      "text/plain": [
       "'Confusion Matrix: '"
      ]
     },
     "metadata": {},
     "output_type": "display_data"
    },
    {
     "data": {
      "text/plain": [
       "array([[920, 521],\n",
       "       [100, 277]])"
      ]
     },
     "metadata": {},
     "output_type": "display_data"
    },
    {
     "data": {
      "text/plain": [
       "'F1 Score: '"
      ]
     },
     "metadata": {},
     "output_type": "display_data"
    },
    {
     "data": {
      "text/plain": [
       "0.47148936170212763"
      ]
     },
     "metadata": {},
     "output_type": "display_data"
    },
    {
     "data": {
      "image/png": "[encoded data removed]",
      "text/plain": [
       "<Figure size 432x288 with 1 Axes>"
      ]
     },
     "metadata": {
      "needs_background": "light"
     },
     "output_type": "display_data"
    },
    {
     "data": {
      "text/plain": [
       "0.7345160761849365"
      ]
     },
     "metadata": {},
     "output_type": "display_data"
    }
   ],
   "source": [
    "model = LogisticRegression(random_state=54321, solver='liblinear')\n",
    "model.fit(features_ohe_upsampled, target_ohe_upsampled)\n",
    "predictions_valid_ohe = model.predict(features_ohe_valid)\n",
    "\n",
    "display('Confusion Matrix: ', confusion_matrix(target_ohe_valid, predictions_valid_ohe))\n",
    "display('F1 Score: ', f1_score(target_ohe_valid, predictions_valid_ohe))\n",
    "\n",
    "# ROC Curve & Score\n",
    "probabilities_valid_ohe = model.predict_proba(features_ohe_valid)\n",
    "probabilities_one_valid_ohe = probabilities_valid_ohe[:, 1]\n",
    "\n",
    "fpr, tpr, thresholds = roc_curve(target_ohe_valid, probabilities_one_valid_ohe) \n",
    "\n",
    "plt.figure()\n",
    "plt.plot(fpr, tpr)\n",
    "\n",
    "# ROC curve for random model (looks like a straight line)\n",
    "plt.plot([0, 1], [0, 1], linestyle='--')\n",
    "\n",
    "plt.xlim([0.0, 1.0])\n",
    "plt.ylim([0.0, 1.0])\n",
    "plt.xlabel('False Positive Rate')\n",
    "plt.ylabel('True Positive Rate')\n",
    "plt.title('ROC curve')\n",
    "plt.show()\n",
    "\n",
    "auc_roc = roc_auc_score(target_ohe_valid, probabilities_one_valid_ohe)\n",
    "display(auc_roc)"
   ]
  },
  {
   "cell_type": "markdown",
   "metadata": {},
   "source": [
    "1. From the confusion matrix, it detected 920 true negative values while only detected 277 true positive values.\n",
    "2. F1 Score: 0.47\n",
    "3. AUC-ROC: 0.73"
   ]
  },
  {
   "cell_type": "markdown",
   "metadata": {},
   "source": [
    "##### Downsampling for Imbalance Fixing without Feature Scaling"
   ]
  },
  {
   "cell_type": "code",
   "execution_count": 1117,
   "metadata": {
    "scrolled": true
   },
   "outputs": [],
   "source": [
    "def downsample(features_ohe, target_ohe, fraction):\n",
    "    features_ohe_zeros = features_ohe[target_ohe == 0]\n",
    "    features_ohe_ones = features_ohe[target_ohe == 1]\n",
    "    target_ohe_zeros = target_ohe[target_ohe == 0]\n",
    "    target_ohe_ones = target_ohe[target_ohe == 1]\n",
    "\n",
    "    features_ohe_downsampled = pd.concat([features_ohe_zeros.sample(frac=fraction, random_state=12345)] + [features_ohe_ones])\n",
    "    target_ohe_downsampled = pd.concat([target_ohe_zeros.sample(frac=fraction, random_state=12345)] + [target_ohe_ones])\n",
    "\n",
    "    features_ohe_downsampled, target_ohe_downsampled = shuffle(features_ohe_downsampled, target_ohe_downsampled, random_state=12345)\n",
    "\n",
    "    return features_ohe_downsampled, target_ohe_downsampled\n",
    "\n",
    "\n",
    "features_ohe_downsampled, target_ohe_downsampled = downsample(features_ohe_train, target_ohe_train, 0.25) \n",
    "# fraction number 0.25 is chosen as the class zero is around 4x higher than class one."
   ]
  },
  {
   "cell_type": "markdown",
   "metadata": {},
   "source": [
    "Logistic Regression Model"
   ]
  },
  {
   "cell_type": "code",
   "execution_count": 1118,
   "metadata": {
    "scrolled": true
   },
   "outputs": [
    {
     "data": {
      "text/plain": [
       "'Confusion Matrix: '"
      ]
     },
     "metadata": {},
     "output_type": "display_data"
    },
    {
     "data": {
      "text/plain": [
       "array([[904, 537],\n",
       "       [ 96, 281]])"
      ]
     },
     "metadata": {},
     "output_type": "display_data"
    },
    {
     "data": {
      "text/plain": [
       "'F1 Score: '"
      ]
     },
     "metadata": {},
     "output_type": "display_data"
    },
    {
     "data": {
      "text/plain": [
       "0.4702928870292888"
      ]
     },
     "metadata": {},
     "output_type": "display_data"
    },
    {
     "data": {
      "image/png": "[encoded data removed]",
      "text/plain": [
       "<Figure size 432x288 with 1 Axes>"
      ]
     },
     "metadata": {
      "needs_background": "light"
     },
     "output_type": "display_data"
    },
    {
     "data": {
      "text/plain": [
       "0.7325796078099316"
      ]
     },
     "metadata": {},
     "output_type": "display_data"
    }
   ],
   "source": [
    "model = LogisticRegression(random_state=54321, solver='liblinear')\n",
    "model.fit(features_ohe_downsampled, target_ohe_downsampled)\n",
    "predictions_valid_ohe = model.predict(features_ohe_valid)\n",
    "\n",
    "display('Confusion Matrix: ', confusion_matrix(target_ohe_valid, predictions_valid_ohe))\n",
    "display('F1 Score: ', f1_score(target_ohe_valid, predictions_valid_ohe))\n",
    "\n",
    "\n",
    "# ROC Curve & Score\n",
    "probabilities_valid_ohe = model.predict_proba(features_ohe_valid)\n",
    "probabilities_one_valid_ohe = probabilities_valid_ohe[:, 1]\n",
    "\n",
    "fpr, tpr, thresholds = roc_curve(target_ohe_valid, probabilities_one_valid_ohe) \n",
    "\n",
    "plt.figure()\n",
    "plt.plot(fpr, tpr)\n",
    "\n",
    "# ROC curve for random model (looks like a straight line)\n",
    "plt.plot([0, 1], [0, 1], linestyle='--')\n",
    "\n",
    "plt.xlim([0.0, 1.0])\n",
    "plt.ylim([0.0, 1.0])\n",
    "plt.xlabel('False Positive Rate')\n",
    "plt.ylabel('True Positive Rate')\n",
    "plt.title('ROC curve')\n",
    "plt.show()\n",
    "\n",
    "auc_roc = roc_auc_score(target_ohe_valid, probabilities_one_valid_ohe)\n",
    "display(auc_roc)"
   ]
  },
  {
   "cell_type": "markdown",
   "metadata": {},
   "source": [
    "1. From the confusion matrix, it detected 904 true negative values while only detected 281 true positive values.\n",
    "2. F1 Score: 0.47\n",
    "3. AUC-ROC: 0.73"
   ]
  },
  {
   "cell_type": "markdown",
   "metadata": {},
   "source": [
    "Section conclusion on One-Hot Encoding with and without imbalance consideration on Logistic Regression Model:\n",
    "\n",
    "1. The F1 Scores & AUC-ROC Scores of model without imbalance consideration on Logistic Regression Model is lower than the model with imbalance consideration (Features scaling, upsampling or downsampling) on Logistic Regression Model."
   ]
  },
  {
   "cell_type": "markdown",
   "metadata": {},
   "source": [
    "## Final Model Selection"
   ]
  },
  {
   "cell_type": "markdown",
   "metadata": {},
   "source": [
    "There is 2 models with the best F1 Score of 0.62 & AUC-ROC score of 0.86. They are model of Random Forest Model with Class Weight Adjustment but without the Feature Scaling and another one is model of Random Forest Model with Class Weight Adjustment but with the Feature Scaling\n",
    "\n",
    "Other than that, Random Forest Model with Upsampling for Imbalance Fixing without Feature Scaling has F1 Score of 0.60 and AUC-ROC of 0.87."
   ]
  },
  {
   "cell_type": "markdown",
   "metadata": {},
   "source": [
    "A. Checking the run time for Random Forest Model with Class Weight Adjustment but without the Feature Scaling."
   ]
  },
  {
   "cell_type": "code",
   "execution_count": 1119,
   "metadata": {
    "scrolled": true
   },
   "outputs": [
    {
     "name": "stdout",
     "output_type": "stream",
     "text": [
      "CPU times: user 351 ms, sys: 2.14 ms, total: 353 ms\n",
      "Wall time: 363 ms\n"
     ]
    },
    {
     "data": {
      "text/plain": [
       "RandomForestClassifier(class_weight='balanced', max_depth=8, n_estimators=50,\n",
       "                       random_state=54321)"
      ]
     },
     "execution_count": 1119,
     "metadata": {},
     "output_type": "execute_result"
    }
   ],
   "source": [
    "%%time\n",
    "\n",
    "model = RandomForestClassifier(random_state=54321, n_estimators=50, max_depth=8, class_weight='balanced')\n",
    "model.fit(features_train, target_train)"
   ]
  },
  {
   "cell_type": "markdown",
   "metadata": {},
   "source": [
    "The run time for Random Forest Model with Class Weight Adjustment but without the Feature Scaling is 363ms."
   ]
  },
  {
   "cell_type": "markdown",
   "metadata": {},
   "source": [
    "B. Checking the run time for Random Forest Model with Class Weight Adjustment but with the Feature Scaling."
   ]
  },
  {
   "cell_type": "code",
   "execution_count": 1120,
   "metadata": {
    "scrolled": true
   },
   "outputs": [
    {
     "name": "stdout",
     "output_type": "stream",
     "text": [
      "CPU times: user 345 ms, sys: 0 ns, total: 345 ms\n",
      "Wall time: 355 ms\n"
     ]
    },
    {
     "data": {
      "text/plain": [
       "RandomForestClassifier(class_weight='balanced', max_depth=8, n_estimators=50,\n",
       "                       random_state=54321)"
      ]
     },
     "execution_count": 1120,
     "metadata": {},
     "output_type": "execute_result"
    }
   ],
   "source": [
    "%%time\n",
    "\n",
    "def upsample(features, target, repeat):\n",
    "    features_zeros = features[target == 0]\n",
    "    features_ones = features[target == 1]\n",
    "    target_zeros = target[target == 0]\n",
    "    target_ones = target[target == 1]\n",
    "\n",
    "    features_upsampled = pd.concat([features_zeros] + [features_ones] * repeat)\n",
    "    target_upsampled = pd.concat([target_zeros] + [target_ones] * repeat)\n",
    "\n",
    "    features_upsampled, target_upsampled = shuffle(features_upsampled, target_upsampled, random_state=12345)\n",
    "\n",
    "    return features_upsampled, target_upsampled\n",
    "\n",
    "\n",
    "features_upsampled, target_upsampled = upsample(features_train, target_train, 4) \n",
    "# repeat number 4 is chosen as the class zero is around 4x higher than class one.\n",
    "\n",
    "model = RandomForestClassifier(random_state=54321, n_estimators=50, max_depth=8, class_weight='balanced')\n",
    "model.fit(features_train, target_train)"
   ]
  },
  {
   "cell_type": "markdown",
   "metadata": {},
   "source": [
    "The run time for Random Forest Model with Class Weight Adjustment but without the Feature Scaling is 355ms."
   ]
  },
  {
   "cell_type": "code",
   "execution_count": 1121,
   "metadata": {},
   "outputs": [
    {
     "data": {
      "text/plain": [
       "'Confusion Matrix: '"
      ]
     },
     "metadata": {},
     "output_type": "display_data"
    },
    {
     "data": {
      "text/plain": [
       "array([[1260,  208],\n",
       "       [ 118,  233]])"
      ]
     },
     "metadata": {},
     "output_type": "display_data"
    },
    {
     "data": {
      "text/plain": [
       "'F1 Score: '"
      ]
     },
     "metadata": {},
     "output_type": "display_data"
    },
    {
     "data": {
      "text/plain": [
       "0.5883838383838383"
      ]
     },
     "metadata": {},
     "output_type": "display_data"
    },
    {
     "data": {
      "image/png": "[encoded data removed]",
      "text/plain": [
       "<Figure size 432x288 with 1 Axes>"
      ]
     },
     "metadata": {
      "needs_background": "light"
     },
     "output_type": "display_data"
    },
    {
     "data": {
      "text/plain": [
       "0.8550074912472733"
      ]
     },
     "metadata": {},
     "output_type": "display_data"
    }
   ],
   "source": [
    "# Testing the test dataset on Random Forest Model with Class Weight Adjustment but without the Feature Scaling\n",
    "\n",
    "model = RandomForestClassifier(random_state=54321, n_estimators=50, max_depth=8, class_weight='balanced')\n",
    "model.fit(features_train, target_train)\n",
    "\n",
    "predictions_test = model.predict(features_test)\n",
    "\n",
    "display('Confusion Matrix: ', confusion_matrix(target_test, predictions_test))\n",
    "display('F1 Score: ', f1_score(target_test, predictions_test))\n",
    "\n",
    "# ROC Curve & Score\n",
    "probabilities_test = model.predict_proba(features_test)\n",
    "probabilities_one_test = probabilities_test[:, 1]\n",
    "\n",
    "fpr, tpr, thresholds = roc_curve(target_test, probabilities_one_test) \n",
    "\n",
    "plt.figure()\n",
    "plt.plot(fpr, tpr)\n",
    "\n",
    "# ROC curve for random model (looks like a straight line)\n",
    "plt.plot([0, 1], [0, 1], linestyle='--')\n",
    "\n",
    "plt.xlim([0.0, 1.0])\n",
    "plt.ylim([0.0, 1.0])\n",
    "plt.xlabel('False Positive Rate')\n",
    "plt.ylabel('True Positive Rate')\n",
    "plt.title('ROC curve')\n",
    "plt.show()\n",
    "\n",
    "auc_roc = roc_auc_score(target_test, probabilities_one_test)\n",
    "display(auc_roc)"
   ]
  },
  {
   "cell_type": "markdown",
   "metadata": {},
   "source": [
    "Using the final model of Random Forest Model with Class Weight Adjustment but with the Feature Scaling, the F1 score for the test set is 0.59 and the AUC-ROC Score is 0.86."
   ]
  },
  {
   "cell_type": "code",
   "execution_count": 1122,
   "metadata": {},
   "outputs": [
    {
     "data": {
      "text/plain": [
       "'Confusion Matrix: '"
      ]
     },
     "metadata": {},
     "output_type": "display_data"
    },
    {
     "data": {
      "text/plain": [
       "array([[1260,  208],\n",
       "       [ 118,  233]])"
      ]
     },
     "metadata": {},
     "output_type": "display_data"
    },
    {
     "data": {
      "text/plain": [
       "'F1 Score: '"
      ]
     },
     "metadata": {},
     "output_type": "display_data"
    },
    {
     "data": {
      "text/plain": [
       "0.5883838383838383"
      ]
     },
     "metadata": {},
     "output_type": "display_data"
    },
    {
     "data": {
      "image/png": "[encoded data removed]",
      "text/plain": [
       "<Figure size 432x288 with 1 Axes>"
      ]
     },
     "metadata": {
      "needs_background": "light"
     },
     "output_type": "display_data"
    },
    {
     "data": {
      "text/plain": [
       "0.8548735803504196"
      ]
     },
     "metadata": {},
     "output_type": "display_data"
    }
   ],
   "source": [
    "# Testing the test dataset on Random Forest Model with Class Weight Adjustment but with the Feature Scaling\n",
    "\n",
    "def upsample(features, target, repeat):\n",
    "    features_zeros = features[target == 0]\n",
    "    features_ones = features[target == 1]\n",
    "    target_zeros = target[target == 0]\n",
    "    target_ones = target[target == 1]\n",
    "\n",
    "    features_upsampled = pd.concat([features_zeros] + [features_ones] * repeat)\n",
    "    target_upsampled = pd.concat([target_zeros] + [target_ones] * repeat)\n",
    "\n",
    "    features_upsampled, target_upsampled = shuffle(features_upsampled, target_upsampled, random_state=12345)\n",
    "\n",
    "    return features_upsampled, target_upsampled\n",
    "\n",
    "\n",
    "features_upsampled, target_upsampled = upsample(features_train, target_train, 4) # repeat number 4 is chosen as the class zero is around 4x higher than class one.\n",
    "\n",
    "\n",
    "model = RandomForestClassifier(random_state=54321, n_estimators=50, max_depth=8, class_weight='balanced')\n",
    "model.fit(features_train_scaled,target_train)\n",
    "\n",
    "predictions_test = model.predict(features_test_scaled)\n",
    "\n",
    "display('Confusion Matrix: ', confusion_matrix(target_test, predictions_test))\n",
    "display('F1 Score: ', f1_score(target_test, predictions_test))\n",
    "\n",
    "# ROC Curve & Score\n",
    "probabilities_test = model.predict_proba(features_test_scaled)\n",
    "probabilities_one_test = probabilities_test[:, 1]\n",
    "\n",
    "fpr, tpr, thresholds = roc_curve(target_test, probabilities_one_test) \n",
    "\n",
    "plt.figure()\n",
    "plt.plot(fpr, tpr)\n",
    "\n",
    "# ROC curve for random model (looks like a straight line)\n",
    "plt.plot([0, 1], [0, 1], linestyle='--')\n",
    "\n",
    "plt.xlim([0.0, 1.0])\n",
    "plt.ylim([0.0, 1.0])\n",
    "plt.xlabel('False Positive Rate')\n",
    "plt.ylabel('True Positive Rate')\n",
    "plt.title('ROC curve')\n",
    "plt.show()\n",
    "\n",
    "auc_roc = roc_auc_score(target_test, probabilities_one_test)\n",
    "display(auc_roc)"
   ]
  },
  {
   "cell_type": "markdown",
   "metadata": {},
   "source": [
    "Both Random Forest Model with Class Weight Adjustment with or without Feature Scaling showed no significant different for F1 Score (0.59) & AUC-ROC Score (0.86). \n",
    "\n",
    "We can use either the model Random Forest Model with Class Weight Adjustment but without the Feature Scaling or the model Random Forest Model with Class Weight Adjustment but with the Feature Scaling since the run time for  for both model is roughly the same.\n",
    "\n",
    "But choosing the model Random Forest Model with Class Weight Adjustment but without the Feature Scaling is time saving as we no need to scale the features."
   ]
  },
  {
   "cell_type": "markdown",
   "metadata": {},
   "source": [
    "## Conclusion"
   ]
  },
  {
   "cell_type": "markdown",
   "metadata": {},
   "source": [
    "1. The data is loaded and preprocessed. The missing values are removed. There are no duplicated values.\n",
    "\n",
    "2. There are imbalance of classes. Class zero is around 4x more than class one. \n",
    "\n",
    "3. There are different models with Label Encoding, which are both trained with & without considering the imbalance. And with imbalance fixing, we tried both with & without feature scaling, class weight adjustment & up or downsampling methods in combination to train the models. We experimented with both scaled and unscaled data to see which gives better results for our specific use case. The F1 Scores & AUC-ROC Scores of scaled data do not have much different with unscaled data. We shall use unscaled data for modelling in this project.\n",
    "\n",
    "5. Random Forest model worked the best in this project. And class weight adjusted data model is more suitable for this project compared to Up or Downsampling.\n",
    "\n",
    "4. We tried to improve the quality of the final model by adjusting the number of estimators & max_depth. \n",
    "\n",
    "5. With One-Hot Encoding, the F1 Scores & AUC-ROC Scores of model without imbalance consideration on Logistic Regression Model is lower than the model with imbalance consideration (Features scaling, upsampling or downsampling) on Logistic Regression Model.\n",
    "\n",
    "6. There are 2 best models using Label Encoding. First model is Random Forest Model with Class Weight Adjustment but without the Feature Scaling, having the run time of 363ms, and F1 Score of 0.62 & AUC-ROC score of 0.86. Second model is Random Forest Model with Class Weight Adjustment but with the Feature Scaling, having the run time of 355ms, and F1 Score of 0.62 & AUC-ROC score of 0.86.\n",
    "\n",
    "7. The final testing of both models on the testing dataset showed the almost same F1 Score & AUC-ROC score.\n",
    "\n",
    "8. We can choose the model Random Forest Model with Class Weight Adjustment but without the Feature Scaling as we save the time to scale the features."
   ]
  }
 ],
 "metadata": {
  "kernelspec": {
   "display_name": "Python 3 (ipykernel)",
   "language": "python",
   "name": "python3"
  },
  "language_info": {
   "codemirror_mode": {
    "name": "ipython",
    "version": 3
   },
   "file_extension": ".py",
   "mimetype": "text/x-python",
   "name": "python",
   "nbconvert_exporter": "python",
   "pygments_lexer": "ipython3",
   "version": "3.10.9"
  },
  "toc": {
   "base_numbering": 1,
   "nav_menu": {},
   "number_sections": true,
   "sideBar": true,
   "skip_h1_title": true,
   "title_cell": "Table of Contents",
   "title_sidebar": "Contents",
   "toc_cell": false,
   "toc_position": {
    "height": "calc(100% - 180px)",
    "left": "10px",
    "top": "150px",
    "width": "341px"
   },
   "toc_section_display": true,
   "toc_window_display": true
  }
 },
 "nbformat": 4,
 "nbformat_minor": 2
}
